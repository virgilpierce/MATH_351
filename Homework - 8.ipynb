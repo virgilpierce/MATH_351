{
 "cells": [
  {
   "cell_type": "markdown",
   "metadata": {
    "id": "YseFbccLo0j2"
   },
   "source": [
    "## Homework - 8:  Confidence Intervals and Hypothesis Tests\n",
    "\n",
    "Shear strength measurements derived from from unconfined compression tests for two types of soils gave the results below:\n",
    "\n",
    "Soil Type 1:  $n_1 = 30$, $\\bar{Y}_1 = 1.65$ and $S_1 = 0.26$ in tons per square foot.\n",
    "\n",
    "Soil Type 2: $n_2 = 35$, $\\bar{Y}_2 = 1.43$ and $S_2 = 0.22$ in tons per square foot.\n",
    "\n",
    "In the following questions we will explore whether or not we have evidence that the mean shear strength of the two soil types are different.\n",
    "\n",
    "1. Find the pooled standard deviation from the two sample standard deviations and the sample sizes given.\n",
    "\n",
    "2. Using a t-Distribution, construct a 99% Confidence Interval for the difference $\\mu_1 - \\mu_2$ between the two population means. \n",
    "\n",
    "3. Construct a hypothesis test for the statement:  Is there enough evidence to conclude that there is a difference in the two population means?\n",
    "\n",
    "4. Discuss the relationship between your confidence interval in 2. and your conclusion in the hypothesis test in 3.\n",
    "\n"
   ]
  },
  {
   "cell_type": "code",
   "execution_count": null,
   "metadata": {},
   "outputs": [],
   "source": []
  }
 ],
 "metadata": {
  "colab": {
   "name": "Homework - 4.ipynb",
   "provenance": []
  },
  "kernelspec": {
   "display_name": "Python 3",
   "language": "python",
   "name": "python3"
  },
  "language_info": {
   "codemirror_mode": {
    "name": "ipython",
    "version": 3
   },
   "file_extension": ".py",
   "mimetype": "text/x-python",
   "name": "python",
   "nbconvert_exporter": "python",
   "pygments_lexer": "ipython3",
   "version": "3.7.4"
  }
 },
 "nbformat": 4,
 "nbformat_minor": 4
}
