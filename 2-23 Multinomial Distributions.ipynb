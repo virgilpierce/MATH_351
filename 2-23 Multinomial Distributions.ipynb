{
 "cells": [
  {
   "cell_type": "code",
   "execution_count": 1,
   "metadata": {},
   "outputs": [],
   "source": [
    "import pandas as pd\n",
    "import numpy as np"
   ]
  },
  {
   "cell_type": "markdown",
   "metadata": {},
   "source": [
    "# Multinomial Distirbutions\n",
    "\n",
    "Now that we have the language of covariance, it is a good place to discuss the multinomial distribution, a generalization of the binomial distribution.  Consider the following example:\n",
    "\n",
    "### Example\n",
    "\n",
    "The University of Northern Colorado has the following populations of majors in its five colleges (note I'm coding this in a Pandas DataFrame because it makes some of the arithemetic we need to do easier - if you are running this on Python/Jupyter on your own computer you may have to download the Pandas module)."
   ]
  },
  {
   "cell_type": "code",
   "execution_count": 4,
   "metadata": {},
   "outputs": [
    {
     "data": {
      "text/html": [
       "<div>\n",
       "<style scoped>\n",
       "    .dataframe tbody tr th:only-of-type {\n",
       "        vertical-align: middle;\n",
       "    }\n",
       "\n",
       "    .dataframe tbody tr th {\n",
       "        vertical-align: top;\n",
       "    }\n",
       "\n",
       "    .dataframe thead th {\n",
       "        text-align: right;\n",
       "    }\n",
       "</style>\n",
       "<table border=\"1\" class=\"dataframe\">\n",
       "  <thead>\n",
       "    <tr style=\"text-align: right;\">\n",
       "      <th></th>\n",
       "      <th>College</th>\n",
       "      <th>Students</th>\n",
       "      <th>Proportion</th>\n",
       "    </tr>\n",
       "  </thead>\n",
       "  <tbody>\n",
       "    <tr>\n",
       "      <th>0</th>\n",
       "      <td>CEBS</td>\n",
       "      <td>1460.0</td>\n",
       "      <td>0.214265</td>\n",
       "    </tr>\n",
       "    <tr>\n",
       "      <th>1</th>\n",
       "      <td>HSS</td>\n",
       "      <td>1500.0</td>\n",
       "      <td>0.220135</td>\n",
       "    </tr>\n",
       "    <tr>\n",
       "      <th>2</th>\n",
       "      <td>MCB</td>\n",
       "      <td>834.0</td>\n",
       "      <td>0.122395</td>\n",
       "    </tr>\n",
       "    <tr>\n",
       "      <th>3</th>\n",
       "      <td>NHS</td>\n",
       "      <td>2297.0</td>\n",
       "      <td>0.337100</td>\n",
       "    </tr>\n",
       "    <tr>\n",
       "      <th>4</th>\n",
       "      <td>PVA</td>\n",
       "      <td>723.0</td>\n",
       "      <td>0.106105</td>\n",
       "    </tr>\n",
       "    <tr>\n",
       "      <th>5</th>\n",
       "      <td>Total</td>\n",
       "      <td>6814.0</td>\n",
       "      <td>1.000000</td>\n",
       "    </tr>\n",
       "  </tbody>\n",
       "</table>\n",
       "</div>"
      ],
      "text/plain": [
       "  College  Students  Proportion\n",
       "0    CEBS    1460.0    0.214265\n",
       "1     HSS    1500.0    0.220135\n",
       "2     MCB     834.0    0.122395\n",
       "3     NHS    2297.0    0.337100\n",
       "4     PVA     723.0    0.106105\n",
       "5   Total    6814.0    1.000000"
      ]
     },
     "execution_count": 4,
     "metadata": {},
     "output_type": "execute_result"
    }
   ],
   "source": [
    "unc = pd.DataFrame( [ ['CEBS', 1460], ['HSS', 1500], ['MCB', 834], ['NHS', 2297], ['PVA', 723]], \n",
    "                  columns = ['College', 'Students'])\n",
    "unc.loc[:, 'Proportion'] = unc.loc[:, 'Students'] / unc.loc[:, 'Students'].sum()\n",
    "unc.loc[5, :] = ['Total', unc.loc[:, 'Students'].sum(), unc.loc[:, 'Proportion'].sum()]\n",
    "unc"
   ]
  },
  {
   "cell_type": "markdown",
   "metadata": {},
   "source": [
    "Suppose we randomly select a group of 5 students, let's assume with replacement for now, how likely is it that one of them is from each college?\n",
    "\n",
    "### With or Without Replacement\n",
    "\n",
    "With replacement means we are going to ignore the fact that each choice we make has an effect on the probabilities for the remaining students. This is a valid assumption if the number we are choosing in our group (five) is much less than the total 6814.\n",
    "\n",
    "On the other hand if we were asking how likely is it that a group of 1000 students had a given distribution between the five colleges, that number is big enough that the choices made would have affected the probabilities involved."
   ]
  },
  {
   "cell_type": "markdown",
   "metadata": {},
   "source": [
    "## Definition of a Multinomial Distribution\n",
    "\n",
    "A multinomial distribution is composed of n trials, where each individual trial has k possible outcomes with probabilities $p_1, p_2, \\dots, p_k$.  Note that $\\sum p_i = 1$. The random variables are then $Y_i$ the number of times in the n trials outcome i occured. \n",
    "\n",
    "Note that $\\sum_{i=1}^k Y_i = n $ the total number of trials or otherwise the probability is zero.\n",
    "\n",
    "The distribution when it is non-zero is given by:\n",
    "\n",
    "$$ p(y_1, y_2, \\dots, y_k) = \\frac{n!}{y_1! y_2! \\dots y_k!} p_1^{y_1} p_2^{y_2} \\dots p_k^{y_k} $$\n",
    "\n",
    "I remember this by noting that when $k=2$ this gives us the binomial distribution."
   ]
  },
  {
   "cell_type": "markdown",
   "metadata": {},
   "source": [
    "So note the pertinent idea and why we did not introduce this distribution earlier in the course. The $Y_i$ form a multivariate distribution almost certainly with some dependence. \n",
    "\n",
    "## 1. Expected Value of the $Y_i$\n",
    "\n",
    "Show that $E( Y_i) = n p_i $\n"
   ]
  },
  {
   "cell_type": "markdown",
   "metadata": {},
   "source": [
    "## 2. Variance of the $Y_i$ \n",
    "\n",
    "Show that $ V(Y_i) = n p_i (1- p_i) $\n",
    "\n"
   ]
  },
  {
   "cell_type": "markdown",
   "metadata": {},
   "source": [
    "## 3. Covariance of $Y_s$ and $Y_t$\n",
    "\n",
    "We will show that if $s\\neq t$ then $\\mbox{Cov}(Y_s, Y_t) = - n p_s p_t $ \n",
    "\n",
    "Note that the negative covariance makes since - the larger $Y_s$ is the smaller the other variables will have to be. I wrote this up ahead of time to try and get it right.\n",
    "\n",
    "The trick here is to define some new random variables. Let:\n",
    "\n",
    "$$ U_i = \\left\\{ \\begin{matrix} 1 & \\mbox{if the ith trial results in outcome s} \\\\ 0 & \\mbox{otherwise} \\end{matrix} \\right. $$\n",
    "\n",
    "$$ W_i = \\left\\{ \\begin{matrix} 1 & \\mbox{if the ith trial results in outcome t} \\\\ 0 & \\mbox{otherwise} \\end{matrix} \\right. $$\n",
    "\n",
    "*This may look a little strange*, but it is actually a fairly common trick. $U_i$ and $W_i$ are discrete analogues of $\\delta$ functions that are zero everyone except for one place and they are used here in a similar way to how $\\delta$ functions appear in results about integral transforms.\n",
    "\n",
    "We then note that \n",
    "\n",
    "$$ Y_s = \\sum_{i=1}^n U_i $$ and $$ Y_t = \\sum_{j=1}^n W_j$$"
   ]
  },
  {
   "cell_type": "markdown",
   "metadata": {},
   "source": [
    "We then need a series of results about these variables:\n",
    "\n",
    "1. The $U_i$ are all independent and the $W_i$ are all independent.\n",
    "\n",
    "2. $U_i$ and $W_i$ cannot both be 1 as trial i can only be one of outcome s or t and not both. *It could be neither* in which case both $U_i$ and $W_i$ are 0.\n",
    "\n",
    "3. Result 2. does imply the that $U_i$ and $W_i$ are dependent. **Why?**\n",
    "\n",
    "4. Because the product of $U_i W_i = 0$ (see 2.) we have that $E( U_i W_i) = 0 $ for each i.\n",
    "\n",
    "5. $E(U_i)$ is the likeliehood that result i is outcome $2$ and so is $p_s$\n",
    "\n",
    "6. Likewise $E(W_i) = p_t$.\n",
    "\n",
    "7. $ \\mbox{Cov}(U_i, W_j) = 0 $ if $i\\neq j$ because the trials are independent.\n",
    "\n",
    "8. $\\mbox{Cov}(U_i, W_i) = E( U_i W_i) - E(U_i) E(W_i) = 0 - p_s p_t $ \n",
    "\n"
   ]
  },
  {
   "cell_type": "markdown",
   "metadata": {},
   "source": [
    "Putting this all together then, using our results from 2-18 we have that:\n",
    "\n",
    "$$ \\mbox{Cov}( Y_s, Y_t) = \\sum_{i, j} \\mbox{Cov}(U_i, W_j) $$\n",
    "$$ = \\sum_{i=1}^n \\mbox{Cov}(U_i, W_i) $$\n",
    "$$ = \\sum_{i=1}^n (-p_s p_t) = - n p_s p_t $$"
   ]
  },
  {
   "cell_type": "markdown",
   "metadata": {},
   "source": [
    "# Example\n",
    "\n",
    "A student club is supposed to be open to all students. However out of the 100 students in the club there are only 5 from each of PVA and CEBS. \n",
    "\n",
    "1. In a group of 100 randomly selected students from campus, what is the expected number of students from each of these two colleges?\n",
    "\n",
    "2. What is the covariance between the number of students in the group from these two colleges? (In other words how strongly do we expect the number of students from PVA to affect the number of students from CEBS)\n",
    "\n",
    "3. How likely is it that in a group of 100 students randomly selected from campus we will have 5 or fewer students from these two colleges?\n",
    "\n"
   ]
  },
  {
   "cell_type": "markdown",
   "metadata": {},
   "source": [
    "## Example\n",
    "\n",
    "The question above appears innoculous, however consider if we were asking a similar question about the demographic makeup of juries in Weld County court. The multinomial distribution tells us, if they are randomly selected, how we expect the distribution of the jury to change. "
   ]
  },
  {
   "cell_type": "code",
   "execution_count": null,
   "metadata": {},
   "outputs": [],
   "source": []
  }
 ],
 "metadata": {
  "kernelspec": {
   "display_name": "Python 3",
   "language": "python",
   "name": "python3"
  },
  "language_info": {
   "codemirror_mode": {
    "name": "ipython",
    "version": 3
   },
   "file_extension": ".py",
   "mimetype": "text/x-python",
   "name": "python",
   "nbconvert_exporter": "python",
   "pygments_lexer": "ipython3",
   "version": "3.7.4"
  }
 },
 "nbformat": 4,
 "nbformat_minor": 4
}
