{
 "cells": [
  {
   "cell_type": "code",
   "execution_count": 1,
   "metadata": {},
   "outputs": [],
   "source": [
    "import pandas as pd\n",
    "import numpy as np"
   ]
  },
  {
   "cell_type": "markdown",
   "metadata": {
    "id": "cIjfg4lr93dW"
   },
   "source": [
    "# Conditional Expecations\n",
    "\n",
    "There some neat tricks we can play with conditional probabilities and expectations that are worth discussing here. \n",
    "\n",
    "Given two random variables $Y_1$ and $Y_2$, we define *Conditional Expectation* of $g(Y_1)$ given $Y_2=y_2$ to be \n",
    "\n",
    "$$ E(g(Y_1) | Y_2=y_2) = \\int g(y_1) f(y_1 | y_2 ) dy_1 $$\n",
    "\n",
    "Where $f(y_1 | y_2) $ is the conditional PDF. \n",
    "\n",
    "## Expected Values \n",
    "\n",
    "Then note if we take the expected value of the conditional expected value we get back to just the expected value in $Y_1$:\n",
    "\n",
    "$$ E( E(Y_1 | Y_2) ) = E( Y_1 )$$\n",
    "\n",
    "## Variances\n",
    "\n",
    "More interestingly if we consider variances:\n",
    "\n",
    "$$ V(Y_1) = E[ V(Y_1 | Y_2) ] + V[ E( Y_1 | Y_2 ) ] $$\n",
    "\n",
    "where $$ V( Y_1 | Y_2) = E( Y_1^2 | Y_2) - [ E(Y_1 | Y_2 ) ]^2$$\n",
    "\n"
   ]
  },
  {
   "cell_type": "markdown",
   "metadata": {
    "id": "P72mNxq693dX"
   },
   "source": [
    "### Example\n",
    "\n",
    "It is maybe not clear why these conditional expectations and the related theorems are useful. They come up frequently in models where the parameters of the random distribution are themselves unkown. Consider:  \n",
    "\n",
    "The viral load of person with COVID-19 is $Y$ in virus particulates per mg of saliva, and fits an exponential distribution with the $\\beta$ parameter a uniformly distributed random variable between $(0, 200)$. I.e. the evidence is that the $\\beta$ parameter itself changes from infection to infection.\n",
    "\n",
    "For a given $\\beta$ the expected value and variance of $Y$ are known: $$ E(Y | \\beta) = \\beta $$ and $$ V(Y | \\beta) = \\beta^2 $$\n",
    "\n",
    "Find the $E(Y)$ and $V(Y)$."
   ]
  },
  {
   "cell_type": "markdown",
   "metadata": {},
   "source": [
    "# Multinomial Distirbutions\n",
    "\n",
    "Now that we have the language of covariance, it is a good place to discuss the multinomial distribution, a generalization of the binomial distribution.  Consider the following example:\n",
    "\n",
    "### Example\n",
    "\n",
    "The population of Weld County has the following distribution by ethnicity/race according to the 2010 Census (with one adjustment to get the total to be 1.000).  Note demography is hard as race and ethnicity are distinct items and in particular people can be Hispanic of any race:"
   ]
  },
  {
   "cell_type": "code",
   "execution_count": 9,
   "metadata": {},
   "outputs": [
    {
     "data": {
      "text/html": [
       "<div>\n",
       "<style scoped>\n",
       "    .dataframe tbody tr th:only-of-type {\n",
       "        vertical-align: middle;\n",
       "    }\n",
       "\n",
       "    .dataframe tbody tr th {\n",
       "        vertical-align: top;\n",
       "    }\n",
       "\n",
       "    .dataframe thead th {\n",
       "        text-align: right;\n",
       "    }\n",
       "</style>\n",
       "<table border=\"1\" class=\"dataframe\">\n",
       "  <thead>\n",
       "    <tr style=\"text-align: right;\">\n",
       "      <th></th>\n",
       "      <th>0</th>\n",
       "      <th>1</th>\n",
       "    </tr>\n",
       "  </thead>\n",
       "  <tbody>\n",
       "    <tr>\n",
       "      <th>0</th>\n",
       "      <td>White, not Hispanic</td>\n",
       "      <td>0.649</td>\n",
       "    </tr>\n",
       "    <tr>\n",
       "      <th>1</th>\n",
       "      <td>Hispanic or Latino</td>\n",
       "      <td>0.257</td>\n",
       "    </tr>\n",
       "    <tr>\n",
       "      <th>2</th>\n",
       "      <td>Black or African American</td>\n",
       "      <td>0.016</td>\n",
       "    </tr>\n",
       "    <tr>\n",
       "      <th>3</th>\n",
       "      <td>American Indian or Alaskan Native</td>\n",
       "      <td>0.017</td>\n",
       "    </tr>\n",
       "    <tr>\n",
       "      <th>4</th>\n",
       "      <td>Asian</td>\n",
       "      <td>0.018</td>\n",
       "    </tr>\n",
       "    <tr>\n",
       "      <th>5</th>\n",
       "      <td>Native Hawaiian or Pacific Islander</td>\n",
       "      <td>0.020</td>\n",
       "    </tr>\n",
       "    <tr>\n",
       "      <th>6</th>\n",
       "      <td>Two or more races</td>\n",
       "      <td>0.023</td>\n",
       "    </tr>\n",
       "    <tr>\n",
       "      <th>7</th>\n",
       "      <td>Total</td>\n",
       "      <td>1.000</td>\n",
       "    </tr>\n",
       "  </tbody>\n",
       "</table>\n",
       "</div>"
      ],
      "text/plain": [
       "                                     0      1\n",
       "0                  White, not Hispanic  0.649\n",
       "1                   Hispanic or Latino  0.257\n",
       "2            Black or African American  0.016\n",
       "3    American Indian or Alaskan Native  0.017\n",
       "4                                Asian  0.018\n",
       "5  Native Hawaiian or Pacific Islander  0.020\n",
       "6                    Two or more races  0.023\n",
       "7                                Total  1.000"
      ]
     },
     "execution_count": 9,
     "metadata": {},
     "output_type": "execute_result"
    }
   ],
   "source": [
    "weld = pd.DataFrame( [ ['White, not Hispanic', 0.649], ['Hispanic or Latino', 0.257], ['Black or African American', 0.016], \n",
    "                     ['American Indian or Alaskan Native', 0.017], \n",
    "                     ['Asian', 0.018], \n",
    "                     ['Native Hawaiian or Pacific Islander', 0.02], ['Two or more races', 0.023] ] )\n",
    "weld.loc[7, 0] = 'Total'\n",
    "weld.loc[7, 1] = weld.loc[:, 1].sum()    \n",
    "                    \n",
    "weld"
   ]
  },
  {
   "cell_type": "markdown",
   "metadata": {},
   "source": [
    "Juries are made up of 12 people. Suppose we select 12 people randomly from the county, what is the distribution of the demographics of the jury?\n",
    "\n",
    "If the jury pool assembled for a major case has 100 people in it, how likely is it that there will be 2 or fewer people in each of the five smallest race categories?\n",
    "\n",
    "### With or Without Replacement\n",
    "\n",
    "With replacement means we are going to ignore the fact that each choice we make has an effect on the probabilities for the remaining people. This is a valid assumption if the number we are choosing in our group is much less than the total population.\n",
    "\n",
    "The total population of Weld County is 324,429. The City of Greeley has a population of 105,888 and so if we are asking about the demographics of Greeley, rather than of juries of 12 or 100 people, we would need to start thinking about sampling without replacement as this number is now a big enough proportion to affect the probabilities involved."
   ]
  },
  {
   "cell_type": "markdown",
   "metadata": {},
   "source": [
    "## Definition of a Multinomial Distribution\n",
    "\n",
    "A multinomial distribution is composed of n trials, where each individual trial has k possible outcomes with probabilities $p_1, p_2, \\dots, p_k$.  Note that $\\sum p_i = 1$. The random variables are then $Y_i$ the number of times in the n trials outcome i occured. \n",
    "\n",
    "Note that $\\sum_{i=1}^k Y_i = n $ the total number of trials or otherwise the probability is zero.\n",
    "\n",
    "The distribution when it is non-zero is given by:\n",
    "\n",
    "$$ p(y_1, y_2, \\dots, y_k) = \\frac{n!}{y_1! y_2! \\dots y_k!} p_1^{y_1} p_2^{y_2} \\dots p_k^{y_k} $$\n",
    "\n",
    "I remember this by noting that when $k=2$ this gives us the binomial distribution."
   ]
  },
  {
   "cell_type": "markdown",
   "metadata": {},
   "source": [
    "So note the pertinent idea and why we did not introduce this distribution earlier in the course. The $Y_i$ form a multivariate distribution almost certainly with some dependence. \n",
    "\n",
    "## 1. Expected Value of the $Y_i$\n",
    "\n",
    "Show that $E( Y_i) = n p_i $\n"
   ]
  },
  {
   "cell_type": "markdown",
   "metadata": {},
   "source": [
    "## 2. Variance of the $Y_i$ \n",
    "\n",
    "Show that $ V(Y_i) = n p_i (1- p_i) $\n",
    "\n"
   ]
  },
  {
   "cell_type": "markdown",
   "metadata": {},
   "source": [
    "## 3. Covariance of $Y_s$ and $Y_t$\n",
    "\n",
    "We will show that if $s\\neq t$ then $\\mbox{Cov}(Y_s, Y_t) = - n p_s p_t $ \n",
    "\n",
    "Note that the negative covariance makes sense - the larger $Y_s$ is the smaller the other variables will have to be. \n",
    "\n",
    "For the proof, I note that I wrote this up ahead of time to try and get it right.\n",
    "\n",
    "The trick here is to define some new random variables. Let:\n",
    "\n",
    "$$ U_i = \\left\\{ \\begin{matrix} 1 & \\mbox{if the ith trial results in outcome s} \\\\ 0 & \\mbox{otherwise} \\end{matrix} \\right. $$\n",
    "\n",
    "$$ W_i = \\left\\{ \\begin{matrix} 1 & \\mbox{if the ith trial results in outcome t} \\\\ 0 & \\mbox{otherwise} \\end{matrix} \\right. $$\n",
    "\n",
    "*This may look a little strange*, but it is actually a fairly common trick. $U_i$ and $W_i$ are discrete analogues of $\\delta$ functions that are zero everywhere except for one place and they are used here in a similar way to how $\\delta$ functions appear in results about integral transforms.\n",
    "\n",
    "We then note that \n",
    "\n",
    "$$ Y_s = \\sum_{i=1}^n U_i $$ and $$ Y_t = \\sum_{j=1}^n W_j$$"
   ]
  },
  {
   "cell_type": "markdown",
   "metadata": {},
   "source": [
    "We then need a series of results about these variables:\n",
    "\n",
    "1. The $U_i$ are all independent and the $W_i$ are all independent.\n",
    "\n",
    "2. $U_i$ and $W_i$ cannot both be 1 as trial i can only be one of outcome s or t and not both. *It could be neither* in which case both $U_i$ and $W_i$ are 0.\n",
    "\n",
    "3. Result 2. does imply the that $U_i$ and $W_i$ are dependent. **Why?**\n",
    "\n",
    "4. Because the product of $U_i W_i = 0$ (see 2.) we have that $E( U_i W_i) = 0 $ for each i.\n",
    "\n",
    "5. $E(U_i)$ is the likeliehood that result i is outcome $s$ and so is $p_s$\n",
    "\n",
    "6. Likewise $E(W_i) = p_t$.\n",
    "\n",
    "7. $ \\mbox{Cov}(U_i, W_j) = 0 $ if $i\\neq j$ because the trials are independent.\n",
    "\n",
    "8. $\\mbox{Cov}(U_i, W_i) = E( U_i W_i) - E(U_i) E(W_i) = 0 - p_s p_t $ \n",
    "\n"
   ]
  },
  {
   "cell_type": "markdown",
   "metadata": {},
   "source": [
    "Putting this all together then, using our results from 2-18 we have that:\n",
    "\n",
    "$$ \\mbox{Cov}( Y_s, Y_t) = \\sum_{i, j} \\mbox{Cov}(U_i, W_j) $$\n",
    "$$ = \\sum_{i=1}^n \\mbox{Cov}(U_i, W_i) $$\n",
    "$$ = \\sum_{i=1}^n (-p_s p_t) = - n p_s p_t $$"
   ]
  },
  {
   "cell_type": "markdown",
   "metadata": {},
   "source": [
    "# Example\n",
    "\n",
    "Consider our jury pool of 100 people. Our question is do we have evidence that this pool is randomly selected from the county or not?\n",
    "\n",
    "1. In a group of 100 randomly selected people from Weld County, what is the expected number of people from each of the race/ethnicity categories?\n",
    "\n",
    "2. What is the covariance between the number of Black and the number of Native Indian people in the jury pool?\n",
    "\n",
    "3. How likely is it that in a group of 100 people randomly selected from the county that there are 3 or fewer people in each of the five smallest race categories?\n",
    "\n",
    "This example mirrors a problem done for an actual discrimination case in a rural county of California where the US Department of Justice showed that juries in the county were not reflective of the demographics of the county and had an injunction applied changing the way juriies are recruited in Californial.\n",
    "\n"
   ]
  },
  {
   "cell_type": "code",
   "execution_count": null,
   "metadata": {},
   "outputs": [],
   "source": []
  }
 ],
 "metadata": {
  "kernelspec": {
   "display_name": "Python 3",
   "language": "python",
   "name": "python3"
  },
  "language_info": {
   "codemirror_mode": {
    "name": "ipython",
    "version": 3
   },
   "file_extension": ".py",
   "mimetype": "text/x-python",
   "name": "python",
   "nbconvert_exporter": "python",
   "pygments_lexer": "ipython3",
   "version": "3.7.4"
  }
 },
 "nbformat": 4,
 "nbformat_minor": 4
}
