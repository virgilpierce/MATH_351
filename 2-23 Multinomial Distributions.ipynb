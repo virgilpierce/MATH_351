{
  "nbformat": 4,
  "nbformat_minor": 0,
  "metadata": {
    "kernelspec": {
      "display_name": "Python 3",
      "language": "python",
      "name": "python3"
    },
    "language_info": {
      "codemirror_mode": {
        "name": "ipython",
        "version": 3
      },
      "file_extension": ".py",
      "mimetype": "text/x-python",
      "name": "python",
      "nbconvert_exporter": "python",
      "pygments_lexer": "ipython3",
      "version": "3.7.4"
    },
    "colab": {
      "name": "2-23 Multinomial Distributions.ipynb",
      "provenance": []
    }
  },
  "cells": [
    {
      "cell_type": "code",
      "metadata": {
        "id": "B_-h7HhXteV6"
      },
      "source": [
        "import pandas as pd\n",
        "import numpy as np"
      ],
      "execution_count": 1,
      "outputs": []
    },
    {
      "cell_type": "markdown",
      "metadata": {
        "id": "cIjfg4lr93dW"
      },
      "source": [
        "# Conditional Expecations\n",
        "\n",
        "There some neat tricks we can play with conditional probabilities and expectations that are worth discussing here. \n",
        "\n",
        "Given two random variables $Y_1$ and $Y_2$, we define *Conditional Expectation* of $g(Y_1)$ given $Y_2=y_2$ to be \n",
        "\n",
        "$$ E(g(Y_1) | Y_2=y_2) = \\int g(y_1) f(y_1 | y_2 ) dy_1 $$\n",
        "\n",
        "Where $f(y_1 | y_2) $ is the conditional PDF. \n",
        "\n",
        "## Expected Values \n",
        "\n",
        "Then note if we take the expected value of the conditional expected value we get back to just the expected value in $Y_1$:\n",
        "\n",
        "$$ E( E(Y_1 | Y_2) ) = E( Y_1 )$$\n",
        "\n",
        "## Variances\n",
        "\n",
        "More interestingly if we consider variances:\n",
        "\n",
        "$$ V(Y_1) = E[ V(Y_1 | Y_2) ] + V[ E( Y_1 | Y_2 ) ] $$\n",
        "\n",
        "where $$ V( Y_1 | Y_2) = E( Y_1^2 | Y_2) - [ E(Y_1 | Y_2 ) ]^2$$\n",
        "\n"
      ]
    },
    {
      "cell_type": "markdown",
      "metadata": {
        "id": "TlRO0uyey9K8"
      },
      "source": [
        "$$ E(Y_1 | Y_2 ) = \\int y_1 f(y_1|y_2) dy_1 $$\r\n",
        "\r\n",
        "$$ = \\int y_1 \\frac{f(y_1, y_2)}{f_2(y_2)} dy_1$$\r\n",
        "\r\n",
        "$$ = \\frac{1}{f_2(y_2)} \\int y_1 f(y_1, y_2) dy_1 $$\r\n",
        "\r\n"
      ]
    },
    {
      "cell_type": "markdown",
      "metadata": {
        "id": "5ufxO9QOy9ai"
      },
      "source": [
        "$$ E( E(Y_1 | Y_2) ) = \\int E(Y_1| Y_2 = y_2) f_2(y_2) dy_2 $$ \r\n",
        "\r\n",
        "$$= \\int \\int y_1 f(y_1, y_2) dy_1 dy_2 = E( Y_1) $$"
      ]
    },
    {
      "cell_type": "markdown",
      "metadata": {
        "id": "OgA_QM3S0GNz"
      },
      "source": [
        "$$ E( V(Y_1 | Y_2) ) + V( E(Y_1|Y_2) ) = E( E(Y_1^2 | Y_2) ) - E( E(Y_1 | Y_2)^2 ) + E (E(Y_1|Y_2)^2 ) - E( E(Y_1|Y_2))^2$$\r\n",
        "\r\n",
        "$$= E( E(Y_1^2|Y_2)) - E(E( Y_1|Y_2))^2 $$\r\n",
        "\r\n",
        "$$= E(Y_1^2) - E(Y_1)^2 = V(Y_1) $$"
      ]
    },
    {
      "cell_type": "markdown",
      "metadata": {
        "id": "P72mNxq693dX"
      },
      "source": [
        "### Example\n",
        "\n",
        "It is maybe not clear why these conditional expectations and the related theorems are useful. They come up frequently in models where the parameters of the random distribution are themselves unkown. Consider:  \n",
        "\n",
        "The viral load of person with COVID-19 is $Y$ in virus particulates per mg of saliva, and fits an exponential distribution with the $\\beta$ parameter a uniformly distributed random variable between $(0, 200)$. I.e. the evidence is that the $\\beta$ parameter itself changes from infection to infection.\n",
        "\n",
        "For a given $\\beta$ the expected value and variance of $Y$ are known: $$ E(Y | \\beta) = \\beta $$ and $$ V(Y | \\beta) = \\beta^2 $$\n",
        "\n",
        "Find the $E(Y)$ and $V(Y)$."
      ]
    },
    {
      "cell_type": "markdown",
      "metadata": {
        "id": "rqoA--JA2v45"
      },
      "source": [
        "$$ E(Y) = E( E(Y|\\beta) ) = E( \\beta) = 100 $$ \r\n",
        "\r\n",
        "$$ V(Y) = E( V(Y|\\beta) ) + V( E(Y|\\beta) ) $$\r\n",
        "\r\n",
        "$$ = E( \\beta^2) + V( \\beta) $$"
      ]
    },
    {
      "cell_type": "code",
      "metadata": {
        "colab": {
          "base_uri": "https://localhost:8080/"
        },
        "id": "SC2UZpGS3duz",
        "outputId": "865ae4f7-41f5-4cc0-9c9f-7d338509a6eb"
      },
      "source": [
        "import sympy as sp\r\n",
        "\r\n",
        "beta = sp.Symbol('beta')\r\n",
        "Ebeta2 = sp.integrate( beta**2 *1/200, (beta, 0, 200) )\r\n",
        "Ebeta2"
      ],
      "execution_count": 2,
      "outputs": [
        {
          "output_type": "execute_result",
          "data": {
            "text/plain": [
              "40000/3"
            ]
          },
          "metadata": {
            "tags": []
          },
          "execution_count": 2
        }
      ]
    },
    {
      "cell_type": "code",
      "metadata": {
        "colab": {
          "base_uri": "https://localhost:8080/"
        },
        "id": "ZG7Qx4JN3x4j",
        "outputId": "710d24aa-e630-4846-9063-447e741632a7"
      },
      "source": [
        "Ebeta2 + (Ebeta2 - 100**2 ) "
      ],
      "execution_count": 3,
      "outputs": [
        {
          "output_type": "execute_result",
          "data": {
            "text/plain": [
              "50000/3"
            ]
          },
          "metadata": {
            "tags": []
          },
          "execution_count": 3
        }
      ]
    },
    {
      "cell_type": "code",
      "metadata": {
        "colab": {
          "base_uri": "https://localhost:8080/"
        },
        "id": "MMhfsOo94B02",
        "outputId": "577a2cda-2e4c-47ed-c7ef-7978a99e15f6"
      },
      "source": [
        "sp.sqrt( Ebeta2 + (Ebeta2 - 100**2 ) ).evalf()"
      ],
      "execution_count": 5,
      "outputs": [
        {
          "output_type": "execute_result",
          "data": {
            "text/plain": [
              "129.099444873581"
            ]
          },
          "metadata": {
            "tags": []
          },
          "execution_count": 5
        }
      ]
    },
    {
      "cell_type": "markdown",
      "metadata": {
        "id": "6C3klrjTteWA"
      },
      "source": [
        "# Multinomial Distirbutions\n",
        "\n",
        "Now that we have the language of covariance, it is a good place to discuss the multinomial distribution, a generalization of the binomial distribution.  Consider the following example:\n",
        "\n",
        "### Example\n",
        "\n",
        "The population of Weld County has the following distribution by ethnicity/race according to the 2010 Census (with one adjustment to get the total to be 1.000).  Note demography is hard as race and ethnicity are distinct items and in particular people can be Hispanic of any race:"
      ]
    },
    {
      "cell_type": "code",
      "metadata": {
        "colab": {
          "base_uri": "https://localhost:8080/",
          "height": 297
        },
        "id": "8k6tTeoateWA",
        "outputId": "ea3070ca-2700-4db3-dc62-712a64b8a481"
      },
      "source": [
        "weld = pd.DataFrame( [ ['White, not Hispanic', 0.649], ['Hispanic or Latino', 0.257], ['Black or African American', 0.016], \n",
        "                     ['American Indian or Alaskan Native', 0.017], \n",
        "                     ['Asian', 0.018], \n",
        "                     ['Native Hawaiian or Pacific Islander', 0.02], ['Two or more races', 0.023] ] )\n",
        "weld.loc[7, 0] = 'Total'\n",
        "weld.loc[7, 1] = weld.loc[:, 1].sum()    \n",
        "                    \n",
        "weld"
      ],
      "execution_count": 6,
      "outputs": [
        {
          "output_type": "execute_result",
          "data": {
            "text/html": [
              "<div>\n",
              "<style scoped>\n",
              "    .dataframe tbody tr th:only-of-type {\n",
              "        vertical-align: middle;\n",
              "    }\n",
              "\n",
              "    .dataframe tbody tr th {\n",
              "        vertical-align: top;\n",
              "    }\n",
              "\n",
              "    .dataframe thead th {\n",
              "        text-align: right;\n",
              "    }\n",
              "</style>\n",
              "<table border=\"1\" class=\"dataframe\">\n",
              "  <thead>\n",
              "    <tr style=\"text-align: right;\">\n",
              "      <th></th>\n",
              "      <th>0</th>\n",
              "      <th>1</th>\n",
              "    </tr>\n",
              "  </thead>\n",
              "  <tbody>\n",
              "    <tr>\n",
              "      <th>0</th>\n",
              "      <td>White, not Hispanic</td>\n",
              "      <td>0.649</td>\n",
              "    </tr>\n",
              "    <tr>\n",
              "      <th>1</th>\n",
              "      <td>Hispanic or Latino</td>\n",
              "      <td>0.257</td>\n",
              "    </tr>\n",
              "    <tr>\n",
              "      <th>2</th>\n",
              "      <td>Black or African American</td>\n",
              "      <td>0.016</td>\n",
              "    </tr>\n",
              "    <tr>\n",
              "      <th>3</th>\n",
              "      <td>American Indian or Alaskan Native</td>\n",
              "      <td>0.017</td>\n",
              "    </tr>\n",
              "    <tr>\n",
              "      <th>4</th>\n",
              "      <td>Asian</td>\n",
              "      <td>0.018</td>\n",
              "    </tr>\n",
              "    <tr>\n",
              "      <th>5</th>\n",
              "      <td>Native Hawaiian or Pacific Islander</td>\n",
              "      <td>0.020</td>\n",
              "    </tr>\n",
              "    <tr>\n",
              "      <th>6</th>\n",
              "      <td>Two or more races</td>\n",
              "      <td>0.023</td>\n",
              "    </tr>\n",
              "    <tr>\n",
              "      <th>7</th>\n",
              "      <td>Total</td>\n",
              "      <td>1.000</td>\n",
              "    </tr>\n",
              "  </tbody>\n",
              "</table>\n",
              "</div>"
            ],
            "text/plain": [
              "                                     0      1\n",
              "0                  White, not Hispanic  0.649\n",
              "1                   Hispanic or Latino  0.257\n",
              "2            Black or African American  0.016\n",
              "3    American Indian or Alaskan Native  0.017\n",
              "4                                Asian  0.018\n",
              "5  Native Hawaiian or Pacific Islander  0.020\n",
              "6                    Two or more races  0.023\n",
              "7                                Total  1.000"
            ]
          },
          "metadata": {
            "tags": []
          },
          "execution_count": 6
        }
      ]
    },
    {
      "cell_type": "code",
      "metadata": {
        "colab": {
          "base_uri": "https://localhost:8080/"
        },
        "id": "KuvVaJ9f5fGN",
        "outputId": "9759b342-4c28-4beb-b0a1-70b1efc5276c"
      },
      "source": [
        "12*0.018"
      ],
      "execution_count": 8,
      "outputs": [
        {
          "output_type": "execute_result",
          "data": {
            "text/plain": [
              "0.21599999999999997"
            ]
          },
          "metadata": {
            "tags": []
          },
          "execution_count": 8
        }
      ]
    },
    {
      "cell_type": "markdown",
      "metadata": {
        "id": "A92AOJKQteWB"
      },
      "source": [
        "Juries are made up of 12 people. Suppose we select 12 people randomly from the county, what is the distribution of the demographics of the jury?\n",
        "\n",
        "If the jury pool assembled for a major case has 100 people in it, how likely is it that there will be 1 or fewer people in each of the five smallest race categories?\n",
        "\n",
        "### With or Without Replacement\n",
        "\n",
        "With replacement means we are going to ignore the fact that each choice we make has an effect on the probabilities for the remaining people. This is a valid assumption if the number we are choosing in our group is much less than the total population.\n",
        "\n",
        "The total population of Weld County is 324,429. The City of Greeley has a population of 105,888 and so if we are asking about the demographics of Greeley, rather than of juries of 12 or 100 people, we would need to start thinking about sampling without replacement as this number is now a big enough proportion to affect the probabilities involved."
      ]
    },
    {
      "cell_type": "markdown",
      "metadata": {
        "id": "fhjUyAmTteWC"
      },
      "source": [
        "## Definition of a Multinomial Distribution\n",
        "\n",
        "A multinomial distribution is composed of n trials, where each individual trial has k possible outcomes with probabilities $p_1, p_2, \\dots, p_k$.  Note that $\\sum p_i = 1$. The random variables are then $Y_i$ the number of times in the n trials outcome i occured. \n",
        "\n",
        "Note that $\\sum_{i=1}^k Y_i = n $ the total number of trials or otherwise the probability is zero.\n",
        "\n",
        "The distribution when it is non-zero is given by:\n",
        "\n",
        "$$ p(y_1, y_2, \\dots, y_k) = \\frac{n!}{y_1! y_2! \\dots y_k!} p_1^{y_1} p_2^{y_2} \\dots p_k^{y_k} $$\n",
        "\n",
        "I remember this by noting that when $k=2$ this gives us the binomial distribution."
      ]
    },
    {
      "cell_type": "markdown",
      "metadata": {
        "id": "8ji8fzfGteWC"
      },
      "source": [
        "So note the pertinent idea and why we did not introduce this distribution earlier in the course. The $Y_i$ form a multivariate distribution almost certainly with some dependence. \n",
        "\n",
        "## 1. Expected Value of the $Y_i$\n",
        "\n",
        "Show that $E( Y_i) = n p_i $\n"
      ]
    },
    {
      "cell_type": "markdown",
      "metadata": {
        "id": "pIWEIM7TteWC"
      },
      "source": [
        "## 2. Variance of the $Y_i$ \n",
        "\n",
        "Show that $ V(Y_i) = n p_i (1- p_i) $\n",
        "\n"
      ]
    },
    {
      "cell_type": "markdown",
      "metadata": {
        "id": "elu9SDbYteWC"
      },
      "source": [
        "## 3. Covariance of $Y_s$ and $Y_t$\n",
        "\n",
        "We will show that if $s\\neq t$ then $\\mbox{Cov}(Y_s, Y_t) = - n p_s p_t $ \n",
        "\n",
        "Note that the negative covariance makes sense - the larger $Y_s$ is the smaller the other variables will have to be. \n",
        "\n",
        "For the proof, I note that I wrote this up ahead of time to try and get it right.\n",
        "\n",
        "The trick here is to define some new random variables. Let:\n",
        "\n",
        "$$ U_i = \\left\\{ \\begin{matrix} 1 & \\mbox{if the ith trial results in outcome s} \\\\ 0 & \\mbox{otherwise} \\end{matrix} \\right. $$\n",
        "\n",
        "$$ W_i = \\left\\{ \\begin{matrix} 1 & \\mbox{if the ith trial results in outcome t} \\\\ 0 & \\mbox{otherwise} \\end{matrix} \\right. $$\n",
        "\n",
        "*This may look a little strange*, but it is actually a fairly common trick. $U_i$ and $W_i$ are discrete analogues of $\\delta$ functions that are zero everywhere except for one place and they are used here in a similar way to how $\\delta$ functions appear in results about integral transforms.\n",
        "\n",
        "We then note that \n",
        "\n",
        "$$ Y_s = \\sum_{i=1}^n U_i $$ and $$ Y_t = \\sum_{j=1}^n W_j$$"
      ]
    },
    {
      "cell_type": "markdown",
      "metadata": {
        "id": "2cH4lfuMteWD"
      },
      "source": [
        "We then need a series of results about these variables:\n",
        "\n",
        "1. The $U_i$ are all independent and the $W_i$ are all independent.\n",
        "\n",
        "2. $U_i$ and $W_i$ cannot both be 1 as trial i can only be one of outcome s or t and not both. *It could be neither* in which case both $U_i$ and $W_i$ are 0.\n",
        "\n",
        "3. Result 2. does imply the that $U_i$ and $W_i$ are dependent. **Why?**\n",
        "\n",
        "4. Because the product of $U_i W_i = 0$ (see 2.) we have that $E( U_i W_i) = 0 $ for each i.\n",
        "\n",
        "5. $E(U_i)$ is the likeliehood that result i is outcome $s$ and so is $p_s$\n",
        "\n",
        "6. Likewise $E(W_i) = p_t$.\n",
        "\n",
        "7. $ \\mbox{Cov}(U_i, W_j) = 0 $ if $i\\neq j$ because the trials are independent.\n",
        "\n",
        "8. $\\mbox{Cov}(U_i, W_i) = E( U_i W_i) - E(U_i) E(W_i) = 0 - p_s p_t $ \n",
        "\n"
      ]
    },
    {
      "cell_type": "markdown",
      "metadata": {
        "id": "UiCd2pPQteWD"
      },
      "source": [
        "Putting this all together then, using our results from 2-18 we have that:\n",
        "\n",
        "$$ \\mbox{Cov}( Y_s, Y_t) = \\sum_{i, j} \\mbox{Cov}(U_i, W_j) $$\n",
        "$$ = \\sum_{i=1}^n \\mbox{Cov}(U_i, W_i) $$\n",
        "$$ = \\sum_{i=1}^n (-p_s p_t) = - n p_s p_t $$"
      ]
    },
    {
      "cell_type": "markdown",
      "metadata": {
        "id": "bjfebPeUteWE"
      },
      "source": [
        "# Example\n",
        "\n",
        "Consider our jury pool of 100 people. Our question is do we have evidence that this pool is randomly selected from the county or not?\n",
        "\n",
        "1. In a group of 100 randomly selected people from Weld County, what is the expected number of people from each of the race/ethnicity categories?\n",
        "\n",
        "2. What is the covariance between the number of Black and the number of Native Indian people in the jury pool?\n",
        "\n",
        "3. How likely is it that in a group of 100 people randomly selected from the county that there are 1 or fewer people in each of the five smallest race categories?\n",
        "\n",
        "This example mirrors a problem done for an actual discrimination case in a rural county of California where the US Department of Justice showed that juries in the county were not reflective of the demographics of the county and had an injunction applied changing the way juriies are recruited in Californial.\n",
        "\n"
      ]
    },
    {
      "cell_type": "code",
      "metadata": {
        "id": "rSaIdahBteWE",
        "outputId": "40565c8b-9bee-44bf-e288-6cd5fa6ca981"
      },
      "source": [
        "weld"
      ],
      "execution_count": null,
      "outputs": [
        {
          "output_type": "execute_result",
          "data": {
            "text/html": [
              "<div>\n",
              "<style scoped>\n",
              "    .dataframe tbody tr th:only-of-type {\n",
              "        vertical-align: middle;\n",
              "    }\n",
              "\n",
              "    .dataframe tbody tr th {\n",
              "        vertical-align: top;\n",
              "    }\n",
              "\n",
              "    .dataframe thead th {\n",
              "        text-align: right;\n",
              "    }\n",
              "</style>\n",
              "<table border=\"1\" class=\"dataframe\">\n",
              "  <thead>\n",
              "    <tr style=\"text-align: right;\">\n",
              "      <th></th>\n",
              "      <th>0</th>\n",
              "      <th>1</th>\n",
              "    </tr>\n",
              "  </thead>\n",
              "  <tbody>\n",
              "    <tr>\n",
              "      <th>0</th>\n",
              "      <td>White, not Hispanic</td>\n",
              "      <td>0.649</td>\n",
              "    </tr>\n",
              "    <tr>\n",
              "      <th>1</th>\n",
              "      <td>Hispanic or Latino</td>\n",
              "      <td>0.257</td>\n",
              "    </tr>\n",
              "    <tr>\n",
              "      <th>2</th>\n",
              "      <td>Black or African American</td>\n",
              "      <td>0.016</td>\n",
              "    </tr>\n",
              "    <tr>\n",
              "      <th>3</th>\n",
              "      <td>American Indian or Alaskan Native</td>\n",
              "      <td>0.017</td>\n",
              "    </tr>\n",
              "    <tr>\n",
              "      <th>4</th>\n",
              "      <td>Asian</td>\n",
              "      <td>0.018</td>\n",
              "    </tr>\n",
              "    <tr>\n",
              "      <th>5</th>\n",
              "      <td>Native Hawaiian or Pacific Islander</td>\n",
              "      <td>0.020</td>\n",
              "    </tr>\n",
              "    <tr>\n",
              "      <th>6</th>\n",
              "      <td>Two or more races</td>\n",
              "      <td>0.023</td>\n",
              "    </tr>\n",
              "    <tr>\n",
              "      <th>7</th>\n",
              "      <td>Total</td>\n",
              "      <td>1.000</td>\n",
              "    </tr>\n",
              "  </tbody>\n",
              "</table>\n",
              "</div>"
            ],
            "text/plain": [
              "                                     0      1\n",
              "0                  White, not Hispanic  0.649\n",
              "1                   Hispanic or Latino  0.257\n",
              "2            Black or African American  0.016\n",
              "3    American Indian or Alaskan Native  0.017\n",
              "4                                Asian  0.018\n",
              "5  Native Hawaiian or Pacific Islander  0.020\n",
              "6                    Two or more races  0.023\n",
              "7                                Total  1.000"
            ]
          },
          "metadata": {
            "tags": []
          },
          "execution_count": 4
        }
      ]
    },
    {
      "cell_type": "code",
      "metadata": {
        "colab": {
          "base_uri": "https://localhost:8080/",
          "height": 297
        },
        "id": "ZhiJJfyL-KUu",
        "outputId": "5d08ae45-a2a5-4045-8683-9b504897f1b6"
      },
      "source": [
        "# Expected number of people in a group of 100 randomly selected from the county:\r\n",
        "\r\n",
        "weld.loc[:, 'Expected Number'] = 100*weld.loc[:, 1]\r\n",
        "weld"
      ],
      "execution_count": 9,
      "outputs": [
        {
          "output_type": "execute_result",
          "data": {
            "text/html": [
              "<div>\n",
              "<style scoped>\n",
              "    .dataframe tbody tr th:only-of-type {\n",
              "        vertical-align: middle;\n",
              "    }\n",
              "\n",
              "    .dataframe tbody tr th {\n",
              "        vertical-align: top;\n",
              "    }\n",
              "\n",
              "    .dataframe thead th {\n",
              "        text-align: right;\n",
              "    }\n",
              "</style>\n",
              "<table border=\"1\" class=\"dataframe\">\n",
              "  <thead>\n",
              "    <tr style=\"text-align: right;\">\n",
              "      <th></th>\n",
              "      <th>0</th>\n",
              "      <th>1</th>\n",
              "      <th>Expected Number</th>\n",
              "    </tr>\n",
              "  </thead>\n",
              "  <tbody>\n",
              "    <tr>\n",
              "      <th>0</th>\n",
              "      <td>White, not Hispanic</td>\n",
              "      <td>0.649</td>\n",
              "      <td>64.9</td>\n",
              "    </tr>\n",
              "    <tr>\n",
              "      <th>1</th>\n",
              "      <td>Hispanic or Latino</td>\n",
              "      <td>0.257</td>\n",
              "      <td>25.7</td>\n",
              "    </tr>\n",
              "    <tr>\n",
              "      <th>2</th>\n",
              "      <td>Black or African American</td>\n",
              "      <td>0.016</td>\n",
              "      <td>1.6</td>\n",
              "    </tr>\n",
              "    <tr>\n",
              "      <th>3</th>\n",
              "      <td>American Indian or Alaskan Native</td>\n",
              "      <td>0.017</td>\n",
              "      <td>1.7</td>\n",
              "    </tr>\n",
              "    <tr>\n",
              "      <th>4</th>\n",
              "      <td>Asian</td>\n",
              "      <td>0.018</td>\n",
              "      <td>1.8</td>\n",
              "    </tr>\n",
              "    <tr>\n",
              "      <th>5</th>\n",
              "      <td>Native Hawaiian or Pacific Islander</td>\n",
              "      <td>0.020</td>\n",
              "      <td>2.0</td>\n",
              "    </tr>\n",
              "    <tr>\n",
              "      <th>6</th>\n",
              "      <td>Two or more races</td>\n",
              "      <td>0.023</td>\n",
              "      <td>2.3</td>\n",
              "    </tr>\n",
              "    <tr>\n",
              "      <th>7</th>\n",
              "      <td>Total</td>\n",
              "      <td>1.000</td>\n",
              "      <td>100.0</td>\n",
              "    </tr>\n",
              "  </tbody>\n",
              "</table>\n",
              "</div>"
            ],
            "text/plain": [
              "                                     0      1  Expected Number\n",
              "0                  White, not Hispanic  0.649             64.9\n",
              "1                   Hispanic or Latino  0.257             25.7\n",
              "2            Black or African American  0.016              1.6\n",
              "3    American Indian or Alaskan Native  0.017              1.7\n",
              "4                                Asian  0.018              1.8\n",
              "5  Native Hawaiian or Pacific Islander  0.020              2.0\n",
              "6                    Two or more races  0.023              2.3\n",
              "7                                Total  1.000            100.0"
            ]
          },
          "metadata": {
            "tags": []
          },
          "execution_count": 9
        }
      ]
    },
    {
      "cell_type": "code",
      "metadata": {
        "id": "cBeuXF28-9YY"
      },
      "source": [
        "def factorial(n):\r\n",
        "\r\n",
        "  if n< 1:\r\n",
        "    return 1\r\n",
        "  else:\r\n",
        "    return float( n*factorial(n-1) )\r\n",
        "\r\n",
        "def P(y0, y1, y2, y3, y4, y5, y6):\r\n",
        "\r\n",
        "  if y0 +y1+y2+y3+y4+y5+y6 != 100:\r\n",
        "    return 0\r\n",
        "  else:\r\n",
        "    return factorial(100)/( factorial(y0)*factorial(y1)*factorial(y2) *factorial(y3)*\r\n",
        "    factorial(y4)*factorial(y5)*factorial(y6) )*( 0.649**y0 *0.257**y1 * 0.016**y2 *\r\n",
        "                                                 0.017**y3 *0.018**y4 * 0.020**y5 *\r\n",
        "                                                 0.023**y6 )"
      ],
      "execution_count": 17,
      "outputs": []
    },
    {
      "cell_type": "code",
      "metadata": {
        "colab": {
          "base_uri": "https://localhost:8080/"
        },
        "id": "qcaYqTDv-9br",
        "outputId": "92922d29-50b0-4da7-f366-feae0c0c974a"
      },
      "source": [
        "result = []\r\n",
        "\r\n",
        "for y6 in range(2):\r\n",
        "  for y5 in range(2):\r\n",
        "    for y4 in range(2):\r\n",
        "      for y3 in range(2):\r\n",
        "        for y2 in range(2):\r\n",
        "          for y1 in range(101 - y6-y5-y4-y3-y2):\r\n",
        "            y0 = 100 - y1 - y6-y5-y4-y3-y2\r\n",
        "            result += [ P(y0, y1, y2, y3, y4, y5, y6) ]\r\n",
        "\r\n",
        "sum(result)"
      ],
      "execution_count": 20,
      "outputs": [
        {
          "output_type": "execute_result",
          "data": {
            "text/plain": [
              "0.013306147021542085"
            ]
          },
          "metadata": {
            "tags": []
          },
          "execution_count": 20
        }
      ]
    },
    {
      "cell_type": "code",
      "metadata": {
        "id": "0qvyFAOr-9fB"
      },
      "source": [
        ""
      ],
      "execution_count": null,
      "outputs": []
    },
    {
      "cell_type": "code",
      "metadata": {
        "colab": {
          "base_uri": "https://localhost:8080/"
        },
        "id": "MX8binuo-e2e",
        "outputId": "96f1888c-f7e9-4b2e-f7c0-5538a55ea5b6"
      },
      "source": [
        "# covariance\r\n",
        "\r\n",
        "-100*0.016*0.017"
      ],
      "execution_count": 10,
      "outputs": [
        {
          "output_type": "execute_result",
          "data": {
            "text/plain": [
              "-0.027200000000000002"
            ]
          },
          "metadata": {
            "tags": []
          },
          "execution_count": 10
        }
      ]
    },
    {
      "cell_type": "code",
      "metadata": {
        "colab": {
          "base_uri": "https://localhost:8080/"
        },
        "id": "lz8aBKOJ-mXv",
        "outputId": "0edc72a0-06b3-4e5b-9693-1172a87e8046"
      },
      "source": [
        "# covariance\r\n",
        "-100 * 0.016*0.257"
      ],
      "execution_count": 11,
      "outputs": [
        {
          "output_type": "execute_result",
          "data": {
            "text/plain": [
              "-0.4112"
            ]
          },
          "metadata": {
            "tags": []
          },
          "execution_count": 11
        }
      ]
    },
    {
      "cell_type": "code",
      "metadata": {
        "colab": {
          "base_uri": "https://localhost:8080/"
        },
        "id": "Mf6Mq4JN-xZM",
        "outputId": "8b894cd0-eb31-443a-beb3-55011fba22fc"
      },
      "source": [
        "-100 * 0.649* 0.257"
      ],
      "execution_count": 12,
      "outputs": [
        {
          "output_type": "execute_result",
          "data": {
            "text/plain": [
              "-16.6793"
            ]
          },
          "metadata": {
            "tags": []
          },
          "execution_count": 12
        }
      ]
    },
    {
      "cell_type": "markdown",
      "metadata": {
        "id": "HxwdrEmjteWE"
      },
      "source": [
        "### 4. Coefficient of Correlation\n",
        "\n",
        "This is a nice place to see why the coefficient of correlation is important. Think about our example:  There are two large demographics and then five smaller ones. \n",
        "\n",
        "The Covariance between any two is given by:  $$ \\mbox{Cov}(Y_s, Y_t) = - n p_s p_t $$\n",
        "\n",
        "Which again makes sense because it is saying when one variable is large it is having a negative effect on the other. This implies that the two variables with the largest (absolute) covariance would correspond to our two largest demographics. But notice that the formula for variances is:\n",
        "\n",
        "$$ \\mbox{Var}(Y_s) = n p_s (1-p_s) $$ \n",
        "\n",
        "and our variances for these largest demographics are also the largest. The coefficient of correlation gives a better measure independent of the $n$ the size of the sample:\n",
        "\n",
        "$$ \\rho = \\frac{\\mbox{Cov}(Y_s, Y_t)}{ \\sqrt{ \\sigma_s \\sigma_t } }  = $$\n",
        "\n",
        "$$ = - \\frac{n p_s p_t}{ \\sqrt{ n p_s (1-p_s) \\cdot n p_t (1-p_t) }} $$\n",
        "\n",
        "$$ = - \\sqrt{ \\frac{p_s p_t}{ (1-p_s) (1-p_t) } }$$"
      ]
    },
    {
      "cell_type": "code",
      "metadata": {
        "id": "hPOhd8e6teWE"
      },
      "source": [
        ""
      ],
      "execution_count": null,
      "outputs": []
    }
  ]
}