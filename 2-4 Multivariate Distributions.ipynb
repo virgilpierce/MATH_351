{
 "cells": [
  {
   "cell_type": "code",
   "execution_count": 1,
   "metadata": {},
   "outputs": [],
   "source": [
    "import sympy as sp"
   ]
  },
  {
   "cell_type": "markdown",
   "metadata": {},
   "source": [
    "# Multivariate Probability Distribution\n",
    "\n",
    "Much of what we have done so far probably seems a little weak or uninteresting. Yes we can now try to describe a single random variable by modelling it with one of our distributions or more generally by find expressions or approximations for the density or cummulative distribution functions. Of course reality is more complicated, and the interesting things happen when we consider how one random variable is impacted by another:\n",
    "\n",
    "### Example: Screening for Disease\n",
    "\n",
    "We are testing for a virus. Our random variables are:  Y = patients tests positive for the virus or not; and Z = patient has the virus or not. The issue is that our test is not perfect:  Sometimes it returns a positive result when in fact the patient does not have the virus; and sometimes it returns a negative result when in fact the patient does have the virus. One challenge is to understand how effective a test actually is given that it will have these two types of errors.\n",
    "\n",
    "We should think of these as two random variables potentially with some dependency (hopefully with some dependency!).\n",
    "\n",
    "We will come back to this problem.\n"
   ]
  },
  {
   "cell_type": "markdown",
   "metadata": {},
   "source": [
    "### Examples:  Dice\n",
    "\n",
    "We roll two dice and $Y_1$ is the roll on the first die, and $Y_2$ is the roll on the second die. Find the probabilities:\n",
    "\n",
    "$$ P(Y_1 = 1, Y_2 = 1) $$\n",
    "\n",
    "$$ P(Y_1 = 1, 1\\leq Y_2 \\leq 4) $$\n"
   ]
  },
  {
   "cell_type": "markdown",
   "metadata": {},
   "source": [
    "### Total Probability\n",
    "\n",
    "For a bivariate probability with probability distribution:\n",
    "\n",
    "$$ p(y_1, y_2) = P(Y_1 = y_1, Y_2=y_2) $$\n",
    "\n",
    "then $p(y_1, y_2) \\geq 0 $ and $$ \\sum_{y_1, y_2} p(y_1, y_2) = 1 $$"
   ]
  },
  {
   "cell_type": "markdown",
   "metadata": {},
   "source": [
    "## Joint Distribution Function\n",
    "\n",
    "The *joint distribution function* (in the bivariate case) is:\n",
    "\n",
    "$$ F(y_1, y_2) = P( Y_1 \\leq y_1, Y_2 \\leq y_2 ) $$\n",
    "\n",
    "Two variables are said to be *jointly continuous* if their joint distribution function is continuous. We then define the *joint probability density function* of jointly continuous random variables to be $f(y_1, y_2) \\geq 0 $ such that \n",
    "\n",
    "$$ F(y_1, y_2) = \\int_{-\\infty}^{y_1} \\int_{-\\infty}^{y_2} f(y_1, y_2) dy_1 dy_2 $$\n",
    "\n",
    "provided that such an $f$ exists.\n",
    "\n",
    "### Properties of the JDF\n",
    "\n",
    "1. $$\\lim_{y_1 \\to -\\infty } F(y_1, y_2) = 0 \\quad\\mbox{and}\\quad \\lim_{y_2 \\to -\\infty} F(y_1, y_2) $$\n",
    "\n",
    "2. $$ \\lim_{y_1, y_2 \\to \\infty} F(y_1, y_2) = 1 $$\n",
    "\n",
    "3. If $y_1^* \\geq y_1 $ and $y_2^* \\geq y_2 $ then $$ F(y_1^*, y_2^*) - F(y_1^*, y_2) - F(y_1, y_2^*) + F(y_1, y_2) \\geq 0 $$"
   ]
  },
  {
   "cell_type": "markdown",
   "metadata": {},
   "source": [
    "### Properties of the JPDF\n",
    "\n",
    "Likewise if joint continuous random variables have a joint density function $f$:\n",
    "\n",
    "1. $ f(y_1, y_2) \\geq 0 $ for all $y_1$, $y_2$.\n",
    "\n",
    "2. $$ \\int_{-\\infty}^\\infty \\int_{-\\infty}^\\infty f(y_1, y_2) dy_1 dy_2 = 1 $$"
   ]
  },
  {
   "cell_type": "markdown",
   "metadata": {},
   "source": [
    "## Example \n",
    "\n",
    "Suppose we have a gasoline tank. It is restocked each week and one of our random variables $Y_1$ is the proportion of the tank that is filled after each restocking. Then another random variable is $Y_2$ the proportion of the tank that is sold each week. \n",
    "\n",
    "Note that $Y_2 \\leq Y_1$ i.e. we cannot sell more gasoline than the tank has.\n",
    "\n",
    "Suppose the joint PDF has the form \n",
    "\n",
    "$$ f(y_1, y_2) = \\left\\{ \\begin{matrix} c y_1 & 0 \\leq y_2 \\leq y_1 \\leq 1 \\\\ 0 & \\mbox{otherwise} \\end{matrix} \\right. $$\n",
    "\n",
    "Note the *shape* of this density is a prism.\n",
    "\n",
    "First:  determine the value of $c$ that makes this is a valid PDF."
   ]
  },
  {
   "cell_type": "markdown",
   "metadata": {},
   "source": [
    "Second:  How likely is it that the tank is stocked to half full or less and that more than one quarter of the tank is sold?"
   ]
  },
  {
   "cell_type": "markdown",
   "metadata": {},
   "source": [
    "## Marginal Probability and Density\n",
    "\n",
    "1. Let $Y_1$ and $Y_2$ be discrete random variables then the *marginal probability functions* of $Y_1$ and $Y_2$ are\n",
    "\n",
    "$$ p_1(y_1) = \\sum_{y_2} p(y_1, y_2) \\quad\\mbox{and}\\quad p_2(y_2) = \\sum_{y_1} p(y_1, y_2) $$\n",
    "\n",
    "2. Let $Y_1$ and $Y_2$ be continuous random variables with joint PDF $f$, then the *marginal density functions* of $Y_1$ and $Y_2$ are\n",
    "\n",
    "$$ f_1(y_1) = \\int_{-\\infty}^\\infty f(y_1, y_2) dy_2 \\quad\\mbox{and}\\quad f_2(y_2) = \\int_{-\\infty}^\\infty f(y_1, y_2) dy_1 $$"
   ]
  },
  {
   "cell_type": "markdown",
   "metadata": {},
   "source": [
    "## Example \n",
    "\n",
    "A congression committee formed of 4 democrats, 3 republicans, and 1 independent is forming a subcommittee of three people  to work on some legislation. Suppose the subcommittee is selected completely randomly with each member equally likely to be chosen. Let $Y_1$ be the number of democrats on the subcommittee and $Y_2$ the number of republicans. \n",
    "\n",
    "Find the marginal probabilities for $Y_1$ and $Y_2$.  \n"
   ]
  },
  {
   "cell_type": "markdown",
   "metadata": {},
   "source": [
    "## Conditional Probability\n",
    "\n",
    "Which then brings us to conditional probability. Suppose $Y_1$ and $Y_2$ are discrete random variables, we define *the probability $Y_1$ is a value given that $Y_2$ is a value*:\n",
    "\n",
    "$$ p(y_1 | y_2) = P(Y_1 = y_1 | Y_2 = y_2) = \\frac{P(Y_1 = y_1, Y_2 = y_2)}{P(Y_2 = y_2) }  $$\n",
    "\n",
    "provided that $P(Y_2 = y_2) > 0 $.  Note that the denominator is the marginal distribution function.\n",
    "\n",
    "### Example\n",
    "\n",
    "Consider the subcommittee being formed above. What is the probability distribution for the number of democrats on the subcommittee given that 1 republican is on the subcommittee?"
   ]
  },
  {
   "cell_type": "markdown",
   "metadata": {},
   "source": [
    "### Condition Probability for Continuous Random Variables\n",
    "\n",
    "Suppose $Y_1$ and $Y_2$ are continuous random varialbes with a joint PDF $f(y_1, y_2)$. Then the *conditional density functions* are given by \n",
    "\n",
    "$$ f(y_1 | y_2) = \\frac{ f(y_1, y_2) }{f_2(y_2) } \\quad\\mbox{and}\\quad f(y_2|y_1) = \\frac{f(y_1, y_2)}{f_1(y_1)} $$"
   ]
  },
  {
   "cell_type": "markdown",
   "metadata": {},
   "source": [
    "### Example \n",
    "\n",
    "Consider the random variables $Y_1$ and $Y_2$ with joint density given by:\n",
    "\n",
    "$$ f(y_1, y_2) = \\left\\{ \\begin{matrix} 2 & 0 \\leq y_2 \\leq y_1 \\leq 1 \\\\ 0 & \\mbox{otherwise} \\end{matrix}\\right. $$\n",
    "\n",
    "Find the probability that $y_1 \\leq \\frac12$ given that $y_2 \\leq \\frac34 $"
   ]
  },
  {
   "cell_type": "markdown",
   "metadata": {},
   "source": [
    "### Example\n",
    "\n",
    "Back to our example from the beginning of class. Suppose we are testing our virus test on 1000 people and we find the following:\n",
    "\n",
    "|     | Infected | Not Infected | \n",
    "| --- | --- | --- |\n",
    "| Tested Positive | 120 | 10 | \n",
    "| Tested Negative | 30  | 840 | \n",
    "\n",
    "Note in practice what we would mean by *Infected* and *Not Infected* would be *Ended up hospitalized*, *Were showing enough symptoms*, or *Tested positive on another known test*. \n",
    "\n",
    "How likely is it that someone who has tested negative, in fact is Infected? (noting that what we really mean is *how likely is it that someone from our study*; we will come back to how we can use this data to extrapolate to the broader application of this test)."
   ]
  },
  {
   "cell_type": "code",
   "execution_count": null,
   "metadata": {},
   "outputs": [],
   "source": []
  }
 ],
 "metadata": {
  "kernelspec": {
   "display_name": "Python 3",
   "language": "python",
   "name": "python3"
  },
  "language_info": {
   "codemirror_mode": {
    "name": "ipython",
    "version": 3
   },
   "file_extension": ".py",
   "mimetype": "text/x-python",
   "name": "python",
   "nbconvert_exporter": "python",
   "pygments_lexer": "ipython3",
   "version": "3.7.4"
  }
 },
 "nbformat": 4,
 "nbformat_minor": 4
}
