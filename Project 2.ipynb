{
 "cells": [
  {
   "cell_type": "markdown",
   "metadata": {},
   "source": [
    "# Project 2 - Hypothesis Tests and Confidence Intervals\n",
    "\n",
    "1. Something suspicous is happening at some labs in Washington state that test for THC concentrations in consumer sold marajuana. The distribution of concentrations appear to be normal except that there is a discontinuity in the distribution at 20% with a higher density of results just above 20% than just below 20%. Here is the histogram that was found: \n",
    "\n",
    "<img src=\"Labs.png\" alt=\"Histogram of THC Concentrations in suspended Washington Labs\" width=\"300\"/>\n",
    "\n",
    "Whereas here is a distribution of test results from the largest lab in the sate:\n",
    "\n",
    "<img src=\"goodLab.png\" alt=\"Histogram of THC Concentrations in unsuspended Washington Labs\" width=\"300\"/>\n",
    "\n",
    "Suppose that you have a set of results from a lab for concentrations of 10 samples. How would you go about deciding if they have manipulated the results?  Keeping in mind that if you only have 10 samples, you can not use a historgram and look for a discontinuity in the cummulative distribution function like the authors of this study did with their thousands of results.\n",
    "\n",
    "2. The Cherry Trees in Washington DC are a famous gift from the mayor Tokyo in 1914 aimed at improving the cooperation between the US and Japan. Recently they have become possibly evidence of a change in climate around DC. The last few peak blooms (the date at which 70% of the trees in DC are at full bloom) have been on:  March 28, March 20, April 1, April 5, March 25, March 25, April 10, April 10, April 9, March 20, March 29, and March 31. It is worth noting that Peak Bloom is sort of a mean - why would we want to know this? Discuss whether this assumption is valid and any issues you see with the data and our asusmption.\n",
    "\n",
    "3. From the last few peak blooms, assuming that the date of peak bloom is normally distributed, give an estimate for the interval in which we expect 99% of peak blooms to occur.\n",
    "\n",
    "4. Historically the mean date of peak bloom since records were started in 1921 has been April 3. Do we have sufficient evidence to conclude that peak bloom in the last decade has changed to an earlier date?\n",
    "\n",
    "\n"
   ]
  },
  {
   "cell_type": "code",
   "execution_count": null,
   "metadata": {},
   "outputs": [],
   "source": []
  }
 ],
 "metadata": {
  "kernelspec": {
   "display_name": "Python 3",
   "language": "python",
   "name": "python3"
  },
  "language_info": {
   "codemirror_mode": {
    "name": "ipython",
    "version": 3
   },
   "file_extension": ".py",
   "mimetype": "text/x-python",
   "name": "python",
   "nbconvert_exporter": "python",
   "pygments_lexer": "ipython3",
   "version": "3.7.4"
  }
 },
 "nbformat": 4,
 "nbformat_minor": 4
}
