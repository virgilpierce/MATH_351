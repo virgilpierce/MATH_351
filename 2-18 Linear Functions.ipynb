{
 "cells": [
  {
   "cell_type": "markdown",
   "metadata": {},
   "source": [
    "# Expected Values, Variances, and Covariances of Linear Functions of Random Variables\n",
    "\n",
    "We need a motivating example for what we are about derive. So lets look ahead to what we want to do:\n",
    "\n",
    "## Sampling\n",
    "\n",
    "We are interested in understanding what happens we have a random variables $Y$ and we sample it $n$ times to get $Y_1, Y_2, \\dots Y_{n}$ and then compute a single statistic from those results, say the mean. \n",
    "\n",
    "$$ \\bar{Y} = \\frac{1}{n} Y_1 + \\frac{1}{n} Y_2 + \\dots + \\frac{1}{n} Y_n $$\n",
    "\n",
    "Written this way, we see that we can think of this as having $Y_i$ independent random variables each with $E(Y_i) = \\mu $ and $V(Y_i) = \\sigma$ coming from the original random varialbe $Y$. \n",
    "\n",
    "**Question:** Find $ E(\\bar{Y})$ and $V(\\bar{Y})$. I.e. how do we expect the statistic computed from our sample to behave?\n",
    "\n"
   ]
  },
  {
   "cell_type": "markdown",
   "metadata": {},
   "source": [
    "*Hint* Hint we might want to use that $$V(\\bar{Y}) = E( \\bar{Y}^2 ) - E(\\bar{Y})^2$$"
   ]
  },
  {
   "cell_type": "markdown",
   "metadata": {},
   "source": [
    "## Linear Functions of Random Variables\n",
    "\n",
    "More generally let the $Y_i$ and $X_j$ be (possibly dependent) random variables, and \n",
    "\n",
    "$$ U_1 = \\sum_j a_j Y_j $$ and $$ U_2 = \\sum_j b_j X_j$$ be linear functions of these random variables. Then\n",
    "\n",
    "$$ E(U_1) = \\sum_j a_j E(Y_j) $$\n",
    "\n",
    "$$ V(U_1) = E( U_1^2 ) - E(U_1)^2 = \\sum a_j^2 V(Y_j) + 2 \\sum_{i<j} a_i a_j \\mbox{Cov}(Y_i, Y_j) $$\n",
    "\n",
    "and \n",
    "\n",
    "$$ \\mbox{Cov}(U_1, U_2) = \\sum_{i, j} a_i b_j \\mbox{Cov}(Y_i, X_j) $$"
   ]
  },
  {
   "cell_type": "markdown",
   "metadata": {},
   "source": [
    "# Conditional Expecations\n",
    "\n",
    "Finally there some neat tricks we can play with conditional probabilities and expectations. \n",
    "\n",
    "Given two random variables $Y_1$ and $Y_2$, we define *Conditional Expectation* of $g(Y_1)$ given $Y_2=y_2$ to be \n",
    "\n",
    "$$ E(g(Y_1) | Y_2=y_2) = \\int g(y_1) f(y_1 | y_2 ) dy_1 $$\n",
    "\n",
    "Where $f(y_1 | y_2) $ is the conditional PDF. \n",
    "\n",
    "## Expected Values \n",
    "\n",
    "Then note if we take the expected value of the conditional expected value we get back to just the expected value in $Y_1$:\n",
    "\n",
    "$$ E( E(Y_1 | Y_2) ) = E( Y_1 )$$\n",
    "\n",
    "## Variances\n",
    "\n",
    "More interestingly if we consider variances:\n",
    "\n",
    "$$ V(Y_1) = E[ V(Y_1 | Y_2) ] + V[ E( Y_1 | Y_2 ) ] $$\n",
    "\n",
    "where $$ V( Y_1 | Y_2) = E( Y_1^2 | Y_2) - [ E(Y_1 | Y_2 ) ]^2$$\n",
    "\n"
   ]
  },
  {
   "cell_type": "markdown",
   "metadata": {},
   "source": [
    "### Example\n",
    "\n",
    "It is maybe not clear why these conditional expectations and the related theorems are useful. They come up frequently in models where the parameters of the random distribution are themselves unkown. Consider:  \n",
    "\n",
    "The viral load of person with COVID-19 is $Y$ in virus particulates per mg of saliva, and fits an exponential distribution with the $\\beta$ parameter a uniformly distributed random variable between $(0, 200)$. I.e. the evidence is that the $\\beta$ parameter itself changes from infection to infection.\n",
    "\n",
    "For a given $\\beta$ the expected value and variance of $Y$ are known: $$ E(Y | \\beta) = \\beta $$ and $$ V(Y | \\beta) = \\beta^2 $$\n",
    "\n",
    "Find the $E(Y)$ and $V(Y)$."
   ]
  },
  {
   "cell_type": "code",
   "execution_count": null,
   "metadata": {},
   "outputs": [],
   "source": []
  }
 ],
 "metadata": {
  "kernelspec": {
   "display_name": "Python 3",
   "language": "python",
   "name": "python3"
  },
  "language_info": {
   "codemirror_mode": {
    "name": "ipython",
    "version": 3
   },
   "file_extension": ".py",
   "mimetype": "text/x-python",
   "name": "python",
   "nbconvert_exporter": "python",
   "pygments_lexer": "ipython3",
   "version": "3.7.4"
  }
 },
 "nbformat": 4,
 "nbformat_minor": 4
}
