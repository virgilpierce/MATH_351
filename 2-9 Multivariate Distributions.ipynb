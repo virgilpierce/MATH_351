{
 "cells": [
  {
   "cell_type": "code",
   "execution_count": 18,
   "metadata": {},
   "outputs": [],
   "source": [
    "import sympy as sp\n",
    "\n",
    "def factorial(n):\n",
    "    \n",
    "    if n<1:\n",
    "        return 1\n",
    "    else:\n",
    "        return n*factorial(n-1)\n",
    "    \n",
    "def binomial(n, m):\n",
    "    \n",
    "    if m<0:\n",
    "        return 1\n",
    "    elif m>n:\n",
    "        return 1\n",
    "    else:  \n",
    "        return factorial(n)/( factorial(n-m)*factorial(m) )"
   ]
  },
  {
   "cell_type": "markdown",
   "metadata": {},
   "source": [
    "## Marginal Probability and Density\n",
    "\n",
    "1. Let $Y_1$ and $Y_2$ be discrete random variables then the *marginal probability functions* of $Y_1$ and $Y_2$ are\n",
    "\n",
    "$$ p_1(y_1) = \\sum_{y_2} p(y_1, y_2) \\quad\\mbox{and}\\quad p_2(y_2) = \\sum_{y_1} p(y_1, y_2) $$\n",
    "\n",
    "2. Let $Y_1$ and $Y_2$ be continuous random variables with joint PDF $f$, then the *marginal density functions* of $Y_1$ and $Y_2$ are\n",
    "\n",
    "$$ f_1(y_1) = \\int_{-\\infty}^\\infty f(y_1, y_2) dy_2 \\quad\\mbox{and}\\quad f_2(y_2) = \\int_{-\\infty}^\\infty f(y_1, y_2) dy_1 $$"
   ]
  },
  {
   "cell_type": "markdown",
   "metadata": {},
   "source": [
    "## Example \n",
    "\n",
    "A congression committee formed of 4 democrats, 3 republicans, and 1 independent is forming a subcommittee of three people  to work on some legislation. Suppose the subcommittee is selected completely randomly with each member equally likely to be chosen. Let $Y_1$ be the number of democrats on the subcommittee and $Y_2$ the number of republicans. \n",
    "\n",
    "Find the marginal probabilities for $Y_1$ and $Y_2$.  \n"
   ]
  },
  {
   "cell_type": "markdown",
   "metadata": {},
   "source": [
    "## Conditional Probability\n",
    "\n",
    "Which then brings us to conditional probability. Suppose $Y_1$ and $Y_2$ are discrete random variables, we define *the probability $Y_1$ is a value given that $Y_2$ is a value*:\n",
    "\n",
    "$$ p(y_1 | y_2) = P(Y_1 = y_1 | Y_2 = y_2) = \\frac{P(Y_1 = y_1, Y_2 = y_2)}{P(Y_2 = y_2) }  $$\n",
    "\n",
    "provided that $P(Y_2 = y_2) > 0 $.  Note that the denominator is the marginal distribution function.\n",
    "\n",
    "### Example\n",
    "\n",
    "Consider the subcommittee being formed above. What is the probability distribution for the number of democrats on the subcommittee given that 1 republican is on the subcommittee?"
   ]
  },
  {
   "cell_type": "markdown",
   "metadata": {},
   "source": [
    "### Example\n",
    "\n",
    "We roll two dice and let $Z_1$ be the value of the first die, and $Z_2$ the sum of the two dice. \n",
    "\n",
    "- What is the probability that the first die is a 1 given that the sum on the two dice is 2?\n",
    "\n",
    "- What is the probability that the first die is a 1 given that the sum on the two dice is 7?"
   ]
  },
  {
   "cell_type": "markdown",
   "metadata": {},
   "source": [
    "### Condition Probability for Continuous Random Variables\n",
    "\n",
    "Suppose $Y_1$ and $Y_2$ are continuous random varialbes with a joint PDF $f(y_1, y_2)$. Then the *conditional density functions* are given by \n",
    "\n",
    "$$ f(y_1 | y_2) = \\frac{ f(y_1, y_2) }{f_2(y_2) } \\quad\\mbox{and}\\quad f(y_2|y_1) = \\frac{f(y_1, y_2)}{f_1(y_1)} $$"
   ]
  },
  {
   "cell_type": "markdown",
   "metadata": {},
   "source": [
    "### Example \n",
    "\n",
    "Consider the random variables $Y_1$ and $Y_2$ with joint density given by:\n",
    "\n",
    "$$ f(y_1, y_2) = \\left\\{ \\begin{matrix} 2 & 0 \\leq y_2 \\leq y_1 \\leq 1 \\\\ 0 & \\mbox{otherwise} \\end{matrix}\\right. $$\n",
    "\n",
    "Find the probability that $y_1 \\leq \\frac12$ given that $y_2 \\leq \\frac34 $"
   ]
  },
  {
   "cell_type": "markdown",
   "metadata": {},
   "source": [
    "### Example\n",
    "\n",
    "Back to our example from the beginning of class. Suppose we are testing our virus test on 1000 people and we find the following:\n",
    "\n",
    "|     | Infected | Not Infected | \n",
    "| --- | --- | --- |\n",
    "| Tested Positive | 120 | 10 | \n",
    "| Tested Negative | 30  | 840 | \n",
    "\n",
    "Note in practice what we would mean by *Infected* and *Not Infected* would be *Ended up hospitalized*, *Were showing enough symptoms*, or *Tested positive on another known test*. \n",
    "\n",
    "How likely is it that someone who has tested negative, in fact is Infected? (noting that what we really mean is *how likely is it that someone from our study*; we will come back to how we can use this data to extrapolate to the broader application of this test)."
   ]
  },
  {
   "cell_type": "markdown",
   "metadata": {},
   "source": [
    "# Independent Random Variables\n",
    "\n",
    "The question of whether two random variables are independent has come up a few times already in class. Let's make it formal now.\n",
    "\n",
    "## Definition\n",
    "\n",
    "Let $Y_1$ and $Y_2$ be two jointly distributed random variables with marginal cummultative distribution functions $F_1(y_1)$ and $F_2(y_2)$.  Then the two variables are *independent* if the JDF is given by\n",
    "\n",
    "$$ F(y_1, y_2) = F_1(y_1) F_2(y_2) $$\n",
    "\n",
    "If $Y_1$ and $Y_2$ are not independent they are called *independent*\n",
    "\n",
    "This definition could be phrased in terms of the probability distribution of discrete random variables or the probability density functions. \n",
    "\n",
    "## What does this mean\n",
    "\n",
    "Two random variables are independent if we can compute the probability of them both happening by computing the likliehood of each one separately and then taking the product. *Think dice*\n",
    "\n",
    "### Example\n",
    "\n",
    "A class at the university has 15 mathematics majors, 8 software engineering majors, and 3 students from other majors. The instructor is going to choose a team of 5 students for a project. If the students are choosen at random, we let $Y_1$ by the number of mathematics majors and $Y_2$ the number of software engineering majors on the team. \n",
    "\n",
    "Is $Y_1$ independent of $Y_2$?"
   ]
  },
  {
   "cell_type": "markdown",
   "metadata": {},
   "source": [
    "### Example\n",
    "\n",
    "Let two continuous random variables have a joint density function given by:\n",
    "\n",
    "$$ f(y_1, y_2) = \\left\\{ \\begin{matrix} 2 y_1 & 0 \\leq y_1 \\leq 1 \\quad\\mbox{and}\\quad 0 \\leq y_2 \\leq 1 \\\\ 0 & \\mbox{otherwise} \\end{matrix} \\right. $$\n",
    "\n",
    "are $Y_1$ and $Y_2$ indepdent?"
   ]
  },
  {
   "cell_type": "markdown",
   "metadata": {},
   "source": [
    "### Example \n",
    "\n",
    "Let two continuous random variables have a joint density function given by:\n",
    "\n",
    "$$ f(y_1, y_2) = \\left\\{ \\begin{matrix} 2 & 0 \\leq y_2 \\leq y_1 \\leq 1 \\\\ 0 & \\mbox{otherwise} \\end{matrix} \\right. $$\n",
    "\n",
    "are $Y_1$ and $Y_2$ independent?"
   ]
  },
  {
   "cell_type": "markdown",
   "metadata": {},
   "source": [
    "## Independence and Conditional Probability\n",
    "\n",
    "Note that independence has a consequence for conditional probability:\n",
    "\n",
    "$$ p(y_1 | y_2 ) = \\frac{ p(y_1, y_2) }{ p_2(y_2) } $$\n",
    "\n",
    "However if $Y_1$ and $Y_2$ are independent then $p(y_1, y_2) = p_1(y_1) p_2(y_2) $ then:\n",
    "\n",
    "$$ p(y_1 | y_2) = p_1(y_1) $$ \n",
    "\n",
    "I.e. the probability of $Y_1$ conditioned by $Y_2$ is just the same as the marginal probability of $Y_1$. In other words $Y_2$ is not contributing information to the probablity we assign to $Y_1$."
   ]
  },
  {
   "cell_type": "markdown",
   "metadata": {},
   "source": [
    "### Example \n",
    "\n",
    "Back to our example from the beginning of class. Suppose we are testing our virus test on 1000 people and we find the following:\n",
    "\n",
    "|     | Infected | Not Infected | \n",
    "| --- | --- | --- |\n",
    "| Tested Positive | 5 | 120 | \n",
    "| Tested Negative | 35  | 840 | \n",
    "\n",
    "Show that the test and the infection are independent (and conclude that this is not a very useful test)."
   ]
  },
  {
   "cell_type": "code",
   "execution_count": null,
   "metadata": {},
   "outputs": [],
   "source": []
  }
 ],
 "metadata": {
  "kernelspec": {
   "display_name": "Python 3",
   "language": "python",
   "name": "python3"
  },
  "language_info": {
   "codemirror_mode": {
    "name": "ipython",
    "version": 3
   },
   "file_extension": ".py",
   "mimetype": "text/x-python",
   "name": "python",
   "nbconvert_exporter": "python",
   "pygments_lexer": "ipython3",
   "version": "3.7.4"
  }
 },
 "nbformat": 4,
 "nbformat_minor": 4
}
