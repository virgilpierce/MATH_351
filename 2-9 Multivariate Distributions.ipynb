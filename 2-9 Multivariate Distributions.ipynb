{
  "nbformat": 4,
  "nbformat_minor": 0,
  "metadata": {
    "kernelspec": {
      "display_name": "Python 3",
      "language": "python",
      "name": "python3"
    },
    "language_info": {
      "codemirror_mode": {
        "name": "ipython",
        "version": 3
      },
      "file_extension": ".py",
      "mimetype": "text/x-python",
      "name": "python",
      "nbconvert_exporter": "python",
      "pygments_lexer": "ipython3",
      "version": "3.7.4"
    },
    "colab": {
      "name": "2-9 Multivariate Distributions.ipynb",
      "provenance": []
    }
  },
  "cells": [
    {
      "cell_type": "code",
      "metadata": {
        "id": "-f0WXvRnmtr3"
      },
      "source": [
        "import sympy as sp\n",
        "\n",
        "def factorial(n):\n",
        "    \n",
        "    if n<1:\n",
        "        return 1\n",
        "    else:\n",
        "        return n*factorial(n-1)\n",
        "    \n",
        "def binomial(n, m):\n",
        "    \n",
        "    if m<0:\n",
        "        return 1\n",
        "    elif m>n:\n",
        "        return 1\n",
        "    else:  \n",
        "        return factorial(n)/( factorial(n-m)*factorial(m) )"
      ],
      "execution_count": 1,
      "outputs": []
    },
    {
      "cell_type": "markdown",
      "metadata": {
        "id": "ohKc54yfmtr8"
      },
      "source": [
        "## Marginal Probability and Density\n",
        "\n",
        "1. Let $Y_1$ and $Y_2$ be discrete random variables then the *marginal probability functions* of $Y_1$ and $Y_2$ are\n",
        "\n",
        "$$ p_1(y_1) = \\sum_{y_2} p(y_1, y_2) \\quad\\mbox{and}\\quad p_2(y_2) = \\sum_{y_1} p(y_1, y_2) $$\n",
        "\n",
        "2. Let $Y_1$ and $Y_2$ be continuous random variables with joint PDF $f$, then the *marginal density functions* of $Y_1$ and $Y_2$ are\n",
        "\n",
        "$$ f_1(y_1) = \\int_{-\\infty}^\\infty f(y_1, y_2) dy_2 \\quad\\mbox{and}\\quad f_2(y_2) = \\int_{-\\infty}^\\infty f(y_1, y_2) dy_1 $$"
      ]
    },
    {
      "cell_type": "markdown",
      "metadata": {
        "id": "JYr6H7dgmtr8"
      },
      "source": [
        "## Example \n",
        "\n",
        "A congression committee formed of 4 democrats, 3 republicans, and 1 independent is forming a subcommittee of three people  to work on some legislation. Suppose the subcommittee is selected completely randomly with each member equally likely to be chosen. Let $Y_1$ be the number of democrats on the subcommittee and $Y_2$ the number of republicans. \n",
        "\n",
        "Find the marginal probabilities for $Y_1$ and $Y_2$.  \n"
      ]
    },
    {
      "cell_type": "code",
      "metadata": {
        "id": "z7exeOdNr5rR"
      },
      "source": [
        "def P(y1, y2):\r\n",
        "\r\n",
        "  if y1+y2 < 2:\r\n",
        "    return 0\r\n",
        "  elif y1+y2 > 3:\r\n",
        "    return 0\r\n",
        "  else:\r\n",
        "    return binomial(4, y1)*binomial(3, y2)*binomial(1, 3-(y1+y2))/binomial(8, 3)"
      ],
      "execution_count": 2,
      "outputs": []
    },
    {
      "cell_type": "code",
      "metadata": {
        "id": "WIUiPWjct02F",
        "outputId": "ed3eb2a4-dbea-4933-89be-12846cf7dfe5",
        "colab": {
          "base_uri": "https://localhost:8080/"
        }
      },
      "source": [
        "P(1, 0), P(1, 1), P(1, 2), P(1, 3)"
      ],
      "execution_count": 7,
      "outputs": [
        {
          "output_type": "execute_result",
          "data": {
            "text/plain": [
              "(0, 0.21428571428571427, 0.21428571428571427, 0)"
            ]
          },
          "metadata": {
            "tags": []
          },
          "execution_count": 7
        }
      ]
    },
    {
      "cell_type": "code",
      "metadata": {
        "id": "I4jbbornt05T",
        "outputId": "f3db550f-a7dc-48a5-b6d4-bab7be657efe",
        "colab": {
          "base_uri": "https://localhost:8080/"
        }
      },
      "source": [
        "# marginal probability P1(1) \r\n",
        "sum( [ P(2, y) for y in range(4) ] )"
      ],
      "execution_count": 9,
      "outputs": [
        {
          "output_type": "execute_result",
          "data": {
            "text/plain": [
              "0.4285714285714286"
            ]
          },
          "metadata": {
            "tags": []
          },
          "execution_count": 9
        }
      ]
    },
    {
      "cell_type": "code",
      "metadata": {
        "id": "cRGlbF3UuO8U"
      },
      "source": [
        "p1 = {}\r\n",
        "\r\n",
        "for y1 in range(4):\r\n",
        "  p1[y1] = sum( [ P(y1, y2) for y2 in range(4) ] )\r\n",
        "\r\n",
        "p2 = {}\r\n",
        "for y2 in range(4):\r\n",
        "  p2[y2] = sum( [ P(y1, y2) for y1 in range(4) ] )"
      ],
      "execution_count": 10,
      "outputs": []
    },
    {
      "cell_type": "code",
      "metadata": {
        "id": "Xw_a7-Rduh99",
        "outputId": "ec21c738-9ce5-495d-b922-80f592d2af47",
        "colab": {
          "base_uri": "https://localhost:8080/"
        }
      },
      "source": [
        "p1"
      ],
      "execution_count": 11,
      "outputs": [
        {
          "output_type": "execute_result",
          "data": {
            "text/plain": [
              "{0: 0.07142857142857142,\n",
              " 1: 0.42857142857142855,\n",
              " 2: 0.4285714285714286,\n",
              " 3: 0.07142857142857142}"
            ]
          },
          "metadata": {
            "tags": []
          },
          "execution_count": 11
        }
      ]
    },
    {
      "cell_type": "code",
      "metadata": {
        "id": "Wa9S0LsZuiBU",
        "outputId": "a872f5ec-3480-4b47-ed02-27376d2ca47e",
        "colab": {
          "base_uri": "https://localhost:8080/"
        }
      },
      "source": [
        "p2"
      ],
      "execution_count": 12,
      "outputs": [
        {
          "output_type": "execute_result",
          "data": {
            "text/plain": [
              "{0: 0.17857142857142855,\n",
              " 1: 0.5357142857142857,\n",
              " 2: 0.26785714285714285,\n",
              " 3: 0.017857142857142856}"
            ]
          },
          "metadata": {
            "tags": []
          },
          "execution_count": 12
        }
      ]
    },
    {
      "cell_type": "markdown",
      "metadata": {
        "id": "djFUp75Mmtr8"
      },
      "source": [
        "## Conditional Probability\n",
        "\n",
        "Which then brings us to conditional probability. Suppose $Y_1$ and $Y_2$ are discrete random variables, we define *the probability $Y_1$ is a value given that $Y_2$ is a value*:\n",
        "\n",
        "$$ p(y_1 | y_2) = P(Y_1 = y_1 | Y_2 = y_2) = \\frac{P(Y_1 = y_1, Y_2 = y_2)}{P_2(Y_2 = y_2) }  $$\n",
        "\n",
        "provided that $P(Y_2 = y_2) > 0 $.  Note that the denominator is the marginal distribution function.\n"
      ]
    },
    {
      "cell_type": "markdown",
      "metadata": {
        "id": "qWUwUdmMmtr9"
      },
      "source": [
        "### Example\n",
        "\n",
        "We roll two dice and let $Z_1$ be the value of the first die, and $Z_2$ the sum of the two dice. \n",
        "\n",
        "- What is the probability that the first die is a 1 given that the sum on the two dice is 2?\n",
        "\n",
        "- What is the probability that the first die is a 1 given that the sum on the two dice is 7?"
      ]
    },
    {
      "cell_type": "code",
      "metadata": {
        "id": "LVYvIj8Lv94k"
      },
      "source": [
        "# P( Z_1 = 1 | Z_2 = 2) = 1"
      ],
      "execution_count": null,
      "outputs": []
    },
    {
      "cell_type": "code",
      "metadata": {
        "id": "8F6tAsIpv-Bc",
        "outputId": "0ac5c1bb-342f-4591-9d4f-39d87ed38e6c",
        "colab": {
          "base_uri": "https://localhost:8080/"
        }
      },
      "source": [
        "# 6, 1; 1, 6; 5, 2; 2, 5; 4, 3; 3, 4; \r\n",
        "\r\n",
        "1/6"
      ],
      "execution_count": 13,
      "outputs": [
        {
          "output_type": "execute_result",
          "data": {
            "text/plain": [
              "0.16666666666666666"
            ]
          },
          "metadata": {
            "tags": []
          },
          "execution_count": 13
        }
      ]
    },
    {
      "cell_type": "markdown",
      "metadata": {
        "id": "HNbbO0uumtr9"
      },
      "source": [
        "### Example\n",
        "\n",
        "Consider the subcommittee being formed above. What is the probability distribution for the number of democrats on the subcommittee given that 1 republican is on the subcommittee?"
      ]
    },
    {
      "cell_type": "code",
      "metadata": {
        "id": "2xWtKYd1vbwe",
        "outputId": "8034ac96-80f0-4493-f30d-90b464f6d13c",
        "colab": {
          "base_uri": "https://localhost:8080/"
        }
      },
      "source": [
        "P(0, 1)/p2[1], P(1, 1)/p2[1], P(2, 1) / p2[1], P(3, 1)/p2[1]"
      ],
      "execution_count": 17,
      "outputs": [
        {
          "output_type": "execute_result",
          "data": {
            "text/plain": [
              "(0.0, 0.39999999999999997, 0.6000000000000001, 0.0)"
            ]
          },
          "metadata": {
            "tags": []
          },
          "execution_count": 17
        }
      ]
    },
    {
      "cell_type": "markdown",
      "metadata": {
        "id": "c65YiS06mtr9"
      },
      "source": [
        "### Conditional Probability for Continuous Random Variables\n",
        "\n",
        "Suppose $Y_1$ and $Y_2$ are continuous random varialbes with a joint PDF $f(y_1, y_2)$. Then the *conditional density functions* are given by \n",
        "\n",
        "$$ f(y_1 | y_2) = \\frac{ f(y_1, y_2) }{f_2(y_2) } \\quad\\mbox{and}\\quad f(y_2|y_1) = \\frac{f(y_1, y_2)}{f_1(y_1)} $$"
      ]
    },
    {
      "cell_type": "markdown",
      "metadata": {
        "id": "Kkbcy47_mtr9"
      },
      "source": [
        "### Example \n",
        "\n",
        "Consider the random variables $Y_1$ and $Y_2$ with joint density given by:\n",
        "\n",
        "$$ f(y_1, y_2) = \\left\\{ \\begin{matrix} 2 & 0 \\leq y_2 \\leq y_1 \\leq 1 \\\\ 0 & \\mbox{otherwise} \\end{matrix}\\right. $$\n",
        "\n",
        "Find the probability that $y_1 \\leq \\frac12$ given that $y_2 \\leq \\frac34 $"
      ]
    },
    {
      "cell_type": "code",
      "metadata": {
        "id": "Z3Paj7byxngr",
        "outputId": "80c5e7a1-b22c-4755-8a4d-37eba2f01c37",
        "colab": {
          "base_uri": "https://localhost:8080/"
        }
      },
      "source": [
        "# first find an expression for f2(y2) = int_0^1 dy1 f(y1, y2)\r\n",
        "y1 = sp.Symbol('y1')\r\n",
        "y2 = sp.Symbol('y2')\r\n",
        "\r\n",
        "sp.integrate(2, (y1, y2, 1))\r\n",
        "\r\n",
        "# 0 <= y2 <= 1"
      ],
      "execution_count": 18,
      "outputs": [
        {
          "output_type": "execute_result",
          "data": {
            "text/plain": [
              "-2*y2 + 2"
            ]
          },
          "metadata": {
            "tags": []
          },
          "execution_count": 18
        }
      ]
    },
    {
      "cell_type": "code",
      "metadata": {
        "id": "UsS1wbHrxnb0",
        "outputId": "4cfe6598-f121-41ee-f4b2-0b63c8984b49",
        "colab": {
          "base_uri": "https://localhost:8080/"
        }
      },
      "source": [
        "# second find an expression for f(y1 | y2) = f(y1, y2) / f2(y2) \r\n",
        "\r\n",
        "sp.integrate( 2/(2-2*y2), (y2, 0, y1), (y1, 0, 1/2) ) "
      ],
      "execution_count": 19,
      "outputs": [
        {
          "output_type": "execute_result",
          "data": {
            "text/plain": [
              "0.153426409720027"
            ]
          },
          "metadata": {
            "tags": []
          },
          "execution_count": 19
        }
      ]
    },
    {
      "cell_type": "code",
      "metadata": {
        "id": "-flaQIXyxnkl",
        "outputId": "9f06031c-b49b-461e-f67f-c7122a11083c",
        "colab": {
          "base_uri": "https://localhost:8080/"
        }
      },
      "source": [
        "sp.integrate( 2/(2-2*y2), (y1, y2, 1/2), (y2, 0, 1/2) ) "
      ],
      "execution_count": 20,
      "outputs": [
        {
          "output_type": "execute_result",
          "data": {
            "text/plain": [
              "0.153426409720027"
            ]
          },
          "metadata": {
            "tags": []
          },
          "execution_count": 20
        }
      ]
    },
    {
      "cell_type": "markdown",
      "metadata": {
        "id": "Df_ZFdA1mtr-"
      },
      "source": [
        "### Example\n",
        "\n",
        "Back to our example from the beginning of class. Suppose we are testing our virus test on 1000 people and we find the following:\n",
        "\n",
        "|     | Infected | Not Infected | \n",
        "| --- | --- | --- |\n",
        "| Tested Positive | 120 | 10 | \n",
        "| Tested Negative | 30  | 840 | \n",
        "\n",
        "Note that in this example what we really would mean by *infected* is *showing symptoms*, *hospitalized with symptoms*, or *tested positive with some other test*.\n",
        "\n",
        "How likely is it that someone who has tested negative, in fact is Infected? (noting that what we really mean is *how likely is it that someone from our study*; we will come back to how we can use this data to extrapolate to the broader application of this test)."
      ]
    },
    {
      "cell_type": "code",
      "metadata": {
        "id": "zgG3NsV80xoV",
        "outputId": "b86cd7db-f79e-4033-afa9-225df0be35fe",
        "colab": {
          "base_uri": "https://localhost:8080/"
        }
      },
      "source": [
        "# Marginal Probability they tested negative\r\n",
        "870 /1000 "
      ],
      "execution_count": 21,
      "outputs": [
        {
          "output_type": "execute_result",
          "data": {
            "text/plain": [
              "0.87"
            ]
          },
          "metadata": {
            "tags": []
          },
          "execution_count": 21
        }
      ]
    },
    {
      "cell_type": "code",
      "metadata": {
        "id": "Nru2JUPn1Iu7",
        "outputId": "bcb147ef-ea17-45d2-f252-d3ca3b3147d7",
        "colab": {
          "base_uri": "https://localhost:8080/"
        }
      },
      "source": [
        "# Probability they tested negative and are infected\r\n",
        "30 / 1000"
      ],
      "execution_count": 22,
      "outputs": [
        {
          "output_type": "execute_result",
          "data": {
            "text/plain": [
              "0.03"
            ]
          },
          "metadata": {
            "tags": []
          },
          "execution_count": 22
        }
      ]
    },
    {
      "cell_type": "code",
      "metadata": {
        "id": "k_Wmhw3A1Iye",
        "outputId": "bc1636fc-3c81-403d-e31d-08cdad6cbeee",
        "colab": {
          "base_uri": "https://localhost:8080/"
        }
      },
      "source": [
        "# Probability they are infected given that they tested negative\r\n",
        "\r\n",
        "0.03 / 0.87"
      ],
      "execution_count": 24,
      "outputs": [
        {
          "output_type": "execute_result",
          "data": {
            "text/plain": [
              "0.034482758620689655"
            ]
          },
          "metadata": {
            "tags": []
          },
          "execution_count": 24
        }
      ]
    },
    {
      "cell_type": "code",
      "metadata": {
        "id": "w-NZK_3y1I1q"
      },
      "source": [
        ""
      ],
      "execution_count": null,
      "outputs": []
    },
    {
      "cell_type": "markdown",
      "metadata": {
        "id": "aBaIg4zpmtr-"
      },
      "source": [
        "# Independent Random Variables\n",
        "\n",
        "The question of whether two random variables are independent has come up a few times already in class. Let's make it formal now.\n",
        "\n",
        "## Definition\n",
        "\n",
        "Let $Y_1$ and $Y_2$ be two jointly distributed random variables with marginal cummultative distribution functions $F_1(y_1)$ and $F_2(y_2)$.  Then the two variables are *independent* if the JDF is given by\n",
        "\n",
        "$$ F(y_1, y_2) = F_1(y_1) F_2(y_2) $$\n",
        "\n",
        "If $Y_1$ and $Y_2$ are not independent they are called *independent*\n",
        "\n",
        "This definition could be phrased in terms of the probability distribution of discrete random variables or the probability density functions. \n",
        "\n",
        "## What does this mean\n",
        "\n",
        "Two random variables are independent if we can compute the probability of them both happening by computing the likliehood of each one separately and then taking the product. *Think dice*\n",
        "\n",
        "### Example\n",
        "\n",
        "A class at the university has 15 mathematics majors, 8 software engineering majors, and 3 students from other majors. The instructor is going to choose a team of 5 students for a project. If the students are choosen at random, we let $Y_1$ by the number of mathematics majors and $Y_2$ the number of software engineering majors on the team. \n",
        "\n",
        "Is $Y_1$ independent of $Y_2$?"
      ]
    },
    {
      "cell_type": "code",
      "metadata": {
        "id": "Abni0ZKl2XMY"
      },
      "source": [
        "def P(y1, y2):\r\n",
        "\r\n",
        "  if y1+y2 < 2:\r\n",
        "    return 0\r\n",
        "  elif y1+y2 > 5:\r\n",
        "    return 0 \r\n",
        "  else:\r\n",
        "    return binomial(15, y1)*binomial(8, y2) * binomial(3, 5- y1-y2)/ binomial(26, 5)"
      ],
      "execution_count": 33,
      "outputs": []
    },
    {
      "cell_type": "code",
      "metadata": {
        "id": "RXvaOI712Xa6"
      },
      "source": [
        "p1 = {}\r\n",
        "\r\n",
        "for y1 in range(6):\r\n",
        "  p1[y1] = sum( [ P(y1, y2) for y2 in range(6)] )\r\n",
        "\r\n",
        "p2 = {}\r\n",
        "for y2 in range(6):\r\n",
        "  p2[y2] = sum( [ P(y1, y2) for y1 in range(6) ] )"
      ],
      "execution_count": 34,
      "outputs": []
    },
    {
      "cell_type": "code",
      "metadata": {
        "id": "MYvY0df92XgI",
        "outputId": "075d39a4-998e-41ab-efb2-8439e796e11e",
        "colab": {
          "base_uri": "https://localhost:8080/"
        }
      },
      "source": [
        "p1"
      ],
      "execution_count": 35,
      "outputs": [
        {
          "output_type": "execute_result",
          "data": {
            "text/plain": [
              "{0: 0.007023411371237458,\n",
              " 1: 0.07525083612040134,\n",
              " 2: 0.2633779264214047,\n",
              " 3: 0.3804347826086957,\n",
              " 4: 0.2282608695652174,\n",
              " 5: 0.04565217391304348}"
            ]
          },
          "metadata": {
            "tags": []
          },
          "execution_count": 35
        }
      ]
    },
    {
      "cell_type": "code",
      "metadata": {
        "id": "r13Rc1wf2Xmj",
        "outputId": "63241372-f043-4666-b7a2-807d0ea23fc2",
        "colab": {
          "base_uri": "https://localhost:8080/"
        }
      },
      "source": [
        "p2"
      ],
      "execution_count": 36,
      "outputs": [
        {
          "output_type": "execute_result",
          "data": {
            "text/plain": [
              "{0: 0.13025235633931287,\n",
              " 1: 0.37214958954089394,\n",
              " 2: 0.3473396169048343,\n",
              " 3: 0.13025235633931287,\n",
              " 4: 0.019154758285193068,\n",
              " 5: 0.0008513225904530252}"
            ]
          },
          "metadata": {
            "tags": []
          },
          "execution_count": 36
        }
      ]
    },
    {
      "cell_type": "code",
      "metadata": {
        "id": "T-xBLPdM3N5c",
        "outputId": "ea9bc535-295d-40fa-ecac-e1ebc0366085",
        "colab": {
          "base_uri": "https://localhost:8080/"
        }
      },
      "source": [
        "P(0, 3), p1[0]*p2[3]"
      ],
      "execution_count": 38,
      "outputs": [
        {
          "output_type": "execute_result",
          "data": {
            "text/plain": [
              "(0.002553967771359076, 0.0009148158806440034)"
            ]
          },
          "metadata": {
            "tags": []
          },
          "execution_count": 38
        }
      ]
    },
    {
      "cell_type": "code",
      "metadata": {
        "id": "XDS4_Knv3N8-"
      },
      "source": [
        ""
      ],
      "execution_count": null,
      "outputs": []
    },
    {
      "cell_type": "markdown",
      "metadata": {
        "id": "b31X2uGimtr-"
      },
      "source": [
        "### Example\n",
        "\n",
        "Let two continuous random variables have a joint density function given by:\n",
        "\n",
        "$$ f(y_1, y_2) = \\left\\{ \\begin{matrix} 2 y_1 & 0 \\leq y_1 \\leq 1 \\quad\\mbox{and}\\quad 0 \\leq y_2 \\leq 1 \\\\ 0 & \\mbox{otherwise} \\end{matrix} \\right. $$\n",
        "\n",
        "are $Y_1$ and $Y_2$ indepdent?"
      ]
    },
    {
      "cell_type": "markdown",
      "metadata": {
        "id": "PPMOjW_Q4A60"
      },
      "source": [
        "Show independence by showing that the density factors:  $$ f(y_1, y_2) = g(y_1) h(y_2) $$"
      ]
    },
    {
      "cell_type": "markdown",
      "metadata": {
        "id": "a94iBbK4mtr_"
      },
      "source": [
        "### Example \n",
        "\n",
        "Let two continuous random variables have a joint density function given by:\n",
        "\n",
        "$$ f(y_1, y_2) = \\left\\{ \\begin{matrix} 2 & 0 \\leq y_2 \\leq y_1 \\leq 1 \\\\ 0 & \\mbox{otherwise} \\end{matrix} \\right. $$\n",
        "\n",
        "are $Y_1$ and $Y_2$ independent?"
      ]
    },
    {
      "cell_type": "markdown",
      "metadata": {
        "id": "IAScUsI5mtr_"
      },
      "source": [
        "## Independence and Conditional Probability\n",
        "\n",
        "Note that independence has a consequence for conditional probability:\n",
        "\n",
        "$$ p(y_1 | y_2 ) = \\frac{ p(y_1, y_2) }{ p_2(y_2) } $$\n",
        "\n",
        "However if $Y_1$ and $Y_2$ are independent then $p(y_1, y_2) = p_1(y_1) p_2(y_2) $ then:\n",
        "\n",
        "$$ p(y_1 | y_2) = p_1(y_1) $$ \n",
        "\n",
        "I.e. the probability of $Y_1$ conditioned by $Y_2$ is just the same as the marginal probability of $Y_1$. In other words $Y_2$ is not contributing information to the probablity we assign to $Y_1$."
      ]
    },
    {
      "cell_type": "markdown",
      "metadata": {
        "id": "khWfbegDmtr_"
      },
      "source": [
        "### Example \n",
        "\n",
        "Back to our example from the beginning of class. Suppose we are testing our virus test on 1000 people and we find the following:\n",
        "\n",
        "|     | Infected | Not Infected | \n",
        "| --- | --- | --- |\n",
        "| Tested Positive | 5 | 120 | \n",
        "| Tested Negative | 35  | 840 | \n",
        "\n",
        "Show that the test and the infection are independent (and conclude that this is not a very useful test)."
      ]
    },
    {
      "cell_type": "code",
      "metadata": {
        "id": "QgrMw09pmtsA",
        "outputId": "8a324351-d138-473e-f620-4aed3ce9fa4d",
        "colab": {
          "base_uri": "https://localhost:8080/"
        }
      },
      "source": [
        "# Not infected, given that they test positive\r\n",
        "\r\n",
        "(120 / 1000) / ( 125 / 1000)"
      ],
      "execution_count": 40,
      "outputs": [
        {
          "output_type": "execute_result",
          "data": {
            "text/plain": [
              "0.96"
            ]
          },
          "metadata": {
            "tags": []
          },
          "execution_count": 40
        }
      ]
    },
    {
      "cell_type": "code",
      "metadata": {
        "id": "PMmRPpff5Qae",
        "outputId": "1fcddbfe-c169-4500-f8d1-88d8ed697ecd",
        "colab": {
          "base_uri": "https://localhost:8080/"
        }
      },
      "source": [
        "960 / 1000"
      ],
      "execution_count": 41,
      "outputs": [
        {
          "output_type": "execute_result",
          "data": {
            "text/plain": [
              "0.96"
            ]
          },
          "metadata": {
            "tags": []
          },
          "execution_count": 41
        }
      ]
    },
    {
      "cell_type": "code",
      "metadata": {
        "id": "rnllPYDg5YGL"
      },
      "source": [
        ""
      ],
      "execution_count": null,
      "outputs": []
    }
  ]
}