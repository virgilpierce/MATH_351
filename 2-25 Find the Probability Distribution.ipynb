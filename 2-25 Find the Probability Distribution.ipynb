{
  "nbformat": 4,
  "nbformat_minor": 0,
  "metadata": {
    "kernelspec": {
      "display_name": "Python 3",
      "language": "python",
      "name": "python3"
    },
    "language_info": {
      "codemirror_mode": {
        "name": "ipython",
        "version": 3
      },
      "file_extension": ".py",
      "mimetype": "text/x-python",
      "name": "python",
      "nbconvert_exporter": "python",
      "pygments_lexer": "ipython3",
      "version": "3.7.4"
    },
    "colab": {
      "name": "2-25 Find the Probability Distribution.ipynb",
      "provenance": []
    }
  },
  "cells": [
    {
      "cell_type": "code",
      "metadata": {
        "id": "MHpSDlQeA9EM"
      },
      "source": [
        "import sympy as sp"
      ],
      "execution_count": 1,
      "outputs": []
    },
    {
      "cell_type": "markdown",
      "metadata": {
        "id": "tuj-MukkA9ER"
      },
      "source": [
        "# Find the Probability Disttribution of a Function of Random Variables\n",
        "\n",
        "## Motivating Example\n",
        "\n",
        "So let's recall our motivating example. We have a random variable Y with a distribution (with $E(Y) = \\mu$ and $V(Y) = \\sigma$ ). We are trying to study Y and one thing we might try doing is sampling from it repeatedly. This gives us a set of multivariate random variables $Y_1, Y_2, \\dots, Y_n$ that are indepdent and identially distributed with $Y$. \n",
        "\n",
        "What we might then do is compute statistics from the $Y_i$ for example the mean:\n",
        "\n",
        "$$ \\bar{Y} = \\frac{1}{n} Y_1 + \\frac{1}{n} Y_2 + \\dots + \\frac{1}{n} Y_n $$ \n",
        "\n",
        "We saw last week that we can show:  \n",
        "\n",
        "$$ E( \\bar{Y}) = \\mu $$ \n",
        "\n",
        "and \n",
        "\n",
        "$$ V(\\bar{Y}) = \\frac{\\sigma}{n} $$\n",
        "\n"
      ]
    },
    {
      "cell_type": "markdown",
      "metadata": {
        "id": "-Sc-z7oDA9ES"
      },
      "source": [
        "### Further \n",
        "\n",
        "To go further though, suppose we want to find an expression for the distribution of $\\bar{Y}$:  A probability distribution function if it is discrete, a probability density function if it is continuous, or a cummulative distribution function. What can we say?\n",
        "\n",
        "## More Generally\n",
        "\n",
        "More generallly the question we want to answer is:  Given a set of multivariate (possibly dependent) random variables $Y_i$ and a function of these variables $g(Y_1, Y_2, \\dots, Y_n)$ is to find a probability distribution describing $g(Y_1, \\dots, Y_n)$ as a single random variable. \n",
        "\n",
        "We will present three methods for doing this. There are some interesting research questions related to these problems of lifting these ideas to other spaces than the $\\mathbb{R}$ and discrete problems we discuss in this class. For example in Physics we are often choosing random locations on a sphere or other surface and then computing a statistic, and one would want to find the distribution produced in those cases.\n",
        "\n",
        "### Secondary Questions\n",
        "\n",
        "It would also be interesting for example to know what distributions and functions would produce a particular distribution.\n",
        "\n",
        "### Motivation\n",
        "\n",
        "Let me pause and just repeat our motivation. Our ultimate goal is that we have some random variable $Y$ whose distribution is completely unknown to us. We hope to study this distribution by sampling from it and compute statistics from the sample (such as moments). What we would like to then be able to do is to use these computaitons to determine what the distribution of $Y$ is. \n",
        "\n",
        "As is usual in mathematics, sometimes the first thing to do in understanding a problem is to work in the opposite direction. So the problem for today:  Given a distribution for $Y$ what can we say about the sample we find?\n",
        "\n",
        "Then, in thinking about how we actually do sampling, it might turn out that something is wrong. Maybe the members of our sample actually depend on each other. So our question then also becomes if we know the distribution of the multivariable variables including their dependency, can we determine the distribution of the statistics we compute from it. Or if we compute the distribution of the statistics we compute from it, what are clues we would see that would indicate there was dependecy in the sample.\n",
        "\n",
        "### Statistics\n",
        "\n",
        "This is the point in the class where you see the question that will motivate the rest of our semester. We have unknown distributions including unkwonwn dependcies and correlations and we want to understand what evidence we would need to reach conclusions about these unknowns. \n",
        "\n",
        "**This is exciting:** No other subject taught here at UNC promises something like this. And you also see now why Statistics is a central component to research across the university."
      ]
    },
    {
      "cell_type": "markdown",
      "metadata": {
        "id": "aNz5GcmQA9ES"
      },
      "source": [
        "## Methods for Finding Distributions\n",
        "\n",
        "Problem:  Given a set of multivariate random variables $Y_1, Y_2, \\dots, Y_n$ (possibly dependent) and a function $U(Y_1, Y_2, \\dots, Y_n)$ there are three methods we will cover for finding the probability distribution of $U$ as a single random variable:\n",
        "\n",
        "### 1. The Method of Distribution Functions\n",
        "\n",
        "This is the preferred method when the $Y_i$ have continuous distributions. I find it the most straightforward to explain and ultimately the most general (you will see that the other two methods are specilaizations). \n",
        "\n",
        "- Determine the region of $y_1, y_2, \\dots, y_n$ space where $U(y_1, y_2, \\dots, y_n) < u $.\n",
        "- Compute $$ F_U(u) = P( U \\leq u ) = \\iiint \\cdots \\int_{U \\leq u} f(y_1, y_2, \\dots, y_n) dy_1 dy_2 \\dots dy_n $$ \n",
        "- We can then find the density of $u$ by:  \n",
        "$$ f_U(u) = \\frac{dF_U}{du} $$"
      ]
    },
    {
      "cell_type": "markdown",
      "metadata": {
        "id": "Caj6DTscA9ET"
      },
      "source": [
        "### Example: Single Variate.\n",
        "\n",
        "Suppose $Y$ is a random variable distributed with respect to the normal distribution with mean 0 and standard deviation 1. Find the distribution of $U = Y^2$. \n",
        "\n",
        "We have the density of $Y$:  $$ f(y) = \\frac{1}{\\sqrt{2 \\pi}} e^{-y^2 / 2} $$"
      ]
    },
    {
      "cell_type": "markdown",
      "metadata": {
        "id": "CfKDPrEVIUQ_"
      },
      "source": [
        "We need to find the region, after fixing $u$, where $$ y^2 < u $$"
      ]
    },
    {
      "cell_type": "markdown",
      "metadata": {
        "id": "JfVaMnIQIUpL"
      },
      "source": [
        "We see that if $u \\leq 0$ then $F_U(u) = 0$.\r\n",
        "\r\n",
        "For $u > 0$ we get:  $$ -\\sqrt{u} < y < \\sqrt{u} $$"
      ]
    },
    {
      "cell_type": "markdown",
      "metadata": {
        "id": "dCu_oIe7JC5A"
      },
      "source": [
        "$$ F_U(u) = \\int_{-\\sqrt{u}}^\\sqrt{u} \\frac{1}{\\sqrt{2\\pi}} e^{-y^2/2} dy $$"
      ]
    },
    {
      "cell_type": "code",
      "metadata": {
        "id": "0ei5wglrJYLn",
        "outputId": "7e8d7173-07a7-43db-f9b3-029bc33042f7",
        "colab": {
          "base_uri": "https://localhost:8080/"
        }
      },
      "source": [
        "u = sp.Symbol('u')\r\n",
        "y = sp.Symbol('y') \r\n",
        "\r\n",
        "FU = sp.integrate( 1/sp.sqrt(2*sp.pi) * sp.exp(-y**2/2), (y, -sp.sqrt(u), sp.sqrt(u) ) )\r\n",
        "FU"
      ],
      "execution_count": 2,
      "outputs": [
        {
          "output_type": "execute_result",
          "data": {
            "text/plain": [
              "erf(sqrt(2)*sqrt(u)/2)"
            ]
          },
          "metadata": {
            "tags": []
          },
          "execution_count": 2
        }
      ]
    },
    {
      "cell_type": "code",
      "metadata": {
        "id": "Y7_9qTrCJ7Rg",
        "outputId": "01fb1c69-3193-47fe-8984-edcbd7aabe08",
        "colab": {
          "base_uri": "https://localhost:8080/"
        }
      },
      "source": [
        "# FU is the cummulative distribution function, and so to get the denisty we integrate it.\r\n",
        "\r\n",
        "FU.diff(u).expand().simplify()"
      ],
      "execution_count": 8,
      "outputs": [
        {
          "output_type": "execute_result",
          "data": {
            "text/plain": [
              "sqrt(2)*exp(-u/2)/(2*sqrt(pi)*sqrt(u))"
            ]
          },
          "metadata": {
            "tags": []
          },
          "execution_count": 8
        }
      ]
    },
    {
      "cell_type": "markdown",
      "metadata": {
        "id": "7q0nQpiBJVBx"
      },
      "source": [
        "$$ \\frac{1}{\\sqrt{2\\pi}} u^{-1/2} e^{-u/2} $$\r\n",
        "\r\n",
        "This is the Gamma distribution with $\\alpha = 1/2$ and $\\beta = 2$."
      ]
    },
    {
      "cell_type": "code",
      "metadata": {
        "id": "kb1fRxj3K5Um",
        "outputId": "0ddb7791-7ca4-46d3-c1c8-097daec69321",
        "colab": {
          "base_uri": "https://localhost:8080/"
        }
      },
      "source": [
        " (2**0.5 *sp.gamma(1/2) - sp.sqrt( 2*sp.pi) ).evalf()"
      ],
      "execution_count": 17,
      "outputs": [
        {
          "output_type": "execute_result",
          "data": {
            "text/plain": [
              "1.83285799804592e-16"
            ]
          },
          "metadata": {
            "tags": []
          },
          "execution_count": 17
        }
      ]
    },
    {
      "cell_type": "markdown",
      "metadata": {
        "id": "jrNvreD5A9ET"
      },
      "source": [
        "### Example: Multivariate.\n",
        "\n",
        "Let $Y_1$ and $Y_2$ be a random sample of size 2 from the uniform distirbution on the interval (0, 1). Find the probability density of $\\bar{Y} = \\frac12 Y_1 + \\frac12 Y_2 $."
      ]
    },
    {
      "cell_type": "markdown",
      "metadata": {
        "id": "fDsjg87wLoUf"
      },
      "source": [
        "We start again with the question, given a fixed $u$ where is \r\n",
        "\r\n",
        "$$ \\frac{1}{2} y_1 + \\frac{1}{2} y_2 < u $$\r\n",
        "\r\n",
        "We see here that our cummulative density is 0 for $u<0$ and $u> 1$.  and then will have a different formula for the region $0 < u < 1/2$ and $1/2 < u < 1$."
      ]
    },
    {
      "cell_type": "code",
      "metadata": {
        "id": "VDZa_T7ANFcX",
        "outputId": "bc2ca9ec-91b8-48f4-8730-2fe06436ac4d",
        "colab": {
          "base_uri": "https://localhost:8080/"
        }
      },
      "source": [
        "# 0 < u < 1/2\r\n",
        "y1= sp.Symbol('y1')\r\n",
        "y2 = sp.Symbol('y2')\r\n",
        "\r\n",
        "sp.integrate( 1, (y2, 0, 2*u-y1), (y1, 0, 2*u) )"
      ],
      "execution_count": 18,
      "outputs": [
        {
          "output_type": "execute_result",
          "data": {
            "text/plain": [
              "2*u**2"
            ]
          },
          "metadata": {
            "tags": []
          },
          "execution_count": 18
        }
      ]
    },
    {
      "cell_type": "code",
      "metadata": {
        "id": "b-3LtKH2Ngb0",
        "outputId": "eb3c01aa-984a-44b8-f03c-b18e372f3082",
        "colab": {
          "base_uri": "https://localhost:8080/"
        }
      },
      "source": [
        "# 1/2 < u < 1\r\n",
        "\r\n",
        "FU = sp.integrate( 1, (y2, 0, 2*u-1), (y1, 0, 1) ) + sp.integrate(1, (y1, 0, 2*u-y2), (y2, 2*u-1, 1) )\r\n",
        "FU.expand().simplify()"
      ],
      "execution_count": 20,
      "outputs": [
        {
          "output_type": "execute_result",
          "data": {
            "text/plain": [
              "-2*u**2 + 4*u - 1"
            ]
          },
          "metadata": {
            "tags": []
          },
          "execution_count": 20
        }
      ]
    },
    {
      "cell_type": "markdown",
      "metadata": {
        "id": "6iwm3zd_OVuE"
      },
      "source": [
        "$$ f(u) = \\left\\{ \\begin{matrix} 4 u & 0 \\leq u < 1/2 \\\\ - 4 u + 4 & 1/2 \\leq u < 1 \\\\ 0 & \\mbox{otherwise} \\end{matrix} \\right. $$"
      ]
    },
    {
      "cell_type": "markdown",
      "metadata": {
        "id": "A6aVQx6cA9ET"
      },
      "source": [
        "### 2. The Method of Transformations\n",
        "\n",
        "This method is derrived from the Method of Distribution Functions and applies to the case when $U = h(Y)$ is a strictly increasing or decreasing function. It can be generalized to multivariate cases with conditions on the function.\n",
        "\n",
        "This method relies on the theorem:  Let $Y$ be a random variable with probability density function $f(y)$ and let $h(y)$ be either increasing or decreasing for all $y$ in the support of the density (where $f(y) > 0$). Then $U = h(Y)$ has the density function:\n",
        "\n",
        "$$f_U(u) = f( h^{-1}(u)) \\left| \\frac{dh^{-1}}{du} \\right| $$\n",
        "\n",
        "\n",
        "#### Derivation\n",
        "\n",
        "You can see this derivation by applying the Method of Distribution Functions. Suppose $h(y)$ is strictly increasing, then we know that the region where $h(y) < u$ is given by $y < h^{-1}(u)$ (what changes if $h$ is strictly decreasing?)\n",
        "\n",
        "$$ F_U(u) = P(U\\leq u) = \\int_{-\\infty}^{ h^{-1}(u) } f(y) dy $$\n",
        "\n",
        "Then we differentiate $F_U(u)$ with respect to $u$, and using the chain rule have our result.\n",
        "\n",
        "#### Multivariate Case\n",
        "\n",
        "To use this method in the multivariate case, you freeze all but one of the variables and find the joint distribution between U and the frozen ones, and then compute the marginal distribution of $U$. "
      ]
    },
    {
      "cell_type": "markdown",
      "metadata": {
        "id": "ckDBfygyA9EU"
      },
      "source": [
        "### Example.\n",
        "\n",
        "Let $Y_1$ and $Y_2$ be a random sample from the exponential distribution with mean 1. Find the density of $U=\\bar{Y} = \\frac12 Y_1 + \\frac12 Y_2 $\n",
        "\n",
        "We have the density of $Y$:\n",
        "\n",
        "$$ f(y) = \\left\\{ \\begin{matrix} e^{-y} & y > 0 \\\\ 0 & y < 0 \\end{matrix} \\right. $$"
      ]
    },
    {
      "cell_type": "markdown",
      "metadata": {
        "id": "6B2v4zheA9EU"
      },
      "source": [
        "$$ f(y_1, y_2) = e^{-y_1 - y_2} $$\n",
        "\n",
        "Fix $y_1$ and then $U = \\frac12 y_1 + \\frac12 Y_2 $ and this is an increasing function of $Y_2$ with \n",
        "\n",
        "$$ U = h(Y_2) = \\frac12 y_1 + \\frac12 Y_2 $$\n",
        "\n",
        "We find $$h^{-1}(u) = 2u - y_1 $$ provided that $2u > y_1$ (noting that the density is zero for $y_2 < 0$) and therefore\n",
        "\n",
        "$$ f_{U, Y_1}(u, y_1) = e^{-y_1 - (2u-y_1)} \\cdot 2 = 2 e^{-2u} $$\n",
        "\n",
        "when $2u > y_1$ and 0 otherwise.\n"
      ]
    },
    {
      "cell_type": "markdown",
      "metadata": {
        "id": "J3QczvaBA9EU"
      },
      "source": [
        "and then we get the density of $U$ itself by taking the marginal density of this joint density (i.e. integrating out the $y_1$:\n",
        "\n",
        "$$ f_U(u) = \\int_0^{2u} 2 e^{-2u} dy_1 = 4 u e^{-2u} $$"
      ]
    },
    {
      "cell_type": "code",
      "metadata": {
        "id": "ekQBqr1AA9EV",
        "outputId": "feb3baa7-5c71-443f-a0de-43bde94a71ce",
        "colab": {
          "base_uri": "https://localhost:8080/"
        }
      },
      "source": [
        "## Let's do a quick check with Python to make sure this is a valid PDF\n",
        "\n",
        "u = sp.Symbol('u')\n",
        "a = sp.Symbol('a')\n",
        "\n",
        "sp.integrate( 4*u*sp.exp(-2*u), (u, 0, a) )"
      ],
      "execution_count": 21,
      "outputs": [
        {
          "output_type": "execute_result",
          "data": {
            "text/plain": [
              "(-2*a - 1)*exp(-2*a) + 1"
            ]
          },
          "metadata": {
            "tags": []
          },
          "execution_count": 21
        }
      ]
    },
    {
      "cell_type": "markdown",
      "metadata": {
        "id": "Vd5hi8JYA9EX"
      },
      "source": [
        "In fact you might recognize this as the gamma distribution with $\\alpha = 2$ and $\\beta = 1/2$. "
      ]
    },
    {
      "cell_type": "markdown",
      "metadata": {
        "id": "gDnpPfWSA9EY"
      },
      "source": [
        "### 3. Method of Moment Generating Functions\n",
        "\n",
        "This method relies on our uniqueness theorem from earlier:  Two random variables with identical moments, or equivalently with identical moment generating functions have the same distribution.\n",
        "\n",
        "So what this method does is that we compute the moment generating function for $U(Y_1, Y_2, \\dots, Y_n) $ and we compare it with the known moment generating functions we have already computed (see the table in our book or various reference sites).  \n",
        "\n"
      ]
    },
    {
      "cell_type": "markdown",
      "metadata": {
        "id": "o6c0MH1HA9EY"
      },
      "source": [
        "### Example\n",
        "\n",
        "Let $Z$ be a standard normal random variable with mean 0 and variance 1. Find the probability distribution of $U = Z^2$ using the moment generating function method.\n",
        "\n"
      ]
    },
    {
      "cell_type": "code",
      "metadata": {
        "id": "pNoaXhj-A9EY",
        "outputId": "6fdad890-4e44-4da5-b49d-8f765c2a3f12",
        "colab": {
          "base_uri": "https://localhost:8080/"
        }
      },
      "source": [
        "t = sp.Symbol('t')\n",
        "z = sp.Symbol('z')\n",
        "\n",
        "mz2 = sp.integrate( sp.exp( t*z**2 - z**2 /2) / sp.sqrt(2*sp.pi), (z, -a, a) )\n",
        "mz2"
      ],
      "execution_count": 25,
      "outputs": [
        {
          "output_type": "execute_result",
          "data": {
            "text/plain": [
              "sqrt(2)*Integral(exp(-z**2/2)*exp(t*z**2), (z, -10, 10))/(2*sqrt(pi))"
            ]
          },
          "metadata": {
            "tags": []
          },
          "execution_count": 25
        }
      ]
    },
    {
      "cell_type": "code",
      "metadata": {
        "id": "GHTlkIesA9EZ",
        "outputId": "df1b8b5a-aad8-428b-c90c-49c7b2074e6d"
      },
      "source": [
        "p = sp.plotting.plot( sp.erf(a), show=False )\n",
        "p.show()"
      ],
      "execution_count": null,
      "outputs": [
        {
          "output_type": "display_data",
          "data": {
            "image/png": "[encoded data removed]",
            "text/plain": [
              "<Figure size 432x288 with 1 Axes>"
            ]
          },
          "metadata": {
            "tags": [],
            "needs_background": "light"
          }
        }
      ]
    },
    {
      "cell_type": "markdown",
      "metadata": {
        "id": "HJDZDNW0A9EZ"
      },
      "source": [
        "So we have that \n",
        "\n",
        "$$ m_{Z^2}(t) = \\left( 1 - 2t \\right)^{-1/2} $$\n",
        "\n",
        "Checking the appendix of our book we see this is the moment generating function of the Gamma distribution with $\\alpha = 1/2$ and $\\beta = 2$.\n",
        "\n",
        "Let's check this result using our sampling method from numpy.random:"
      ]
    },
    {
      "cell_type": "code",
      "metadata": {
        "id": "To_hQg_xA9EZ"
      },
      "source": [
        "from numpy.random import standard_normal as standard_normal\n",
        "import numpy as np\n",
        "import matplotlib.pyplot as plt"
      ],
      "execution_count": 26,
      "outputs": []
    },
    {
      "cell_type": "code",
      "metadata": {
        "id": "0YOcnEzgA9Ea",
        "outputId": "6af31012-a518-4a60-a85a-46d0e408a2a3",
        "colab": {
          "base_uri": "https://localhost:8080/",
          "height": 265
        }
      },
      "source": [
        "sample = standard_normal(1000)**2\n",
        "plt.hist( sample, bins=20);"
      ],
      "execution_count": 27,
      "outputs": [
        {
          "output_type": "display_data",
          "data": {
            "image/png": "[encoded data removed]",
            "text/plain": [
              "<Figure size 432x288 with 1 Axes>"
            ]
          },
          "metadata": {
            "tags": [],
            "needs_background": "light"
          }
        }
      ]
    },
    {
      "cell_type": "code",
      "metadata": {
        "id": "qbgveLViA9Ea"
      },
      "source": [
        ""
      ],
      "execution_count": null,
      "outputs": []
    }
  ]
}