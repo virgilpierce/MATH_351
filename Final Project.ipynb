{
 "cells": [
  {
   "cell_type": "markdown",
   "metadata": {},
   "source": [
    "# Final Project for MATH 351\n",
    "\n",
    "You should complete this project on your own. However you may use any resource necessary provided that you document what you have used. I wrote the prompts assuming you would have Python.\n",
    "\n",
    "1. An airline has a new model of plane the VP100 they are putting into service. One of the first ones they have bought is pulled from service by a maintenance crew after 105 flight-hours of service. Assuming that the probability a plane is pulled from service after any hour has a probability $p$, then the number of hours before a plane is pulled from service fits a geometric distribution. Use a Bayesian Methodolgy to develop an approximately 95% credible interval for $p$.\n",
    "\n",
    "2. Use your solution to 1 to give an estimate of the expected number of hours of service we will get from each plane before it needs to be pulled.\n",
    "\n",
    "3. Choose a problem from earlier in class that you have struggled with (either from a homework or a Project) and redo it here. Discuss how your thinking about it has changed or evolved.\n",
    "\n",
    "4. Discuss the things you have learned in this class and how they have related to other courses you have taken. What experiences from other courses (MATH, CS or anything else) have been most important.\n",
    "\n",
    "5. Discuss something you have learned in class that has changed the way you look at mathematics, statistics, CS, science or education.\n",
    "\n"
   ]
  },
  {
   "cell_type": "code",
   "execution_count": null,
   "metadata": {},
   "outputs": [],
   "source": []
  }
 ],
 "metadata": {
  "kernelspec": {
   "display_name": "Python 3",
   "language": "python",
   "name": "python3"
  },
  "language_info": {
   "codemirror_mode": {
    "name": "ipython",
    "version": 3
   },
   "file_extension": ".py",
   "mimetype": "text/x-python",
   "name": "python",
   "nbconvert_exporter": "python",
   "pygments_lexer": "ipython3",
   "version": "3.7.4"
  }
 },
 "nbformat": 4,
 "nbformat_minor": 4
}
