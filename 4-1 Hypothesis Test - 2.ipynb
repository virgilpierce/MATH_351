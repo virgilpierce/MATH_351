{
  "nbformat": 4,
  "nbformat_minor": 0,
  "metadata": {
    "kernelspec": {
      "display_name": "Python 3",
      "language": "python",
      "name": "python3"
    },
    "language_info": {
      "codemirror_mode": {
        "name": "ipython",
        "version": 3
      },
      "file_extension": ".py",
      "mimetype": "text/x-python",
      "name": "python",
      "nbconvert_exporter": "python",
      "pygments_lexer": "ipython3",
      "version": "3.7.4"
    },
    "colab": {
      "name": "4-1 Hypothesis Test - 2.ipynb",
      "provenance": []
    }
  },
  "cells": [
    {
      "cell_type": "code",
      "metadata": {
        "id": "FpYvMaFcF8fW"
      },
      "source": [
        "import numpy as np"
      ],
      "execution_count": 1,
      "outputs": []
    },
    {
      "cell_type": "markdown",
      "metadata": {
        "id": "_q79QCgKF8fa"
      },
      "source": [
        "Today will be a few more examples of hypothesis tests set up in different situations, trying to expand our experience a bit from the example we left off class with. \n",
        "\n",
        "## Small Sample Tests for Differences of Means\n",
        "\n",
        "Our first example will simmultaneously demonstrate how we handle differences in means and also how we use the t-Distribution for a test with a small sample size.\n",
        "\n",
        "This example is based on work my dad did as an industrial engineer:  The shop lead at an oven factory has developed two different procedures for making a new part that is needed in the new model. The question confronting us is which procedure is faster (and thus, assuming the same error rates, the one we should use).  The shop team procedes to make a set of the parts using the new procedures while being timed by the engineering team (note do not expect, if you are the person holding the stop watch in this situation, that the shop team will like you very much). The results are the following:\n",
        "\n",
        "Procedure 1:  n_1 =11, $\\bar{Y}_1 = 5.6 $ minutes, and $S_1 = 0.35 $ minutes.\n",
        "\n",
        "Procedure 2:  n_2 = 9, $\\bar{Y}_2 = 5.4 $ minutes, and $S_2 = 0.42 $ minutes.\n",
        "\n",
        "We will need to assume that the populations have the same standard deviation.\n",
        "\n",
        "Our hypothesis could be:\n",
        "\n",
        "$H_0:$ the two procedures have the same mean assembly time $\\mu_1 - \\mu_2 \\leq 0$ with a confidence of 99%. \n",
        "\n",
        "$H_a:$ the second procedure is faster: $\\mu_1 - \\mu_2 > 0$. \n",
        "\n",
        "### Pooled Standard Deviation\n",
        "\n",
        "To start we need to combine the two sample standard deviations we have to give the pooled distribution. The way to remember this (I am now convinced) that it is coming from the weighted average of the sample variances weighted by the degrees of freedom:"
      ]
    },
    {
      "cell_type": "code",
      "metadata": {
        "id": "fuf20pUDF8fb"
      },
      "source": [
        "n1 = 11\n",
        "Ybar1 = 5.6\n",
        "S1 = 0.35\n",
        "n2 = 9\n",
        "Ybar2 = 5.4\n",
        "S2 = 0.42"
      ],
      "execution_count": 3,
      "outputs": []
    },
    {
      "cell_type": "code",
      "metadata": {
        "id": "lCFy4yUWF8fb",
        "outputId": "5a57038b-a48a-41bb-8dcc-fe200f7e3c2e",
        "colab": {
          "base_uri": "https://localhost:8080/"
        }
      },
      "source": [
        "Sp = np.sqrt( ((n1-1)*S1**2 + (n2-1)*S2**2 ) / (n1+n2-2) )\n",
        "Sp"
      ],
      "execution_count": 4,
      "outputs": [
        {
          "output_type": "execute_result",
          "data": {
            "text/plain": [
              "0.3826951208933236"
            ]
          },
          "metadata": {
            "tags": []
          },
          "execution_count": 4
        }
      ]
    },
    {
      "cell_type": "markdown",
      "metadata": {
        "id": "XhahoRNCF8fc"
      },
      "source": [
        "Our result from the estimator work is that \n",
        "\n",
        "$$ T = \\frac{ (\\bar{Y}_1 - \\bar{Y}_2) - (\\mu_1 - \\mu_2) }{S_p \\sqrt{\\frac{1}{n_1} + \\frac{1}{n_2} }} $$\n",
        "\n",
        "fits a Student's t-Distribution with $n_1 + n_2 - 2$ degrees of freedom.\n",
        "\n",
        "The probability of a Type I error is then:  $P(T > t_\\star)$ with\n",
        "\n",
        "$$ t_\\star = \\frac{ (\\bar{Y}_1 - \\bar{Y}_2) }{S_p \\sqrt{\\frac{1}{n_1} + \\frac{1}{n_2} }} $$"
      ]
    },
    {
      "cell_type": "code",
      "metadata": {
        "id": "83g17DuwF8fd",
        "outputId": "5ab04c12-bf34-445d-afbe-e352b0f56f2d",
        "colab": {
          "base_uri": "https://localhost:8080/"
        }
      },
      "source": [
        "tstar = (Ybar1 - Ybar2) / Sp / np.sqrt( 1/n1 + 1/n2)\n",
        "tstar"
      ],
      "execution_count": 5,
      "outputs": [
        {
          "output_type": "execute_result",
          "data": {
            "text/plain": [
              "1.1627321199889935"
            ]
          },
          "metadata": {
            "tags": []
          },
          "execution_count": 5
        }
      ]
    },
    {
      "cell_type": "code",
      "metadata": {
        "id": "xzANXA4vF8fe"
      },
      "source": [
        "from scipy.stats import t"
      ],
      "execution_count": 6,
      "outputs": []
    },
    {
      "cell_type": "code",
      "metadata": {
        "id": "BXgzBivMF8fe",
        "outputId": "7e6e651a-472e-473a-89d9-c15255bc65ac",
        "colab": {
          "base_uri": "https://localhost:8080/"
        }
      },
      "source": [
        "pvalue = 1 - t.cdf(tstar, n1+n2-2)\n",
        "pvalue"
      ],
      "execution_count": 7,
      "outputs": [
        {
          "output_type": "execute_result",
          "data": {
            "text/plain": [
              "0.1300611529709157"
            ]
          },
          "metadata": {
            "tags": []
          },
          "execution_count": 7
        }
      ]
    },
    {
      "cell_type": "markdown",
      "metadata": {
        "id": "kvKZiX47F8fe"
      },
      "source": [
        "Our p-value is coming in at 13%, well above the target confidence and we would say **we have insufficient evidence to reject the null hypothesis**."
      ]
    },
    {
      "cell_type": "markdown",
      "metadata": {
        "id": "gsoZ5po1F8ff"
      },
      "source": [
        "### Rejection Region\n",
        "\n",
        "Forgetting about the specific outcome, we can also ask what the rejection region would be:\n",
        "\n"
      ]
    },
    {
      "cell_type": "code",
      "metadata": {
        "id": "KP6WGIqGF8ff",
        "outputId": "b6ebf865-b1eb-4613-cc15-9eb4df712a64",
        "colab": {
          "base_uri": "https://localhost:8080/"
        }
      },
      "source": [
        "# the t-value we would need to reject the null hypothesis:\n",
        "\n",
        "t_alpha = t.ppf(0.99, n1+n2-2)\n",
        "t_alpha"
      ],
      "execution_count": 8,
      "outputs": [
        {
          "output_type": "execute_result",
          "data": {
            "text/plain": [
              "2.552379630179453"
            ]
          },
          "metadata": {
            "tags": []
          },
          "execution_count": 8
        }
      ]
    },
    {
      "cell_type": "code",
      "metadata": {
        "id": "R-cNxt8wF8fg",
        "outputId": "8471ed60-1312-49ab-c364-b18962c02746",
        "colab": {
          "base_uri": "https://localhost:8080/"
        }
      },
      "source": [
        "# working backwards to the corresponding d_alpha, the difference between Y_1 and Y_2 we would need\n",
        "\n",
        "d_alpha = t_alpha*Sp * np.sqrt(1/n1 + 1/n2)\n",
        "d_alpha"
      ],
      "execution_count": 9,
      "outputs": [
        {
          "output_type": "execute_result",
          "data": {
            "text/plain": [
              "0.4390314133927263"
            ]
          },
          "metadata": {
            "tags": []
          },
          "execution_count": 9
        }
      ]
    },
    {
      "cell_type": "markdown",
      "metadata": {
        "id": "Rli9O_gTF8fg"
      },
      "source": [
        "Choosing a significance of 0.5 minutes then we would estimate the probability of a Type 2 Error to be:"
      ]
    },
    {
      "cell_type": "code",
      "metadata": {
        "id": "RC2BJboVF8fh",
        "outputId": "09c33dec-0b25-4362-e0af-708a5cacf167",
        "colab": {
          "base_uri": "https://localhost:8080/"
        }
      },
      "source": [
        "beta = t.cdf( (d_alpha - 0.5) / Sp / np.sqrt(1/n1 + 1/n2), n1+n2-2)\n",
        "beta"
      ],
      "execution_count": 10,
      "outputs": [
        {
          "output_type": "execute_result",
          "data": {
            "text/plain": [
              "0.3635598671550872"
            ]
          },
          "metadata": {
            "tags": []
          },
          "execution_count": 10
        }
      ]
    },
    {
      "cell_type": "markdown",
      "metadata": {
        "id": "UEU5YXm7F8fh"
      },
      "source": [
        "Note that this is the case and there is nothing to do unless we are willing to repeat the experiment. Repeating the experiment, using $S_p$ as our *a priori* estimate, we could identify a choice for $n_1$ and $n_2$ that minimize $\\beta$."
      ]
    },
    {
      "cell_type": "markdown",
      "metadata": {
        "id": "qDlmWwtxF8fh"
      },
      "source": [
        "### Assumptions\n",
        "\n",
        "Note that the $T$ distribution comes with some assumptions, namely that the sample has been drawn from two normally distributed variables. This may or may not be true. A test is called a **Robust Statistical Test** if small departures from the assumptions, like the distribution of times not being exactly normal, do not change the conclusions. Provided that the p-value was not right at $\\alpha$ or that the $\\bar{Y}_1 - \\bar{Y}_2$ was not right on the decision boundary, we do not expect small changes to have a big effect in our conclusion or error estimates. \n",
        "\n",
        "The two sample test is also robust on the assumption that the population standard deviations are identical:  meaning if they are not exactly equal we do not expect it to change our conclusions.\n"
      ]
    },
    {
      "cell_type": "markdown",
      "metadata": {
        "id": "jeSKoed6F8fh"
      },
      "source": [
        "## Two Tail Tests\n",
        "\n",
        "Two tail tests arise when our alternative hypothesis takes the form of assuming the mean is different from some value, not bigger or a smaller than some value. In the example above if we rephrased the question of:  Is their evidence that the assembly times for the two procedures is different?  We would want to use a two tailed test.\n",
        "\n",
        "Here we distribute the allowed Type I error across both the left and right tails effectively halving the value we use to compute $t_\\alpha$:"
      ]
    },
    {
      "cell_type": "code",
      "metadata": {
        "id": "dIplF565F8fi",
        "outputId": "6b120680-47b8-4f39-a657-c774b685e867",
        "colab": {
          "base_uri": "https://localhost:8080/"
        }
      },
      "source": [
        "# the t-values for a two tailed test\n",
        "\n",
        "t_alpha = t.ppf(0.995, n1+n2-2)\n",
        "- t_alpha, t_alpha"
      ],
      "execution_count": 11,
      "outputs": [
        {
          "output_type": "execute_result",
          "data": {
            "text/plain": [
              "(-2.878440472713585, 2.878440472713585)"
            ]
          },
          "metadata": {
            "tags": []
          },
          "execution_count": 11
        }
      ]
    },
    {
      "cell_type": "markdown",
      "metadata": {
        "id": "tC7oVVn4F8fi"
      },
      "source": [
        "Then we can work backwards to find the rejection region which will now have to pieces a $d < d_{-\\alpha}$ and a $d > d_\\alpha$:"
      ]
    },
    {
      "cell_type": "code",
      "metadata": {
        "id": "lLzsj1bzF8fi",
        "outputId": "5c77332b-f026-4e06-e2ea-c40072912dc6",
        "colab": {
          "base_uri": "https://localhost:8080/"
        }
      },
      "source": [
        "-t_alpha*Sp*np.sqrt(1/n1+1/n2), t_alpha*Sp*np.sqrt(1/n1+1/n2)"
      ],
      "execution_count": 12,
      "outputs": [
        {
          "output_type": "execute_result",
          "data": {
            "text/plain": [
              "(-0.49511670370658084, 0.49511670370658084)"
            ]
          },
          "metadata": {
            "tags": []
          },
          "execution_count": 12
        }
      ]
    },
    {
      "cell_type": "markdown",
      "metadata": {
        "id": "cMkVbkcdF8fi"
      },
      "source": [
        "The probability of a Type II error in this case is then the mass under the alternative distribution of this interval. Well except again this estimate is hamstrung in that we need to assume a particular alternative difference of the means."
      ]
    },
    {
      "cell_type": "code",
      "metadata": {
        "id": "mC-J94G6F8fi",
        "outputId": "d554655c-f82c-4ee8-ceda-ab9fc0201f24",
        "colab": {
          "base_uri": "https://localhost:8080/"
        }
      },
      "source": [
        "l = (-t_alpha*Sp*np.sqrt(1/n1+1/n2) + 0.5)/Sp / np.sqrt(1/n1+1/n2)\n",
        "u = (t_alpha*Sp*np.sqrt(1/n1+1/n2) + 0.5)/Sp/np.sqrt(1/n1 + 1/n2)\n",
        "\n",
        "beta = t.cdf(u, n1+n2-2) - t.cdf(l, n1+n2-2)\n",
        "beta"
      ],
      "execution_count": 13,
      "outputs": [
        {
          "output_type": "execute_result",
          "data": {
            "text/plain": [
              "0.4888230451599327"
            ]
          },
          "metadata": {
            "tags": []
          },
          "execution_count": 13
        }
      ]
    },
    {
      "cell_type": "markdown",
      "metadata": {
        "id": "BwFLiy19F8fj"
      },
      "source": [
        "Again for this problem this is not great. However if we can repeat the experiment then we can ask how large $n_1$ and $n_2$ should be so that the $\\beta$ is small enough."
      ]
    },
    {
      "cell_type": "markdown",
      "metadata": {
        "id": "6UYtseFBF8fj"
      },
      "source": [
        "## Testing Hypothesis for Variances\n",
        "\n",
        "The procedure can be adpated to any distribution and in particular we can use it to address questions about the variance of a population.\n",
        "\n",
        "The key idea is that we have, for a sample drawn form a normal distribution:\n",
        "\n",
        "$$\\chi^2 = \\frac{(n-1) S^2}{\\sigma_0^2} $$\n",
        "\n",
        "A cholesterol test read properly should give a variance of no more than $0.8 (\\mbox{mg/L})^2$ on samples from the same blood draw. A new technician in the lab is being evaluated on the procedure and are asked to run the test 5 times. \n",
        "\n",
        "What is the maximum amount of sample variance we should allow for them to pass the test with 99% confidence?\n",
        "\n",
        "- $H_0:$ is that $\\sigma_0^2 \\leq 0.8$\n",
        "\n",
        "- $H_a:$ is that $\\sigma_a^2 > 0.8$\n",
        "\n",
        "It is reasonable to assume that the test, run on a single blood draw, gives results that are normally distributed with a mean at the true cholesterol level, and therefore the ratio above will fit the $\\chi^2$ distribution.\n",
        "\n",
        "The question posed is look for an uppder tail test:  What is the probability with a fixed $\\sigma_0^2$ that the $S^2$ would be very large?\n",
        "\n",
        "\n"
      ]
    },
    {
      "cell_type": "code",
      "metadata": {
        "id": "bOiq-vVnF8fj"
      },
      "source": [
        "from scipy.stats import chi2"
      ],
      "execution_count": 14,
      "outputs": []
    },
    {
      "cell_type": "code",
      "metadata": {
        "id": "Yg1weM50F8fk",
        "outputId": "7abb1279-a47f-4d5c-8183-8e1e85dfb014",
        "colab": {
          "base_uri": "https://localhost:8080/"
        }
      },
      "source": [
        "chi2_alpha = chi2.ppf(0.99, 4)\n",
        "chi2_alpha"
      ],
      "execution_count": 19,
      "outputs": [
        {
          "output_type": "execute_result",
          "data": {
            "text/plain": [
              "13.276704135987622"
            ]
          },
          "metadata": {
            "tags": []
          },
          "execution_count": 19
        }
      ]
    },
    {
      "cell_type": "markdown",
      "metadata": {
        "id": "wvs7ZEKUF8fl"
      },
      "source": [
        "With this we then work backwards to a decsion boundary for $S^2$:"
      ]
    },
    {
      "cell_type": "code",
      "metadata": {
        "id": "r2-6wIN-F8fl",
        "outputId": "20dcbd38-65ca-4bd7-81bb-b96c6525d4ce",
        "colab": {
          "base_uri": "https://localhost:8080/"
        }
      },
      "source": [
        "chi2_alpha * 0.8 / 4"
      ],
      "execution_count": 16,
      "outputs": [
        {
          "output_type": "execute_result",
          "data": {
            "text/plain": [
              "2.6553408271975245"
            ]
          },
          "metadata": {
            "tags": []
          },
          "execution_count": 16
        }
      ]
    },
    {
      "cell_type": "markdown",
      "metadata": {
        "id": "2cls0LzUF8fl"
      },
      "source": [
        "Note why we did this:  We expect with only 5 items in our sample a significant variance before we would reject the null hypothesis!"
      ]
    },
    {
      "cell_type": "markdown",
      "metadata": {
        "id": "Yds1Tm0PF8fl"
      },
      "source": [
        "## Hypothesis about 2 population variances\n",
        "\n",
        "For the manufacturing example we started with, one of our assumptions was that the population variances were equal. Can we conclude that they are in fact equal?\n",
        "\n",
        "A reminder of the result: \n",
        "\n",
        "Procedure 1:  n_1 =11, and $S_1 = 0.35 $ minutes.\n",
        "\n",
        "Procedure 2:  n_1 = 9, and $S_2 = 0.42 $ minutes.\n",
        "\n",
        "Noting that it will not matter what the means are.\n",
        "\n",
        "What we know is that the statistic:\n",
        "\n",
        "$$ F = \\frac{S_1^2 \\sigma_2^2}{S_2^2 \\sigma_1^2} $$\n",
        "\n",
        "Satisfies an F-distribution with $n_1-1, n_2-1$ paired degrees of freedom.\n",
        "\n",
        "Under our null hypothesis we are asking if the fact that $S_1 < S_2$ can be explained by randomness if the $\\sigma_1 = \\sigma_2$? \n",
        "\n",
        "The p-value will be the $P( F < f_\\star)$ where"
      ]
    },
    {
      "cell_type": "code",
      "metadata": {
        "id": "MpahDnuHF8fm",
        "outputId": "0efa8c34-876d-4c1f-a6a9-8d5d84bc20bf",
        "colab": {
          "base_uri": "https://localhost:8080/"
        }
      },
      "source": [
        "f_star = 0.35**2 / 0.42**2\n",
        "f_star"
      ],
      "execution_count": 20,
      "outputs": [
        {
          "output_type": "execute_result",
          "data": {
            "text/plain": [
              "0.6944444444444444"
            ]
          },
          "metadata": {
            "tags": []
          },
          "execution_count": 20
        }
      ]
    },
    {
      "cell_type": "code",
      "metadata": {
        "id": "4Eiz73i8F8fm"
      },
      "source": [
        "from scipy.stats import f"
      ],
      "execution_count": 21,
      "outputs": []
    },
    {
      "cell_type": "code",
      "metadata": {
        "id": "OJPHe3iVF8fm",
        "outputId": "71f90aa3-e322-4ebe-8b88-05817f0be054",
        "colab": {
          "base_uri": "https://localhost:8080/"
        }
      },
      "source": [
        "1- f.cdf(f_star, 10, 8)"
      ],
      "execution_count": 22,
      "outputs": [
        {
          "output_type": "execute_result",
          "data": {
            "text/plain": [
              "0.7108802682989086"
            ]
          },
          "metadata": {
            "tags": []
          },
          "execution_count": 22
        }
      ]
    },
    {
      "cell_type": "code",
      "metadata": {
        "id": "HimY_kjIRNQY",
        "outputId": "7afeda49-878d-46d7-e401-5fd6ddf677ff",
        "colab": {
          "base_uri": "https://localhost:8080/"
        }
      },
      "source": [
        "f.cdf(f_star, 10, 8)"
      ],
      "execution_count": 23,
      "outputs": [
        {
          "output_type": "execute_result",
          "data": {
            "text/plain": [
              "0.2891197317010914"
            ]
          },
          "metadata": {
            "tags": []
          },
          "execution_count": 23
        }
      ]
    },
    {
      "cell_type": "markdown",
      "metadata": {
        "id": "NJD0XJF0F8fm"
      },
      "source": [
        "So we do not have sufficient evidence to conclude that the variances are not equal. Let's check where the decision boundary would be for a two-tailed test with confidence of 0.95. We need to find left and right boundaries such that \n",
        "\n",
        "$$P ( F < a) < 0.025; \\quad \\mbox{and} P(F > b) < 0.025 $$"
      ]
    },
    {
      "cell_type": "code",
      "metadata": {
        "id": "AXhjTqtmF8fm",
        "outputId": "a5fa5727-c16a-43c2-f756-38c10974be39",
        "colab": {
          "base_uri": "https://localhost:8080/"
        }
      },
      "source": [
        "a = f.ppf(0.025, 10, 8)\n",
        "b = f.ppf(0.975, 10, 8)\n",
        "a, b"
      ],
      "execution_count": 24,
      "outputs": [
        {
          "output_type": "execute_result",
          "data": {
            "text/plain": [
              "(0.2594107151696225, 4.295126960172586)"
            ]
          },
          "metadata": {
            "tags": []
          },
          "execution_count": 24
        }
      ]
    },
    {
      "cell_type": "code",
      "metadata": {
        "id": "AJjutTpmF8fn",
        "outputId": "df6162f0-e0b3-4209-fc7f-7c9be364a66b",
        "colab": {
          "base_uri": "https://localhost:8080/"
        }
      },
      "source": [
        "# Check that the density between a and b is our 0.95\n",
        "\n",
        "f.cdf(b, 10, 8) - f.cdf(a, 10, 8)"
      ],
      "execution_count": 25,
      "outputs": [
        {
          "output_type": "execute_result",
          "data": {
            "text/plain": [
              "0.95"
            ]
          },
          "metadata": {
            "tags": []
          },
          "execution_count": 25
        }
      ]
    },
    {
      "cell_type": "markdown",
      "metadata": {
        "id": "xv1LC-4bF8fn"
      },
      "source": [
        "So our decision boundary is then that \n",
        "\n",
        "$$ S_1^2 < a S_2^2 $$ or $$ S_1^2 > b S_2^2$$\n",
        "\n"
      ]
    },
    {
      "cell_type": "code",
      "metadata": {
        "id": "h2svPqoFR0g4",
        "outputId": "ef1fe6bc-293b-48af-f7cd-24d7ecb76512",
        "colab": {
          "base_uri": "https://localhost:8080/"
        }
      },
      "source": [
        "a*S2**2, b*S2**2"
      ],
      "execution_count": 26,
      "outputs": [
        {
          "output_type": "execute_result",
          "data": {
            "text/plain": [
              "(0.045760050155921404, 0.757660395774444)"
            ]
          },
          "metadata": {
            "tags": []
          },
          "execution_count": 26
        }
      ]
    },
    {
      "cell_type": "code",
      "metadata": {
        "id": "Zezgb_GqR6eC",
        "outputId": "79018fc5-71d4-4596-cb82-5d675c01953e",
        "colab": {
          "base_uri": "https://localhost:8080/"
        }
      },
      "source": [
        "S1**2"
      ],
      "execution_count": 27,
      "outputs": [
        {
          "output_type": "execute_result",
          "data": {
            "text/plain": [
              "0.12249999999999998"
            ]
          },
          "metadata": {
            "tags": []
          },
          "execution_count": 27
        }
      ]
    },
    {
      "cell_type": "markdown",
      "metadata": {
        "id": "9tqwbXpHF8fn"
      },
      "source": [
        "### Discussion\n",
        "\n",
        "The tests for variances are **not robust**.  They are very sensitive to departures from the normal distribution for the population being studied. To my thinking, this is related to degree of variance they predict we will see from our samples. "
      ]
    },
    {
      "cell_type": "markdown",
      "metadata": {
        "id": "stZFpYbGF8fn"
      },
      "source": [
        "# Other Approaches\n",
        "\n",
        "\n",
        "## Maximum Likliehood \n",
        "\n",
        "Another way to approach hypothesis testing is to compute a *Likliehood of the Sample Given the Parameter*:  \n",
        "\n",
        "$$ L(y_1, y_2, \\dots, y_n | \\theta_0) $$\n",
        "\n",
        "we are then trying to compare this to\n",
        "\n",
        "$$ L(y_1, y_2, \\dots, y_n | \\theta_a) $$\n",
        "\n",
        "and decide which outcome was most likely, and our conclusion would then be that that was the corresponding correct value for $\\theta$. \n",
        "\n",
        "We will come back to this approach later when we introduce *Bayesian Inference* at the end of the class.\n",
        "\n",
        "## Resampling\n",
        "\n",
        "Another approach, not included in our textbook, is designed to exploit the situation we now frequently find of having lots of data. The idea is this:  Given a large set of data we can experiment on the variation of our test statistic by sampling from the data itself. This approach is introducing some randomness in how the sampling is done, and it captures the information the data has about the variation. It relies on having enough data to give a large domain of resamples.\n",
        "\n",
        "\n",
        "\n"
      ]
    },
    {
      "cell_type": "code",
      "metadata": {
        "id": "3_W32GrUF8fn"
      },
      "source": [
        "import pandas as pd\n",
        "import seaborn as sns\n",
        "import numpy as np\n",
        "import matplotlib.pyplot as plt"
      ],
      "execution_count": 29,
      "outputs": []
    },
    {
      "cell_type": "code",
      "metadata": {
        "id": "zD9I7xIIF8fo",
        "outputId": "6c4fdcf1-89c0-46cf-e359-51d6df8cb9b2",
        "colab": {
          "base_uri": "https://localhost:8080/",
          "height": 419
        }
      },
      "source": [
        "baseball_url = 'https://drive.google.com/uc?export=download&id=1-4lEGbDkQi8Wy6h940tpbiMmcfQFxq8E'\n",
        "baseball = pd.read_csv(baseball_url)\n",
        "baseball"
      ],
      "execution_count": 30,
      "outputs": [
        {
          "output_type": "execute_result",
          "data": {
            "text/html": [
              "<div>\n",
              "<style scoped>\n",
              "    .dataframe tbody tr th:only-of-type {\n",
              "        vertical-align: middle;\n",
              "    }\n",
              "\n",
              "    .dataframe tbody tr th {\n",
              "        vertical-align: top;\n",
              "    }\n",
              "\n",
              "    .dataframe thead th {\n",
              "        text-align: right;\n",
              "    }\n",
              "</style>\n",
              "<table border=\"1\" class=\"dataframe\">\n",
              "  <thead>\n",
              "    <tr style=\"text-align: right;\">\n",
              "      <th></th>\n",
              "      <th>Name</th>\n",
              "      <th>Team</th>\n",
              "      <th>Position</th>\n",
              "      <th>Height(inches)</th>\n",
              "      <th>Weight(pounds)</th>\n",
              "      <th>Age</th>\n",
              "    </tr>\n",
              "  </thead>\n",
              "  <tbody>\n",
              "    <tr>\n",
              "      <th>0</th>\n",
              "      <td>Adam_Donachie</td>\n",
              "      <td>BAL</td>\n",
              "      <td>Catcher</td>\n",
              "      <td>74</td>\n",
              "      <td>180.0</td>\n",
              "      <td>22.99</td>\n",
              "    </tr>\n",
              "    <tr>\n",
              "      <th>1</th>\n",
              "      <td>Paul_Bako</td>\n",
              "      <td>BAL</td>\n",
              "      <td>Catcher</td>\n",
              "      <td>74</td>\n",
              "      <td>215.0</td>\n",
              "      <td>34.69</td>\n",
              "    </tr>\n",
              "    <tr>\n",
              "      <th>2</th>\n",
              "      <td>Ramon_Hernandez</td>\n",
              "      <td>BAL</td>\n",
              "      <td>Catcher</td>\n",
              "      <td>72</td>\n",
              "      <td>210.0</td>\n",
              "      <td>30.78</td>\n",
              "    </tr>\n",
              "    <tr>\n",
              "      <th>3</th>\n",
              "      <td>Kevin_Millar</td>\n",
              "      <td>BAL</td>\n",
              "      <td>First_Baseman</td>\n",
              "      <td>72</td>\n",
              "      <td>210.0</td>\n",
              "      <td>35.43</td>\n",
              "    </tr>\n",
              "    <tr>\n",
              "      <th>4</th>\n",
              "      <td>Chris_Gomez</td>\n",
              "      <td>BAL</td>\n",
              "      <td>First_Baseman</td>\n",
              "      <td>73</td>\n",
              "      <td>188.0</td>\n",
              "      <td>35.71</td>\n",
              "    </tr>\n",
              "    <tr>\n",
              "      <th>...</th>\n",
              "      <td>...</td>\n",
              "      <td>...</td>\n",
              "      <td>...</td>\n",
              "      <td>...</td>\n",
              "      <td>...</td>\n",
              "      <td>...</td>\n",
              "    </tr>\n",
              "    <tr>\n",
              "      <th>1029</th>\n",
              "      <td>Brad_Thompson</td>\n",
              "      <td>STL</td>\n",
              "      <td>Relief_Pitcher</td>\n",
              "      <td>73</td>\n",
              "      <td>190.0</td>\n",
              "      <td>25.08</td>\n",
              "    </tr>\n",
              "    <tr>\n",
              "      <th>1030</th>\n",
              "      <td>Tyler_Johnson</td>\n",
              "      <td>STL</td>\n",
              "      <td>Relief_Pitcher</td>\n",
              "      <td>74</td>\n",
              "      <td>180.0</td>\n",
              "      <td>25.73</td>\n",
              "    </tr>\n",
              "    <tr>\n",
              "      <th>1031</th>\n",
              "      <td>Chris_Narveson</td>\n",
              "      <td>STL</td>\n",
              "      <td>Relief_Pitcher</td>\n",
              "      <td>75</td>\n",
              "      <td>205.0</td>\n",
              "      <td>25.19</td>\n",
              "    </tr>\n",
              "    <tr>\n",
              "      <th>1032</th>\n",
              "      <td>Randy_Keisler</td>\n",
              "      <td>STL</td>\n",
              "      <td>Relief_Pitcher</td>\n",
              "      <td>75</td>\n",
              "      <td>190.0</td>\n",
              "      <td>31.01</td>\n",
              "    </tr>\n",
              "    <tr>\n",
              "      <th>1033</th>\n",
              "      <td>Josh_Kinney</td>\n",
              "      <td>STL</td>\n",
              "      <td>Relief_Pitcher</td>\n",
              "      <td>73</td>\n",
              "      <td>195.0</td>\n",
              "      <td>27.92</td>\n",
              "    </tr>\n",
              "  </tbody>\n",
              "</table>\n",
              "<p>1034 rows × 6 columns</p>\n",
              "</div>"
            ],
            "text/plain": [
              "                 Name Team  ... Weight(pounds)    Age\n",
              "0       Adam_Donachie  BAL  ...          180.0  22.99\n",
              "1           Paul_Bako  BAL  ...          215.0  34.69\n",
              "2     Ramon_Hernandez  BAL  ...          210.0  30.78\n",
              "3        Kevin_Millar  BAL  ...          210.0  35.43\n",
              "4         Chris_Gomez  BAL  ...          188.0  35.71\n",
              "...               ...  ...  ...            ...    ...\n",
              "1029    Brad_Thompson  STL  ...          190.0  25.08\n",
              "1030    Tyler_Johnson  STL  ...          180.0  25.73\n",
              "1031   Chris_Narveson  STL  ...          205.0  25.19\n",
              "1032    Randy_Keisler  STL  ...          190.0  31.01\n",
              "1033      Josh_Kinney  STL  ...          195.0  27.92\n",
              "\n",
              "[1034 rows x 6 columns]"
            ]
          },
          "metadata": {
            "tags": []
          },
          "execution_count": 30
        }
      ]
    },
    {
      "cell_type": "code",
      "metadata": {
        "id": "SID7TrfOF8fo",
        "outputId": "212ebe82-1b24-4779-effa-1dea34c7172a",
        "colab": {
          "base_uri": "https://localhost:8080/"
        }
      },
      "source": [
        "pos = set(baseball.loc[:, 'Position'])\n",
        "\n",
        "# We are going to recode the position feature to be 'Pitcher' or 'NotPitcher'. It is convenient to do this using\n",
        "# a dictionary. If you are interested this is the Python for doing this kind of work.\n",
        "\n",
        "# if not you can just ignore this\n",
        "\n",
        "recode_pitch = { x:'Pitcher' for x in pos if 'Pitcher' in x }\n",
        "# First for any position which has the word Pitcher, we recode that to just be Pitcher.\n",
        "\n",
        "recode_pitch.update({ x:'NotPitcher' for x in pos if not 'Pitcher' in x})\n",
        "# Then recode the ones that do not use the word Pitcher\n",
        "\n",
        "# Python lets us update dictionaries.\n",
        "recode_pitch"
      ],
      "execution_count": 31,
      "outputs": [
        {
          "output_type": "execute_result",
          "data": {
            "text/plain": [
              "{'Catcher': 'NotPitcher',\n",
              " 'Designated_Hitter': 'NotPitcher',\n",
              " 'First_Baseman': 'NotPitcher',\n",
              " 'Outfielder': 'NotPitcher',\n",
              " 'Relief_Pitcher': 'Pitcher',\n",
              " 'Second_Baseman': 'NotPitcher',\n",
              " 'Shortstop': 'NotPitcher',\n",
              " 'Starting_Pitcher': 'Pitcher',\n",
              " 'Third_Baseman': 'NotPitcher'}"
            ]
          },
          "metadata": {
            "tags": []
          },
          "execution_count": 31
        }
      ]
    },
    {
      "cell_type": "code",
      "metadata": {
        "id": "oT236LJPF8fo"
      },
      "source": [
        "# So now fix the column\n",
        "baseball.loc[:, 'Position'] = baseball.loc[:, 'Position'].map(recode_pitch)"
      ],
      "execution_count": 32,
      "outputs": []
    },
    {
      "cell_type": "code",
      "metadata": {
        "id": "2lsdWSPyF8fo",
        "outputId": "f754bd26-06b0-4e38-ca37-db57cb02d238",
        "colab": {
          "base_uri": "https://localhost:8080/",
          "height": 296
        }
      },
      "source": [
        "# Seaborn is a data visualization package that is useful for plotting complicated data \n",
        "# in this case we can put the histograms of the heights of the players side by side by position\n",
        "\n",
        "sns.histplot(data = baseball, x='Height(inches)', hue='Position', multiple='dodge')"
      ],
      "execution_count": 33,
      "outputs": [
        {
          "output_type": "execute_result",
          "data": {
            "text/plain": [
              "<matplotlib.axes._subplots.AxesSubplot at 0x7f8a8c7fa690>"
            ]
          },
          "metadata": {
            "tags": []
          },
          "execution_count": 33
        },
        {
          "output_type": "display_data",
          "data": {
            "image/png": "[encoded data removed]",
            "text/plain": [
              "<Figure size 432x288 with 1 Axes>"
            ]
          },
          "metadata": {
            "tags": [],
            "needs_background": "light"
          }
        }
      ]
    },
    {
      "cell_type": "markdown",
      "metadata": {
        "id": "6NCITub8F8fo"
      },
      "source": [
        "So a very natural proposition is then that Pitchers are taller on the average than non-Pitchers (there are some physiological reasons that this seems reasonable). Let's test this hypothesis using the techniques we've been learning. First we note that the sample sizes are nice and large:"
      ]
    },
    {
      "cell_type": "code",
      "metadata": {
        "id": "fbGceHf1F8fq"
      },
      "source": [
        "baseball = baseball.loc[:, ['Position', 'Height(inches)', 'Age']]\n",
        "baseball.groupby('Position').count()"
      ],
      "execution_count": null,
      "outputs": []
    },
    {
      "cell_type": "code",
      "metadata": {
        "id": "x0wBcX6-F8fr"
      },
      "source": [
        "import random"
      ],
      "execution_count": null,
      "outputs": []
    },
    {
      "cell_type": "markdown",
      "metadata": {
        "id": "7MXij09sF8fr"
      },
      "source": [
        "## Random Sampling - Our Hypothesis: The mean height of pitchers at 74.5 inches is taller than non-Pitchers\n",
        "\n",
        "The null hypothesis is that the sample of Pitchers being taller was just a result of randomly choosing 536 players out of 1034 ballplayers and just ending up with the taller ones. To see if this could actually be the case, what we are going to do is select sets of 536 ball players from our sample over and over computing the mean each time, and see how often we end up with a mean of 74.5 inches or more."
      ]
    },
    {
      "cell_type": "code",
      "metadata": {
        "id": "wUax6ihIF8fr"
      },
      "source": [
        "# Let's make this a function so we don't have to retype it all the time\n",
        "\n",
        "size = 536\n",
        "\n",
        "def experiment(N, s = size, population = list(baseball.loc[:, 'Height(inches)'])):\n",
        "    # N is the number of times to run the experiment\n",
        "    # s is a variable that will let us change the size of the sample to pull, the default value size is the number\n",
        "    # of petitions that Nixon received\n",
        "\n",
        "    result = pd.DataFrame([], columns = ['Mean Heights']) # Make a dataframe to catalogue the results\n",
        "    # Note I drop the size, because every sample will have the same size.\n",
        "    \n",
        "    for k in range(N):\n",
        "        \n",
        "        # random.choices(population, size)  \n",
        "        # use this command if we are sampling from the population with replacement\n",
        "    \n",
        "        sample = np.mean(random.sample(population, s))\n",
        "        # use this command if we are sampling from the population without replacement\n",
        "    \n",
        "        row = pd.DataFrame([sample], \n",
        "                       index = ['Mean Heights']).transpose()\n",
        "    \n",
        "        result = result.append(row)\n",
        "    \n",
        "    return result.reset_index().iloc[:, 1:]"
      ],
      "execution_count": null,
      "outputs": []
    },
    {
      "cell_type": "code",
      "metadata": {
        "id": "FGtAtyoIF8fr"
      },
      "source": [
        "result = experiment(1000)\n",
        "sns.histplot(data=result, x='Mean Heights')"
      ],
      "execution_count": null,
      "outputs": []
    },
    {
      "cell_type": "code",
      "metadata": {
        "id": "rey5AMv7F8fr"
      },
      "source": [
        "sns.boxplot(data=result, x='Mean Heights')"
      ],
      "execution_count": null,
      "outputs": []
    },
    {
      "cell_type": "markdown",
      "metadata": {
        "id": "_6ubi7aWF8fr"
      },
      "source": [
        "And we see that it never happened!  Which is actually remarkable given that there are many more pitchers than not pitchers."
      ]
    },
    {
      "cell_type": "markdown",
      "metadata": {
        "id": "TTR7FUFuF8fs"
      },
      "source": [
        "## Let's do the same operation with Age\n",
        "\n",
        "And at the same time look at the Median Age!"
      ]
    },
    {
      "cell_type": "code",
      "metadata": {
        "id": "t5CQdjkBF8fs"
      },
      "source": [
        "baseball.groupby('Position').median()"
      ],
      "execution_count": null,
      "outputs": []
    },
    {
      "cell_type": "code",
      "metadata": {
        "id": "cbLAaLigF8fs"
      },
      "source": [
        "\n",
        "# Let's make this a function so we don't have to retype it all the time\n",
        "\n",
        "size = 536\n",
        "\n",
        "def experiment(N, s = size, population = list(baseball.loc[:, 'Age'])):\n",
        "    # N is the number of times to run the experiment\n",
        "    # s is a variable that will let us change the size of the sample to pull, the default value size is the number\n",
        "    # of petitions that Nixon received\n",
        "\n",
        "    result = pd.DataFrame([], columns = ['Median Age']) # Make a dataframe to catalogue the results\n",
        "    # Note I drop the size, because every sample will have the same size.\n",
        "    \n",
        "    for k in range(N):\n",
        "        \n",
        "        # random.choices(population, size)  \n",
        "        # use this command if we are sampling from the population with replacement\n",
        "    \n",
        "        sample = np.median(random.sample(population, s))\n",
        "        # use this command if we are sampling from the population without replacement\n",
        "    \n",
        "        row = pd.DataFrame([sample], \n",
        "                       index = ['Median Age']).transpose()\n",
        "    \n",
        "        result = result.append(row)\n",
        "    \n",
        "    return result.reset_index().iloc[:, 1:]"
      ],
      "execution_count": null,
      "outputs": []
    },
    {
      "cell_type": "code",
      "metadata": {
        "id": "LbPtjwRWF8fs"
      },
      "source": [
        "result = experiment(1000)\n",
        "sns.histplot(data=result, x='Median Age')"
      ],
      "execution_count": null,
      "outputs": []
    },
    {
      "cell_type": "code",
      "metadata": {
        "id": "V7HomDeOF8fs"
      },
      "source": [
        "sns.boxplot(data=result, x='Median Age')"
      ],
      "execution_count": null,
      "outputs": []
    },
    {
      "cell_type": "markdown",
      "metadata": {
        "id": "dz84o3wsF8ft"
      },
      "source": [
        "And we see that a Median Age of 27.52 fits into the first tail of the experiment, and so there is a small proportion of times we expect to see that result come out. We can compute the exact proportion by:"
      ]
    },
    {
      "cell_type": "code",
      "metadata": {
        "id": "GxT-IXT2F8ft"
      },
      "source": [
        "sum(result.loc[:, 'Median Age'] <= 27.52 )/1000"
      ],
      "execution_count": null,
      "outputs": []
    },
    {
      "cell_type": "markdown",
      "metadata": {
        "id": "SyC92DZxF8ft"
      },
      "source": [
        "Note that we do not have other tools for studying the Median Age of the sample unless we know the underlying distribution the sample is pulled from. We can guess that the underlying sample here is normal, and we also would suspect that we would have a robust test, however resampling gives us a method of studying the same question without having to worry about those assumptions.\n",
        "\n",
        "So what is the catch?  Well we need to know that the sample we do have is random and representative. For this problem there is not much to be worried about, but we would want to be especially careful if one of our populations is much smaller than the other."
      ]
    },
    {
      "cell_type": "code",
      "metadata": {
        "id": "ROTU3hHQF8ft"
      },
      "source": [
        ""
      ],
      "execution_count": null,
      "outputs": []
    }
  ]
}