{
 "cells": [
  {
   "cell_type": "code",
   "execution_count": 1,
   "metadata": {},
   "outputs": [],
   "source": [
    "import sympy as sp\n",
    "import numpy as np\n",
    "import matplotlib.pyplot as plt"
   ]
  },
  {
   "cell_type": "markdown",
   "metadata": {},
   "source": [
    "# Covariance\n",
    "\n",
    "Our intuition then is that two random variables are dependent if the value of one of them is related to the value of the other. It is useful to quantify this dependence in order to discuss the relative dependence of multiple variables or to measure the strength of an effect (think about our testing example).\n",
    "\n",
    "The two quanties will be *Correlation* and *Covariance*.\n",
    "\n",
    "Consider the following extreme examples:\n",
    "\n",
    "## Independent Random Variables\n",
    "\n",
    "Let $Y_1$ and $Y_2$ be two independent random variables, with $Y_1$ uniform on $[0, 1]$ and $Y_2$ a normal random variable with mean 2 and standard deviation 0.5. \n",
    "\n",
    "We can sample these variables:"
   ]
  },
  {
   "cell_type": "code",
   "execution_count": 5,
   "metadata": {},
   "outputs": [
    {
     "data": {
      "text/plain": [
       "[<matplotlib.lines.Line2D at 0x1203ec490>]"
      ]
     },
     "execution_count": 5,
     "metadata": {},
     "output_type": "execute_result"
    },
    {
     "data": {
      "image/png": "[encoded data removed]",
      "text/plain": [
       "<Figure size 432x288 with 1 Axes>"
      ]
     },
     "metadata": {
      "needs_background": "light"
     },
     "output_type": "display_data"
    }
   ],
   "source": [
    "n = 100\n",
    "sample1 = np.random.rand(n)\n",
    "sample2 = np.random.normal(2, 0.5, n)\n",
    "\n",
    "plt.plot(sample1, sample2, 'b.')"
   ]
  },
  {
   "cell_type": "markdown",
   "metadata": {},
   "source": [
    "# Dependent Random Variables\n",
    "\n",
    "Now consider two random variables with an obvious baked in dependence. Let $Y_1$ be uniformly distributed on $[0, 1]$ and let $Y_2 = 2 Y_1 + Z$ where $Z$ is an independent normal random variable with mean 1 and standard deviation 0.1.\n",
    "\n",
    "Again we can sample these."
   ]
  },
  {
   "cell_type": "code",
   "execution_count": 10,
   "metadata": {},
   "outputs": [
    {
     "data": {
      "text/plain": [
       "[<matplotlib.lines.Line2D at 0x120916bd0>]"
      ]
     },
     "execution_count": 10,
     "metadata": {},
     "output_type": "execute_result"
    },
    {
     "data": {
      "image/png": "[encoded data removed]",
      "text/plain": [
       "<Figure size 432x288 with 1 Axes>"
      ]
     },
     "metadata": {
      "needs_background": "light"
     },
     "output_type": "display_data"
    }
   ],
   "source": [
    "n=100\n",
    "\n",
    "sample3 = np.random.rand(n)\n",
    "sample4 = 2*sample3 + np.random.normal(1, 0.1, n)\n",
    "\n",
    "plt.plot(sample3, sample4, 'b.')"
   ]
  },
  {
   "cell_type": "markdown",
   "metadata": {},
   "source": [
    "## Reminder: Variance\n",
    "\n",
    "Just as a reminder that the variance of a random varialbe, is the quadratic form $ E( (Y_1 - \\mu_1)^2 ) $ that gives us the mean of the squares of the displacements of the random variable from its own mean. This captures the amount of spread the value has from its mean. \n",
    "\n",
    "Also a reminder that using this to measure spread is a choice, one that was made so that tools from algebra and calculus could be used, and one for which with our known distributions the value turned out to be computable. If we use $ E( | Y_1 - \\mu_1 |) $ this would also measure spread from the mean, but we would have fewer exact results related to it."
   ]
  },
  {
   "cell_type": "markdown",
   "metadata": {},
   "source": [
    "## Covariance Definition\n",
    "\n",
    "In thinking about quantifying the differences in these two figures, one thing you might notice is that if you take the product of the $(y_1 - 0.5)$ and $(y_2 - 2)$ values for each point in the first picture, it looks like this number is unpredictible, and will for example be positive in some places and negative in others. Whereas in the second figure, you might notice that this quantitity is always going to be positive.\n",
    "\n",
    "We really only have one tool for quantifying things over an entire sample or random varialbe, and that is to compute an *Expected Value*.  So we define the *covariance* of two random variables to be:\n",
    "\n",
    "$$ \\mbox{Cov}(Y_1, Y_2) = E[ (Y_1 - \\mu_1) (Y_2 - \\mu_2) ] $$\n",
    "\n",
    "where $E(Y_1) = \\mu_1$ and $E(Y_2) = \\mu_2 $"
   ]
  },
  {
   "cell_type": "markdown",
   "metadata": {},
   "source": [
    "## Covariance of Independent Variables\n",
    "\n",
    "Note in the case where $Y_1$ and $Y_2$ are completely independent we get:\n",
    "\n",
    "$$ \\mbox{Cov}(Y_1, Y_2) = E[ Y_1 - \\mu_1 ] E[ Y_2 - \\mu_2] = 0 \\cdot 0 $$\n",
    "\n",
    "## Correlation Coefficient\n",
    "\n",
    "Notice that the units of the Covariance are going to be the product of the units of $Y_1$ and $Y_2$ and that means it is not a good quantity for comparing the dependency of different random variables with different units. A unitless quantity with the same information would be the *correlation coefficient*\n",
    "\n",
    "$$ \\rho = \\frac{\\mbox{Cov}(Y_1, Y_2)}{\\sigma_1 \\sigma_2 } $$\n",
    "\n",
    "where $\\sigma_1 = E[ (Y_1 - \\mu_1)^2 ] $ and $\\sigma_2 = E[ (Y_2 - \\mu_2)^2 ] $"
   ]
  },
  {
   "cell_type": "markdown",
   "metadata": {},
   "source": [
    "## Computing Covariance\n",
    "\n",
    "Note that \n",
    "\n",
    "$$ \\mbox{Cov}(Y_1, Y_2) = E(Y_1 Y_2) - E(Y_1) E(Y_2) $$\n",
    "\n",
    "So the covariance amounts to finding the $Y_1 Y_2$ moment together with the means. \n",
    "\n",
    "Again we note that if the two variables are close to idependent then $E(Y_1 Y_2) $ will be close to just the product of the two means.\n",
    "\n"
   ]
  },
  {
   "cell_type": "markdown",
   "metadata": {},
   "source": [
    "### Example\n",
    "\n",
    "Let \n",
    "\n",
    "$$ f(y_1, y_2) = \\left\\{ \\begin{matrix} 2 & 0\\leq y_2 \\leq y_1 \\leq 1 \\\\ 0 & \\mbox{otherwise} \\end{matrix} \\right. $$\n",
    "\n",
    "Find $\\mbox{Cov}(Y_1, Y_2)$"
   ]
  },
  {
   "cell_type": "markdown",
   "metadata": {},
   "source": [
    "### Example\n",
    "\n",
    "Let \n",
    "\n",
    "$$ f(y1, y2) = \\left\\{ \\begin{matrix} 4 y_1 y_2 & 0 \\leq y_1 \\leq 1, 0 \\leq y_2 \\leq 1 \\\\ 0 & \\mbox{otherwise} \\end{matrix} \\right. $$\n",
    "\n",
    "Find the $\\mbox{Cov}(Y_1, Y_2)$."
   ]
  },
  {
   "cell_type": "markdown",
   "metadata": {},
   "source": [
    "### Implication\n",
    "\n",
    "This implies that if $Y_1$ and $Y_2$ are independent, then the $\\mbox{Cov}(Y_1, Y_2)$ is zero. However note that the converse is not true. I.e. just because the Covariance is zero, does not mean the variables are inedpendent. See the next example."
   ]
  },
  {
   "cell_type": "markdown",
   "metadata": {},
   "source": [
    "### Example\n",
    "\n",
    "Suppose that $Y_1$ and $Y_2$ are uniformly distributed over the triangle given by:  $-1 \\leq Y_1 \\leq 1 $ and $ 0 \\leq Y_2 \\leq 1 - |Y_1| $.\n",
    "\n",
    "- Find the normalizing constant that makes the constant function of this region a valid PDF.\n",
    "- Find the $Cov(Y_1, Y_2)$\n",
    "- Find the coefficient of correlation for $Y_1$ and $Y_2$.\n",
    "- Discuss:  Are $Y_1$ and $Y_2$ dependent or independent?"
   ]
  },
  {
   "cell_type": "markdown",
   "metadata": {},
   "source": []
  }
 ],
 "metadata": {
  "kernelspec": {
   "display_name": "Python 3",
   "language": "python",
   "name": "python3"
  },
  "language_info": {
   "codemirror_mode": {
    "name": "ipython",
    "version": 3
   },
   "file_extension": ".py",
   "mimetype": "text/x-python",
   "name": "python",
   "nbconvert_exporter": "python",
   "pygments_lexer": "ipython3",
   "version": "3.7.4"
  }
 },
 "nbformat": 4,
 "nbformat_minor": 4
}
