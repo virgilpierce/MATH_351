{
  "nbformat": 4,
  "nbformat_minor": 0,
  "metadata": {
    "kernelspec": {
      "display_name": "Python 3",
      "language": "python",
      "name": "python3"
    },
    "language_info": {
      "codemirror_mode": {
        "name": "ipython",
        "version": 3
      },
      "file_extension": ".py",
      "mimetype": "text/x-python",
      "name": "python",
      "nbconvert_exporter": "python",
      "pygments_lexer": "ipython3",
      "version": "3.7.4"
    },
    "colab": {
      "name": "2-16 Covariance.ipynb",
      "provenance": []
    }
  },
  "cells": [
    {
      "cell_type": "code",
      "metadata": {
        "id": "HyrtQjHYqqTO"
      },
      "source": [
        "import sympy as sp\n",
        "import numpy as np\n",
        "import matplotlib.pyplot as plt"
      ],
      "execution_count": 1,
      "outputs": []
    },
    {
      "cell_type": "markdown",
      "metadata": {
        "id": "f70OkcmDqqTT"
      },
      "source": [
        "# Covariance\n",
        "\n",
        "Our intuition then is that two random variables are dependent if the value of one of them is related to the value of the other. It is useful to quantify this dependence in order to discuss the relative dependence of multiple variables or to measure the strength of an effect (think about our testing example).\n",
        "\n",
        "The two quanties will be *Correlation* and *Covariance*.\n",
        "\n",
        "Consider the following extreme examples:\n",
        "\n",
        "## Independent Random Variables\n",
        "\n",
        "Let $Y_1$ and $Y_2$ be two independent random variables, with $Y_1$ uniform on $[0, 1]$ and $Y_2$ a normal random variable with mean 2 and standard deviation 0.5. \n",
        "\n",
        "We can sample these variables:"
      ]
    },
    {
      "cell_type": "code",
      "metadata": {
        "id": "4uVdVnwyqqTU",
        "outputId": "002c2146-efae-4d83-a86b-ee0170102694",
        "colab": {
          "base_uri": "https://localhost:8080/",
          "height": 282
        }
      },
      "source": [
        "n = 100\n",
        "sample1 = np.random.rand(n)\n",
        "sample2 = np.random.normal(2, 0.5, n)\n",
        "\n",
        "plt.plot(sample1, sample2, 'b.')"
      ],
      "execution_count": 2,
      "outputs": [
        {
          "output_type": "execute_result",
          "data": {
            "text/plain": [
              "[<matplotlib.lines.Line2D at 0x7fdbeffc2128>]"
            ]
          },
          "metadata": {
            "tags": []
          },
          "execution_count": 2
        },
        {
          "output_type": "display_data",
          "data": {
            "image/png": "[encoded data removed]",
            "text/plain": [
              "<Figure size 432x288 with 1 Axes>"
            ]
          },
          "metadata": {
            "tags": [],
            "needs_background": "light"
          }
        }
      ]
    },
    {
      "cell_type": "markdown",
      "metadata": {
        "id": "OOYqpI_bqqTV"
      },
      "source": [
        "# Dependent Random Variables\n",
        "\n",
        "Now consider two random variables with an obvious baked in dependence. Let $Y_1$ be uniformly distributed on $[0, 1]$ and let $Y_2 = 2 Y_1 + Z$ where $Z$ is an independent normal random variable with mean 1 and standard deviation 0.1.\n",
        "\n",
        "Again we can sample these."
      ]
    },
    {
      "cell_type": "code",
      "metadata": {
        "id": "SHSpJ-YFqqTV",
        "outputId": "1b71db7b-33e5-4772-f2fd-49dd2db0d864",
        "colab": {
          "base_uri": "https://localhost:8080/",
          "height": 282
        }
      },
      "source": [
        "n=100\n",
        "\n",
        "sample3 = np.random.rand(n)\n",
        "sample4 = 2*sample3 + np.random.normal(1, 0.1, n)\n",
        "\n",
        "plt.plot(sample3, sample4, 'b.')"
      ],
      "execution_count": 3,
      "outputs": [
        {
          "output_type": "execute_result",
          "data": {
            "text/plain": [
              "[<matplotlib.lines.Line2D at 0x7fdbef8c1470>]"
            ]
          },
          "metadata": {
            "tags": []
          },
          "execution_count": 3
        },
        {
          "output_type": "display_data",
          "data": {
            "image/png": "[encoded data removed]",
            "text/plain": [
              "<Figure size 432x288 with 1 Axes>"
            ]
          },
          "metadata": {
            "tags": [],
            "needs_background": "light"
          }
        }
      ]
    },
    {
      "cell_type": "code",
      "metadata": {
        "id": "cZYPEYao2e0n",
        "outputId": "2a79ffa2-119b-492b-b9a1-926c2ed32a18",
        "colab": {
          "base_uri": "https://localhost:8080/"
        }
      },
      "source": [
        "sample4.mean()"
      ],
      "execution_count": 4,
      "outputs": [
        {
          "output_type": "execute_result",
          "data": {
            "text/plain": [
              "2.0006975678555214"
            ]
          },
          "metadata": {
            "tags": []
          },
          "execution_count": 4
        }
      ]
    },
    {
      "cell_type": "markdown",
      "metadata": {
        "id": "TYjFppsnqqTW"
      },
      "source": [
        "## Reminder: Variance\n",
        "\n",
        "Just as a reminder that the variance of a random varialbe, is the quadratic form $ E( (Y_1 - \\mu_1)^2 ) $ that gives us the mean of the squares of the displacements of the random variable from its own mean. This captures the amount of spread the value has from its mean. \n",
        "\n",
        "Also a reminder that using this to measure spread is a choice, one that was made so that tools from algebra and calculus could be used, and one for which with our known distributions the value turned out to be computable. If we use $ E( | Y_1 - \\mu_1 |) $ this would also measure spread from the mean, but we would have fewer exact results related to it."
      ]
    },
    {
      "cell_type": "markdown",
      "metadata": {
        "id": "zWpBfQV7qqTW"
      },
      "source": [
        "## Covariance Definition\n",
        "\n",
        "In thinking about quantifying the differences in these two figures, one thing you might notice is that if you take the product of the $(y_1 - 0.5)$ and $(y_2 - 2)$ values for each point in the first picture, it looks like this number is unpredictible, and will for example be positive in some places and negative in others. Whereas in the second figure, you might notice that this quantitity is always going to be positive.\n",
        "\n",
        "We really only have one tool for quantifying things over an entire sample or random varialbe, and that is to compute an *Expected Value*.  So we define the *covariance* of two random variables to be:\n",
        "\n",
        "$$ \\mbox{Cov}(Y_1, Y_2) = E[ (Y_1 - \\mu_1) (Y_2 - \\mu_2) ] $$\n",
        "\n",
        "where $E(Y_1) = \\mu_1$ and $E(Y_2) = \\mu_2 $"
      ]
    },
    {
      "cell_type": "markdown",
      "metadata": {
        "id": "a-TX06JI38EJ"
      },
      "source": [
        "## If $Y_1$ and $Y_2$ are Indepdent?\r\n",
        "\r\n",
        "$$ E( g(Y_1) h(Y_2) ) = \\int \\int g(y_1) h(y_2) f_1(y_1) f_2(y_2) dy_1 dy_2 $$\r\n",
        "\r\n",
        "$$ \\left[ \\int g(y_1) f_1(y_1) dy_1 \\right] \\left[ \\int h(y_2) f_2(y_2) dy_2 \\right] $$"
      ]
    },
    {
      "cell_type": "markdown",
      "metadata": {
        "id": "KkW6DU03qqTW"
      },
      "source": [
        "## Covariance of Independent Variables\n",
        "\n",
        "Note in the case where $Y_1$ and $Y_2$ are completely independent we get:\n",
        "\n",
        "$$ \\mbox{Cov}(Y_1, Y_2) = E[ Y_1 - \\mu_1 ] E[ Y_2 - \\mu_2] = 0 \\cdot 0 $$\n",
        "\n",
        "## Correlation Coefficient\n",
        "\n",
        "Notice that the units of the Covariance are going to be the product of the units of $Y_1$ and $Y_2$ and that means it is not a good quantity for comparing the dependency of different random variables with different units. A unitless quantity with the same information would be the *correlation coefficient*\n",
        "\n",
        "$$ \\rho = \\frac{\\mbox{Cov}(Y_1, Y_2)}{\\sqrt{\\sigma_1 \\sigma_2 }} $$\n",
        "\n",
        "where $\\sigma_1 = E[ (Y_1 - \\mu_1)^2 ] $ and $\\sigma_2 = E[ (Y_2 - \\mu_2)^2 ] $"
      ]
    },
    {
      "cell_type": "markdown",
      "metadata": {
        "id": "z5qbHeZXqqTX"
      },
      "source": [
        "## Computing Covariance\n",
        "\n",
        "Note that \n",
        "\n",
        "$$ \\mbox{Cov}(Y_1, Y_2) = E(Y_1 Y_2) - E(Y_1) E(Y_2) $$\n",
        "\n",
        "So the covariance amounts to finding the $Y_1 Y_2$ moment together with the means. \n",
        "\n",
        "Again we note that if the two variables are close to idependent then $E(Y_1 Y_2) $ will be close to just the product of the two means.\n",
        "\n"
      ]
    },
    {
      "cell_type": "markdown",
      "metadata": {
        "id": "6SW95RbSqqTY"
      },
      "source": [
        "### Example\n",
        "\n",
        "Let \n",
        "\n",
        "$$ f(y_1, y_2) = \\left\\{ \\begin{matrix} 2 & 0\\leq y_2 \\leq y_1 \\leq 1 \\\\ 0 & \\mbox{otherwise} \\end{matrix} \\right. $$\n",
        "\n",
        "Find $\\mbox{Cov}(Y_1, Y_2)$"
      ]
    },
    {
      "cell_type": "code",
      "metadata": {
        "id": "LD4kW0Fj7S_7",
        "outputId": "313dbaad-28f8-4c66-e9b8-071437f6d040",
        "colab": {
          "base_uri": "https://localhost:8080/"
        }
      },
      "source": [
        "y1 = sp.Symbol('y1')\r\n",
        "y2 = sp.Symbol('y2')\r\n",
        "\r\n",
        "Ey1 = sp.integrate( 2*y1, (y2, 0, y1), (y1, 0, 1))\r\n",
        "Ey1"
      ],
      "execution_count": 9,
      "outputs": [
        {
          "output_type": "execute_result",
          "data": {
            "text/plain": [
              "2/3"
            ]
          },
          "metadata": {
            "tags": []
          },
          "execution_count": 9
        }
      ]
    },
    {
      "cell_type": "code",
      "metadata": {
        "id": "Fz-JoanI_u25",
        "outputId": "91e33561-4a93-4463-8f4d-1613ccec5369",
        "colab": {
          "base_uri": "https://localhost:8080/"
        }
      },
      "source": [
        "sp.integrate( 2*y1, (y1, y2, 1), (y2, 0, 1) )"
      ],
      "execution_count": 19,
      "outputs": [
        {
          "output_type": "execute_result",
          "data": {
            "text/plain": [
              "2/3"
            ]
          },
          "metadata": {
            "tags": []
          },
          "execution_count": 19
        }
      ]
    },
    {
      "cell_type": "code",
      "metadata": {
        "id": "B618MeVq7TOx",
        "outputId": "191b1ba6-8e18-4e8d-f6bb-e812ad3e4fd2",
        "colab": {
          "base_uri": "https://localhost:8080/"
        }
      },
      "source": [
        "Ey2 = sp.integrate( 2*y2, (y2, 0, y1), (y1, 0, 1))\r\n",
        "Ey2"
      ],
      "execution_count": 10,
      "outputs": [
        {
          "output_type": "execute_result",
          "data": {
            "text/plain": [
              "1/3"
            ]
          },
          "metadata": {
            "tags": []
          },
          "execution_count": 10
        }
      ]
    },
    {
      "cell_type": "code",
      "metadata": {
        "id": "5RKfk0vM7TpI",
        "outputId": "f76b136c-dd88-4c32-ceb2-497d8739e0aa",
        "colab": {
          "base_uri": "https://localhost:8080/"
        }
      },
      "source": [
        "Ey1y2 = sp.integrate(2*(y1*y2), (y2, 0, y1), (y1, 0, 1))\r\n",
        "Ey1y2"
      ],
      "execution_count": 11,
      "outputs": [
        {
          "output_type": "execute_result",
          "data": {
            "text/plain": [
              "1/4"
            ]
          },
          "metadata": {
            "tags": []
          },
          "execution_count": 11
        }
      ]
    },
    {
      "cell_type": "code",
      "metadata": {
        "id": "kaf6D8nZ72yF",
        "outputId": "d791e45c-55b0-463d-b8b8-9f3cb0e7da77",
        "colab": {
          "base_uri": "https://localhost:8080/"
        }
      },
      "source": [
        "Cov = Ey1y2 - Ey1*Ey2\r\n",
        "Cov\r\n"
      ],
      "execution_count": 12,
      "outputs": [
        {
          "output_type": "execute_result",
          "data": {
            "text/plain": [
              "1/36"
            ]
          },
          "metadata": {
            "tags": []
          },
          "execution_count": 12
        }
      ]
    },
    {
      "cell_type": "markdown",
      "metadata": {
        "id": "ZCdSlfsRqqTY"
      },
      "source": [
        "### Example\n",
        "\n",
        "Let \n",
        "\n",
        "$$ f(y1, y2) = \\left\\{ \\begin{matrix} 4 y_1 y_2 & 0 \\leq y_1 \\leq 1, 0 \\leq y_2 \\leq 1 \\\\ 0 & \\mbox{otherwise} \\end{matrix} \\right. $$\n",
        "\n",
        "Find the $\\mbox{Cov}(Y_1, Y_2)$."
      ]
    },
    {
      "cell_type": "code",
      "metadata": {
        "id": "iocHGC858I3E",
        "outputId": "be51d923-ed09-482c-cb88-9f3986522c2f",
        "colab": {
          "base_uri": "https://localhost:8080/"
        }
      },
      "source": [
        "Ey1 = sp.integrate( 4*y1*y2* (y1), (y1, 0, 1), (y2, 0, 1) )\r\n",
        "Ey1"
      ],
      "execution_count": 13,
      "outputs": [
        {
          "output_type": "execute_result",
          "data": {
            "text/plain": [
              "2/3"
            ]
          },
          "metadata": {
            "tags": []
          },
          "execution_count": 13
        }
      ]
    },
    {
      "cell_type": "code",
      "metadata": {
        "id": "CkP_tCau8I9m",
        "outputId": "b8a238f1-2ed6-4ccf-ed25-5b680d57fa1d",
        "colab": {
          "base_uri": "https://localhost:8080/"
        }
      },
      "source": [
        "Ey2 = sp.integrate( 4*y1*y2* (y2), (y1, 0, 1), (y2, 0, 1) )\r\n",
        "Ey2"
      ],
      "execution_count": 14,
      "outputs": [
        {
          "output_type": "execute_result",
          "data": {
            "text/plain": [
              "2/3"
            ]
          },
          "metadata": {
            "tags": []
          },
          "execution_count": 14
        }
      ]
    },
    {
      "cell_type": "code",
      "metadata": {
        "id": "MfMVpmZ98JBi",
        "outputId": "a744a014-dad0-46a7-ad4d-64bcdaed0535",
        "colab": {
          "base_uri": "https://localhost:8080/"
        }
      },
      "source": [
        "Ey1y2 =  sp.integrate( 4*y1*y2* (y1*y2), (y1, 0, 1), (y2, 0, 1) )\r\n",
        "Ey1y2"
      ],
      "execution_count": 15,
      "outputs": [
        {
          "output_type": "execute_result",
          "data": {
            "text/plain": [
              "4/9"
            ]
          },
          "metadata": {
            "tags": []
          },
          "execution_count": 15
        }
      ]
    },
    {
      "cell_type": "code",
      "metadata": {
        "id": "m7SNy_kq8JGl"
      },
      "source": [
        ""
      ],
      "execution_count": null,
      "outputs": []
    },
    {
      "cell_type": "code",
      "metadata": {
        "id": "fhRUt4Ju8JKJ"
      },
      "source": [
        ""
      ],
      "execution_count": null,
      "outputs": []
    },
    {
      "cell_type": "markdown",
      "metadata": {
        "id": "zT47bIlyqqTZ"
      },
      "source": [
        "### Implication\n",
        "\n",
        "This implies that if $Y_1$ and $Y_2$ are independent, then the $\\mbox{Cov}(Y_1, Y_2)$ is zero. However note that the converse is not true. I.e. just because the Covariance is zero, does not mean the variables are inedpendent. See the next example."
      ]
    },
    {
      "cell_type": "markdown",
      "metadata": {
        "id": "3WjTkZgxqqTZ"
      },
      "source": [
        "### Example\n",
        "\n",
        "Suppose that $Y_1$ and $Y_2$ are uniformly distributed over the triangle given by:  $-1 \\leq Y_1 \\leq 1 $ and $ 0 \\leq Y_2 \\leq 1 - |Y_1| $.\n",
        "\n",
        "- Find the normalizing constant that makes the constant function of this region a valid PDF.\n",
        "- Find the $Cov(Y_1, Y_2)$\n",
        "- Find the coefficient of correlation for $Y_1$ and $Y_2$.\n",
        "- Discuss:  Are $Y_1$ and $Y_2$ dependent or independent?"
      ]
    },
    {
      "cell_type": "markdown",
      "metadata": {
        "id": "EpEDe_aDqqTZ"
      },
      "source": [
        "$$ \\int_0^3 dy_1 \\int_1^2 dy_2 f(y_1, y_2) $$"
      ]
    },
    {
      "cell_type": "code",
      "metadata": {
        "id": "kboaFrxg9nRy",
        "outputId": "88283777-c6ab-47a3-b54d-77a7036c61f5",
        "colab": {
          "base_uri": "https://localhost:8080/"
        }
      },
      "source": [
        "sp.integrate( y1+y2, (y1, 0, 3), (y2, 1, 2) )"
      ],
      "execution_count": 16,
      "outputs": [
        {
          "output_type": "execute_result",
          "data": {
            "text/plain": [
              "9"
            ]
          },
          "metadata": {
            "tags": []
          },
          "execution_count": 16
        }
      ]
    },
    {
      "cell_type": "code",
      "metadata": {
        "id": "3XFPlLlv90w1",
        "outputId": "0afee81d-2a71-4351-da0a-b081a839a9a7",
        "colab": {
          "base_uri": "https://localhost:8080/"
        }
      },
      "source": [
        "sp.integrate( y1+y2, (y2, 1, 2), (y1, 0, 3) )"
      ],
      "execution_count": 18,
      "outputs": [
        {
          "output_type": "execute_result",
          "data": {
            "text/plain": [
              "9"
            ]
          },
          "metadata": {
            "tags": []
          },
          "execution_count": 18
        }
      ]
    },
    {
      "cell_type": "code",
      "metadata": {
        "id": "RCSCqPhm96d7"
      },
      "source": [
        ""
      ],
      "execution_count": null,
      "outputs": []
    }
  ]
}