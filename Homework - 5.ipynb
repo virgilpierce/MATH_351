{
  "nbformat": 4,
  "nbformat_minor": 0,
  "metadata": {
    "colab": {
      "name": "Homework - 4.ipynb",
      "provenance": []
    },
    "kernelspec": {
      "display_name": "Python 3",
      "language": "python",
      "name": "python3"
    },
    "language_info": {
      "codemirror_mode": {
        "name": "ipython",
        "version": 3
      },
      "file_extension": ".py",
      "mimetype": "text/x-python",
      "name": "python",
      "nbconvert_exporter": "python",
      "pygments_lexer": "ipython3",
      "version": "3.7.4"
    }
  },
  "cells": [
    {
      "cell_type": "markdown",
      "metadata": {
        "id": "YseFbccLo0j2"
      },
      "source": [
        "## Homework - 5:  Conditional Probability and Independence\n",
        "\n",
        "1. The NTSB in tracking car accidents involving children and has found ratios:\n",
        "\n",
        "| | Child Survives | Child did not survive | \n",
        "| --- | --- | --- |\n",
        "| No Restraint Used | 0.38 | 0.17 |\n",
        "| An Adult Seat Belt Used | 0.14 | 0.02 | \n",
        "| A Child Safety Seat Used | 0.24 | 0.05 |\n",
        "\n",
        "What is the probability that a child survives given that they were in a Child Safety Seat?\n",
        "\n",
        "What is the probability that the child was in a Child Saftey Seat, given that they survived?\n",
        "\n",
        "2. Consider the joint density function:\n",
        "\n",
        "$$ f(y_1, y_2) = \\left\\{ \\begin{matrix} y_1 + y_2 & 0 \\leq y_1 \\leq 1, \\quad 0 \\leq y_2 \\leq 1 \\\\ 0 & \\mbox{otherwise} \\end{matrix} \\right. $$\n",
        "\n",
        "Find the conditional probability: $P(Y_1 \\leq \\frac{1}{2} | Y_2 \\leq \\frac{1}{2} ) $\n",
        "\n",
        "Are $Y_1$ and $Y_2$ with this density independent or dependent?\n",
        "\n",
        "3. Let $Y_1$ and $Y_2$ be two independent exponentially distributed random variables each with mean 1. Find $P(Y_1 > 1 | Y_2 < 1 )$\n",
        "\n",
        "4. Let $Y_1$ and $Y_2$ be two independent exponentially distributed random variables each with mean 1. Find $P( Y_1 > Y_2 | Y_1 < 2 Y_2 ) $\n",
        "\n"
      ]
    },
    {
      "cell_type": "code",
      "metadata": {
        "id": "U-gLnzOio0j8"
      },
      "source": [
        "import sympy as sp"
      ],
      "execution_count": 1,
      "outputs": []
    },
    {
      "cell_type": "markdown",
      "metadata": {
        "id": "J-auww81AV1g"
      },
      "source": [
        "$$ P(Y_1 < 1/2 | Y_2 < 1/2) = \\int_0^{1/2} dy_1 \\int_0^{1/2} dy_2 f(y_1 | y_2) $$\r\n",
        "\r\n",
        "$$ f(y_1 | y_2 ) = \\frac{f(y_1, y_2)}{ f_2(y_2) } $$\r\n",
        "\r\n",
        "$$ f_2(y_2) = \\int_0^1 dy_1 f(y_1, y_2) $$"
      ]
    },
    {
      "cell_type": "code",
      "metadata": {
        "id": "RzDndkKhARPR",
        "outputId": "424465da-94ec-43f7-97cd-ddab370c4d36",
        "colab": {
          "base_uri": "https://localhost:8080/"
        }
      },
      "source": [
        "y1 = sp.Symbol('y1')\r\n",
        "y2 = sp.Symbol('y2')\r\n",
        "\r\n",
        "f2 = sp.integrate(y1 + y2, (y1, 0, 1) )\r\n",
        "f2"
      ],
      "execution_count": 3,
      "outputs": [
        {
          "output_type": "execute_result",
          "data": {
            "text/plain": [
              "y2 + 1/2"
            ]
          },
          "metadata": {
            "tags": []
          },
          "execution_count": 3
        }
      ]
    },
    {
      "cell_type": "code",
      "metadata": {
        "id": "W45TlSIDBSxT",
        "outputId": "8f509fe4-c14e-4334-b93f-f9e72879858f",
        "colab": {
          "base_uri": "https://localhost:8080/"
        }
      },
      "source": [
        "sp.integrate( (y1+y2)/(y2+1/2), (y1, 0, 1/2), (y2, 0, 1/2) )"
      ],
      "execution_count": 4,
      "outputs": [
        {
          "output_type": "execute_result",
          "data": {
            "text/plain": [
              "0.163356602430007"
            ]
          },
          "metadata": {
            "tags": []
          },
          "execution_count": 4
        }
      ]
    },
    {
      "cell_type": "code",
      "metadata": {
        "id": "Dy0cAnuUBvic"
      },
      "source": [
        ""
      ],
      "execution_count": null,
      "outputs": []
    },
    {
      "cell_type": "markdown",
      "metadata": {
        "id": "-DBPzVFXCoI6"
      },
      "source": [
        "If $Y_1$ and $Y_2$ are indepdent, then $$ P(Y_1 > 1 | Y_2 < 1) = P(Y_1 > 1) $$"
      ]
    },
    {
      "cell_type": "code",
      "metadata": {
        "id": "cTd41bDWCwe9",
        "outputId": "b3093803-7855-4c78-b862-a6b2e3f10e6c",
        "colab": {
          "base_uri": "https://localhost:8080/"
        }
      },
      "source": [
        "a = sp.Symbol('a')\r\n",
        "sp.integrate( sp.exp(-y1), (y1, 1, a)    )"
      ],
      "execution_count": 5,
      "outputs": [
        {
          "output_type": "execute_result",
          "data": {
            "text/plain": [
              "exp(-1) - exp(-a)"
            ]
          },
          "metadata": {
            "tags": []
          },
          "execution_count": 5
        }
      ]
    },
    {
      "cell_type": "code",
      "metadata": {
        "id": "d_Wpf3k9DR6F",
        "outputId": "9da10a2e-2690-46c0-da68-b3f9175393c1",
        "colab": {
          "base_uri": "https://localhost:8080/"
        }
      },
      "source": [
        "import numpy as np\r\n",
        "np.exp(-1)"
      ],
      "execution_count": 6,
      "outputs": [
        {
          "output_type": "execute_result",
          "data": {
            "text/plain": [
              "0.36787944117144233"
            ]
          },
          "metadata": {
            "tags": []
          },
          "execution_count": 6
        }
      ]
    },
    {
      "cell_type": "code",
      "metadata": {
        "id": "u4eVZgtADpHu"
      },
      "source": [
        ""
      ],
      "execution_count": null,
      "outputs": []
    },
    {
      "cell_type": "markdown",
      "metadata": {
        "id": "Pgdwx0atEZFj"
      },
      "source": [
        "We can always appeal to the following conditional probability formula:\r\n",
        "\r\n",
        "$$ P(A | B) = \\frac{ P(A, B) }{P(B) } $$\r\n",
        "\r\n",
        "$$ P( Y_1 > Y_2 | Y_1 < 2 Y_2 ) = \\frac{ P( Y_2 < Y_1 < 2 Y_2) }{ P( Y_1 < 2 Y_2) }$$\r\n",
        "\r\n",
        "$$ P(Y_2 < Y_1 < 2Y_2) = \\int_0^{\\infty} dy_2 \\int_{y_2}^{2y_2} dy_1 e^{-y_1 -y_2} $$\r\n",
        "\r\n",
        "$$ \\int_0^{\\infty} dy_1 \\int_{y_1/2}^{y_1} dy_2 e^{-y_1 - y_2} $$"
      ]
    },
    {
      "cell_type": "code",
      "metadata": {
        "id": "fSFF9_EgEnPf",
        "outputId": "bd53fec8-851c-4ea5-de8a-483109d4b459",
        "colab": {
          "base_uri": "https://localhost:8080/"
        }
      },
      "source": [
        "sp.integrate( sp.exp(-y1-y2), (y1, y2, 2*y2), (y2, 0, a) )"
      ],
      "execution_count": 9,
      "outputs": [
        {
          "output_type": "execute_result",
          "data": {
            "text/plain": [
              "1/6 - exp(-2*a)/2 + exp(-3*a)/3"
            ]
          },
          "metadata": {
            "tags": []
          },
          "execution_count": 9
        }
      ]
    },
    {
      "cell_type": "code",
      "metadata": {
        "id": "aDHEll9vGWCI",
        "outputId": "2b7c001d-aec6-4b27-ada9-6581ea77f5df",
        "colab": {
          "base_uri": "https://localhost:8080/"
        }
      },
      "source": [
        "sp.integrate( sp.exp(-y1-y2), (y1, 0, 2*y2), (y2, 0, a) )"
      ],
      "execution_count": 10,
      "outputs": [
        {
          "output_type": "execute_result",
          "data": {
            "text/plain": [
              "2/3 - exp(-a) + exp(-3*a)/3"
            ]
          },
          "metadata": {
            "tags": []
          },
          "execution_count": 10
        }
      ]
    },
    {
      "cell_type": "code",
      "metadata": {
        "id": "H5Y3WWBrG7vH",
        "outputId": "5acd43c3-90b3-43f5-a4fd-03ec3d29e947",
        "colab": {
          "base_uri": "https://localhost:8080/"
        }
      },
      "source": [
        "1/6 * (3/2)"
      ],
      "execution_count": 11,
      "outputs": [
        {
          "output_type": "execute_result",
          "data": {
            "text/plain": [
              "0.25"
            ]
          },
          "metadata": {
            "tags": []
          },
          "execution_count": 11
        }
      ]
    },
    {
      "cell_type": "code",
      "metadata": {
        "id": "vYzSr-aAHB-x"
      },
      "source": [
        ""
      ],
      "execution_count": null,
      "outputs": []
    }
  ]
}