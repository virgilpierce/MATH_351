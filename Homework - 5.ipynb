{
 "cells": [
  {
   "cell_type": "markdown",
   "metadata": {
    "id": "YseFbccLo0j2"
   },
   "source": [
    "## Homework - 5:  Conditional Probability and Independence\n",
    "\n",
    "1. The NTSB in tracking car accidents involving children has found ratios:\n",
    "\n",
    "| | Child Survives | Child did not survive | \n",
    "| --- | --- | --- |\n",
    "| No Restraint Used | 0.38 | 0.17 |\n",
    "| An Adult Seat Belt Used | 0.14 | 0.02 | \n",
    "| A Child Safety Seat Used | 0.24 | 0.05 |\n",
    "\n",
    "What is the probability that a child survives given that they were in a Child Safety Seat?\n",
    "\n",
    "What is the probability that the child was in a Child Saftey Seat, given that they survived?\n",
    "\n",
    "2. Consider the joint density function:\n",
    "\n",
    "$$ f(y_1, y_2) = \\left\\{ \\begin{matrix} y_1 + y_2 & 0 \\leq y_1 \\leq 1, \\quad 0 \\leq y_2 \\leq 1 \\\\ 0 & \\mbox{otherwise} \\end{matrix} \\right. $$\n",
    "\n",
    "Find the conditional probability: $P(Y_1 \\leq \\frac{1}{2} | Y_2 \\leq \\frac{1}{2} ) $\n",
    "\n",
    "Are $Y_1$ and $Y_2$ with this density independent or dependent?\n",
    "\n",
    "3. Let $Y_1$ and $Y_2$ be two independent exponentially distributed random variables each with mean 1. Find $P(Y_1 > 1 | Y_2 < 1 )$\n",
    "\n",
    "4. Let $Y_1$ and $Y_2$ be two independent exponentially distributed random variables each with mean 1. Find $P( Y_1 > Y_2 | Y_1 < 2 Y_2 ) $\n",
    "\n"
   ]
  },
  {
   "cell_type": "code",
   "execution_count": null,
   "metadata": {
    "id": "U-gLnzOio0j8"
   },
   "outputs": [],
   "source": []
  }
 ],
 "metadata": {
  "colab": {
   "name": "Homework - 4.ipynb",
   "provenance": []
  },
  "kernelspec": {
   "display_name": "Python 3",
   "language": "python",
   "name": "python3"
  },
  "language_info": {
   "codemirror_mode": {
    "name": "ipython",
    "version": 3
   },
   "file_extension": ".py",
   "mimetype": "text/x-python",
   "name": "python",
   "nbconvert_exporter": "python",
   "pygments_lexer": "ipython3",
   "version": "3.7.4"
  }
 },
 "nbformat": 4,
 "nbformat_minor": 4
}
