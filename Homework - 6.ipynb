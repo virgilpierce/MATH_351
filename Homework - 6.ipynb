{
 "cells": [
  {
   "cell_type": "markdown",
   "metadata": {
    "id": "YseFbccLo0j2"
   },
   "source": [
    "## Homework - 6:  Covariance and Linear Functions of Random Variables\n",
    "\n",
    "Let $Y_1$ and $Y_2$ be two uncorrelated random variables (i.e. $\\mbox{Cov}(Y_1, Y_2) = 0 $, noting that this does not mean independent. Then define the random variables $U_1 = Y_1 + Y_2$ and $U_2 = Y_1 - Y_2$.  \n",
    "\n",
    "1. Find the expected values of both $U_1$ and $U_2$ in terms of the statistics of $Y_1$ and $Y_2$.\n",
    "\n",
    "2. Find the variances of both $U_1$ and $U_2$ in terms of the statistics of $Y_1$ and $Y_2$.\n",
    "\n",
    "3. Find the covariance and coefficient of correlation between $U_1$ and $U_2$. \n",
    "\n",
    "4. Under what conditions will $U_1$ and $U_2$ be uncorrelated?  \n",
    "\n",
    "\n",
    "\n"
   ]
  },
  {
   "cell_type": "code",
   "execution_count": null,
   "metadata": {
    "id": "U-gLnzOio0j8"
   },
   "outputs": [],
   "source": []
  }
 ],
 "metadata": {
  "colab": {
   "name": "Homework - 4.ipynb",
   "provenance": []
  },
  "kernelspec": {
   "display_name": "Python 3",
   "language": "python",
   "name": "python3"
  },
  "language_info": {
   "codemirror_mode": {
    "name": "ipython",
    "version": 3
   },
   "file_extension": ".py",
   "mimetype": "text/x-python",
   "name": "python",
   "nbconvert_exporter": "python",
   "pygments_lexer": "ipython3",
   "version": "3.7.4"
  }
 },
 "nbformat": 4,
 "nbformat_minor": 4
}
