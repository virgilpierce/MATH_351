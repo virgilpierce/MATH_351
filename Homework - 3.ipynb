{
 "cells": [
  {
   "cell_type": "markdown",
   "metadata": {},
   "source": [
    "# Homework 3 - Normal Distributions\n",
    "\n",
    "1. For a standard normal random variable, find an approximate value of $z_0$ such that:\n",
    "\n",
    "a. $P(Z > z_0) = 0.5 $\n",
    "\n",
    "b. $ P(-z_0 < Z < z_0 ) = 0.5 $\n",
    "\n",
    "c. $ P(|Z| < z_0 ) = 0.99 $\n"
   ]
  },
  {
   "cell_type": "markdown",
   "metadata": {},
   "source": [
    "2. The School of Mathematical Sciences spends an average of 5800 dollars on printing each year, with a standard deviation of 595 dollars. Suppose we budget 6000 for printing next year. Assuming the distribution is normal (which it is!), how likely is it that we will overspend our budget?"
   ]
  },
  {
   "cell_type": "markdown",
   "metadata": {},
   "source": [
    "3. Show the following Calculus facts about the PDF of the normal distribution with mean $\\mu$ and standard deviation $\\sigma$: \n",
    "\n",
    "- The maximum value occurs at $y = \\mu$ and has value $1/(\\sigma \\sqrt{2\\pi})$ \n",
    "\n",
    "- The PDF has inflection points at $y = \\mu - \\sigma$ and $\\mu+ \\sigma$. \n",
    "\n"
   ]
  },
  {
   "cell_type": "code",
   "execution_count": null,
   "metadata": {},
   "outputs": [],
   "source": []
  }
 ],
 "metadata": {
  "kernelspec": {
   "display_name": "Python 3",
   "language": "python",
   "name": "python3"
  },
  "language_info": {
   "codemirror_mode": {
    "name": "ipython",
    "version": 3
   },
   "file_extension": ".py",
   "mimetype": "text/x-python",
   "name": "python",
   "nbconvert_exporter": "python",
   "pygments_lexer": "ipython3",
   "version": "3.7.4"
  }
 },
 "nbformat": 4,
 "nbformat_minor": 4
}
