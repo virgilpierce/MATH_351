{
 "cells": [
  {
   "cell_type": "markdown",
   "metadata": {},
   "source": [
    "## Homework - 4:  Gamma and Beta Distributions and Simmulations\n",
    "\n",
    "1. Suppose that the magnitude of earthquakes striking a region has a Gamma distribution with parameters $ \\alpha = 0.8$ and $\\beta = 2.4$. What is the mean magnitude of earthquakes in this region? What is the (approximate) probability and earthquake has a magnitude of more than 3.0? What is the probability that an earthquakes magnitude is between a 2.0 and 3.0. \n",
    "\n",
    "2. During an 8 hour shift the proportion of time $Y$ that a sheet-metal stamping machine is down for maintenance or repairs has a beta distribution with $\\alpha = 1$ and $\\beta = 2$. The cost due to lost production and cost of maintenance and repair is given by $ C = 10 + 20 Y + 4 Y^2.$ Find the mean and variance of $C$.\n",
    "\n",
    "3. Simmulate 100 draws from a exponentially distributed random variable with $\\beta = 2$ using numpy.random.exponential and compute the mean of the draws. Then repeat this 200 times keeping the result of the mean and plot a histogram of these values. Increase the number of draws and the number of times you do this and discuss what you observe about the historgram.\n",
    "\n",
    "Note that the numpy.random functions have a parameter *size* that lets you specify how many draws to make from the random variable. You may also want to adjust the number of bins to see how that affects the shape you are observing."
   ]
  },
  {
   "cell_type": "code",
   "execution_count": null,
   "metadata": {},
   "outputs": [],
   "source": []
  }
 ],
 "metadata": {
  "kernelspec": {
   "display_name": "Python 3",
   "language": "python",
   "name": "python3"
  },
  "language_info": {
   "codemirror_mode": {
    "name": "ipython",
    "version": 3
   },
   "file_extension": ".py",
   "mimetype": "text/x-python",
   "name": "python",
   "nbconvert_exporter": "python",
   "pygments_lexer": "ipython3",
   "version": "3.7.4"
  }
 },
 "nbformat": 4,
 "nbformat_minor": 4
}
