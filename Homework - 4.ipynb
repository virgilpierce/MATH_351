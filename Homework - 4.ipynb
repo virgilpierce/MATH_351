{
  "nbformat": 4,
  "nbformat_minor": 0,
  "metadata": {
    "kernelspec": {
      "display_name": "Python 3",
      "language": "python",
      "name": "python3"
    },
    "language_info": {
      "codemirror_mode": {
        "name": "ipython",
        "version": 3
      },
      "file_extension": ".py",
      "mimetype": "text/x-python",
      "name": "python",
      "nbconvert_exporter": "python",
      "pygments_lexer": "ipython3",
      "version": "3.7.4"
    },
    "colab": {
      "name": "Homework - 4.ipynb",
      "provenance": []
    }
  },
  "cells": [
    {
      "cell_type": "markdown",
      "metadata": {
        "id": "YseFbccLo0j2"
      },
      "source": [
        "## Homework - 4:  Gamma and Beta Distributions and Simmulations\n",
        "\n",
        "1. Suppose that the magnitude of earthquakes striking a region has a Gamma distribution with parameters $ \\alpha = 0.8$ and $\\beta = 2.4$. What is the mean magnitude of earthquakes in this region? What is the (approximate) probability an earthquake has a magnitude of more than 3.0? What is the probability that an earthquakes magnitude is between a 2.0 and 3.0. \n",
        "\n",
        "2. During an 8 hour shift the proportion of time $Y$ that a sheet-metal stamping machine is down for maintenance or repairs has a beta distribution with $\\alpha = 1$ and $\\beta = 2$. The cost due to lost production and cost of maintenance and repair is given by $ C = 10 + 20 Y + 4 Y^2.$ Find the mean and variance of $C$.\n",
        "\n",
        "3. Simmulate 100 draws from a exponentially distributed random variable with $\\beta = 2$ using numpy.random.exponential and compute the mean of the draws. Then repeat this 200 times keeping the result of the mean and plot a histogram of these values. Increase the number of draws and the number of times you do this and discuss what you observe about the historgram.\n",
        "\n",
        "Note that the numpy.random functions have a parameter *size* that lets you specify how many draws to make from the random variable. You may also want to adjust the number of bins to see how that affects the shape you are observing."
      ]
    },
    {
      "cell_type": "code",
      "metadata": {
        "id": "U-gLnzOio0j8"
      },
      "source": [
        "import numpy as np\r\n",
        "import matplotlib.pyplot as plt"
      ],
      "execution_count": 20,
      "outputs": []
    },
    {
      "cell_type": "code",
      "metadata": {
        "colab": {
          "base_uri": "https://localhost:8080/",
          "height": 265
        },
        "id": "HRXnWdcW97J_",
        "outputId": "dabb19fc-3dcb-40ac-987d-754a5dd8b5a0"
      },
      "source": [
        "result = []\r\n",
        "\r\n",
        "for k in range(200):\r\n",
        "  result += [ np.random.exponential(scale=2, size=100).mean() ]\r\n",
        "\r\n",
        "plt.hist(result, bins=20);"
      ],
      "execution_count": 21,
      "outputs": [
        {
          "output_type": "display_data",
          "data": {
            "image/png": "[encoded data removed]",
            "text/plain": [
              "<Figure size 432x288 with 1 Axes>"
            ]
          },
          "metadata": {
            "tags": [],
            "needs_background": "light"
          }
        }
      ]
    },
    {
      "cell_type": "code",
      "metadata": {
        "id": "E7n3pKyiAMX7"
      },
      "source": [
        "def beta_pdf(y, alpha, beta):\r\n",
        "    \r\n",
        "    if y <= 0:\r\n",
        "        return 0\r\n",
        "    elif y >= 1:\r\n",
        "        return 0\r\n",
        "    else:\r\n",
        "        return y**(alpha-1) * (1-y)**(beta-1) * gamma(alpha+beta)/( gamma(alpha)*gamma(beta) )"
      ],
      "execution_count": 22,
      "outputs": []
    },
    {
      "cell_type": "code",
      "metadata": {
        "id": "H1PMTgtOBxdQ"
      },
      "source": [
        "import sympy as sp\r\n",
        "from scipy.special import gamma"
      ],
      "execution_count": 24,
      "outputs": []
    },
    {
      "cell_type": "code",
      "metadata": {
        "id": "k6p1mCxfCBVe",
        "outputId": "7f6527fa-8d9b-40f8-a40d-b77880606d6d",
        "colab": {
          "base_uri": "https://localhost:8080/"
        }
      },
      "source": [
        "y = sp.Symbol('y')\r\n",
        "sp.integrate( sp.sin(y) * (1-y) * gamma(3)/( gamma(1)*gamma(2) ), (y, 0, 1) )"
      ],
      "execution_count": 27,
      "outputs": [
        {
          "output_type": "execute_result",
          "data": {
            "text/plain": [
              "-2.0*sin(1) + 2.0"
            ]
          },
          "metadata": {
            "tags": []
          },
          "execution_count": 27
        }
      ]
    },
    {
      "cell_type": "code",
      "metadata": {
        "id": "_Sak5pNvCqH5"
      },
      "source": [
        ""
      ],
      "execution_count": null,
      "outputs": []
    }
  ]
}