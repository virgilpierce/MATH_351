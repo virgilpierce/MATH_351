{
 "cells": [
  {
   "cell_type": "code",
   "execution_count": 1,
   "metadata": {},
   "outputs": [],
   "source": [
    "import numpy as np\n"
   ]
  },
  {
   "cell_type": "markdown",
   "metadata": {},
   "source": [
    "# Discussing the Cherry Tree Results\n",
    "\n",
    "March 28, March 20, April 1, April 5, March 25, March 25, April 10, April 10, April 9, March 20, March 29, and March 31."
   ]
  },
  {
   "cell_type": "markdown",
   "metadata": {},
   "source": [
    "# Detecting Fraud\n",
    "\n",
    "A significant use of statistics is in detecting falscifications. In fact there are really two related tasks:\n",
    "\n",
    "1. Detecting when data has been manipulated; and\n",
    "2. Purposefully obsfucating information in data.\n",
    "\n",
    "This second one can notoriously be used for unethical purposes, however it is not easy to imagine examples where it would be something a good actor wants to accomplish. It is also a useful exercise in answer 1. i.e. a big part of answering 1 is trying to understand how data might have been manipulated and detecting traces of that.\n",
    "\n",
    "This is a huge field, with many applications (like image analysis) that are well beyond the scope of our class.\n",
    "\n",
    "However the question posed in project 2 is an example of what is within our reach.\n",
    "\n",
    "## THC Concentrations\n",
    "\n",
    "Something suspicous is happening at some labs in Washington state that test for THC concentrations in consumer sold marajuana. The distribution of concentrations appear to be normal except that there is a discontinuity in the distribution at 20% with a higher density of results just above 20% than just below 20%. Here is the histogram that was found: \n",
    "\n",
    "<img src=\"Labs.png\" alt=\"Histogram of THC Concentrations in suspended Washington Labs\" width=\"300\"/>\n",
    "\n",
    "Whereas here is a distribution of test results from the largest lab in the sate:\n",
    "\n",
    "<img src=\"goodLab.png\" alt=\"Histogram of THC Concentrations in unsuspended Washington Labs\" width=\"300\"/>\n",
    "\n",
    "Suppose that you have a set of results from a lab for concentrations of 10 samples. How would you go about deciding if they have manipulated the results?  Keeping in mind that if you only have 10 samples, you can not use a historgram and look for a discontinuity in the cummulative distribution function like the authors of this study did with their thousands of results.\n",
    "\n",
    "Below I am going to summarize your proposals:"
   ]
  },
  {
   "cell_type": "markdown",
   "metadata": {},
   "source": [
    "### Proposal 1\n",
    "\n",
    "If I had to decided whether or not someone manipulated the results I would use a Hypothesis Test. I would use an Alternative Hypothesis. Since we only have limited amount of infromation I could use an Alternative Hypothesis to compare Total potential THC to factors such as Strain, water and light. By comparing the results we can see if the modificiations are increasing the amount of THC.\n",
    " \n"
   ]
  },
  {
   "cell_type": "markdown",
   "metadata": {},
   "source": [
    "### Proposal 2\n",
    "\n",
    "Approach using t - distribution, constructing confidence intervals for mu. The t - distribution is symmetric\n",
    "\n",
    "Assumption: Y_1, Y_2, Y_3,......, Y_10. Normal distribution with E(Xbar) = mu\n",
    "\n",
    "H_0 = Null Hypothesis (considered true) mu = mu_0 H_a = Alternative Hypothesis\n",
    "\n",
    "mu < mu_0 (lower - tail alternative) \n",
    "\n",
    "Rejection region = t < -t_alpha (lower - tail Rejection Region)\n",
    "\n",
    "I will start assumming that mu = 10 = mu_0, because it's a small sample test. Knowing from the experiment that there is a discontinuity at 20% = 0.20. We can have an alternative hypothesis (H_a) using a lower - tail alternative where mu < 10. The rejection error is t < -t_alpha using a lower - tail Rejection Region where t < -t_0.20. Using test Statistics T = Ybar - mu_0/(S / sqrt(n)) After finding the rejection region and solving T using the t statistics test. If the value of t falls under the rejection region, we can conclude that the results have been manipulated.\n",
    "\n"
   ]
  },
  {
   "cell_type": "markdown",
   "metadata": {},
   "source": [
    "### Proposal 3\n",
    "\n",
    "I would first do a t-distribution of our samples thenuse that to try and find the mean. To find the meanIwould find a confidence interval where the mean fallsin a range, then compare it to the data from theother labs we were given. concentration of THC inconsumer sold marijuana is above 20% and find howlikely that is based on our sample data. This helpsus determine whether that is likely or if there hasbeensome sort of manipulation to the data to give us the20% increase."
   ]
  },
  {
   "cell_type": "markdown",
   "metadata": {},
   "source": [
    "### Proposal 4\n",
    "\n",
    "To determine if the THC content in the 10 samples given to us are honest, we should compare the mean concentration of THC in the 10 samples to the true mean concentration of THC in consumer sold marajuana. As we are given the test results from the largest testing lab in the state, the mean of this data will be our approximation for the true mean of THC content. We can now form a proper hypothesis test:\n",
    "\n",
    "Our Null Hypothesis is: The mean THC content of the 10 samples is equal to the mean THC content of the largest testing lab in the state.\n",
    "\n",
    "The Alternative Hypothesis is: The mean THC content of the 10 samples is NOT equal to the mean THC content of the largest testing lab in the state.\n",
    "\n",
    "By proving the Alternative Hypothesis to be true, it is clear that the 10 sample results are not accurate.\n",
    "Our test statistic will use the Student's T distribution to find a confidence interval that the mean of the 10 samples will fall into. This confidence interval will tell us with what degree of certainty that the Alternative Hypothesis can be true."
   ]
  },
  {
   "cell_type": "markdown",
   "metadata": {},
   "source": [
    "### Proposal 5\n",
    "\n",
    "(paraphrased): In addtion to checking the mean value of the sample and comparing it with the trusted lab's results, we should also consider the median of the sample and the trusted lab's results."
   ]
  },
  {
   "cell_type": "markdown",
   "metadata": {},
   "source": [
    "### Proposal 6\n",
    "\n",
    "To start, I would estimate two intervals of the THC concentration, one with 95% confidence and one with 99% confidence. Obviously, the interval with 99% confidence is going to be more accurate, but the interval will also be larger. On the flip side, the interval with 95% confidence is less accurate, but the interval will be smaller. I would be looking to see how large both intervals are (meaning do the intervals contain a greater range of numbers). If the results have been faked, I might expect the intervals to have a smaller range of values. Data that has not been fabricated will need to have a larger interval in order to reach the desired confidence level. Depending on how good the labs are at faking results, they might have not included enough outliers that would impact the size of the interval. It would be hard to pass too much judgement on the size of the intervals without another set of samples to compare it to, but it's still a starting place. The other piece I would be looking for is if the intervals include concentrations higher or lower than 20%. From looking at the graph of \"Largest Labs (Washington)\", it looks like a confidence interval of 99% and 95% would include concentrations well below 20%, probably somewhere around 5% or even lower. A lab that has manipulated the data will probably result in 20% being at the lower end of the interval, maybe 10% will be the lowest in the range. It might not be necessary to construct both 95% and 99% confidence intervals, but it's easy to do so why not have both. I wouldn't conclude anything on the confidence intervals alone, but it would be a good first step to trying to find if the data was manipulated.\n",
    "\n",
    "The next approach I would take is conducting hypothesis testing. I'd make the null hypothesis be the mean THC concentration is below 20% so the alternative hypothesis would be the mean contentration is at or above 20%. I'd go through all the steps I go through in question 4. If there's sufficient evidence to rejet the null hypothesis, then it would most likely be the case that the results from the labs were manipulated. I'd probably want at least 95% confidence, but ideally 99%. The results could lead to shutting down a lab which impacts people's livelihoods and I don't want to be taking too much of a chance that I am wrong. I might also take a further look into the rejection region and check for the chance of Type I and Type II errors. With so few samples, it's difficult to be too sure of anything.\n"
   ]
  },
  {
   "cell_type": "markdown",
   "metadata": {},
   "source": [
    "### Proposal 7\n",
    "\n",
    "(paraphrasing):  We should consider the proportion of results posted above 20%. A higher proportion of results above 20% would be indicative of results that might have been manipulated to obtain values above the 20% threshhold.\n"
   ]
  },
  {
   "cell_type": "code",
   "execution_count": null,
   "metadata": {},
   "outputs": [],
   "source": []
  }
 ],
 "metadata": {
  "kernelspec": {
   "display_name": "Python 3",
   "language": "python",
   "name": "python3"
  },
  "language_info": {
   "codemirror_mode": {
    "name": "ipython",
    "version": 3
   },
   "file_extension": ".py",
   "mimetype": "text/x-python",
   "name": "python",
   "nbconvert_exporter": "python",
   "pygments_lexer": "ipython3",
   "version": "3.7.4"
  }
 },
 "nbformat": 4,
 "nbformat_minor": 4
}
