{
 "cells": [
  {
   "cell_type": "markdown",
   "metadata": {
    "id": "YseFbccLo0j2"
   },
   "source": [
    "## Homework - 7:  Sampling Distributions\n",
    "\n",
    "1. The logarithm of the dollar amount of the damage from a house fire (shortened here to log-damage) is a normally distributed random variable $Y$. Studies over many cities and years indicate that the variance of the logarithm of the damage is 49.2. The fire marshall of a city finds that the average log-damage of the 10 fires in the city in the last six months was $12.4$.  How confident are we that the log-damage of all fires in this city has a mean value of less than $14.0$? \n",
    "\n",
    "2. How many house fires would we need to be averaging the log-damage of to be 90% confident that the population mean (or true mean) is no more than 1.0 more than the sample mean?\n",
    "\n",
    "3. The $\\chi^2$ and $F$ distributions can similarly be used to build confidence intervals for the variances of our samples:  We have that for a sample of size $n$ from a normal distribution with variance $\\sigma$ the random variable $(n-1) S^2/\\sigma^2$ is distributed by the $\\chi^2$ distribution with $n-1$ degrees of freedom. A biologist is doing an experiment measuring the concentration of a reactant in a sample. They repeat the experiment five times and find a sample standard deviation of $S = 3.2$ parts per million. \n",
    "\n",
    "a. Find a b such that $P( (n-1) S^2 / \\sigma^2 < b) = 0.95$.\n",
    "\n",
    "b. Use this to then construct a lower bound for $\\sigma^2$ for which we are 95% certain. Hint:  You can access the $\\chi^2$ distribution similarly to how we have found the t and norm distributions.\n",
    "\n"
   ]
  },
  {
   "cell_type": "code",
   "execution_count": null,
   "metadata": {},
   "outputs": [],
   "source": []
  }
 ],
 "metadata": {
  "colab": {
   "name": "Homework - 4.ipynb",
   "provenance": []
  },
  "kernelspec": {
   "display_name": "Python 3",
   "language": "python",
   "name": "python3"
  },
  "language_info": {
   "codemirror_mode": {
    "name": "ipython",
    "version": 3
   },
   "file_extension": ".py",
   "mimetype": "text/x-python",
   "name": "python",
   "nbconvert_exporter": "python",
   "pygments_lexer": "ipython3",
   "version": "3.7.4"
  }
 },
 "nbformat": 4,
 "nbformat_minor": 4
}
