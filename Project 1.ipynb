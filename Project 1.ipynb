{
  "nbformat": 4,
  "nbformat_minor": 0,
  "metadata": {
    "kernelspec": {
      "display_name": "Python 3",
      "language": "python",
      "name": "python3"
    },
    "language_info": {
      "codemirror_mode": {
        "name": "ipython",
        "version": 3
      },
      "file_extension": ".py",
      "mimetype": "text/x-python",
      "name": "python",
      "nbconvert_exporter": "python",
      "pygments_lexer": "ipython3",
      "version": "3.7.4"
    },
    "colab": {
      "name": "Project 1.ipynb",
      "provenance": []
    }
  },
  "cells": [
    {
      "cell_type": "markdown",
      "metadata": {
        "id": "UzXcxmfztsMZ"
      },
      "source": [
        "# Project 1\n",
        "\n",
        "Finding distributions for functions of random variables is, it turns out, a really convenient topic to summarize the first part of this class and so to use for Project 1. You are encouraged to use Python for the integrals in this project, however they are not so complicated that you could not do them by hand so whichever method you prefer is what you can use.\n",
        "\n",
        "Please answer the four questions here, and then proceed to flipgrid at the link on the bottom to submit a video of your solutions. After the due date all of your videos will be released so you can see what other students in the class did.\n",
        "\n",
        "1. Consider $Y$ a exponentially distributed random variable on the interval with mean 1. Compute the variance of $Y$.\n",
        "\n",
        "2. Now consider a sample of two values $Y_1$ and $Y_2$ independently pulled from this distribution. Compute the expected value and the variance of the mean of these two values:  $U = \\frac12 Y_1 + \\frac12 Y_2$\n",
        "\n",
        "3. Use one of our methods from class to find the distribution of the mean of these two values and plot the resulting density.\n",
        "\n",
        "4. Do 2. and 3. increasing the size of the sample to 3, then 4 and then 5. Can you identify a pattern for the expected value, the variance, and the density?\n",
        "\n",
        "5. Discuss what it looks like we will get for the density as the size of the sample becomes large."
      ]
    },
    {
      "cell_type": "markdown",
      "metadata": {
        "id": "IGfa60wPtsMe"
      },
      "source": [
        "Proceed to the link on Flipgrid: [https://flipgrid.com/c544a8ba](https://flipgrid.com/c544a8ba) to submit a 10 minute video about your answers to 1-5 and your conclusions you are reaching for 5."
      ]
    },
    {
      "cell_type": "code",
      "metadata": {
        "id": "gir_ffv8tsMf"
      },
      "source": [
        ""
      ],
      "execution_count": null,
      "outputs": []
    }
  ]
}