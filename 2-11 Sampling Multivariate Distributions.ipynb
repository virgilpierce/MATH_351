{
  "nbformat": 4,
  "nbformat_minor": 0,
  "metadata": {
    "kernelspec": {
      "display_name": "Python 3",
      "language": "python",
      "name": "python3"
    },
    "language_info": {
      "codemirror_mode": {
        "name": "ipython",
        "version": 3
      },
      "file_extension": ".py",
      "mimetype": "text/x-python",
      "name": "python",
      "nbconvert_exporter": "python",
      "pygments_lexer": "ipython3",
      "version": "3.7.4"
    },
    "colab": {
      "name": "2-11 Sampling Multivariate Distributions.ipynb",
      "provenance": []
    }
  },
  "cells": [
    {
      "cell_type": "code",
      "metadata": {
        "id": "-6fOxeZvDOQg"
      },
      "source": [
        "import numpy as np\n",
        "import scipy.integrate as integrate\n",
        "import matplotlib.pyplot as plt"
      ],
      "execution_count": 1,
      "outputs": []
    },
    {
      "cell_type": "markdown",
      "metadata": {
        "id": "qDCHEX0kDOQl"
      },
      "source": [
        "### Example: Independence\n",
        "\n",
        "We start today with an example of a joint distribution:\n",
        "\n",
        "$$ f(y_1, y_2) = \\frac{1}{2\\pi} e^{-y_1^2 - y_2^2} $$\n",
        "\n",
        "Show that $Y_1$ and $Y_2$ with this density will be independent.\n"
      ]
    },
    {
      "cell_type": "markdown",
      "metadata": {
        "id": "4iFGKVeWEGHQ"
      },
      "source": [
        "$$ e^{a+b} = e^a e^b $$\r\n",
        "\r\n",
        "$$ f(y_1, y_2) = \\frac{1}{2\\pi} e^{-y_1^2 - y_2^2} = \\frac{1}{2\\pi} e^{-y_1^2} e^{-y_2^2} $$\r\n",
        "\r\n",
        "We can actually split up the 1/2pi and get:\r\n",
        "\r\n",
        "$$ f(y_1, y_2) = \\left[ \\frac{1}{\\sqrt{2\\pi}} e^{-y_1^2} \\right] \\left[ \\frac{1}{\\sqrt{2\\pi}} e^{-y_2^2} \\right] $$\r\n",
        "\r\n",
        "\r\n",
        "$Y_1$ and $Y_2$ with this density are indepdent (standard) normal random variables."
      ]
    },
    {
      "cell_type": "markdown",
      "metadata": {
        "id": "pDmGXNw5DOQl"
      },
      "source": [
        "### Example: Dependence\n",
        "\n",
        "Now consider \n",
        "\n",
        "$$ f(y_1, y_2) = C e^{-y_1^2 - y_2^2 - 1.25 y_1 y_2 }  $$\n",
        "\n",
        "Compute (approximately) the value of C needed to make this a valid density function and then show that $Y_1$ and $Y_2$ with this density are dependent.\n",
        "\n"
      ]
    },
    {
      "cell_type": "markdown",
      "metadata": {
        "id": "C5Q0PIAbDOQl"
      },
      "source": [
        "### Example: Dependent Variables Expected Value\n",
        "\n",
        "Compute the expected value of $Y_1 Y_2$ for the density function $f(y_1, y_2)$ above."
      ]
    },
    {
      "cell_type": "code",
      "metadata": {
        "id": "AW4JSNAVGghU",
        "outputId": "68650a2e-fd0b-4e1c-ceb6-b5b1295d91b7",
        "colab": {
          "base_uri": "https://localhost:8080/"
        }
      },
      "source": [
        "def f(y1, y2):\r\n",
        "\r\n",
        "  return np.exp(-y1**2 - y2**2 -1.25* y1*y2 )\r\n",
        "\r\n",
        "C = 1/integrate.dblquad( f, -10, 10, lambda y2: -10, lambda y2: 10  )[0]\r\n",
        "\r\n",
        "C\r\n"
      ],
      "execution_count": 5,
      "outputs": [
        {
          "output_type": "execute_result",
          "data": {
            "text/plain": [
              "0.24848057526102327"
            ]
          },
          "metadata": {
            "tags": []
          },
          "execution_count": 5
        }
      ]
    },
    {
      "cell_type": "code",
      "metadata": {
        "id": "uaoKDCEiHcwE",
        "outputId": "45a96c8a-df26-46d1-be59-2341c0f0ac9e",
        "colab": {
          "base_uri": "https://localhost:8080/"
        }
      },
      "source": [
        "def f(y1, y2):\r\n",
        "\r\n",
        "  return C*np.exp(-y1**2 - y2**2 -1.25* y1*y2 )\r\n",
        "\r\n",
        "integrate.dblquad(f, -10, 10, lambda y2: -10, lambda y2: 10  )[0]"
      ],
      "execution_count": 6,
      "outputs": [
        {
          "output_type": "execute_result",
          "data": {
            "text/plain": [
              "0.9999999999999989"
            ]
          },
          "metadata": {
            "tags": []
          },
          "execution_count": 6
        }
      ]
    },
    {
      "cell_type": "code",
      "metadata": {
        "id": "YTR38-92HntT",
        "outputId": "c99691b9-4c43-4ecd-df79-243ffeec7d41",
        "colab": {
          "base_uri": "https://localhost:8080/"
        }
      },
      "source": [
        "def E(y1, y2):\r\n",
        "\r\n",
        "  return C*y1*y2*np.exp(-y1**2 - y2**2 -1.25* y1*y2 )\r\n",
        "\r\n",
        "integrate.dblquad(E, -10, 10, lambda y2: -10, lambda y2: 10  )[0]"
      ],
      "execution_count": 7,
      "outputs": [
        {
          "output_type": "execute_result",
          "data": {
            "text/plain": [
              "-0.5128205128205092"
            ]
          },
          "metadata": {
            "tags": []
          },
          "execution_count": 7
        }
      ]
    },
    {
      "cell_type": "markdown",
      "metadata": {
        "id": "1PMp3IitDOQm"
      },
      "source": [
        "### Example: Independent Variables Expected Value\n",
        "\n",
        "Note that in the case of indepedent variables: $f(y_1, y_2) = f_1(y_1) f_2(y_2)$ show that $$ E( Y_1 Y_2) = E(Y_1) E(Y_2)$$\n",
        "\n",
        "More generally for independent variables:\n",
        "\n",
        "$$ E( g(Y_1) h(Y_2) ) = E( g(Y_1) ) E( h(Y_2) ) $$"
      ]
    },
    {
      "cell_type": "markdown",
      "metadata": {
        "id": "ixGHFbJCDOQm"
      },
      "source": [
        "# Sampling Dependent Random Variables\n",
        "\n",
        "Note that sampling independent random variables is easy, we just sample each one separately.\n",
        "\n",
        "Sampling dependent random variables is a hard problem (that is not completely solved at this point - there is research for YOU to do here!!!!)\n",
        "\n",
        "We'll see today what is called the **Metropolis Algorithm** which does a resonably good job and runs fast enough.\n",
        "\n"
      ]
    },
    {
      "cell_type": "code",
      "metadata": {
        "id": "jTmzBHLgDOQm",
        "outputId": "5c90ca9f-b811-47b3-b85c-da988d26b2ca",
        "colab": {
          "base_uri": "https://localhost:8080/"
        }
      },
      "source": [
        "f = lambda y1, y2: np.exp(-y1**2 - y2**2 - 1.25 *y1 *y2 )\n",
        "C = integrate.dblquad(f, -20, 20, lambda x2: -20, lambda x2: 20)[0]\n",
        "C"
      ],
      "execution_count": 8,
      "outputs": [
        {
          "output_type": "execute_result",
          "data": {
            "text/plain": [
              "4.02445945301314"
            ]
          },
          "metadata": {
            "tags": []
          },
          "execution_count": 8
        }
      ]
    },
    {
      "cell_type": "code",
      "metadata": {
        "id": "KvSz95BvDOQo"
      },
      "source": [
        "f = lambda y1, y2: np.exp(-y1**2 -y2**2 - 1.25 *y1 *y2)/C"
      ],
      "execution_count": 9,
      "outputs": []
    },
    {
      "cell_type": "code",
      "metadata": {
        "id": "givc07B6DOQp"
      },
      "source": [
        "# let's plot this density function first\n",
        "\n",
        "delta = 0.025\n",
        "x1 = np.arange(-2.0, 2.0, delta)\n",
        "x2 = np.arange(-2.0, 2.0, delta)\n",
        "xx1, xx2 = np.meshgrid(x1, x2)\n",
        "n1, n2 = xx1.shape\n",
        "\n",
        "ZZ = []\n",
        "for k1 in range(n1):\n",
        "    temp = []\n",
        "    for k2 in range(n2):\n",
        "        temp += [ f(xx1[k1, k2], xx2[k1, k2]) ]\n",
        "    ZZ += [temp ]"
      ],
      "execution_count": 10,
      "outputs": []
    },
    {
      "cell_type": "code",
      "metadata": {
        "id": "MsdbxG3ADOQp",
        "outputId": "9287339b-6099-40ad-f722-9d144c27590b",
        "colab": {
          "base_uri": "https://localhost:8080/",
          "height": 282
        }
      },
      "source": [
        "plt.contour(xx1, xx2, ZZ)"
      ],
      "execution_count": 11,
      "outputs": [
        {
          "output_type": "execute_result",
          "data": {
            "text/plain": [
              "<matplotlib.contour.QuadContourSet at 0x7fbaafd28fd0>"
            ]
          },
          "metadata": {
            "tags": []
          },
          "execution_count": 11
        },
        {
          "output_type": "display_data",
          "data": {
            "image/png": "[encoded data removed]",
            "text/plain": [
              "<Figure size 432x288 with 1 Axes>"
            ]
          },
          "metadata": {
            "tags": [],
            "needs_background": "light"
          }
        }
      ]
    },
    {
      "cell_type": "markdown",
      "metadata": {
        "id": "nsfSi7z4DOQp"
      },
      "source": [
        "Our goal would be to produce a sequence of values whose distribution will match this one.\n",
        "\n",
        "The metropolis algorithm does the following. Starting from the previous values we found, we choose a prospective new pair of values for our random variables from a normal distribution with independent normal distributions with means at the previous values and variances 1. \n",
        "\n",
        "We then compute the ratio between the density at the prospective values and the density at the previous values.\n",
        "\n",
        "We then choose a random number from the uniform distribution on $[0, 1]$. If this number is less than the ratio above, then we accept the prospective values as our next values in the sample. Otherwise, we reject the prospective value and go back to selecting one."
      ]
    },
    {
      "cell_type": "code",
      "metadata": {
        "id": "gkfo6uGkDOQq"
      },
      "source": [
        "sample = [ np.random.standard_normal(2) ]\n",
        "# We choose a random pair of numbers as our initial value\n",
        "\n",
        "# Note be careful here, if our initial seed is bad or if our variance \n",
        "# for the prospective values is to high this thing could run a long time\n",
        "#\n",
        "# I generally try to avoid while loops, but in this case we want to make sure we get\n",
        "# a full size sample.\n",
        "while len(sample) < 10000:\n",
        "    \n",
        "    xstar = np.random.standard_normal(2)*1 + sample[-1]\n",
        "    alpha = f(xstar[0], xstar[1]) / f(sample[-1][0], sample[-1][1] )\n",
        "    \n",
        "    if np.random.rand() < alpha:\n",
        "        sample += [ xstar ]"
      ],
      "execution_count": 15,
      "outputs": []
    },
    {
      "cell_type": "markdown",
      "metadata": {
        "id": "ENR8JBgkDOQq"
      },
      "source": [
        "The problem is that in this process the values close to each other in our sample are dependent on each other. One way to avoid this is to prune the sample by taking only every few members and not using sequences. \n",
        "\n",
        "Another problem is that the first few members of the sample are dependent on our initial seed. We can avoid this by discarding the an initial portion of the sample."
      ]
    },
    {
      "cell_type": "code",
      "metadata": {
        "id": "yWRp3F3dDOQq",
        "outputId": "0549ecb0-ba7c-4dae-8bfc-e1e379572151",
        "colab": {
          "base_uri": "https://localhost:8080/",
          "height": 282
        }
      },
      "source": [
        "xx = [ sample[5*k][0] for k in range(600, len(sample)//5 )  ]\n",
        "yy = [ sample[5*k][1] for k in range(600, len(sample)//5 ) ]\n",
        "\n",
        "plt.plot(xx, yy, 'b.')"
      ],
      "execution_count": 16,
      "outputs": [
        {
          "output_type": "execute_result",
          "data": {
            "text/plain": [
              "[<matplotlib.lines.Line2D at 0x7fbaaf3b9400>]"
            ]
          },
          "metadata": {
            "tags": []
          },
          "execution_count": 16
        },
        {
          "output_type": "display_data",
          "data": {
            "image/png": "[encoded data removed]",
            "text/plain": [
              "<Figure size 432x288 with 1 Axes>"
            ]
          },
          "metadata": {
            "tags": [],
            "needs_background": "light"
          }
        }
      ]
    },
    {
      "cell_type": "code",
      "metadata": {
        "id": "ZeKUrWCHDOQr"
      },
      "source": [
        ""
      ],
      "execution_count": null,
      "outputs": []
    },
    {
      "cell_type": "code",
      "metadata": {
        "id": "VTO4lyJ9DOQr"
      },
      "source": [
        ""
      ],
      "execution_count": null,
      "outputs": []
    }
  ]
}