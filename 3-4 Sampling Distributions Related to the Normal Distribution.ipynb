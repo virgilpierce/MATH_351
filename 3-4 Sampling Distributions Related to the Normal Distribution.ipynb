{
 "cells": [
  {
   "cell_type": "code",
   "execution_count": 1,
   "metadata": {},
   "outputs": [],
   "source": [
    "import numpy as np\n",
    "import sympy as sp"
   ]
  },
  {
   "cell_type": "markdown",
   "metadata": {},
   "source": [
    "# Sampling Distributions from the Normal Distribution\n",
    "\n",
    "So we have done the hardwork. We now understand how to take a sample from a known distribution, compute statistics from it and then derive densities and distributions describing them directly. This is, the key idea that will drive much of what we do for the rest of the semester. So now it is time to start cashing in on it. \n",
    "\n",
    "What we will see next week is the normal distribution is particularly special, so it is worth taking some time and describing carefully the consequences of the results from the last week in this specific context.\n",
    "\n",
    "## The Mean of a Sample of the Normal Distribution\n",
    "\n",
    "The obvious place to start is the mean. Let $Y_1, Y_2, \\dots, Y_n$ be a random sample of size $n$ from a normal distribution with mean $\\mu$ and variance $\\sigma^2$. Define the statistic the mean of this sample:\n",
    "\n",
    "$$\\bar{Y} = \\frac{1}{n} \\sum_{i=1}^n Y_i $$ \n",
    "\n",
    "What is the $$\\mu_{\\bar{Y}} = E(\\bar{Y}) $$ and $$ \\sigma_{\\bar{Y}} = V(\\bar{Y})$$\n"
   ]
  },
  {
   "cell_type": "markdown",
   "metadata": {},
   "source": [
    "## The Distribution of $\\bar{Y}$ \n",
    "\n",
    "We will show that $\\bar{Y}$ is a normally distributed random variable with mean $\\mu$ and variance $\\sigma^2/n$. In fact more generally we will show that any linear combination of independent normal random variables is itself a normal random variable. This can be done efficiently by the method of generating functions and using the independece of the random variables. Let:\n",
    "\n",
    "$$ U = a_1 Y_1 + a_2 Y_2 + \\dots + a_n Y_n$$ \n",
    "\n",
    "We note that the moment generating function of the $Y_i$ is:\n",
    "\n",
    "$$m_{Y_i}(t) = e^{\\mu_i t + \\sigma_i^2 t /2} $$\n",
    "\n",
    "We then note that the \n",
    "\n",
    "$$ m_{a_i Y_i}(t) = E( e^{t a_i Y_i} ) = m_{Y_i}( a_i t) $$\n",
    "\n",
    "by just passing the parameter from the random variable to the argument.\n",
    "\n",
    "Finally we note that \n",
    "\n",
    "$$ m_{a_i Y_i + a_j Y_j }(t) = E( e^{t a_i Y_i + t a_j Y_j} ) = m_{Y_i}(a_i t) m_{Y_j}(a_j t) $$\n",
    "\n",
    "and putting it all together we have:\n",
    "\n",
    "$$ m_{U}(t) = e^{ t \\sum a_i \\mu_i + t^2/2 \\sum a_i^2 \\sigma_i^2 } $$\n",
    "\n",
    "And so $U$ is normally distributed with mean $\\sum a_i \\mu_i$ and variance $\\sum a_i^2 \\sigma_i^2 $"
   ]
  },
  {
   "cell_type": "markdown",
   "metadata": {},
   "source": [
    "### Example\n",
    "\n",
    "A bar owner is wondering how much whiskey their bartenders using in making drinks. Assuming that the amount used is a normally distributed random varialbe with mean $\\mu$, and that we know the standard deviation in pours is 1 ounce. What the owner does is use a bottle meter to track how much is used. How many observations should be collected if we wish the mean of the sample to be with 0.1 ounces of $\\mu$ with probability 0.95?"
   ]
  },
  {
   "cell_type": "markdown",
   "metadata": {},
   "source": [
    "## Squares of a Normal Sample\n",
    "\n",
    "Let $Z_1, Z_2, \\dots, Z_n$ be a sample of n values from the standard normal distribution. Then \n",
    "\n",
    "$$\\sum Z_i^2 $$ \n",
    "\n",
    "has what is called a $\\chi^2$ distribution with $n$ degrees of freedom. \n",
    "\n",
    "The density is given by:\n",
    "\n",
    "$$ f(y) = \\frac{y^{n/2 - 1} e^{-y/2} }{2^{n/2} \\Gamma(n/2) } $$\n",
    "\n",
    "Why would we be interested in such a result?"
   ]
  },
  {
   "cell_type": "markdown",
   "metadata": {},
   "source": [
    "### Mean and Variance of the $\\chi^2$ distribution\n",
    "\n",
    "The mean of the $\\chi^2$ distribution is n; and the variance is $2 n$."
   ]
  },
  {
   "cell_type": "markdown",
   "metadata": {},
   "source": [
    "## Estimating the Variance from a Sample\n",
    "\n",
    "So as you noted, the reason we might want to know what the distribution of $\\sum Z_i^2$ is, is that we might be computing the variance of a population from a random sample.\n",
    "\n",
    "Suppose for example the $Y_1, Y_2, \\dots Y_n$ is a sample from a normal distribution with an unknown mean $\\mu$ and unkknown variance $\\sigma^2$. \n",
    "\n",
    "You see the problem?  In order to estimate how good $\\bar{Y}$ is at predicting $\\mu$, we need to know $\\sigma$. But unless we have already studied this population how can we find $\\sigma$?\n",
    "\n",
    "Let $$ S^2 = \\frac{1}{n-1} \\sum_{i=1}^n (Y_i - \\bar{Y})^2 $$\n",
    "\n",
    "(side note - the $n-1$ here is annoying. The idea is that we should divide by the number of degrees of freedom, and because we are computing $\\bar{Y}$ from the same sample we have used one degree of freedom already. I know. I know. **Think about what this means when n=1.  Surely $S^2 = 0$ is not a good estimate for the variance.**\n",
    "\n",
    "The result is then that \n",
    "\n",
    "$$ \\frac{ (n-1) S^2 }{\\sigma^2} = \\frac{1}{\\sigma^2} \\sum (Y_i - \\bar{Y})^2 $$\n",
    "\n",
    "has a $\\chi^2$ distribution with $n-1$ degrees of freedom. \n",
    "\n",
    "Let's do the proof when $n=2$. Substitute in for $\\bar{Y}$ and you see where the $n-1$ comes from at least in this case.\n"
   ]
  },
  {
   "cell_type": "markdown",
   "metadata": {},
   "source": [
    "### Furthermore\n",
    "\n",
    "The $S^2$ and $\\bar{Y}$ turn out to also be independent random variables."
   ]
  },
  {
   "cell_type": "markdown",
   "metadata": {},
   "source": [
    "## Summing Up\n",
    "\n",
    "So again we have seen that if we know $\\sigma$ then we can understand our $\\bar{Y}$ as an estimate for $\\mu$ by using the result that \n",
    "\n",
    "$$ \\sqrt{n} (\\bar{Y} - \\mu) / \\sigma  $$ \n",
    "\n",
    "has a *Standard Normal Distribution*.  However this means we must be studying a population for which we know $\\sigma$. \n",
    "\n",
    "We can now consider the random variable found by replacing the $\\sigma$ above with our estimate $S$.  Remember $S$ is itself a random variable, so while this will give us something it would be shocking if it was normal:\n",
    "\n",
    "The variable:\n",
    "\n",
    "$$ T = \\sqrt{n} \\left( \\frac{\\bar{Y} - \\mu}{S} \\right) $$ \n",
    "\n",
    "satisfies a dsitribution named *Student's t distribution* with $n-1$ degrees of freedom. Students t distribution is dfined to be the result just this combination of distributions. \n",
    "\n",
    "This thing is a pain to use the way we have been doing distributions so far and it is just not worth it. So let's introduce the scipy distribution packages. [https://docs.scipy.org/doc/scipy/reference/stats.html](https://docs.scipy.org/doc/scipy/reference/stats.html)."
   ]
  },
  {
   "cell_type": "markdown",
   "metadata": {},
   "source": [
    "### An example to cut our teeth with\n",
    "\n",
    "We have the weight of five high school wrestlers:  150, 152, 155, 155, and 160. Assuming that these are sampled from a normal distirbution with unkown mean $\\mu$ and unkown variance $\\sigma$. Let's use use the students $T$ distribution to find an interval about $\\bar{Y}$ where we are 90% certain $\\mu$ is located. "
   ]
  },
  {
   "cell_type": "markdown",
   "metadata": {},
   "source": [
    "## Comparing two variances\n",
    "\n",
    "Suppose that $W_1$ and $W_2$ are to indepdent $\\chi^2$-distributed random variables with $\\nu_1$ and $\\nu_2$ degrees of freedom. Then \n",
    "\n",
    "$$ F = \\frac{ W_1/\\nu_1}{W_2 / \\nu_2} $$ is said to have an F distribution with $\\nu_1$ numerator degrees of freedom and $\\nu_2$ denomoninator degrees of freedom. \n",
    "\n",
    "In practice this is used by connecting it back to the sample and population variances, the ration of which is the respective $W_i/\\nu_i$ in this result."
   ]
  },
  {
   "cell_type": "markdown",
   "metadata": {},
   "source": [
    "### Example \n",
    "\n",
    "Show that if we take independent samples of size $n_1 = 4$ and $n_2 = 8$ from two normal populations with the same variance, then find the upper bound $b$ such that \n",
    "\n",
    "$$ P( \\frac{S_1^2}{S_2^2} < b ) = 0.95 $$"
   ]
  },
  {
   "cell_type": "code",
   "execution_count": null,
   "metadata": {},
   "outputs": [],
   "source": []
  }
 ],
 "metadata": {
  "kernelspec": {
   "display_name": "Python 3",
   "language": "python",
   "name": "python3"
  },
  "language_info": {
   "codemirror_mode": {
    "name": "ipython",
    "version": 3
   },
   "file_extension": ".py",
   "mimetype": "text/x-python",
   "name": "python",
   "nbconvert_exporter": "python",
   "pygments_lexer": "ipython3",
   "version": "3.7.4"
  }
 },
 "nbformat": 4,
 "nbformat_minor": 4
}
