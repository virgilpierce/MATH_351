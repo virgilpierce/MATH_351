{
 "cells": [
  {
   "cell_type": "code",
   "execution_count": null,
   "metadata": {},
   "outputs": [],
   "source": [
    "import numpy as np"
   ]
  },
  {
   "cell_type": "markdown",
   "metadata": {},
   "source": [
    "# Confidence Intervals\n",
    "\n",
    "A common task is to use the result of our point estimator together with its mean square error to compute an interval in which we expect to often see the parameter of interest. Again we will assign a level of confidence to this statement in the form of a probability, and our interpretation of that is that it is a statement about the repeatability of the result. \n",
    "\n",
    "## Example\n",
    "\n",
    "We are going to sample an exponential random variable $Y$ once and use that value to estimate the mean $\\theta$ of the distribution.  We will then use the value of $Y$ to construct an interval in which we are 99% confident we will find $\\theta$.\n",
    "\n",
    "The PDF for the distribution is therefore:\n",
    "\n",
    "$$ f(y) = \\left\\{ \\begin{matrix} \\frac{1}{\\theta} e^{-y/\\theta} & y \\geq 0 \\\\ 0 & \\mbox{otherwise} \\end{matrix} \\right. $$\n",
    "\n",
    "The standard exponential (the exponential distribution with mean 1) is found from $Y$ by scaling it by $\\theta$:  \n",
    "\n",
    "$$ U = Y / \\theta $$ \n",
    "\n",
    "will have the distribution \n",
    "\n",
    "$$ f_U(u) = \\left\\{ \\begin{matrix} e^{-u} & u \\geq 0 \\\\ 0 & \\mbox{otherwise} \\end{matrix} \\right. $$\n",
    "\n",
    "Which we need because this is the exponential distribution encoded in scipy.stats.expon.\n",
    "\n",
    "We need to find two numbers $a$ and $b$ such that \n",
    "\n",
    "$$ P(a < U < b) = 0.99 $$\n",
    "\n",
    "Usually we would do this so that the tails are symmetric:\n",
    "\n",
    "$$ P( U < a) = 0.005 \\quad \\mbox{and} \\quad P(U > b) = 0.005 $$\n",
    "\n",
    "However it is worth noting that there are cases where we might want to have this be asymmetric such as by taking a=0 and choosing the b tail to have size 0.01."
   ]
  },
  {
   "cell_type": "code",
   "execution_count": null,
   "metadata": {},
   "outputs": [],
   "source": [
    "# let's bring in the relevant distribution\n",
    "\n",
    "from scipy.stats import expon"
   ]
  },
  {
   "cell_type": "code",
   "execution_count": null,
   "metadata": {},
   "outputs": [],
   "source": [
    "# We can find a by using the ppf, the inverse cdf:\n",
    "\n",
    "a = expon.ppf(0.005)\n",
    "a"
   ]
  },
  {
   "cell_type": "code",
   "execution_count": null,
   "metadata": {},
   "outputs": [],
   "source": [
    "# Check with the CDF that this is the left tail at size 0.005\n",
    "\n",
    "expon.cdf(a)"
   ]
  },
  {
   "cell_type": "code",
   "execution_count": null,
   "metadata": {},
   "outputs": [],
   "source": [
    "# To find b we need to take 1 - 0.005 as our inverse for the cdf:\n",
    "\n",
    "b = expon.ppf(1-0.005)\n",
    "b"
   ]
  },
  {
   "cell_type": "code",
   "execution_count": null,
   "metadata": {},
   "outputs": [],
   "source": [
    "# Check that the density between a and b is the 0.99 we want\n",
    "\n",
    "expon.cdf(b) - expon.cdf(a)"
   ]
  },
  {
   "cell_type": "markdown",
   "metadata": {},
   "source": [
    "Note why this example is not symmetric:  We are using a distribution that is skewed left and only supported from $[0, \\infty)$.\n",
    "\n",
    "Okay so we have that:\n",
    "\n",
    "$$ 0.99 = P(a < \\frac{Y}{\\theta} < b ) $$ \n",
    "\n",
    "and therefore solving for $\\theta$ we get:\n",
    "\n",
    "$$ 0.99 = P( \\frac{Y}{b} < \\theta < \\frac{Y}{a} ) $$\n",
    "\n",
    "Noting that we had to flip the inequalities when we took the reciprical. \n",
    "\n",
    "#### Suppose $Y= 5$\n",
    "\n",
    "Then our conclusion is that there is a 99% probability that the mean of the exponential distribution we just sampled is in the interval:"
   ]
  },
  {
   "cell_type": "code",
   "execution_count": null,
   "metadata": {},
   "outputs": [],
   "source": [
    "(5/b, 5/a)"
   ]
  },
  {
   "cell_type": "markdown",
   "metadata": {},
   "source": [
    "#### Why so big?\n",
    "\n",
    "This interval is huge!  Why is it so big?\n",
    "\n",
    "Again we see these competing tensions:  adjusting our confidence will adjust the size of the region we end up with; and sampling our variable enough times will change the distribution for our point estimate."
   ]
  },
  {
   "cell_type": "markdown",
   "metadata": {},
   "source": [
    "## Using a Point Estimate from a Sample\n",
    "\n",
    "Consider the following sample from the exponential distribution with mean $\\theta$.  Let's pretend we do not know what $\\theta$ is:"
   ]
  },
  {
   "cell_type": "code",
   "execution_count": null,
   "metadata": {},
   "outputs": [],
   "source": [
    "n = 20\n",
    "sample = expon.rvs(size=n)*10\n",
    "sample"
   ]
  },
  {
   "cell_type": "code",
   "execution_count": null,
   "metadata": {},
   "outputs": [],
   "source": [
    "# Our point estimate for the distribution mean would be the sample mean:\n",
    "\n",
    "Ybar = np.mean(sample)\n",
    "Ybar"
   ]
  },
  {
   "cell_type": "markdown",
   "metadata": {},
   "source": [
    "Which we expect to be normally distributed with mean $\\theta$ and variance $\\sigma^2 / \\sqrt{n}$.  The problem is that we do not know $\\sigma^2$.  We can use the sample variance $s^2$ instead, but it means rather than a normal distribution we expect that \n",
    "\n",
    "$$ T = \\sqrt{n} \\frac{\\bar{Y} - \\theta}{s} $$\n",
    "\n",
    "will satisfy the Student's T distribution with $n-1$ degrees of freedom."
   ]
  },
  {
   "cell_type": "code",
   "execution_count": null,
   "metadata": {},
   "outputs": [],
   "source": [
    "# Let me introduce you to the numpy.std function for finding standard deviations;\n",
    "# you need to pass it a ddof of 1 to get the sample standard deviation.\n",
    "\n",
    "s = np.std(sample, ddof=1)\n",
    "s"
   ]
  },
  {
   "cell_type": "code",
   "execution_count": null,
   "metadata": {},
   "outputs": [],
   "source": [
    "# The next step is to find the interval\n",
    "\n",
    "# import the t distribution\n",
    "\n",
    "from scipy.stats import t"
   ]
  },
  {
   "cell_type": "code",
   "execution_count": null,
   "metadata": {},
   "outputs": [],
   "source": [
    "# we will use symmetric tails with density 0.005\n",
    "\n",
    "a = -t.ppf(0.005, n-1)\n",
    "a"
   ]
  },
  {
   "cell_type": "code",
   "execution_count": null,
   "metadata": {},
   "outputs": [],
   "source": [
    "# check that our interval has the correct density\n",
    "\n",
    "t.cdf(a, n-1) - t.cdf(-a, n-1)"
   ]
  },
  {
   "cell_type": "markdown",
   "metadata": {},
   "source": [
    "So what we now have is that:\n",
    "\n",
    "$$ 0.99 = P(-a < \\sqrt{n} \\frac{\\bar{Y} - \\theta}{s} < a ) $$\n",
    "\n",
    "Solving for $\\theta$ we get:\n",
    "\n",
    "$$ \\bar{Y} - \\frac{a s}{\\sqrt{n}} < \\theta < \\bar{Y} + \\frac{a s}{\\sqrt{n}} $$\n",
    "\n",
    "Or in other words $\\theta$ is in the following interval with 99% probability:"
   ]
  },
  {
   "cell_type": "code",
   "execution_count": null,
   "metadata": {},
   "outputs": [],
   "source": [
    "(Ybar - a*s/np.sqrt(n), Ybar + a*s/np.sqrt(n) )"
   ]
  },
  {
   "cell_type": "markdown",
   "metadata": {},
   "source": [
    "## Discussion\n",
    "\n",
    "Note that 99% confident is pretty confident. Redo the computaiton above but looking for an interval with only 90% confidence. 10% of the time we will have the wrong conclusion!"
   ]
  },
  {
   "cell_type": "code",
   "execution_count": null,
   "metadata": {},
   "outputs": [],
   "source": [
    "n = 20\n",
    "\n",
    "for k in range(100):\n",
    "    sample = expon.rvs(size=n)*10\n",
    "    Ybar = np.mean(sample)\n",
    "    s = np.std(sample, ddof=1)\n",
    "    a = -t.ppf(0.05, n-1)\n",
    "    \n",
    "    l = Ybar - a*s/np.sqrt(n)\n",
    "    u = Ybar + s*s/np.sqrt(n)\n",
    "    \n",
    "    # check if 10 is in the interval and print in red; else print in black  \n",
    "    if l > 10 or u < 10:\n",
    "        print('\\033[91m' + str((l, u )) + '\\033[0m' )\n",
    "    else:\n",
    "        print((l, u))"
   ]
  },
  {
   "cell_type": "markdown",
   "metadata": {},
   "source": [
    "## Mean Differences\n",
    "\n",
    "The following prices of White Tuna Packed in Oil or Water were collected by sampling major brands at a local super market:"
   ]
  },
  {
   "cell_type": "code",
   "execution_count": null,
   "metadata": {},
   "outputs": [],
   "source": [
    "oil = [1.27, 1.22, 1.19, 1.22]\n",
    "water = [1.49, 1.29, 1.27, 1.35, 1.29, 1.00, 1.27, 1.28]"
   ]
  },
  {
   "cell_type": "markdown",
   "metadata": {},
   "source": [
    "The sample means are:"
   ]
  },
  {
   "cell_type": "code",
   "execution_count": null,
   "metadata": {},
   "outputs": [],
   "source": [
    "np.mean(oil), np.mean(water)"
   ]
  },
  {
   "cell_type": "markdown",
   "metadata": {},
   "source": [
    "We wish to find a confidence interval for the difference between the population means for White Tuna Packed in Water or Oil. \n",
    "\n",
    "Note that we expect the statistic:\n",
    "\n",
    "$$ Z = \\frac{\\bar{Y_1} - \\bar{Y_2} - (\\mu_1 - \\mu_2) }{\\sqrt{ \\sigma_1^2/n_1 + \\sigma_2^2/n_2 }} $$\n",
    "\n",
    "to be a normally distributed. Assuming that $\\sigma$ is equal for the two populations this would be:\n",
    "\n",
    "$$ Z = \\frac{\\bar{Y_1} - \\bar{Y_2} - (\\mu_1 - \\mu_2) }{ \\sigma \\sqrt{ 1/n_1 + 1/n_2} } $$\n",
    "\n",
    "However note that for this problem we do not know $\\sigma_1$ or $\\sigma_2$, or $\\sigma$ for that matter. The assumption that two very similar products have the same variance is a common one so we could proceed with that and use what is called a **pooled estimator** for the $\\sigma$:\n",
    "\n",
    "$$ S_p^2 = \\frac{ (n_1 -1 ) S_1^2 + (n_2 - 1) S_2^2 }{n_1 + n_2 - 2} $$\n",
    "\n",
    "To explain where this comes from:  \n",
    "\n",
    "- note that we multiply the individual sample variances by their denominator.\n",
    "- We compute the sum of the squares of the differences of each sample from the corresponding sample mean and add these\n",
    "- then we divide by the degrees of freedom:  $n_1 + n_2 - 2$  The reason there are 2 less degrees of freedom is becuase we have two means.\n",
    "\n",
    "- The other way to think about the pooled estimator is that it is the weighted average of the sample variances; weighted by the number of degrees of freedom.\n",
    "\n",
    "Then we can use $S_p$ in our Student's T distirbution with $n_1 + n_2 - 2$ degrees of freedom:\n",
    "\n",
    "$$ T = \\frac{ \\bar{Y_1} - \\bar{Y_2} - (\\mu_1 - \\mu_2) }{ S_p \\sqrt{1/n_1 + 1/n_2} }$$\n",
    "\n",
    "We will get that:\n",
    "\n",
    "$$ (\\bar{Y}_1 - \\bar{Y}_2) \\pm t_{\\alpha/2} S_p \\sqrt{1/n_1 + 1/n_2} $$ \n",
    "\n",
    "gives the boundaries of our confidence interval where \n",
    "\n",
    "$$ P(-t_{\\alpha/2} < T < t_{\\alpha/2} ) = 1 - \\alpha $$"
   ]
  },
  {
   "cell_type": "code",
   "execution_count": null,
   "metadata": {},
   "outputs": [],
   "source": [
    "# Doing the computation:\n",
    "\n",
    "confidence = 0.99\n",
    "alpha = 1 - confidence\n",
    "\n",
    "\n",
    "# Compute the two sample means\n",
    "Ybar1 = np.mean(water)\n",
    "Ybar2 = np.mean(oil)\n",
    "\n",
    "# Record the sample sizes\n",
    "n1 = len(water)\n",
    "n2 = len(oil)\n",
    "\n",
    "# Compute the total degrees of freedom\n",
    "dof = n1+n2-2\n",
    "\n",
    "# Compute the two sample standard deviations\n",
    "S1 = np.std(water, ddof = 1)\n",
    "S2 = np.std(oil, ddof = 1)\n",
    "\n",
    "# Compute the pooled sample standard deviation; \n",
    "\n",
    "Sp = np.sqrt( ((n1-1)*S1 + (n2-2)*S2)/dof )\n",
    "\n",
    "# note an alternative command would be:\n",
    "\n",
    "# Sp = np.std( water + oil, ddof=2 )  \n",
    "\n",
    "# and then we would not need S1 and S2.\n",
    "\n",
    "# Compute the talpha\n",
    "\n",
    "talpha = -t.ppf(alpha/2, dof)\n",
    "\n",
    "# Give the confidence interval\n",
    "\n",
    "( (Ybar1 - Ybar2) - talpha * Sp *np.sqrt(1/n1 + 1/n2), (Ybar1 - Ybar2) + talpha * Sp *np.sqrt(1/n1+1/n2) )\n"
   ]
  },
  {
   "cell_type": "code",
   "execution_count": null,
   "metadata": {},
   "outputs": [],
   "source": []
  }
 ],
 "metadata": {
  "kernelspec": {
   "display_name": "Python 3",
   "language": "python",
   "name": "python3"
  },
  "language_info": {
   "codemirror_mode": {
    "name": "ipython",
    "version": 3
   },
   "file_extension": ".py",
   "mimetype": "text/x-python",
   "name": "python",
   "nbconvert_exporter": "python",
   "pygments_lexer": "ipython3",
   "version": "3.7.4"
  }
 },
 "nbformat": 4,
 "nbformat_minor": 4
}
