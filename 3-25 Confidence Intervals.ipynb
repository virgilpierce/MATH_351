{
  "nbformat": 4,
  "nbformat_minor": 0,
  "metadata": {
    "kernelspec": {
      "display_name": "Python 3",
      "language": "python",
      "name": "python3"
    },
    "language_info": {
      "codemirror_mode": {
        "name": "ipython",
        "version": 3
      },
      "file_extension": ".py",
      "mimetype": "text/x-python",
      "name": "python",
      "nbconvert_exporter": "python",
      "pygments_lexer": "ipython3",
      "version": "3.7.4"
    },
    "colab": {
      "name": "3-25 Confidence Intervals.ipynb",
      "provenance": []
    }
  },
  "cells": [
    {
      "cell_type": "code",
      "metadata": {
        "id": "Q5F1VY6rIrPl"
      },
      "source": [
        "import numpy as np"
      ],
      "execution_count": 1,
      "outputs": []
    },
    {
      "cell_type": "markdown",
      "metadata": {
        "id": "r1pc6zF7IrPm"
      },
      "source": [
        "# Confidence Intervals\n",
        "\n",
        "A common task is to use the result of our point estimator together with its mean square error to compute an interval in which we expect to often see the parameter of interest. Again we will assign a level of confidence to this statement in the form of a probability, and our interpretation of that is that it is a statement about the repeatability of the result. \n",
        "\n",
        "## Example\n",
        "\n",
        "We are going to sample an exponential random variable $Y$ once and use that value to estimate the mean $\\theta$ of the distribution.  We will then use the value of $Y$ to construct an interval in which we are 99% confident we will find $\\theta$.\n",
        "\n",
        "The PDF for the distribution is therefore:\n",
        "\n",
        "$$ f(y) = \\left\\{ \\begin{matrix} \\frac{1}{\\theta} e^{-y/\\theta} & y \\geq 0 \\\\ 0 & \\mbox{otherwise} \\end{matrix} \\right. $$\n",
        "\n",
        "The standard exponential (the exponential distribution with mean 1) is found from $Y$ by scaling it by $\\theta$:  \n",
        "\n",
        "$$ U = Y / \\theta $$ \n",
        "\n",
        "will have the distribution \n",
        "\n",
        "$$ f_U(u) = \\left\\{ \\begin{matrix} e^{-u} & u \\geq 0 \\\\ 0 & \\mbox{otherwise} \\end{matrix} \\right. $$\n",
        "\n",
        "Which we need because this is the exponential distribution encoded in scipy.stats.expon.\n",
        "\n",
        "We need to find two numbers $a$ and $b$ such that \n",
        "\n",
        "$$ P(a < U < b) = 0.99 $$\n",
        "\n",
        "Usually we would do this so that the tails are symmetric:\n",
        "\n",
        "$$ P( U < a) = 0.005 \\quad \\mbox{and} \\quad P(U > b) = 0.005 $$\n",
        "\n",
        "However it is worth noting that there are cases where we might want to have this be asymmetric such as by taking a=0 and choosing the b tail to have size 0.01."
      ]
    },
    {
      "cell_type": "code",
      "metadata": {
        "id": "m7MzH-1mIrPn"
      },
      "source": [
        "# let's bring in the relevant distribution\n",
        "\n",
        "from scipy.stats import expon"
      ],
      "execution_count": 2,
      "outputs": []
    },
    {
      "cell_type": "code",
      "metadata": {
        "colab": {
          "base_uri": "https://localhost:8080/"
        },
        "id": "XsQ_RtTCIrPn",
        "outputId": "5c6f4e32-11d9-4774-e64f-356c9dbdfcae"
      },
      "source": [
        "# We can find a by using the ppf, the inverse cdf:\n",
        "\n",
        "a = expon.ppf(0.05)\n",
        "a"
      ],
      "execution_count": 11,
      "outputs": [
        {
          "output_type": "execute_result",
          "data": {
            "text/plain": [
              "0.051293294387550536"
            ]
          },
          "metadata": {
            "tags": []
          },
          "execution_count": 11
        }
      ]
    },
    {
      "cell_type": "code",
      "metadata": {
        "colab": {
          "base_uri": "https://localhost:8080/"
        },
        "id": "4sSwfkx5IrPn",
        "outputId": "61b0e07b-3f5d-4c0a-eafc-5baf5e04891b"
      },
      "source": [
        "# Check with the CDF that this is the left tail at size 0.005\n",
        "\n",
        "expon.cdf(a)"
      ],
      "execution_count": 4,
      "outputs": [
        {
          "output_type": "execute_result",
          "data": {
            "text/plain": [
              "0.005"
            ]
          },
          "metadata": {
            "tags": []
          },
          "execution_count": 4
        }
      ]
    },
    {
      "cell_type": "code",
      "metadata": {
        "colab": {
          "base_uri": "https://localhost:8080/"
        },
        "id": "yMLs26l8IrPo",
        "outputId": "316d3ce1-3ca1-43aa-ce94-d408f451a994"
      },
      "source": [
        "# To find b we need to take 1 - 0.005 as our inverse for the cdf:\n",
        "\n",
        "b = expon.ppf(1-0.05)\n",
        "b"
      ],
      "execution_count": 12,
      "outputs": [
        {
          "output_type": "execute_result",
          "data": {
            "text/plain": [
              "2.99573227355399"
            ]
          },
          "metadata": {
            "tags": []
          },
          "execution_count": 12
        }
      ]
    },
    {
      "cell_type": "code",
      "metadata": {
        "colab": {
          "base_uri": "https://localhost:8080/"
        },
        "id": "67Pd5qLGIrPo",
        "outputId": "f9055459-6ce6-4a80-cde7-b2689944c3ba"
      },
      "source": [
        "# Check that the density between a and b is the 0.99 we want\n",
        "\n",
        "expon.cdf(b) - expon.cdf(a)"
      ],
      "execution_count": 13,
      "outputs": [
        {
          "output_type": "execute_result",
          "data": {
            "text/plain": [
              "0.8999999999999999"
            ]
          },
          "metadata": {
            "tags": []
          },
          "execution_count": 13
        }
      ]
    },
    {
      "cell_type": "markdown",
      "metadata": {
        "id": "6qxP-YBDIrPo"
      },
      "source": [
        "Note why this example is not symmetric:  We are using a distribution that is skewed left and only supported from $[0, \\infty)$.\n",
        "\n",
        "Okay so we have that:\n",
        "\n",
        "$$ 0.99 = P(a < \\frac{Y}{\\theta} < b ) $$ \n",
        "\n",
        "and therefore solving for $\\theta$ we get:\n",
        "\n",
        "$$ 0.99 = P( \\frac{Y}{b} < \\theta < \\frac{Y}{a} ) $$\n",
        "\n",
        "Noting that we had to flip the inequalities when we took the reciprical. \n",
        "\n",
        "#### Suppose $Y= 5$\n",
        "\n",
        "Then our conclusion is that there is a 99% probability that the mean of the exponential distribution we just sampled is in the interval:"
      ]
    },
    {
      "cell_type": "code",
      "metadata": {
        "colab": {
          "base_uri": "https://localhost:8080/"
        },
        "id": "y7_ikMazIrPp",
        "outputId": "8800d756-41f3-4d73-e739-9af66a9a7f93"
      },
      "source": [
        "(5/b, 5/a)"
      ],
      "execution_count": 14,
      "outputs": [
        {
          "output_type": "execute_result",
          "data": {
            "text/plain": [
              "(1.669041003476671, 97.47862873111843)"
            ]
          },
          "metadata": {
            "tags": []
          },
          "execution_count": 14
        }
      ]
    },
    {
      "cell_type": "markdown",
      "metadata": {
        "id": "Xx9UeGEsIrPp"
      },
      "source": [
        "#### Why so big?\n",
        "\n",
        "This interval is huge!  Why is it so big?\n",
        "\n",
        "Again we see these competing tensions:  adjusting our confidence will adjust the size of the region we end up with; and sampling our variable enough times will change the distribution for our point estimate."
      ]
    },
    {
      "cell_type": "markdown",
      "metadata": {
        "id": "BUEjCYvLIrPp"
      },
      "source": [
        "## Using a Point Estimate from a Sample\n",
        "\n",
        "Consider the following sample from the exponential distribution with mean $\\theta$.  Let's pretend we do not know what $\\theta$ is:"
      ]
    },
    {
      "cell_type": "code",
      "metadata": {
        "colab": {
          "base_uri": "https://localhost:8080/"
        },
        "id": "yBSw1i25IrPp",
        "outputId": "5acd8905-1867-4d3c-f20b-a2ecae72c7cc"
      },
      "source": [
        "n = 100\n",
        "sample = expon.rvs(size=n)*10\n",
        "sample"
      ],
      "execution_count": 35,
      "outputs": [
        {
          "output_type": "execute_result",
          "data": {
            "text/plain": [
              "array([2.53165791e+00, 6.24243106e+00, 1.41058851e+01, 2.55152947e-02,\n",
              "       2.71135619e+01, 2.37936357e+00, 4.46821686e+00, 8.46233799e-01,\n",
              "       9.68911235e+00, 1.30426098e+01, 5.72087706e+00, 1.99166961e+00,\n",
              "       1.31122074e+01, 1.30085491e+00, 2.12898546e+01, 3.23896028e-02,\n",
              "       2.28133528e+00, 1.27346246e+01, 2.44292451e+00, 1.75988893e+00,\n",
              "       3.54919987e+00, 9.14209144e+00, 1.22420811e+00, 1.38443138e+01,\n",
              "       2.48462044e+00, 7.09082179e+00, 8.32469722e+00, 3.88995880e+00,\n",
              "       4.20824181e+00, 1.76244506e+01, 5.39770261e+00, 9.36255521e+00,\n",
              "       8.81429884e+00, 1.68795819e+01, 2.20595834e+00, 4.94385182e+00,\n",
              "       2.05088677e+00, 1.19313888e+01, 2.06459485e+01, 1.19474522e+01,\n",
              "       3.61343451e+01, 8.74920010e+00, 2.87060926e+01, 7.94031682e+00,\n",
              "       1.82516462e+01, 2.44890231e+01, 8.08982021e+00, 1.77964719e+01,\n",
              "       1.77172555e+01, 3.56362118e+00, 9.76260383e-01, 6.01298475e+00,\n",
              "       1.63808915e+00, 1.89666715e+00, 1.87140809e+00, 5.29025638e+00,\n",
              "       5.97877995e+00, 2.98600962e+01, 5.75740764e+00, 8.11935821e+00,\n",
              "       2.34734837e+00, 7.14781646e+00, 1.23838003e+01, 1.84454386e+00,\n",
              "       3.40704193e+00, 1.61781554e+01, 8.22431894e+00, 9.82128892e+00,\n",
              "       1.20116003e+00, 2.01902777e+01, 1.74865151e+01, 1.16133667e+01,\n",
              "       6.85028956e+00, 4.97939005e+00, 8.37216370e-01, 3.76529158e+00,\n",
              "       4.62828125e+01, 3.22412048e+00, 1.05824555e+01, 9.59891409e+00,\n",
              "       1.54906857e+01, 2.86158810e+00, 1.17830652e+01, 1.06224615e+01,\n",
              "       1.21268560e+01, 1.94260110e+01, 5.28309803e+00, 3.27376174e+01,\n",
              "       4.71432620e+00, 1.30389962e+00, 7.33893018e+00, 9.45772988e+00,\n",
              "       1.70402113e-01, 6.73726569e+00, 1.96020974e+01, 1.43853987e+01,\n",
              "       2.27843179e+00, 1.89542730e+01, 1.06776369e+01, 1.68860995e+01])"
            ]
          },
          "metadata": {
            "tags": []
          },
          "execution_count": 35
        }
      ]
    },
    {
      "cell_type": "code",
      "metadata": {
        "colab": {
          "base_uri": "https://localhost:8080/"
        },
        "id": "K6FqK3dGIrPp",
        "outputId": "99039fe3-c6b9-4598-9633-ecba55adaf08"
      },
      "source": [
        "# Our point estimate for the distribution mean would be the sample mean:\n",
        "\n",
        "Ybar = np.mean(sample)\n",
        "Ybar"
      ],
      "execution_count": 36,
      "outputs": [
        {
          "output_type": "execute_result",
          "data": {
            "text/plain": [
              "9.683165414180051"
            ]
          },
          "metadata": {
            "tags": []
          },
          "execution_count": 36
        }
      ]
    },
    {
      "cell_type": "markdown",
      "metadata": {
        "id": "VEO_KlrMIrPq"
      },
      "source": [
        "Which we expect to be normally distributed with mean $\\theta$ and variance $\\sigma^2 / \\sqrt{n}$.  The problem is that we do not know $\\sigma^2$.  We can use the sample variance $s^2$ instead, but it means rather than a normal distribution we expect that \n",
        "\n",
        "$$ T = \\sqrt{n} \\frac{\\bar{Y} - \\theta}{s} $$\n",
        "\n",
        "will satisfy the Student's T distribution with $n-1$ degrees of freedom."
      ]
    },
    {
      "cell_type": "code",
      "metadata": {
        "colab": {
          "base_uri": "https://localhost:8080/"
        },
        "id": "upPCBtyJIrPq",
        "outputId": "7f04d637-86ff-401d-8014-b8419e87dc6b"
      },
      "source": [
        "# Let me introduce you to the numpy.std function for finding standard deviations;\n",
        "# you need to pass it a ddof of 1 to get the sample standard deviation.\n",
        "\n",
        "s = np.std(sample, ddof=1)\n",
        "s"
      ],
      "execution_count": 37,
      "outputs": [
        {
          "output_type": "execute_result",
          "data": {
            "text/plain": [
              "8.624414901337017"
            ]
          },
          "metadata": {
            "tags": []
          },
          "execution_count": 37
        }
      ]
    },
    {
      "cell_type": "code",
      "metadata": {
        "id": "lFnzveRPIrPq"
      },
      "source": [
        "# The next step is to find the interval\n",
        "\n",
        "# import the t distribution\n",
        "\n",
        "from scipy.stats import t"
      ],
      "execution_count": 38,
      "outputs": []
    },
    {
      "cell_type": "code",
      "metadata": {
        "colab": {
          "base_uri": "https://localhost:8080/"
        },
        "id": "exzHZE6KIrPq",
        "outputId": "c74ec664-188c-4458-cd50-9fa3ac26f2e0"
      },
      "source": [
        "# we will use symmetric tails with density 0.005\n",
        "\n",
        "a = -t.ppf(0.005, n-1)\n",
        "a"
      ],
      "execution_count": 39,
      "outputs": [
        {
          "output_type": "execute_result",
          "data": {
            "text/plain": [
              "2.626405456385186"
            ]
          },
          "metadata": {
            "tags": []
          },
          "execution_count": 39
        }
      ]
    },
    {
      "cell_type": "code",
      "metadata": {
        "colab": {
          "base_uri": "https://localhost:8080/"
        },
        "id": "O5jHuEAuIrPq",
        "outputId": "64635bbb-d1f5-4bd9-89d2-e78ca94a6727"
      },
      "source": [
        "# check that our interval has the correct density\n",
        "\n",
        "t.cdf(a, n-1) - t.cdf(-a, n-1)"
      ],
      "execution_count": 40,
      "outputs": [
        {
          "output_type": "execute_result",
          "data": {
            "text/plain": [
              "0.9899999999754332"
            ]
          },
          "metadata": {
            "tags": []
          },
          "execution_count": 40
        }
      ]
    },
    {
      "cell_type": "markdown",
      "metadata": {
        "id": "DCiw3pDEIrPr"
      },
      "source": [
        "So what we now have is that:\n",
        "\n",
        "$$ 0.99 = P(-a < \\sqrt{n} \\frac{\\bar{Y} - \\theta}{s} < a ) $$\n",
        "\n",
        "Solving for $\\theta$ we get:\n",
        "\n",
        "$$ \\bar{Y} - \\frac{a s}{\\sqrt{n}} < \\theta < \\bar{Y} + \\frac{a s}{\\sqrt{n}} $$\n",
        "\n",
        "Or in other words $\\theta$ is in the following interval with 99% probability:"
      ]
    },
    {
      "cell_type": "code",
      "metadata": {
        "colab": {
          "base_uri": "https://localhost:8080/"
        },
        "id": "CtSNCxMBIrPr",
        "outputId": "d91d49ef-7b24-49db-9b7e-38955be00bbf"
      },
      "source": [
        "(Ybar - a*s/np.sqrt(n), Ybar + a*s/np.sqrt(n) )"
      ],
      "execution_count": 41,
      "outputs": [
        {
          "output_type": "execute_result",
          "data": {
            "text/plain": [
              "(7.418044378679926, 11.948286449680175)"
            ]
          },
          "metadata": {
            "tags": []
          },
          "execution_count": 41
        }
      ]
    },
    {
      "cell_type": "markdown",
      "metadata": {
        "id": "uWQqsFbAIrPr"
      },
      "source": [
        "## Discussion\n",
        "\n",
        "Note that 99% confident is pretty confident. Redo the computaiton above but looking for an interval with only 90% confidence. 10% of the time we will have the wrong conclusion!"
      ]
    },
    {
      "cell_type": "code",
      "metadata": {
        "colab": {
          "base_uri": "https://localhost:8080/"
        },
        "id": "k8qvuFZRIrPr",
        "outputId": "cd193527-f321-46d1-ea42-95d0bed2d2ce"
      },
      "source": [
        "n = 20\n",
        "\n",
        "for k in range(100):\n",
        "    sample = expon.rvs(size=n)*10\n",
        "    Ybar = np.mean(sample)\n",
        "    s = np.std(sample, ddof=1)\n",
        "    a = -t.ppf(0.05, n-1)\n",
        "    \n",
        "    l = Ybar - a*s/np.sqrt(n)\n",
        "    u = Ybar + a*s/np.sqrt(n)\n",
        "    \n",
        "    # check if 10 is in the interval and print in red; else print in black  \n",
        "    if l > 10 or u < 10:\n",
        "        print('\\033[91m' + str((l, u )) + '\\033[0m' )\n",
        "    else:\n",
        "        print((l, u))"
      ],
      "execution_count": 46,
      "outputs": [
        {
          "output_type": "stream",
          "text": [
            "(6.556764107855786, 14.391057217202812)\n",
            "(6.752536961843267, 12.092190129280661)\n",
            "(6.027678932324357, 13.741806899094122)\n",
            "(6.810468887937265, 10.814407390990077)\n",
            "(5.676403236389654, 12.309485103068589)\n",
            "\u001b[91m(4.669509402324161, 8.997284921674204)\u001b[0m\n",
            "(4.667872892937636, 10.594956430596964)\n",
            "(7.459560860616143, 18.88376800775346)\n",
            "(5.389117562578322, 12.640804012493602)\n",
            "(5.218497430083356, 15.048301661025132)\n",
            "(5.152299245652737, 12.718322779424552)\n",
            "\u001b[91m(4.527817093785751, 9.05279736719281)\u001b[0m\n",
            "(7.369173331127503, 16.01877687349013)\n",
            "(6.88289755559514, 13.048786253437914)\n",
            "(5.210203252844227, 10.270678119103714)\n",
            "\u001b[91m(5.125116214798027, 9.180835356434873)\u001b[0m\n",
            "(6.491059099265043, 13.03478905974021)\n",
            "(7.510676505028789, 15.086266699968581)\n",
            "(7.100039596816224, 13.916789882607283)\n",
            "\u001b[91m(4.529315492125434, 9.104070686623382)\u001b[0m\n",
            "(6.324478123334072, 12.20452383468644)\n",
            "(7.1372832663498045, 15.378802519716867)\n",
            "(5.267989370573753, 10.694750160132614)\n",
            "(5.735901194778687, 12.023400416132812)\n",
            "(4.987690972283275, 11.398943500778365)\n",
            "(5.704312128101592, 10.907176360173619)\n",
            "(6.6707162712682315, 20.05469782003761)\n",
            "(6.925312781773222, 12.594441676537595)\n",
            "\u001b[91m(3.095207655017049, 7.822326433256178)\u001b[0m\n",
            "(7.090828277293507, 17.457587574106572)\n",
            "(4.4848652809961465, 11.098410595910568)\n",
            "(5.53992189672683, 12.425735206217752)\n",
            "(7.752166071776336, 13.769076604963537)\n",
            "(6.766792678966588, 12.22301567863018)\n",
            "(8.081494309763588, 13.435677333790743)\n",
            "(5.270194773353905, 11.130332392606276)\n",
            "(5.056815943949749, 12.254884813523843)\n",
            "(6.666617378666947, 15.417354684997443)\n",
            "(4.953300011568396, 14.143283644750575)\n",
            "(5.940541787390926, 13.843625379630573)\n",
            "(8.18667098214981, 17.554552452183025)\n",
            "(7.090840131178181, 14.078342229693915)\n",
            "(8.082275466608339, 15.484689096149646)\n",
            "(6.860985666661648, 12.445090487087253)\n",
            "(5.269693128631908, 11.652043162763277)\n",
            "(5.840420309099281, 11.314023810598814)\n",
            "(3.839633844993547, 11.528061889905949)\n",
            "(7.525875395142138, 15.172870468032322)\n",
            "(7.098704020885788, 17.308776486171833)\n",
            "(5.715642454314894, 10.522695848553036)\n",
            "(5.630872887499943, 12.914539807303889)\n",
            "(6.517921028688303, 11.526455695997935)\n",
            "(5.984109629931031, 18.003556074089577)\n",
            "(6.259144192259364, 10.95642413982516)\n",
            "(4.769039637068314, 13.923782439333248)\n",
            "(5.919453514430631, 12.654913503202398)\n",
            "\u001b[91m(3.1171206606853947, 8.528933380479037)\u001b[0m\n",
            "(4.466331694103651, 11.364020721645183)\n",
            "(5.248781754130824, 18.55190585121338)\n",
            "(7.650715034433087, 11.873994609448008)\n",
            "(6.791136516735385, 11.527724297358919)\n",
            "(8.026968700223755, 14.075254698927665)\n",
            "(7.001748408363734, 15.231916213353642)\n",
            "(6.533915849543725, 14.079587582955497)\n",
            "(6.895131810038759, 14.206930485657267)\n",
            "(6.008588774410995, 11.775807644784944)\n",
            "(6.60189590955275, 18.81881226275729)\n",
            "(6.2988763477014285, 15.38727096213634)\n",
            "(7.681301338799343, 15.744083530497665)\n",
            "(8.313969014883247, 12.563479903395018)\n",
            "(7.4521981326134386, 15.416318875015111)\n",
            "(6.81109685235286, 19.33645357764123)\n",
            "(6.41849291073251, 13.877817967982782)\n",
            "(8.685638225013808, 20.695810920833097)\n",
            "(5.57028725794421, 10.052886316913966)\n",
            "(5.539289001811069, 14.702737359473529)\n",
            "\u001b[91m(3.7602579417092543, 7.99600935362364)\u001b[0m\n",
            "\u001b[91m(4.192981459799877, 7.376408892492695)\u001b[0m\n",
            "(7.392432278776043, 15.274167773435966)\n",
            "(5.9917698264191985, 14.441101904711584)\n",
            "(5.894586761811712, 11.284700965416281)\n",
            "(5.437992420937767, 14.777540096342605)\n",
            "(6.397633240801847, 15.216353010970503)\n",
            "(6.001287486178686, 16.76375672470878)\n",
            "(6.553726964145353, 13.120573633022753)\n",
            "\u001b[91m(4.925013923031054, 9.212956485639248)\u001b[0m\n",
            "(6.468653557859289, 11.681927129170846)\n",
            "(6.462189629471313, 13.31033233488249)\n",
            "(4.850422110014145, 11.356886176565864)\n",
            "(8.134247344136217, 13.77785074912319)\n",
            "(7.332836694443932, 12.828707466939095)\n",
            "(6.968534712774925, 15.153337853668127)\n",
            "(8.214477663048799, 13.006321742972402)\n",
            "(5.426664888567872, 11.6437892542062)\n",
            "(8.109290204643266, 21.49592336455957)\n",
            "(6.215297396652324, 15.268943785588561)\n",
            "(6.084640306819027, 12.290231162801797)\n",
            "(8.16763238750561, 17.537440872704433)\n",
            "(7.0526654236534405, 11.481788146190727)\n",
            "(6.517245243684843, 16.65177092038234)\n"
          ],
          "name": "stdout"
        }
      ]
    },
    {
      "cell_type": "markdown",
      "metadata": {
        "id": "bCMtZ-2FIrPr"
      },
      "source": [
        "## Mean Differences\n",
        "\n",
        "The following prices of White Tuna Packed in Oil or Water were collected by sampling major brands at a local super market:"
      ]
    },
    {
      "cell_type": "code",
      "metadata": {
        "id": "pYkwxaHoIrPs"
      },
      "source": [
        "oil = [1.27, 1.22, 1.19, 1.22]\n",
        "water = [1.49, 1.29, 1.27, 1.35, 1.29, 1.00, 1.27, 1.28]"
      ],
      "execution_count": 43,
      "outputs": []
    },
    {
      "cell_type": "markdown",
      "metadata": {
        "id": "s3lLorQfIrPs"
      },
      "source": [
        "The sample means are:"
      ]
    },
    {
      "cell_type": "code",
      "metadata": {
        "colab": {
          "base_uri": "https://localhost:8080/"
        },
        "id": "Tqp58inLIrPs",
        "outputId": "d990a465-77fb-4bca-9c50-51bc6c2d3d42"
      },
      "source": [
        "np.mean(oil), np.mean(water)"
      ],
      "execution_count": 44,
      "outputs": [
        {
          "output_type": "execute_result",
          "data": {
            "text/plain": [
              "(1.225, 1.28)"
            ]
          },
          "metadata": {
            "tags": []
          },
          "execution_count": 44
        }
      ]
    },
    {
      "cell_type": "markdown",
      "metadata": {
        "id": "btNLL_bMIrPs"
      },
      "source": [
        "We wish to find a confidence interval for the difference between the population means for White Tuna Packed in Water or Oil. \n",
        "\n",
        "Note that we expect the statistic:\n",
        "\n",
        "$$ Z = \\frac{\\bar{Y_1} - \\bar{Y_2} - (\\mu_1 - \\mu_2) }{\\sqrt{ \\sigma_1^2/n_1 + \\sigma_2^2/n_2 }} $$\n",
        "\n",
        "to be a normally distributed. Assuming that $\\sigma$ is equal for the two populations this would be:\n",
        "\n",
        "$$ Z = \\frac{\\bar{Y_1} - \\bar{Y_2} - (\\mu_1 - \\mu_2) }{ \\sigma \\sqrt{ 1/n_1 + 1/n_2} } $$\n",
        "\n",
        "However note that for this problem we do not know $\\sigma_1$ or $\\sigma_2$, or $\\sigma$ for that matter. The assumption that two very similar products have the same variance is a common one so we could proceed with that and use what is called a **pooled estimator** for the $\\sigma$:\n",
        "\n",
        "$$ S_p^2 = \\frac{ (n_1 -1 ) S_1^2 + (n_2 - 1) S_2^2 }{n_1 + n_2 - 2} $$\n",
        "\n",
        "To explain where this comes from:  \n",
        "\n",
        "- note that we multiply the individual sample variances by their denominator.\n",
        "- We compute the sum of the squares of the differences of each sample from the corresponding sample mean and add these\n",
        "- then we divide by the degrees of freedom:  $n_1 + n_2 - 2$  The reason there are 2 less degrees of freedom is becuase we have two means.\n",
        "\n",
        "- The other way to think about the pooled estimator is that it is the weighted average of the sample variances; weighted by the number of degrees of freedom.\n",
        "\n",
        "Then we can use $S_p$ in our Student's T distirbution with $n_1 + n_2 - 2$ degrees of freedom:\n",
        "\n",
        "$$ T = \\frac{ \\bar{Y_1} - \\bar{Y_2} - (\\mu_1 - \\mu_2) }{ S_p \\sqrt{1/n_1 + 1/n_2} }$$\n",
        "\n",
        "We will get that:\n",
        "\n",
        "$$ (\\bar{Y}_1 - \\bar{Y}_2) \\pm t_{\\alpha/2} S_p \\sqrt{1/n_1 + 1/n_2} $$ \n",
        "\n",
        "gives the boundaries of our confidence interval where \n",
        "\n",
        "$$ P(-t_{\\alpha/2} < T < t_{\\alpha/2} ) = 1 - \\alpha $$"
      ]
    },
    {
      "cell_type": "code",
      "metadata": {
        "colab": {
          "base_uri": "https://localhost:8080/"
        },
        "id": "pHoRejiaIrPs",
        "outputId": "9555e161-7eab-4a74-e2c7-e288d046dbaa"
      },
      "source": [
        "# Doing the computation:\n",
        "\n",
        "confidence = 0.99\n",
        "alpha = 1 - confidence\n",
        "\n",
        "\n",
        "# Compute the two sample means\n",
        "Ybar1 = np.mean(water)\n",
        "Ybar2 = np.mean(oil)\n",
        "\n",
        "# Record the sample sizes\n",
        "n1 = len(water)\n",
        "n2 = len(oil)\n",
        "\n",
        "# Compute the total degrees of freedom\n",
        "dof = n1+n2-2\n",
        "\n",
        "# Compute the two sample standard deviations\n",
        "S1 = np.std(water, ddof = 1)\n",
        "S2 = np.std(oil, ddof = 1)\n",
        "\n",
        "# Compute the pooled sample standard deviation; \n",
        "\n",
        "Sp = np.sqrt( ((n1-1)*S1 + (n2-1)*S2)/dof )\n",
        "\n",
        "# Compute the talpha\n",
        "\n",
        "talpha = -t.ppf(alpha/2, dof)\n",
        "\n",
        "# Give the confidence interval\n",
        "\n",
        "( (Ybar1 - Ybar2) - talpha * Sp *np.sqrt(1/n1 + 1/n2), (Ybar1 - Ybar2) + talpha * Sp *np.sqrt(1/n1+1/n2) )\n"
      ],
      "execution_count": 45,
      "outputs": [
        {
          "output_type": "execute_result",
          "data": {
            "text/plain": [
              "(-0.5724834871893034, 0.6824834871893033)"
            ]
          },
          "metadata": {
            "tags": []
          },
          "execution_count": 45
        }
      ]
    },
    {
      "cell_type": "code",
      "metadata": {
        "id": "GYMQ-xxEIrPt"
      },
      "source": [
        ""
      ],
      "execution_count": null,
      "outputs": []
    }
  ]
}