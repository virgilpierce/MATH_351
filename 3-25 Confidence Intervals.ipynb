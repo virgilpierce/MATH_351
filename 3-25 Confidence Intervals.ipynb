{
  "nbformat": 4,
  "nbformat_minor": 0,
  "metadata": {
    "kernelspec": {
      "display_name": "Python 3",
      "language": "python",
      "name": "python3"
    },
    "language_info": {
      "codemirror_mode": {
        "name": "ipython",
        "version": 3
      },
      "file_extension": ".py",
      "mimetype": "text/x-python",
      "name": "python",
      "nbconvert_exporter": "python",
      "pygments_lexer": "ipython3",
      "version": "3.7.4"
    },
    "colab": {
      "name": "3-25 Confidence Intervals.ipynb",
      "provenance": []
    }
  },
  "cells": [
    {
      "cell_type": "code",
      "metadata": {
        "id": "Q5F1VY6rIrPl"
      },
      "source": [
        "import numpy as np"
      ],
      "execution_count": 1,
      "outputs": []
    },
    {
      "cell_type": "markdown",
      "metadata": {
        "id": "r1pc6zF7IrPm"
      },
      "source": [
        "# Confidence Intervals\n",
        "\n",
        "A common task is to use the result of our point estimator together with its mean square error to compute an interval in which we expect to often see the parameter of interest. Again we will assign a level of confidence to this statement in the form of a probability, and our interpretation of that is that it is a statement about the repeatability of the result. \n",
        "\n",
        "## Example\n",
        "\n",
        "We are going to sample an exponential random variable $Y$ once and use that value to estimate the mean $\\theta$ of the distribution.  We will then use the value of $Y$ to construct an interval in which we are 99% confident we will find $\\theta$.\n",
        "\n",
        "The PDF for the distribution is therefore:\n",
        "\n",
        "$$ f(y) = \\left\\{ \\begin{matrix} \\frac{1}{\\theta} e^{-y/\\theta} & y \\geq 0 \\\\ 0 & \\mbox{otherwise} \\end{matrix} \\right. $$\n",
        "\n",
        "The standard exponential (the exponential distribution with mean 1) is found from $Y$ by scaling it by $\\theta$:  \n",
        "\n",
        "$$ U = Y / \\theta $$ \n",
        "\n",
        "will have the distribution \n",
        "\n",
        "$$ f_U(u) = \\left\\{ \\begin{matrix} e^{-u} & u \\geq 0 \\\\ 0 & \\mbox{otherwise} \\end{matrix} \\right. $$\n",
        "\n",
        "Which we need because this is the exponential distribution encoded in scipy.stats.expon.\n",
        "\n",
        "We need to find two numbers $a$ and $b$ such that \n",
        "\n",
        "$$ P(a < U < b) = 0.99 $$\n",
        "\n",
        "Usually we would do this so that the tails are symmetric:\n",
        "\n",
        "$$ P( U < a) = 0.005 \\quad \\mbox{and} \\quad P(U > b) = 0.005 $$\n",
        "\n",
        "However it is worth noting that there are cases where we might want to have this be asymmetric such as by taking a=0 and choosing the b tail to have size 0.01."
      ]
    },
    {
      "cell_type": "code",
      "metadata": {
        "id": "m7MzH-1mIrPn"
      },
      "source": [
        "# let's bring in the relevant distribution\n",
        "\n",
        "from scipy.stats import expon"
      ],
      "execution_count": 2,
      "outputs": []
    },
    {
      "cell_type": "code",
      "metadata": {
        "id": "XsQ_RtTCIrPn",
        "outputId": "5c6f4e32-11d9-4774-e64f-356c9dbdfcae",
        "colab": {
          "base_uri": "https://localhost:8080/"
        }
      },
      "source": [
        "# We can find a by using the ppf, the inverse cdf:\n",
        "\n",
        "a = expon.ppf(0.05)\n",
        "a"
      ],
      "execution_count": 11,
      "outputs": [
        {
          "output_type": "execute_result",
          "data": {
            "text/plain": [
              "0.051293294387550536"
            ]
          },
          "metadata": {
            "tags": []
          },
          "execution_count": 11
        }
      ]
    },
    {
      "cell_type": "code",
      "metadata": {
        "id": "4sSwfkx5IrPn",
        "outputId": "61b0e07b-3f5d-4c0a-eafc-5baf5e04891b",
        "colab": {
          "base_uri": "https://localhost:8080/"
        }
      },
      "source": [
        "# Check with the CDF that this is the left tail at size 0.005\n",
        "\n",
        "expon.cdf(a)"
      ],
      "execution_count": 4,
      "outputs": [
        {
          "output_type": "execute_result",
          "data": {
            "text/plain": [
              "0.005"
            ]
          },
          "metadata": {
            "tags": []
          },
          "execution_count": 4
        }
      ]
    },
    {
      "cell_type": "code",
      "metadata": {
        "id": "yMLs26l8IrPo",
        "outputId": "316d3ce1-3ca1-43aa-ce94-d408f451a994",
        "colab": {
          "base_uri": "https://localhost:8080/"
        }
      },
      "source": [
        "# To find b we need to take 1 - 0.005 as our inverse for the cdf:\n",
        "\n",
        "b = expon.ppf(1-0.05)\n",
        "b"
      ],
      "execution_count": 12,
      "outputs": [
        {
          "output_type": "execute_result",
          "data": {
            "text/plain": [
              "2.99573227355399"
            ]
          },
          "metadata": {
            "tags": []
          },
          "execution_count": 12
        }
      ]
    },
    {
      "cell_type": "code",
      "metadata": {
        "id": "67Pd5qLGIrPo",
        "outputId": "f9055459-6ce6-4a80-cde7-b2689944c3ba",
        "colab": {
          "base_uri": "https://localhost:8080/"
        }
      },
      "source": [
        "# Check that the density between a and b is the 0.99 we want\n",
        "\n",
        "expon.cdf(b) - expon.cdf(a)"
      ],
      "execution_count": 13,
      "outputs": [
        {
          "output_type": "execute_result",
          "data": {
            "text/plain": [
              "0.8999999999999999"
            ]
          },
          "metadata": {
            "tags": []
          },
          "execution_count": 13
        }
      ]
    },
    {
      "cell_type": "markdown",
      "metadata": {
        "id": "6qxP-YBDIrPo"
      },
      "source": [
        "Note why this example is not symmetric:  We are using a distribution that is skewed left and only supported from $[0, \\infty)$.\n",
        "\n",
        "Okay so we have that:\n",
        "\n",
        "$$ 0.99 = P(a < \\frac{Y}{\\theta} < b ) $$ \n",
        "\n",
        "and therefore solving for $\\theta$ we get:\n",
        "\n",
        "$$ 0.99 = P( \\frac{Y}{b} < \\theta < \\frac{Y}{a} ) $$\n",
        "\n",
        "Noting that we had to flip the inequalities when we took the reciprical. \n",
        "\n",
        "#### Suppose $Y= 5$\n",
        "\n",
        "Then our conclusion is that there is a 99% probability that the mean of the exponential distribution we just sampled is in the interval:"
      ]
    },
    {
      "cell_type": "code",
      "metadata": {
        "id": "y7_ikMazIrPp",
        "outputId": "8800d756-41f3-4d73-e739-9af66a9a7f93",
        "colab": {
          "base_uri": "https://localhost:8080/"
        }
      },
      "source": [
        "(5/b, 5/a)"
      ],
      "execution_count": 14,
      "outputs": [
        {
          "output_type": "execute_result",
          "data": {
            "text/plain": [
              "(1.669041003476671, 97.47862873111843)"
            ]
          },
          "metadata": {
            "tags": []
          },
          "execution_count": 14
        }
      ]
    },
    {
      "cell_type": "markdown",
      "metadata": {
        "id": "Xx9UeGEsIrPp"
      },
      "source": [
        "#### Why so big?\n",
        "\n",
        "This interval is huge!  Why is it so big?\n",
        "\n",
        "Again we see these competing tensions:  adjusting our confidence will adjust the size of the region we end up with; and sampling our variable enough times will change the distribution for our point estimate."
      ]
    },
    {
      "cell_type": "markdown",
      "metadata": {
        "id": "BUEjCYvLIrPp"
      },
      "source": [
        "## Using a Point Estimate from a Sample\n",
        "\n",
        "Consider the following sample from the exponential distribution with mean $\\theta$.  Let's pretend we do not know what $\\theta$ is:"
      ]
    },
    {
      "cell_type": "code",
      "metadata": {
        "id": "yBSw1i25IrPp",
        "outputId": "5acd8905-1867-4d3c-f20b-a2ecae72c7cc",
        "colab": {
          "base_uri": "https://localhost:8080/"
        }
      },
      "source": [
        "n = 100\n",
        "sample = expon.rvs(size=n)*10\n",
        "sample"
      ],
      "execution_count": 35,
      "outputs": [
        {
          "output_type": "execute_result",
          "data": {
            "text/plain": [
              "array([2.53165791e+00, 6.24243106e+00, 1.41058851e+01, 2.55152947e-02,\n",
              "       2.71135619e+01, 2.37936357e+00, 4.46821686e+00, 8.46233799e-01,\n",
              "       9.68911235e+00, 1.30426098e+01, 5.72087706e+00, 1.99166961e+00,\n",
              "       1.31122074e+01, 1.30085491e+00, 2.12898546e+01, 3.23896028e-02,\n",
              "       2.28133528e+00, 1.27346246e+01, 2.44292451e+00, 1.75988893e+00,\n",
              "       3.54919987e+00, 9.14209144e+00, 1.22420811e+00, 1.38443138e+01,\n",
              "       2.48462044e+00, 7.09082179e+00, 8.32469722e+00, 3.88995880e+00,\n",
              "       4.20824181e+00, 1.76244506e+01, 5.39770261e+00, 9.36255521e+00,\n",
              "       8.81429884e+00, 1.68795819e+01, 2.20595834e+00, 4.94385182e+00,\n",
              "       2.05088677e+00, 1.19313888e+01, 2.06459485e+01, 1.19474522e+01,\n",
              "       3.61343451e+01, 8.74920010e+00, 2.87060926e+01, 7.94031682e+00,\n",
              "       1.82516462e+01, 2.44890231e+01, 8.08982021e+00, 1.77964719e+01,\n",
              "       1.77172555e+01, 3.56362118e+00, 9.76260383e-01, 6.01298475e+00,\n",
              "       1.63808915e+00, 1.89666715e+00, 1.87140809e+00, 5.29025638e+00,\n",
              "       5.97877995e+00, 2.98600962e+01, 5.75740764e+00, 8.11935821e+00,\n",
              "       2.34734837e+00, 7.14781646e+00, 1.23838003e+01, 1.84454386e+00,\n",
              "       3.40704193e+00, 1.61781554e+01, 8.22431894e+00, 9.82128892e+00,\n",
              "       1.20116003e+00, 2.01902777e+01, 1.74865151e+01, 1.16133667e+01,\n",
              "       6.85028956e+00, 4.97939005e+00, 8.37216370e-01, 3.76529158e+00,\n",
              "       4.62828125e+01, 3.22412048e+00, 1.05824555e+01, 9.59891409e+00,\n",
              "       1.54906857e+01, 2.86158810e+00, 1.17830652e+01, 1.06224615e+01,\n",
              "       1.21268560e+01, 1.94260110e+01, 5.28309803e+00, 3.27376174e+01,\n",
              "       4.71432620e+00, 1.30389962e+00, 7.33893018e+00, 9.45772988e+00,\n",
              "       1.70402113e-01, 6.73726569e+00, 1.96020974e+01, 1.43853987e+01,\n",
              "       2.27843179e+00, 1.89542730e+01, 1.06776369e+01, 1.68860995e+01])"
            ]
          },
          "metadata": {
            "tags": []
          },
          "execution_count": 35
        }
      ]
    },
    {
      "cell_type": "code",
      "metadata": {
        "id": "K6FqK3dGIrPp",
        "outputId": "99039fe3-c6b9-4598-9633-ecba55adaf08",
        "colab": {
          "base_uri": "https://localhost:8080/"
        }
      },
      "source": [
        "# Our point estimate for the distribution mean would be the sample mean:\n",
        "\n",
        "Ybar = np.mean(sample)\n",
        "Ybar"
      ],
      "execution_count": 36,
      "outputs": [
        {
          "output_type": "execute_result",
          "data": {
            "text/plain": [
              "9.683165414180051"
            ]
          },
          "metadata": {
            "tags": []
          },
          "execution_count": 36
        }
      ]
    },
    {
      "cell_type": "markdown",
      "metadata": {
        "id": "VEO_KlrMIrPq"
      },
      "source": [
        "Which we expect to be normally distributed with mean $\\theta$ and variance $\\sigma^2 / \\sqrt{n}$.  The problem is that we do not know $\\sigma^2$.  We can use the sample variance $s^2$ instead, but it means rather than a normal distribution we expect that \n",
        "\n",
        "$$ T = \\sqrt{n} \\frac{\\bar{Y} - \\theta}{s} $$\n",
        "\n",
        "will satisfy the Student's T distribution with $n-1$ degrees of freedom."
      ]
    },
    {
      "cell_type": "code",
      "metadata": {
        "id": "upPCBtyJIrPq",
        "outputId": "7f04d637-86ff-401d-8014-b8419e87dc6b",
        "colab": {
          "base_uri": "https://localhost:8080/"
        }
      },
      "source": [
        "# Let me introduce you to the numpy.std function for finding standard deviations;\n",
        "# you need to pass it a ddof of 1 to get the sample standard deviation.\n",
        "\n",
        "s = np.std(sample, ddof=1)\n",
        "s"
      ],
      "execution_count": 37,
      "outputs": [
        {
          "output_type": "execute_result",
          "data": {
            "text/plain": [
              "8.624414901337017"
            ]
          },
          "metadata": {
            "tags": []
          },
          "execution_count": 37
        }
      ]
    },
    {
      "cell_type": "code",
      "metadata": {
        "id": "lFnzveRPIrPq"
      },
      "source": [
        "# The next step is to find the interval\n",
        "\n",
        "# import the t distribution\n",
        "\n",
        "from scipy.stats import t"
      ],
      "execution_count": 38,
      "outputs": []
    },
    {
      "cell_type": "code",
      "metadata": {
        "id": "exzHZE6KIrPq",
        "outputId": "c74ec664-188c-4458-cd50-9fa3ac26f2e0",
        "colab": {
          "base_uri": "https://localhost:8080/"
        }
      },
      "source": [
        "# we will use symmetric tails with density 0.005\n",
        "\n",
        "a = -t.ppf(0.005, n-1)\n",
        "a"
      ],
      "execution_count": 39,
      "outputs": [
        {
          "output_type": "execute_result",
          "data": {
            "text/plain": [
              "2.626405456385186"
            ]
          },
          "metadata": {
            "tags": []
          },
          "execution_count": 39
        }
      ]
    },
    {
      "cell_type": "code",
      "metadata": {
        "id": "O5jHuEAuIrPq",
        "outputId": "64635bbb-d1f5-4bd9-89d2-e78ca94a6727",
        "colab": {
          "base_uri": "https://localhost:8080/"
        }
      },
      "source": [
        "# check that our interval has the correct density\n",
        "\n",
        "t.cdf(a, n-1) - t.cdf(-a, n-1)"
      ],
      "execution_count": 40,
      "outputs": [
        {
          "output_type": "execute_result",
          "data": {
            "text/plain": [
              "0.9899999999754332"
            ]
          },
          "metadata": {
            "tags": []
          },
          "execution_count": 40
        }
      ]
    },
    {
      "cell_type": "markdown",
      "metadata": {
        "id": "DCiw3pDEIrPr"
      },
      "source": [
        "So what we now have is that:\n",
        "\n",
        "$$ 0.99 = P(-a < \\sqrt{n} \\frac{\\bar{Y} - \\theta}{s} < a ) $$\n",
        "\n",
        "Solving for $\\theta$ we get:\n",
        "\n",
        "$$ \\bar{Y} - \\frac{a s}{\\sqrt{n}} < \\theta < \\bar{Y} + \\frac{a s}{\\sqrt{n}} $$\n",
        "\n",
        "Or in other words $\\theta$ is in the following interval with 99% probability:"
      ]
    },
    {
      "cell_type": "code",
      "metadata": {
        "id": "CtSNCxMBIrPr",
        "outputId": "d91d49ef-7b24-49db-9b7e-38955be00bbf",
        "colab": {
          "base_uri": "https://localhost:8080/"
        }
      },
      "source": [
        "(Ybar - a*s/np.sqrt(n), Ybar + a*s/np.sqrt(n) )"
      ],
      "execution_count": 41,
      "outputs": [
        {
          "output_type": "execute_result",
          "data": {
            "text/plain": [
              "(7.418044378679926, 11.948286449680175)"
            ]
          },
          "metadata": {
            "tags": []
          },
          "execution_count": 41
        }
      ]
    },
    {
      "cell_type": "markdown",
      "metadata": {
        "id": "uWQqsFbAIrPr"
      },
      "source": [
        "## Discussion\n",
        "\n",
        "Note that 99% confident is pretty confident. Redo the computaiton above but looking for an interval with only 90% confidence. 10% of the time we will have the wrong conclusion!"
      ]
    },
    {
      "cell_type": "code",
      "metadata": {
        "id": "k8qvuFZRIrPr",
        "outputId": "8bfb4675-0d7f-4507-e63b-45feb3554fb3",
        "colab": {
          "base_uri": "https://localhost:8080/"
        }
      },
      "source": [
        "n = 20\n",
        "\n",
        "for k in range(100):\n",
        "    sample = expon.rvs(size=n)*10\n",
        "    Ybar = np.mean(sample)\n",
        "    s = np.std(sample, ddof=1)\n",
        "    a = -t.ppf(0.05, n-1)\n",
        "    \n",
        "    l = Ybar - a*s/np.sqrt(n)\n",
        "    u = Ybar + s*s/np.sqrt(n)\n",
        "    \n",
        "    # check if 10 is in the interval and print in red; else print in black  \n",
        "    if l > 10 or u < 10:\n",
        "        print('\\033[91m' + str((l, u )) + '\\033[0m' )\n",
        "    else:\n",
        "        print((l, u))"
      ],
      "execution_count": 42,
      "outputs": [
        {
          "output_type": "stream",
          "text": [
            "(5.846935175196542, 22.70918264649648)\n",
            "(7.307935699549983, 23.993893303167614)\n",
            "(7.096135924975304, 24.57186963748485)\n",
            "(9.32933794088265, 81.43237782492879)\n",
            "(5.883964473245937, 35.434392540323906)\n",
            "(5.563489733342735, 22.83474845400847)\n",
            "(5.568631770522515, 18.445007769227757)\n",
            "(6.749872334969524, 46.971682783340704)\n",
            "(7.87152585561631, 63.84019986522051)\n",
            "(4.740400496373423, 17.285554620923577)\n",
            "(6.414356658474803, 14.519099967540235)\n",
            "(2.6903482823009903, 13.028856697603496)\n",
            "(8.678402392209112, 32.69313799960486)\n",
            "(4.290231699039018, 18.742981199281864)\n",
            "(4.488770340693511, 16.28704977830401)\n",
            "(7.422610832921598, 37.48973780083237)\n",
            "(2.7020972346630683, 13.805251121011889)\n",
            "(5.29033929635065, 29.44649007185623)\n",
            "\u001b[91m(10.510561716821556, 75.42627916064974)\u001b[0m\n",
            "(4.208577844137574, 16.25959645005855)\n",
            "(7.29604314878569, 26.014784022069747)\n",
            "(5.570830626983202, 37.49599049001269)\n",
            "(6.445311784218727, 48.31344591613444)\n",
            "(5.815537859591965, 15.86928133430795)\n",
            "(6.574310227460753, 52.126739491406234)\n",
            "(7.08065104251991, 45.66976133224069)\n",
            "(6.914048601536147, 19.840197909695007)\n",
            "(5.075211648324174, 23.907614638971687)\n",
            "(7.567233106345291, 51.44273697870239)\n",
            "(6.174080010613208, 50.9699429242636)\n",
            "(9.716406148159418, 33.33690431647918)\n",
            "(5.571294949187991, 70.92847121902953)\n",
            "(5.822227300441086, 58.024035338867)\n",
            "(4.902803666270755, 23.585021190996176)\n",
            "(5.8335227432912955, 37.8287071640535)\n",
            "(6.9582033401322985, 23.71506869084684)\n",
            "(8.643325627042206, 59.669394644454336)\n",
            "(4.120478517171012, 14.649471554666759)\n",
            "(7.214951377882492, 20.07603244706558)\n",
            "(5.613030272217413, 33.183354953795245)\n",
            "(6.592352112389449, 33.22805707844625)\n",
            "(6.250500620414391, 19.049931319231533)\n",
            "(6.065328953070573, 17.889686287785363)\n",
            "(5.981611114414933, 25.446410040387555)\n",
            "(3.8919077978417547, 19.99902198115432)\n",
            "(5.35159037176105, 30.002423465717136)\n",
            "(5.400727061092433, 36.52943389974706)\n",
            "(4.852984562986217, 20.430905673047683)\n",
            "(6.0154842856622075, 27.759578927129894)\n",
            "(5.026700145121695, 65.34360600014759)\n",
            "(7.935914598525649, 25.71577017255511)\n",
            "(4.515933342579163, 37.7333695694588)\n",
            "(6.7615418712809054, 36.16603085779099)\n",
            "\u001b[91m(10.436921931453343, 62.933971216082014)\u001b[0m\n",
            "(8.913315277608863, 43.94754188635099)\n",
            "(7.885091051951468, 18.168148240484555)\n",
            "(5.995551254794594, 12.235123107133735)\n",
            "(3.7534625614835915, 28.21612563274813)\n",
            "(6.336872741137531, 21.75138478521761)\n",
            "\u001b[91m(3.118483083158833, 9.036407141917957)\u001b[0m\n",
            "(7.024674106161117, 28.860799881720723)\n",
            "(6.648510122034346, 21.426066755630714)\n",
            "(7.201729587035523, 30.660193528035865)\n",
            "(7.401762171794754, 24.088768600430008)\n",
            "(5.1688044944272615, 16.171139549544698)\n",
            "(4.2698590339174, 22.360759876239257)\n",
            "(6.661617446737058, 24.222016548136487)\n",
            "(7.903393837375669, 28.156994773198843)\n",
            "(7.921324329680109, 36.91616486251618)\n",
            "(5.749782854594791, 33.314486477201626)\n",
            "(5.2801248091479, 26.551942560785864)\n",
            "(9.37269766517035, 48.34303788974107)\n",
            "(7.196671099435112, 51.59472168769444)\n",
            "(4.7667965147783615, 23.465111879169008)\n",
            "(6.3957027868354395, 30.387790782912248)\n",
            "(6.782191597692954, 50.888354596840855)\n",
            "(6.937440416095595, 31.319913259373678)\n",
            "(6.315163946513689, 25.70852941996437)\n",
            "(6.945103738955471, 27.358625371797494)\n",
            "(6.037648372481536, 63.17131745235728)\n",
            "(6.485268937100317, 39.406852650449764)\n",
            "(6.396937582482881, 26.737637653061363)\n",
            "(5.811111293941923, 44.05738495683793)\n",
            "(6.273568568465207, 32.265569578224074)\n",
            "(5.656003892735971, 36.120420067666565)\n",
            "(6.881099895056727, 32.176937024571195)\n",
            "(6.563624837636975, 31.35999230912977)\n",
            "(5.547147957612254, 37.28012680172826)\n",
            "(5.822794519486613, 16.56035026783205)\n",
            "(5.057769348305172, 19.592517762530445)\n",
            "(5.279035549797392, 33.57994123595027)\n",
            "(5.751672831002875, 36.230758533091816)\n",
            "(5.638569217687126, 24.225906906996833)\n",
            "(6.908078102480602, 46.035426067213535)\n",
            "(6.0354091552203455, 43.525778116129075)\n",
            "(5.220607868173998, 24.582889156491987)\n",
            "(5.707171363732719, 29.79551791889487)\n",
            "(7.010781033780633, 24.094470251864138)\n",
            "(4.41857784595092, 17.692212948262235)\n",
            "(3.546236857956491, 21.582152395847455)\n"
          ],
          "name": "stdout"
        }
      ]
    },
    {
      "cell_type": "markdown",
      "metadata": {
        "id": "bCMtZ-2FIrPr"
      },
      "source": [
        "## Mean Differences\n",
        "\n",
        "The following prices of White Tuna Packed in Oil or Water were collected by sampling major brands at a local super market:"
      ]
    },
    {
      "cell_type": "code",
      "metadata": {
        "id": "pYkwxaHoIrPs"
      },
      "source": [
        "oil = [1.27, 1.22, 1.19, 1.22]\n",
        "water = [1.49, 1.29, 1.27, 1.35, 1.29, 1.00, 1.27, 1.28]"
      ],
      "execution_count": 43,
      "outputs": []
    },
    {
      "cell_type": "markdown",
      "metadata": {
        "id": "s3lLorQfIrPs"
      },
      "source": [
        "The sample means are:"
      ]
    },
    {
      "cell_type": "code",
      "metadata": {
        "id": "Tqp58inLIrPs",
        "outputId": "d990a465-77fb-4bca-9c50-51bc6c2d3d42",
        "colab": {
          "base_uri": "https://localhost:8080/"
        }
      },
      "source": [
        "np.mean(oil), np.mean(water)"
      ],
      "execution_count": 44,
      "outputs": [
        {
          "output_type": "execute_result",
          "data": {
            "text/plain": [
              "(1.225, 1.28)"
            ]
          },
          "metadata": {
            "tags": []
          },
          "execution_count": 44
        }
      ]
    },
    {
      "cell_type": "markdown",
      "metadata": {
        "id": "btNLL_bMIrPs"
      },
      "source": [
        "We wish to find a confidence interval for the difference between the population means for White Tuna Packed in Water or Oil. \n",
        "\n",
        "Note that we expect the statistic:\n",
        "\n",
        "$$ Z = \\frac{\\bar{Y_1} - \\bar{Y_2} - (\\mu_1 - \\mu_2) }{\\sqrt{ \\sigma_1^2/n_1 + \\sigma_2^2/n_2 }} $$\n",
        "\n",
        "to be a normally distributed. Assuming that $\\sigma$ is equal for the two populations this would be:\n",
        "\n",
        "$$ Z = \\frac{\\bar{Y_1} - \\bar{Y_2} - (\\mu_1 - \\mu_2) }{ \\sigma \\sqrt{ 1/n_1 + 1/n_2} } $$\n",
        "\n",
        "However note that for this problem we do not know $\\sigma_1$ or $\\sigma_2$, or $\\sigma$ for that matter. The assumption that two very similar products have the same variance is a common one so we could proceed with that and use what is called a **pooled estimator** for the $\\sigma$:\n",
        "\n",
        "$$ S_p^2 = \\frac{ (n_1 -1 ) S_1^2 + (n_2 - 1) S_2^2 }{n_1 + n_2 - 2} $$\n",
        "\n",
        "To explain where this comes from:  \n",
        "\n",
        "- note that we multiply the individual sample variances by their denominator.\n",
        "- We compute the sum of the squares of the differences of each sample from the corresponding sample mean and add these\n",
        "- then we divide by the degrees of freedom:  $n_1 + n_2 - 2$  The reason there are 2 less degrees of freedom is becuase we have two means.\n",
        "\n",
        "- The other way to think about the pooled estimator is that it is the weighted average of the sample variances; weighted by the number of degrees of freedom.\n",
        "\n",
        "Then we can use $S_p$ in our Student's T distirbution with $n_1 + n_2 - 2$ degrees of freedom:\n",
        "\n",
        "$$ T = \\frac{ \\bar{Y_1} - \\bar{Y_2} - (\\mu_1 - \\mu_2) }{ S_p \\sqrt{1/n_1 + 1/n_2} }$$\n",
        "\n",
        "We will get that:\n",
        "\n",
        "$$ (\\bar{Y}_1 - \\bar{Y}_2) \\pm t_{\\alpha/2} S_p \\sqrt{1/n_1 + 1/n_2} $$ \n",
        "\n",
        "gives the boundaries of our confidence interval where \n",
        "\n",
        "$$ P(-t_{\\alpha/2} < T < t_{\\alpha/2} ) = 1 - \\alpha $$"
      ]
    },
    {
      "cell_type": "code",
      "metadata": {
        "id": "pHoRejiaIrPs",
        "outputId": "9555e161-7eab-4a74-e2c7-e288d046dbaa",
        "colab": {
          "base_uri": "https://localhost:8080/"
        }
      },
      "source": [
        "# Doing the computation:\n",
        "\n",
        "confidence = 0.99\n",
        "alpha = 1 - confidence\n",
        "\n",
        "\n",
        "# Compute the two sample means\n",
        "Ybar1 = np.mean(water)\n",
        "Ybar2 = np.mean(oil)\n",
        "\n",
        "# Record the sample sizes\n",
        "n1 = len(water)\n",
        "n2 = len(oil)\n",
        "\n",
        "# Compute the total degrees of freedom\n",
        "dof = n1+n2-2\n",
        "\n",
        "# Compute the two sample standard deviations\n",
        "S1 = np.std(water, ddof = 1)\n",
        "S2 = np.std(oil, ddof = 1)\n",
        "\n",
        "# Compute the pooled sample standard deviation; \n",
        "\n",
        "Sp = np.sqrt( ((n1-1)*S1 + (n2-1)*S2)/dof )\n",
        "\n",
        "# Compute the talpha\n",
        "\n",
        "talpha = -t.ppf(alpha/2, dof)\n",
        "\n",
        "# Give the confidence interval\n",
        "\n",
        "( (Ybar1 - Ybar2) - talpha * Sp *np.sqrt(1/n1 + 1/n2), (Ybar1 - Ybar2) + talpha * Sp *np.sqrt(1/n1+1/n2) )\n"
      ],
      "execution_count": 45,
      "outputs": [
        {
          "output_type": "execute_result",
          "data": {
            "text/plain": [
              "(-0.5724834871893034, 0.6824834871893033)"
            ]
          },
          "metadata": {
            "tags": []
          },
          "execution_count": 45
        }
      ]
    },
    {
      "cell_type": "code",
      "metadata": {
        "id": "GYMQ-xxEIrPt"
      },
      "source": [
        ""
      ],
      "execution_count": null,
      "outputs": []
    }
  ]
}