{
 "cells": [
  {
   "cell_type": "markdown",
   "metadata": {
    "id": "stZFpYbGF8fn"
   },
   "source": [
    "## Resampling\n",
    "\n",
    "Another approach, not included in our textbook, is designed to exploit the situation we now frequently find of having lots of data. The idea is this:  Given a large set of data we can experiment on the variation of our test statistic by sampling from the data itself. This approach is introducing some randomness in how the sampling is done, and it captures the information the data has about the variation. It relies on having enough data to give a large domain of resamples.\n",
    "\n",
    "\n",
    "\n"
   ]
  },
  {
   "cell_type": "code",
   "execution_count": 8,
   "metadata": {
    "id": "3_W32GrUF8fn"
   },
   "outputs": [],
   "source": [
    "import pandas as pd\n",
    "import seaborn as sns\n",
    "import numpy as np\n",
    "import matplotlib.pyplot as plt"
   ]
  },
  {
   "cell_type": "code",
   "execution_count": 9,
   "metadata": {
    "colab": {
     "base_uri": "https://localhost:8080/",
     "height": 419
    },
    "id": "zD9I7xIIF8fo",
    "outputId": "6c4fdcf1-89c0-46cf-e359-51d6df8cb9b2"
   },
   "outputs": [
    {
     "data": {
      "text/html": [
       "<div>\n",
       "<style scoped>\n",
       "    .dataframe tbody tr th:only-of-type {\n",
       "        vertical-align: middle;\n",
       "    }\n",
       "\n",
       "    .dataframe tbody tr th {\n",
       "        vertical-align: top;\n",
       "    }\n",
       "\n",
       "    .dataframe thead th {\n",
       "        text-align: right;\n",
       "    }\n",
       "</style>\n",
       "<table border=\"1\" class=\"dataframe\">\n",
       "  <thead>\n",
       "    <tr style=\"text-align: right;\">\n",
       "      <th></th>\n",
       "      <th>Name</th>\n",
       "      <th>Team</th>\n",
       "      <th>Position</th>\n",
       "      <th>Height(inches)</th>\n",
       "      <th>Weight(pounds)</th>\n",
       "      <th>Age</th>\n",
       "    </tr>\n",
       "  </thead>\n",
       "  <tbody>\n",
       "    <tr>\n",
       "      <th>0</th>\n",
       "      <td>Adam_Donachie</td>\n",
       "      <td>BAL</td>\n",
       "      <td>Catcher</td>\n",
       "      <td>74</td>\n",
       "      <td>180.0</td>\n",
       "      <td>22.99</td>\n",
       "    </tr>\n",
       "    <tr>\n",
       "      <th>1</th>\n",
       "      <td>Paul_Bako</td>\n",
       "      <td>BAL</td>\n",
       "      <td>Catcher</td>\n",
       "      <td>74</td>\n",
       "      <td>215.0</td>\n",
       "      <td>34.69</td>\n",
       "    </tr>\n",
       "    <tr>\n",
       "      <th>2</th>\n",
       "      <td>Ramon_Hernandez</td>\n",
       "      <td>BAL</td>\n",
       "      <td>Catcher</td>\n",
       "      <td>72</td>\n",
       "      <td>210.0</td>\n",
       "      <td>30.78</td>\n",
       "    </tr>\n",
       "    <tr>\n",
       "      <th>3</th>\n",
       "      <td>Kevin_Millar</td>\n",
       "      <td>BAL</td>\n",
       "      <td>First_Baseman</td>\n",
       "      <td>72</td>\n",
       "      <td>210.0</td>\n",
       "      <td>35.43</td>\n",
       "    </tr>\n",
       "    <tr>\n",
       "      <th>4</th>\n",
       "      <td>Chris_Gomez</td>\n",
       "      <td>BAL</td>\n",
       "      <td>First_Baseman</td>\n",
       "      <td>73</td>\n",
       "      <td>188.0</td>\n",
       "      <td>35.71</td>\n",
       "    </tr>\n",
       "    <tr>\n",
       "      <th>...</th>\n",
       "      <td>...</td>\n",
       "      <td>...</td>\n",
       "      <td>...</td>\n",
       "      <td>...</td>\n",
       "      <td>...</td>\n",
       "      <td>...</td>\n",
       "    </tr>\n",
       "    <tr>\n",
       "      <th>1029</th>\n",
       "      <td>Brad_Thompson</td>\n",
       "      <td>STL</td>\n",
       "      <td>Relief_Pitcher</td>\n",
       "      <td>73</td>\n",
       "      <td>190.0</td>\n",
       "      <td>25.08</td>\n",
       "    </tr>\n",
       "    <tr>\n",
       "      <th>1030</th>\n",
       "      <td>Tyler_Johnson</td>\n",
       "      <td>STL</td>\n",
       "      <td>Relief_Pitcher</td>\n",
       "      <td>74</td>\n",
       "      <td>180.0</td>\n",
       "      <td>25.73</td>\n",
       "    </tr>\n",
       "    <tr>\n",
       "      <th>1031</th>\n",
       "      <td>Chris_Narveson</td>\n",
       "      <td>STL</td>\n",
       "      <td>Relief_Pitcher</td>\n",
       "      <td>75</td>\n",
       "      <td>205.0</td>\n",
       "      <td>25.19</td>\n",
       "    </tr>\n",
       "    <tr>\n",
       "      <th>1032</th>\n",
       "      <td>Randy_Keisler</td>\n",
       "      <td>STL</td>\n",
       "      <td>Relief_Pitcher</td>\n",
       "      <td>75</td>\n",
       "      <td>190.0</td>\n",
       "      <td>31.01</td>\n",
       "    </tr>\n",
       "    <tr>\n",
       "      <th>1033</th>\n",
       "      <td>Josh_Kinney</td>\n",
       "      <td>STL</td>\n",
       "      <td>Relief_Pitcher</td>\n",
       "      <td>73</td>\n",
       "      <td>195.0</td>\n",
       "      <td>27.92</td>\n",
       "    </tr>\n",
       "  </tbody>\n",
       "</table>\n",
       "<p>1034 rows × 6 columns</p>\n",
       "</div>"
      ],
      "text/plain": [
       "                 Name Team        Position  Height(inches)  Weight(pounds)  \\\n",
       "0       Adam_Donachie  BAL         Catcher              74           180.0   \n",
       "1           Paul_Bako  BAL         Catcher              74           215.0   \n",
       "2     Ramon_Hernandez  BAL         Catcher              72           210.0   \n",
       "3        Kevin_Millar  BAL   First_Baseman              72           210.0   \n",
       "4         Chris_Gomez  BAL   First_Baseman              73           188.0   \n",
       "...               ...  ...             ...             ...             ...   \n",
       "1029    Brad_Thompson  STL  Relief_Pitcher              73           190.0   \n",
       "1030    Tyler_Johnson  STL  Relief_Pitcher              74           180.0   \n",
       "1031   Chris_Narveson  STL  Relief_Pitcher              75           205.0   \n",
       "1032    Randy_Keisler  STL  Relief_Pitcher              75           190.0   \n",
       "1033      Josh_Kinney  STL  Relief_Pitcher              73           195.0   \n",
       "\n",
       "        Age  \n",
       "0     22.99  \n",
       "1     34.69  \n",
       "2     30.78  \n",
       "3     35.43  \n",
       "4     35.71  \n",
       "...     ...  \n",
       "1029  25.08  \n",
       "1030  25.73  \n",
       "1031  25.19  \n",
       "1032  31.01  \n",
       "1033  27.92  \n",
       "\n",
       "[1034 rows x 6 columns]"
      ]
     },
     "execution_count": 9,
     "metadata": {},
     "output_type": "execute_result"
    }
   ],
   "source": [
    "baseball_url = 'https://drive.google.com/uc?export=download&id=1-4lEGbDkQi8Wy6h940tpbiMmcfQFxq8E'\n",
    "baseball = pd.read_csv(baseball_url)\n",
    "baseball"
   ]
  },
  {
   "cell_type": "code",
   "execution_count": 10,
   "metadata": {
    "colab": {
     "base_uri": "https://localhost:8080/"
    },
    "id": "SID7TrfOF8fo",
    "outputId": "212ebe82-1b24-4779-effa-1dea34c7172a"
   },
   "outputs": [
    {
     "data": {
      "text/plain": [
       "{'Relief_Pitcher': 'Pitcher',\n",
       " 'Starting_Pitcher': 'Pitcher',\n",
       " 'Shortstop': 'NotPitcher',\n",
       " 'Designated_Hitter': 'NotPitcher',\n",
       " 'Catcher': 'NotPitcher',\n",
       " 'Second_Baseman': 'NotPitcher',\n",
       " 'Outfielder': 'NotPitcher',\n",
       " 'Third_Baseman': 'NotPitcher',\n",
       " 'First_Baseman': 'NotPitcher'}"
      ]
     },
     "execution_count": 10,
     "metadata": {},
     "output_type": "execute_result"
    }
   ],
   "source": [
    "pos = set(baseball.loc[:, 'Position'])\n",
    "\n",
    "# We are going to recode the position feature to be 'Pitcher' or 'NotPitcher'. It is convenient to do this using\n",
    "# a dictionary. If you are interested this is the Python for doing this kind of work.\n",
    "\n",
    "# if not you can just ignore this\n",
    "\n",
    "recode_pitch = { x:'Pitcher' for x in pos if 'Pitcher' in x }\n",
    "# First for any position which has the word Pitcher, we recode that to just be Pitcher.\n",
    "\n",
    "recode_pitch.update({ x:'NotPitcher' for x in pos if not 'Pitcher' in x})\n",
    "# Then recode the ones that do not use the word Pitcher\n",
    "\n",
    "# Python lets us update dictionaries.\n",
    "recode_pitch"
   ]
  },
  {
   "cell_type": "code",
   "execution_count": 11,
   "metadata": {
    "id": "oT236LJPF8fo"
   },
   "outputs": [],
   "source": [
    "# So now fix the column\n",
    "baseball.loc[:, 'Position'] = baseball.loc[:, 'Position'].map(recode_pitch)"
   ]
  },
  {
   "cell_type": "code",
   "execution_count": 12,
   "metadata": {
    "colab": {
     "base_uri": "https://localhost:8080/",
     "height": 296
    },
    "id": "2lsdWSPyF8fo",
    "outputId": "f754bd26-06b0-4e38-ca37-db57cb02d238"
   },
   "outputs": [
    {
     "data": {
      "text/plain": [
       "<AxesSubplot:xlabel='Height(inches)', ylabel='Count'>"
      ]
     },
     "execution_count": 12,
     "metadata": {},
     "output_type": "execute_result"
    },
    {
     "data": {
      "image/png": "[encoded data removed]",
      "text/plain": [
       "<Figure size 432x288 with 1 Axes>"
      ]
     },
     "metadata": {
      "needs_background": "light"
     },
     "output_type": "display_data"
    }
   ],
   "source": [
    "# Seaborn is a data visualization package that is useful for plotting complicated data \n",
    "# in this case we can put the histograms of the heights of the players side by side by position\n",
    "\n",
    "sns.histplot(data = baseball, x='Height(inches)', hue='Position', multiple='dodge')"
   ]
  },
  {
   "cell_type": "markdown",
   "metadata": {
    "id": "6NCITub8F8fo"
   },
   "source": [
    "So a very natural proposition is then that Pitchers are taller on the average than non-Pitchers (there are some physiological reasons that this seems reasonable). Let's test this hypothesis using the techniques we've been learning. First we note that the sample sizes are nice and large:"
   ]
  },
  {
   "cell_type": "code",
   "execution_count": 13,
   "metadata": {
    "id": "fbGceHf1F8fq"
   },
   "outputs": [
    {
     "data": {
      "text/html": [
       "<div>\n",
       "<style scoped>\n",
       "    .dataframe tbody tr th:only-of-type {\n",
       "        vertical-align: middle;\n",
       "    }\n",
       "\n",
       "    .dataframe tbody tr th {\n",
       "        vertical-align: top;\n",
       "    }\n",
       "\n",
       "    .dataframe thead th {\n",
       "        text-align: right;\n",
       "    }\n",
       "</style>\n",
       "<table border=\"1\" class=\"dataframe\">\n",
       "  <thead>\n",
       "    <tr style=\"text-align: right;\">\n",
       "      <th></th>\n",
       "      <th>Height(inches)</th>\n",
       "      <th>Weight(pounds)</th>\n",
       "      <th>Age</th>\n",
       "    </tr>\n",
       "    <tr>\n",
       "      <th>Position</th>\n",
       "      <th></th>\n",
       "      <th></th>\n",
       "      <th></th>\n",
       "    </tr>\n",
       "  </thead>\n",
       "  <tbody>\n",
       "    <tr>\n",
       "      <th>NotPitcher</th>\n",
       "      <td>498</td>\n",
       "      <td>498</td>\n",
       "      <td>498</td>\n",
       "    </tr>\n",
       "    <tr>\n",
       "      <th>Pitcher</th>\n",
       "      <td>536</td>\n",
       "      <td>535</td>\n",
       "      <td>536</td>\n",
       "    </tr>\n",
       "  </tbody>\n",
       "</table>\n",
       "</div>"
      ],
      "text/plain": [
       "            Height(inches)  Weight(pounds)  Age\n",
       "Position                                       \n",
       "NotPitcher             498             498  498\n",
       "Pitcher                536             535  536"
      ]
     },
     "execution_count": 13,
     "metadata": {},
     "output_type": "execute_result"
    }
   ],
   "source": [
    "baseball = baseball.loc[:, ['Position', 'Height(inches)', 'Weight(pounds)', 'Age']]\n",
    "baseball.groupby('Position').count()"
   ]
  },
  {
   "cell_type": "markdown",
   "metadata": {},
   "source": [
    "### As a Hypothesis Test\n",
    "\n",
    "So let's quickly run this as a hypothesis test."
   ]
  },
  {
   "cell_type": "code",
   "execution_count": 14,
   "metadata": {},
   "outputs": [
    {
     "data": {
      "text/html": [
       "<div>\n",
       "<style scoped>\n",
       "    .dataframe tbody tr th:only-of-type {\n",
       "        vertical-align: middle;\n",
       "    }\n",
       "\n",
       "    .dataframe tbody tr th {\n",
       "        vertical-align: top;\n",
       "    }\n",
       "\n",
       "    .dataframe thead th {\n",
       "        text-align: right;\n",
       "    }\n",
       "</style>\n",
       "<table border=\"1\" class=\"dataframe\">\n",
       "  <thead>\n",
       "    <tr style=\"text-align: right;\">\n",
       "      <th></th>\n",
       "      <th>Height(inches)</th>\n",
       "      <th>Weight(pounds)</th>\n",
       "      <th>Age</th>\n",
       "    </tr>\n",
       "    <tr>\n",
       "      <th>Position</th>\n",
       "      <th></th>\n",
       "      <th></th>\n",
       "      <th></th>\n",
       "    </tr>\n",
       "  </thead>\n",
       "  <tbody>\n",
       "    <tr>\n",
       "      <th>NotPitcher</th>\n",
       "      <td>72.815261</td>\n",
       "      <td>198.997992</td>\n",
       "      <td>29.083414</td>\n",
       "    </tr>\n",
       "    <tr>\n",
       "      <th>Pitcher</th>\n",
       "      <td>74.516791</td>\n",
       "      <td>204.194393</td>\n",
       "      <td>28.414590</td>\n",
       "    </tr>\n",
       "  </tbody>\n",
       "</table>\n",
       "</div>"
      ],
      "text/plain": [
       "            Height(inches)  Weight(pounds)        Age\n",
       "Position                                             \n",
       "NotPitcher       72.815261      198.997992  29.083414\n",
       "Pitcher          74.516791      204.194393  28.414590"
      ]
     },
     "execution_count": 14,
     "metadata": {},
     "output_type": "execute_result"
    }
   ],
   "source": [
    "baseball.groupby('Position').mean()"
   ]
  },
  {
   "cell_type": "code",
   "execution_count": 15,
   "metadata": {},
   "outputs": [],
   "source": [
    "Ybar1 = 72.82\n",
    "Ybar2 = 74.52\n",
    "n1= 498\n",
    "n2 = 536"
   ]
  },
  {
   "cell_type": "code",
   "execution_count": 16,
   "metadata": {},
   "outputs": [
    {
     "data": {
      "text/html": [
       "<div>\n",
       "<style scoped>\n",
       "    .dataframe tbody tr th:only-of-type {\n",
       "        vertical-align: middle;\n",
       "    }\n",
       "\n",
       "    .dataframe tbody tr th {\n",
       "        vertical-align: top;\n",
       "    }\n",
       "\n",
       "    .dataframe thead th {\n",
       "        text-align: right;\n",
       "    }\n",
       "</style>\n",
       "<table border=\"1\" class=\"dataframe\">\n",
       "  <thead>\n",
       "    <tr style=\"text-align: right;\">\n",
       "      <th></th>\n",
       "      <th>Height(inches)</th>\n",
       "      <th>Weight(pounds)</th>\n",
       "      <th>Age</th>\n",
       "    </tr>\n",
       "    <tr>\n",
       "      <th>Position</th>\n",
       "      <th></th>\n",
       "      <th></th>\n",
       "      <th></th>\n",
       "    </tr>\n",
       "  </thead>\n",
       "  <tbody>\n",
       "    <tr>\n",
       "      <th>NotPitcher</th>\n",
       "      <td>2.053120</td>\n",
       "      <td>19.653794</td>\n",
       "      <td>4.286443</td>\n",
       "    </tr>\n",
       "    <tr>\n",
       "      <th>Pitcher</th>\n",
       "      <td>2.225531</td>\n",
       "      <td>21.886744</td>\n",
       "      <td>4.330693</td>\n",
       "    </tr>\n",
       "  </tbody>\n",
       "</table>\n",
       "</div>"
      ],
      "text/plain": [
       "            Height(inches)  Weight(pounds)       Age\n",
       "Position                                            \n",
       "NotPitcher        2.053120       19.653794  4.286443\n",
       "Pitcher           2.225531       21.886744  4.330693"
      ]
     },
     "execution_count": 16,
     "metadata": {},
     "output_type": "execute_result"
    }
   ],
   "source": [
    "baseball.groupby('Position').std()"
   ]
  },
  {
   "cell_type": "code",
   "execution_count": 17,
   "metadata": {},
   "outputs": [],
   "source": [
    "S1 = 2.05\n",
    "S2 = 2.23"
   ]
  },
  {
   "cell_type": "code",
   "execution_count": 18,
   "metadata": {},
   "outputs": [
    {
     "data": {
      "text/plain": [
       "2.145200158710192"
      ]
     },
     "execution_count": 18,
     "metadata": {},
     "output_type": "execute_result"
    }
   ],
   "source": [
    "Sp = np.sqrt( ((n1-1)*S1**2 + (n2-1)*S2**2 )/(n1+n2-2) )\n",
    "Sp"
   ]
  },
  {
   "cell_type": "code",
   "execution_count": 19,
   "metadata": {},
   "outputs": [
    {
     "data": {
      "text/plain": [
       "-12.732623514616584"
      ]
     },
     "execution_count": 19,
     "metadata": {},
     "output_type": "execute_result"
    }
   ],
   "source": [
    "# We will go right to the normal distribution because the degrees of freedom are quite large\n",
    "\n",
    "from scipy.stats import norm\n",
    "\n",
    "z_star = (Ybar1 - Ybar2) / Sp / np.sqrt(1/n1 + 1/n2) \n",
    "z_star"
   ]
  },
  {
   "cell_type": "code",
   "execution_count": 20,
   "metadata": {},
   "outputs": [
    {
     "data": {
      "text/plain": [
       "1.9476347907083775e-37"
      ]
     },
     "execution_count": 20,
     "metadata": {},
     "output_type": "execute_result"
    }
   ],
   "source": [
    "# This is quite small, but just to finish the likliehood that the value of Z is this or smaller is:\n",
    "\n",
    "norm.cdf(z_star)"
   ]
  },
  {
   "cell_type": "markdown",
   "metadata": {},
   "source": [
    "Our conclusion is that it is very unlikely that the mean height of pitchers is the same as the mean height of non-pitchers."
   ]
  },
  {
   "cell_type": "markdown",
   "metadata": {
    "id": "7MXij09sF8fr"
   },
   "source": [
    "## Random Sampling - Our Hypothesis: The mean height of pitchers at 74.5 inches is taller than non-Pitchers\n",
    "\n",
    "The null hypothesis is that the sample of Pitchers being taller was just a result of randomly choosing 536 players out of 1034 ballplayers and just ending up with the taller ones. To see if this could actually be the case, what we are going to do is select sets of 536 ball players from our sample over and over computing the mean each time, and see how often we end up with a mean of 74.5 inches or more."
   ]
  },
  {
   "cell_type": "code",
   "execution_count": 21,
   "metadata": {
    "id": "x0wBcX6-F8fr"
   },
   "outputs": [],
   "source": [
    "import random"
   ]
  },
  {
   "cell_type": "code",
   "execution_count": 22,
   "metadata": {
    "id": "wUax6ihIF8fr"
   },
   "outputs": [],
   "source": [
    "# Let's make this a function so we don't have to retype it all the time\n",
    "\n",
    "size = 536\n",
    "\n",
    "def experiment(N, s = size, population = list(baseball.loc[:, 'Height(inches)'])):\n",
    "    # N is the number of times to run the experiment\n",
    "    # s is a variable that will let us change the size of the sample to pull, the default value size is the number\n",
    "    # of petitions that Nixon received\n",
    "\n",
    "    result = pd.DataFrame([], columns = ['Mean Heights']) # Make a dataframe to catalogue the results\n",
    "    # Note I drop the size, because every sample will have the same size.\n",
    "    \n",
    "    for k in range(N):\n",
    "        \n",
    "        # random.choices(population, size)  \n",
    "        # use this command if we are sampling from the population with replacement\n",
    "    \n",
    "        sample = np.mean(random.sample(population, s))\n",
    "        # use this command if we are sampling from the population without replacement\n",
    "    \n",
    "        row = pd.DataFrame([sample], \n",
    "                       index = ['Mean Heights']).transpose()\n",
    "    \n",
    "        result = result.append(row)\n",
    "    \n",
    "    return result.reset_index().iloc[:, 1:]"
   ]
  },
  {
   "cell_type": "code",
   "execution_count": 23,
   "metadata": {
    "id": "FGtAtyoIF8fr"
   },
   "outputs": [
    {
     "data": {
      "text/plain": [
       "<AxesSubplot:xlabel='Mean Heights', ylabel='Count'>"
      ]
     },
     "execution_count": 23,
     "metadata": {},
     "output_type": "execute_result"
    },
    {
     "data": {
      "image/png": "[encoded data removed]",
      "text/plain": [
       "<Figure size 432x288 with 1 Axes>"
      ]
     },
     "metadata": {
      "needs_background": "light"
     },
     "output_type": "display_data"
    }
   ],
   "source": [
    "result = experiment(1000)\n",
    "sns.histplot(data=result, x='Mean Heights')"
   ]
  },
  {
   "cell_type": "code",
   "execution_count": 24,
   "metadata": {
    "id": "rey5AMv7F8fr"
   },
   "outputs": [
    {
     "data": {
      "text/plain": [
       "<AxesSubplot:xlabel='Mean Heights'>"
      ]
     },
     "execution_count": 24,
     "metadata": {},
     "output_type": "execute_result"
    },
    {
     "data": {
      "image/png": "[encoded data removed]",
      "text/plain": [
       "<Figure size 432x288 with 1 Axes>"
      ]
     },
     "metadata": {
      "needs_background": "light"
     },
     "output_type": "display_data"
    }
   ],
   "source": [
    "sns.boxplot(data=result, x='Mean Heights')"
   ]
  },
  {
   "cell_type": "markdown",
   "metadata": {
    "id": "_6ubi7aWF8fr"
   },
   "source": [
    "And we see that it never happened!  Which is actually remarkable given that there are many more pitchers than not pitchers."
   ]
  },
  {
   "cell_type": "markdown",
   "metadata": {
    "id": "TTR7FUFuF8fs"
   },
   "source": [
    "## Let's do the same operation with Age\n",
    "\n",
    "And at the same time look at the Median Age!"
   ]
  },
  {
   "cell_type": "code",
   "execution_count": 25,
   "metadata": {
    "id": "t5CQdjkBF8fs"
   },
   "outputs": [
    {
     "data": {
      "text/html": [
       "<div>\n",
       "<style scoped>\n",
       "    .dataframe tbody tr th:only-of-type {\n",
       "        vertical-align: middle;\n",
       "    }\n",
       "\n",
       "    .dataframe tbody tr th {\n",
       "        vertical-align: top;\n",
       "    }\n",
       "\n",
       "    .dataframe thead th {\n",
       "        text-align: right;\n",
       "    }\n",
       "</style>\n",
       "<table border=\"1\" class=\"dataframe\">\n",
       "  <thead>\n",
       "    <tr style=\"text-align: right;\">\n",
       "      <th></th>\n",
       "      <th>Height(inches)</th>\n",
       "      <th>Weight(pounds)</th>\n",
       "      <th>Age</th>\n",
       "    </tr>\n",
       "    <tr>\n",
       "      <th>Position</th>\n",
       "      <th></th>\n",
       "      <th></th>\n",
       "      <th></th>\n",
       "    </tr>\n",
       "  </thead>\n",
       "  <tbody>\n",
       "    <tr>\n",
       "      <th>NotPitcher</th>\n",
       "      <td>73</td>\n",
       "      <td>200.0</td>\n",
       "      <td>28.38</td>\n",
       "    </tr>\n",
       "    <tr>\n",
       "      <th>Pitcher</th>\n",
       "      <td>74</td>\n",
       "      <td>201.0</td>\n",
       "      <td>27.52</td>\n",
       "    </tr>\n",
       "  </tbody>\n",
       "</table>\n",
       "</div>"
      ],
      "text/plain": [
       "            Height(inches)  Weight(pounds)    Age\n",
       "Position                                         \n",
       "NotPitcher              73           200.0  28.38\n",
       "Pitcher                 74           201.0  27.52"
      ]
     },
     "execution_count": 25,
     "metadata": {},
     "output_type": "execute_result"
    }
   ],
   "source": [
    "baseball.groupby('Position').median()"
   ]
  },
  {
   "cell_type": "code",
   "execution_count": 26,
   "metadata": {
    "id": "cbLAaLigF8fs"
   },
   "outputs": [],
   "source": [
    "\n",
    "# Let's make this a function so we don't have to retype it all the time\n",
    "\n",
    "size = 536\n",
    "\n",
    "def experiment(N, s = size, population = list(baseball.loc[:, 'Age'])):\n",
    "    # N is the number of times to run the experiment\n",
    "    # s is a variable that will let us change the size of the sample to pull, the default value size is the number\n",
    "    # of petitions that Nixon received\n",
    "\n",
    "    result = pd.DataFrame([], columns = ['Median Age']) # Make a dataframe to catalogue the results\n",
    "    # Note I drop the size, because every sample will have the same size.\n",
    "    \n",
    "    for k in range(N):\n",
    "        \n",
    "        # random.choices(population, size)  \n",
    "        # use this command if we are sampling from the population with replacement\n",
    "    \n",
    "        sample = np.median(random.sample(population, s))\n",
    "        # use this command if we are sampling from the population without replacement\n",
    "    \n",
    "        row = pd.DataFrame([sample], \n",
    "                       index = ['Median Age']).transpose()\n",
    "    \n",
    "        result = result.append(row)\n",
    "    \n",
    "    return result.reset_index().iloc[:, 1:]"
   ]
  },
  {
   "cell_type": "code",
   "execution_count": 27,
   "metadata": {
    "id": "LbPtjwRWF8fs"
   },
   "outputs": [
    {
     "data": {
      "text/plain": [
       "<AxesSubplot:xlabel='Median Age', ylabel='Count'>"
      ]
     },
     "execution_count": 27,
     "metadata": {},
     "output_type": "execute_result"
    },
    {
     "data": {
      "image/png": "[encoded data removed]",
      "text/plain": [
       "<Figure size 432x288 with 1 Axes>"
      ]
     },
     "metadata": {
      "needs_background": "light"
     },
     "output_type": "display_data"
    }
   ],
   "source": [
    "result = experiment(1000)\n",
    "sns.histplot(data=result, x='Median Age')"
   ]
  },
  {
   "cell_type": "code",
   "execution_count": 28,
   "metadata": {
    "id": "V7HomDeOF8fs"
   },
   "outputs": [
    {
     "data": {
      "text/plain": [
       "<AxesSubplot:xlabel='Median Age'>"
      ]
     },
     "execution_count": 28,
     "metadata": {},
     "output_type": "execute_result"
    },
    {
     "data": {
      "image/png": "[encoded data removed]",
      "text/plain": [
       "<Figure size 432x288 with 1 Axes>"
      ]
     },
     "metadata": {
      "needs_background": "light"
     },
     "output_type": "display_data"
    }
   ],
   "source": [
    "sns.boxplot(data=result, x='Median Age')"
   ]
  },
  {
   "cell_type": "markdown",
   "metadata": {
    "id": "dz84o3wsF8ft"
   },
   "source": [
    "And we see that a Median Age of 27.52 or less fits into the first tail of the experiment, and so there is a small proportion of times we expect to see that result come out. We can compute the exact proportion by:"
   ]
  },
  {
   "cell_type": "code",
   "execution_count": 29,
   "metadata": {
    "id": "GxT-IXT2F8ft"
   },
   "outputs": [
    {
     "data": {
      "text/plain": [
       "0.018"
      ]
     },
     "execution_count": 29,
     "metadata": {},
     "output_type": "execute_result"
    }
   ],
   "source": [
    "sum(result.loc[:, 'Median Age'] <= 27.52 )/1000"
   ]
  },
  {
   "cell_type": "markdown",
   "metadata": {
    "id": "SyC92DZxF8ft"
   },
   "source": [
    "Note that we do not have other tools for studying the Median Age of the sample unless we know the underlying distribution the sample is pulled from. We can guess that the underlying sample here is normal, and we also would suspect that we would have a robust test, however resampling gives us a method of studying the same question without having to worry about those assumptions.\n",
    "\n",
    "So what is the catch?  Well we need to know that the sample we do have is random and representative. For this problem there is not much to be worried about, but we would want to be especially careful if one of our populations is much smaller than the other.\n",
    "\n",
    "Note that above we sampled from the players without replacement. Another approach would be to sample from the set with replacement - this would be appropriate if for example we were just studying a single population."
   ]
  },
  {
   "cell_type": "markdown",
   "metadata": {
    "id": "ROTU3hHQF8ft"
   },
   "source": [
    "# Returning to Correlations: Linear Statistical Models\n",
    "\n",
    "So it is time for us to return to multivariate probability and revisit the study of these distributions with the tools we have now. Note this is a big topic and we will not have time explore it completely. The courses STAT 406 and STAT 411 both get into more extensive results around the modeling of data.\n",
    "\n",
    "The basic problem is that we are presented with a sample from a multivariate distribution as pairs of $(x, y)$. For which we are going to think of the $y$ as a dependent variable and $x$ as an indepent variable. We have perhaps observed some correlation between the $x$ and $y$. \n",
    "\n",
    "For example:\n",
    "\n"
   ]
  },
  {
   "cell_type": "code",
   "execution_count": 41,
   "metadata": {},
   "outputs": [],
   "source": [
    "# There is a missing value that will cause a problem in what follows\n",
    "\n",
    "baseball = baseball.loc[pd.notna(baseball.loc[:, 'Weight(pounds)'])]"
   ]
  },
  {
   "cell_type": "code",
   "execution_count": 42,
   "metadata": {},
   "outputs": [
    {
     "data": {
      "text/html": [
       "<div>\n",
       "<style scoped>\n",
       "    .dataframe tbody tr th:only-of-type {\n",
       "        vertical-align: middle;\n",
       "    }\n",
       "\n",
       "    .dataframe tbody tr th {\n",
       "        vertical-align: top;\n",
       "    }\n",
       "\n",
       "    .dataframe thead th {\n",
       "        text-align: right;\n",
       "    }\n",
       "</style>\n",
       "<table border=\"1\" class=\"dataframe\">\n",
       "  <thead>\n",
       "    <tr style=\"text-align: right;\">\n",
       "      <th></th>\n",
       "      <th>Position</th>\n",
       "      <th>Height(inches)</th>\n",
       "      <th>Weight(pounds)</th>\n",
       "      <th>Age</th>\n",
       "    </tr>\n",
       "  </thead>\n",
       "  <tbody>\n",
       "    <tr>\n",
       "      <th>0</th>\n",
       "      <td>NotPitcher</td>\n",
       "      <td>74</td>\n",
       "      <td>180.0</td>\n",
       "      <td>22.99</td>\n",
       "    </tr>\n",
       "    <tr>\n",
       "      <th>1</th>\n",
       "      <td>NotPitcher</td>\n",
       "      <td>74</td>\n",
       "      <td>215.0</td>\n",
       "      <td>34.69</td>\n",
       "    </tr>\n",
       "    <tr>\n",
       "      <th>2</th>\n",
       "      <td>NotPitcher</td>\n",
       "      <td>72</td>\n",
       "      <td>210.0</td>\n",
       "      <td>30.78</td>\n",
       "    </tr>\n",
       "    <tr>\n",
       "      <th>3</th>\n",
       "      <td>NotPitcher</td>\n",
       "      <td>72</td>\n",
       "      <td>210.0</td>\n",
       "      <td>35.43</td>\n",
       "    </tr>\n",
       "    <tr>\n",
       "      <th>4</th>\n",
       "      <td>NotPitcher</td>\n",
       "      <td>73</td>\n",
       "      <td>188.0</td>\n",
       "      <td>35.71</td>\n",
       "    </tr>\n",
       "    <tr>\n",
       "      <th>...</th>\n",
       "      <td>...</td>\n",
       "      <td>...</td>\n",
       "      <td>...</td>\n",
       "      <td>...</td>\n",
       "    </tr>\n",
       "    <tr>\n",
       "      <th>1029</th>\n",
       "      <td>Pitcher</td>\n",
       "      <td>73</td>\n",
       "      <td>190.0</td>\n",
       "      <td>25.08</td>\n",
       "    </tr>\n",
       "    <tr>\n",
       "      <th>1030</th>\n",
       "      <td>Pitcher</td>\n",
       "      <td>74</td>\n",
       "      <td>180.0</td>\n",
       "      <td>25.73</td>\n",
       "    </tr>\n",
       "    <tr>\n",
       "      <th>1031</th>\n",
       "      <td>Pitcher</td>\n",
       "      <td>75</td>\n",
       "      <td>205.0</td>\n",
       "      <td>25.19</td>\n",
       "    </tr>\n",
       "    <tr>\n",
       "      <th>1032</th>\n",
       "      <td>Pitcher</td>\n",
       "      <td>75</td>\n",
       "      <td>190.0</td>\n",
       "      <td>31.01</td>\n",
       "    </tr>\n",
       "    <tr>\n",
       "      <th>1033</th>\n",
       "      <td>Pitcher</td>\n",
       "      <td>73</td>\n",
       "      <td>195.0</td>\n",
       "      <td>27.92</td>\n",
       "    </tr>\n",
       "  </tbody>\n",
       "</table>\n",
       "<p>1033 rows × 4 columns</p>\n",
       "</div>"
      ],
      "text/plain": [
       "        Position  Height(inches)  Weight(pounds)    Age\n",
       "0     NotPitcher              74           180.0  22.99\n",
       "1     NotPitcher              74           215.0  34.69\n",
       "2     NotPitcher              72           210.0  30.78\n",
       "3     NotPitcher              72           210.0  35.43\n",
       "4     NotPitcher              73           188.0  35.71\n",
       "...          ...             ...             ...    ...\n",
       "1029     Pitcher              73           190.0  25.08\n",
       "1030     Pitcher              74           180.0  25.73\n",
       "1031     Pitcher              75           205.0  25.19\n",
       "1032     Pitcher              75           190.0  31.01\n",
       "1033     Pitcher              73           195.0  27.92\n",
       "\n",
       "[1033 rows x 4 columns]"
      ]
     },
     "execution_count": 42,
     "metadata": {},
     "output_type": "execute_result"
    }
   ],
   "source": [
    "baseball"
   ]
  },
  {
   "cell_type": "code",
   "execution_count": 33,
   "metadata": {},
   "outputs": [
    {
     "data": {
      "text/plain": [
       "<AxesSubplot:xlabel='Weight(pounds)', ylabel='Height(inches)'>"
      ]
     },
     "execution_count": 33,
     "metadata": {},
     "output_type": "execute_result"
    },
    {
     "data": {
      "image/png": "[encoded data removed]",
      "text/plain": [
       "<Figure size 864x432 with 1 Axes>"
      ]
     },
     "metadata": {
      "needs_background": "light"
     },
     "output_type": "display_data"
    }
   ],
   "source": [
    "plt.figure(figsize = (12, 6))\n",
    "sns.scatterplot(data=baseball, x='Weight(pounds)', y='Height(inches)', hue='Position')"
   ]
  },
  {
   "cell_type": "markdown",
   "metadata": {},
   "source": [
    "It is not surprising, but it appears that there is some correlation between a baseball players Weight and Height.\n",
    "\n",
    "We would like to model this relationship with some $y = f(x)$, i.e. *given a players weight, we would produce a value for their height.*\n",
    "\n",
    "Notice that in this case, it is clearly hopeless. There are a number of heights for which there are multiple weights from players. Thus whatever the relationship is, it cannot be described completely by a function.\n",
    "\n",
    "What we would like to do then, in a very statistical way of thinking about it, is the best that we can. I.e. to model the relationship between $y$ and $x$ with some function $f(x)$ and to then describe the extent to which we expect the model to be accurate. \n",
    "\n",
    "Note that the actual distribution changes as we vary $x$.\n",
    "\n",
    "## Linear Regression\n",
    "\n",
    "So as we often do in mathematics, in our quest to develop some tools for arbitrary functions, we start with the simplest ones first. We wish to find a $\\beta_0$ and a $\\beta_1$ such that\n",
    "\n",
    "$$ y = \\beta_0 + \\beta_1 x $$ \n",
    "\n",
    "gives a good approximation of the relationship between $x$ and $y$ for our population. **What do we mean by good?**\n",
    "\n",
    "Well the exact relationship is:  $$ y = \\beta_0 + \\beta_1 x + \\epsilon $$ for some error term $\\epsilon$ which is a random variable capturing the error of our linear model. If the linear model is a good approximation the $\\epsilon$ should be something for which we have some control/understanding. \n",
    "\n",
    "In other words, the correct $\\beta_0$ and $\\beta_1$ are the choices which minimize to some extent the $\\epsilon$.\n",
    "\n",
    "### Least Squares\n",
    "\n",
    "Not surprisingly one of the most common metrics for us to use in this minimization is the sum the square errors of our model:\n",
    "\n",
    "Given a collection of data points:  $$ \\left\\{ (x_i, y_i) \\right\\} $$ let $$ \\hat{y}_i = \\beta_0 + \\beta_1 x_i $$ be the $y$ values predicted by the linear model with $\\beta_0$ and $\\beta_1$ parameters. Then the sum of square errorsis:\n",
    "\n",
    "$$ \\mbox{SSE} = \\sum_{i=1}^n (y_i - \\hat{y}_i)^2 $$\n",
    "\n",
    "and our estimate of the $\\beta_0$ and $\\beta_1$ are the values that minimize SSE. This is a Calculus 3 minimization problem:  You are looking for the location where $\\frac{\\partial \\mbox{SSE}}{\\partial \\beta_j} = 0 $. However it can also be formulated as a Linear Algebra problem. In either case one find:\n",
    "\n",
    "$$ \\hat{\\beta}_1 = \\frac{ \\sum (x_i - \\bar{x} )(y_i - \\bar{y}) }{\\sum (x_i - \\bar{x})^2 } $$\n",
    "\n",
    "and $\\hat{\\beta}_0 = \\bar{y} - \\hat{\\beta}_1 \\bar{x} $.\n",
    "\n",
    "Note that because we are working from a sample of a multivariate distribution $(X, Y)$ the values we get depend on the sample and so at best are estimates of the true values: \n",
    "\n",
    "$$ Y = \\beta_0 + \\beta_1 X + \\epsilon $$\n"
   ]
  },
  {
   "cell_type": "code",
   "execution_count": 37,
   "metadata": {},
   "outputs": [
    {
     "data": {
      "text/plain": [
       "(201.6892545982575, 73.6972920696325)"
      ]
     },
     "execution_count": 37,
     "metadata": {},
     "output_type": "execute_result"
    }
   ],
   "source": [
    "xbar = baseball.loc[:, 'Weight(pounds)'].mean()\n",
    "ybar = baseball.loc[:, 'Height(inches)'].mean()\n",
    "xbar, ybar"
   ]
  },
  {
   "cell_type": "code",
   "execution_count": 45,
   "metadata": {},
   "outputs": [
    {
     "data": {
      "text/plain": [
       "(61.910943433988855, 0.05843815853809729)"
      ]
     },
     "execution_count": 45,
     "metadata": {},
     "output_type": "execute_result"
    }
   ],
   "source": [
    "Sxy = sum( [ (baseball.loc[i, 'Weight(pounds)'] - xbar)*(baseball.loc[i, 'Height(inches)'] - ybar) for i in baseball.index ] )\n",
    "Sxx = sum( [ (baseball.loc[i, 'Weight(pounds)'] - xbar)**2 for i in baseball.index ])\n",
    "beta1 = Sxy / Sxx\n",
    "beta0 = ybar - beta1*xbar\n",
    "beta0, beta1"
   ]
  },
  {
   "cell_type": "code",
   "execution_count": 46,
   "metadata": {},
   "outputs": [
    {
     "data": {
      "text/plain": [
       "[<matplotlib.lines.Line2D at 0x1a1db6ba90>]"
      ]
     },
     "execution_count": 46,
     "metadata": {},
     "output_type": "execute_result"
    },
    {
     "data": {
      "image/png": "[encoded data removed]",
      "text/plain": [
       "<Figure size 864x432 with 1 Axes>"
      ]
     },
     "metadata": {
      "needs_background": "light"
     },
     "output_type": "display_data"
    }
   ],
   "source": [
    "plt.figure(figsize = (12, 6) )\n",
    "sns.scatterplot(data=baseball, x='Weight(pounds)', y = 'Height(inches)')\n",
    "x = np.linspace(150, 290, 100)\n",
    "y = beta0 + beta1*x\n",
    "plt.plot(x, y, 'b-')"
   ]
  },
  {
   "cell_type": "markdown",
   "metadata": {},
   "source": [
    "To get a handle on how good our estimates are, we consider the $x_i$ fixed and the $Y_i$ as a random variable:  $$Y_i = \\beta_0 + \\beta_1 x_i + \\epsilon$$  If the $\\epsilon$ is normally distributed with population variance $\\sigma^2$ and we can find the following results:\n",
    "\n",
    "- The $\\hat{\\beta}_j$ estimators are normally distributed.\n",
    "\n",
    "- $\\hat{\\beta_1}$ is an unbiased estimator of $\\beta_1$:  $$ E( \\hat{\\beta_1}) = \\beta_1$$ \n",
    "\n",
    "- while it has variance given by:  $$ V(\\hat{\\beta_1}) = \\frac{\\sigma^2}{S_{xx}} $$  where $ S_{xx} = \\sum (x_i - \\bar{x})^2 $.\n",
    "\n",
    "- $\\hat{\\beta_0}$ above was choosen specifically so that it is an unbiased estimator of $\\beta_0$. \n",
    "\n",
    "- The variance meanwhile is: \n",
    "\n",
    "$$ V(\\hat{\\beta_0}) = \\sigma^2 \\frac{\\sum x_i^2}{n S_{xx} } $$\n",
    "\n",
    "- Finally there is a relationship between $\\hat{\\beta_0}$ and $\\hat{\\beta_1}$ which is not surprising:\n",
    "\n",
    "$$ \\mbox{Cov}(\\hat{\\beta_0}, \\hat{\\beta_1}) = \\frac{-\\bar{x} \\sigma^2}{S_{xx}} $$\n",
    "\n"
   ]
  },
  {
   "cell_type": "markdown",
   "metadata": {},
   "source": [
    "### Estimates for Y Variance\n",
    "\n",
    "It is natural to use the errors of our estimated model as an estimate for the population variance. However we expect degrees of freedom to be an issue, and in particular the $Y_i$ were used in computing the estimate $\\hat{\\beta}_j$ used in $\\hat{Y_i}$.\n",
    "\n",
    "We can show that \n",
    "\n",
    "$$ S^2 = \\frac{1}{n-2} \\sum (Y_i - \\hat{Y_i} )^2 $$\n",
    "\n",
    "is an unbiased estimate for $\\sigma^2$. \n",
    "\n",
    "More generally you will use $n-d$ where $d$ is the number of parameters being used in our model. As we saw with the sample variance before, for large values of $n$ the difference is negligible. One way to think of this though is to recognize that with only two data values $n=2$ we would not have enough information to understand any sort of variation in the $\\beta_j$."
   ]
  },
  {
   "cell_type": "code",
   "execution_count": 49,
   "metadata": {},
   "outputs": [
    {
     "data": {
      "text/plain": [
       "Position          1033\n",
       "Height(inches)    1033\n",
       "Weight(pounds)    1033\n",
       "Age               1033\n",
       "dtype: int64"
      ]
     },
     "execution_count": 49,
     "metadata": {},
     "output_type": "execute_result"
    }
   ],
   "source": [
    "baseball.count()"
   ]
  },
  {
   "cell_type": "code",
   "execution_count": 56,
   "metadata": {},
   "outputs": [
    {
     "data": {
      "text/plain": [
       "(0.3452360100312425, 8.396068197272493e-06)"
      ]
     },
     "execution_count": 56,
     "metadata": {},
     "output_type": "execute_result"
    }
   ],
   "source": [
    "# Baseball example:\n",
    "\n",
    "S2 = 1/(1031) * sum( [ (baseball.loc[i, 'Height(inches)'] - beta0 - beta1*baseball.loc[i, 'Weight(pounds)'])**2 for i in baseball.index ])\n",
    "\n",
    "Vbeta1 = S2/ Sxx\n",
    "\n",
    "Vbeta0 = S2 *sum( [ baseball.loc[i, 'Weight(pounds)']**2 for i in baseball.index]) / (1033 * Sxx )\n",
    "\n",
    "Vbeta0, Vbeta1"
   ]
  },
  {
   "cell_type": "code",
   "execution_count": 58,
   "metadata": {},
   "outputs": [
    {
     "data": {
      "text/plain": [
       "-0.0016933967362640248"
      ]
     },
     "execution_count": 58,
     "metadata": {},
     "output_type": "execute_result"
    }
   ],
   "source": [
    "# and the correlation\n",
    "\n",
    "Covbeta0beta1 = - xbar * S2/Sxx\n",
    "Covbeta0beta1"
   ]
  },
  {
   "cell_type": "markdown",
   "metadata": {},
   "source": [
    "### Hypothesis Tests and Confidence Intervals\n",
    "\n",
    "All of this then means, with the assumption that $\\epsilon$ is normally distributed, that we can use our tools to construct confidence intervals or run hypothesis tests on these values. \n",
    "\n",
    "#### Example 1: Confidence Interval \n",
    "\n",
    "Construct a 99% confidence inteval for $\\beta_1$ and $\\beta_0$:\n",
    "\n"
   ]
  },
  {
   "cell_type": "code",
   "execution_count": 59,
   "metadata": {},
   "outputs": [],
   "source": [
    "from scipy.stats import t"
   ]
  },
  {
   "cell_type": "code",
   "execution_count": 62,
   "metadata": {},
   "outputs": [],
   "source": [
    "t_alpha = t.ppf(0.995, 1032)"
   ]
  },
  {
   "cell_type": "code",
   "execution_count": 66,
   "metadata": {},
   "outputs": [
    {
     "data": {
      "text/plain": [
       "(0.058205392770293476, 0.05867092430590111)"
      ]
     },
     "execution_count": 66,
     "metadata": {},
     "output_type": "execute_result"
    }
   ],
   "source": [
    "beta1 - t_alpha * np.sqrt(Vbeta1 / 1032), beta1 + t_alpha * np.sqrt(Vbeta1 / 1032)"
   ]
  },
  {
   "cell_type": "code",
   "execution_count": 67,
   "metadata": {},
   "outputs": [
    {
     "data": {
      "text/plain": [
       "(61.86374374077432, 61.95814312720339)"
      ]
     },
     "execution_count": 67,
     "metadata": {},
     "output_type": "execute_result"
    }
   ],
   "source": [
    "beta0 - t_alpha * np.sqrt(Vbeta0 / 1032), beta0 + t_alpha * np.sqrt(Vbeta0 / 1032 )"
   ]
  },
  {
   "cell_type": "code",
   "execution_count": null,
   "metadata": {},
   "outputs": [],
   "source": []
  }
 ],
 "metadata": {
  "colab": {
   "name": "4-1 Hypothesis Test - 2.ipynb",
   "provenance": []
  },
  "kernelspec": {
   "display_name": "Python 3",
   "language": "python",
   "name": "python3"
  },
  "language_info": {
   "codemirror_mode": {
    "name": "ipython",
    "version": 3
   },
   "file_extension": ".py",
   "mimetype": "text/x-python",
   "name": "python",
   "nbconvert_exporter": "python",
   "pygments_lexer": "ipython3",
   "version": "3.7.4"
  }
 },
 "nbformat": 4,
 "nbformat_minor": 4
}
