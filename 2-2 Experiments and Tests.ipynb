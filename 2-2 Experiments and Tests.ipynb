{
 "cells": [
  {
   "cell_type": "code",
   "execution_count": 1,
   "metadata": {},
   "outputs": [],
   "source": [
    "def factorial(n):\n",
    "    \n",
    "    if n<1:\n",
    "        return 1\n",
    "    else: \n",
    "        return float(n*factorial(n-1))\n",
    "    \n",
    "def binomial(n, m):\n",
    "    \n",
    "    return factorial(n)/ ( factorial(m) * factorial(n-m))"
   ]
  },
  {
   "cell_type": "markdown",
   "metadata": {},
   "source": [
    "# Review Distributions\n",
    "\n",
    "We now have a small zoo of discrete and continuous distributions to use as we set out to try to model real random variables and make predicitions or conclusions. Briefly remind yourslf of what type of problems each distribution is used for and give some examples of a situation that could be modeled by the distribution.\n",
    "\n",
    "## Discrete Distribution Examples\n",
    "\n",
    "- Binomial Distribution\n",
    "- Geometric Distribution\n",
    "- Poisson Distributions\n",
    "\n",
    "## Continuous Distribution Examples\n",
    "\n",
    "- Uniform Distributions\n",
    "- Normal Distributions\n",
    "- Gamma Distributions\n",
    "- Beta Distributions\n",
    "\n",
    "These are of course just a sample of the distributions that are well studied.\n",
    "\n"
   ]
  },
  {
   "cell_type": "markdown",
   "metadata": {},
   "source": [
    "# Selecting Distributions and Parameters\n",
    "\n",
    "Of course a big concern you should have:  Given some data, how do we know which distribution we should use as a model and how do we select the paramters for that model? This will be part of what we do in the rest of this class and into STAT 411. However a few comments now:\n",
    "\n",
    "- The primary thing we use these models for is making estimates that are then used in making predictions or conclusions. It turns out that in many cases this process is not strongly dependent on the model or parameters used. \n",
    "- In the distrubtions we have discussed we have found expressions for the Expected Value and Variance of the random variable, and so these can be estimated from the data and used to estimate the correct parameters.\n",
    "- In practice one trick is to graph a historgram of the data, and then select a distribution that visually matches it. **Danger Alarms**\n",
    "\n",
    "## Moments\n",
    "\n",
    "One question though is to understand how well a distribution matches data. The idea is to notice what we have already observed that we can use $E(Y)$ and $V(Y)$ that can be computed from data to match with a distribution and choose parameters if necessary.\n",
    "\n",
    "We note that\n",
    "\n",
    "$$ V(Y) = E( (Y- E(Y))^2 ) = E(Y^2) - E(Y)^2 $$\n",
    "\n",
    "and so what we are really doing is trying to choose a distribution for which $E(Y)$ and $E(Y^2)$ match with the data collected.\n",
    "\n",
    "This leads us to the definition of the **Moments** of a random variable:\n",
    "\n",
    "$$ E(Y^m) = \\int_{-\\infty}^\\infty y^m f(y) dy $$\n",
    "\n",
    "(for a continuous random variable with PDF $f$).\n",
    "\n",
    "Given some data we can also compute the moments of the data by taking the average of the $Y^m$. \n",
    "\n",
    "### Moments Define Distributions\n",
    "\n",
    "If two random variables $Y$ and $Z$ have identical moments, $E(Y^m) = E(Z^m)$ for all $m$, then $Y$ and $Z$ have identical probability distributions. I.e. if they are continuous then their PDF and CDFs match, and if they are discrete then $P(Y=y) = P(Z=y)$. \n",
    "\n"
   ]
  },
  {
   "cell_type": "markdown",
   "metadata": {},
   "source": [
    "So moments give a numerical evaluation of whether a given set of data is close to a particular distribution, particularly as the amount of data becomes large (something we will expand on later).\n",
    "\n",
    "It is convenient to make use of some Calculus and note that the function:\n",
    "\n",
    "$$ e^{t y} = \\sum_{m=0}^\\infty y^m \\frac{t^m}{m!} $$\n",
    "\n",
    "and so \n",
    "\n",
    "$$ E( e^{t Y} ) = \\sum_{m=0}^\\infty E(Y^m) \\frac{t^m}{m!} $$ \n",
    "\n",
    "caputes all of the momets of the random variable $Y$. We call $E(e^{t Y}) $ the **moment generating function** of Y.\n",
    "\n",
    "Thus two random variables $Y$ and $Z$ have identifical distributions if and only if their moment generating functions are equal.\n",
    "\n",
    "### What could go wrong?\n",
    "\n",
    "- Of course what is left unsaid above is the assumption that the moments and moment generating functions exist.\n",
    "\n",
    "- Computing moments also involves approximating integrals with powers of the argument, and so are prone to errors as you get further out into the moments."
   ]
  },
  {
   "cell_type": "markdown",
   "metadata": {},
   "source": [
    "## Example: Normal Random Variable\n",
    "\n",
    "Let $Z$ be the standard normal random variable. The moment generating function of $Z$ is then:\n",
    "\n",
    "$$ m(t) = E( e^{t Z}) = \\int_{-\\infty}^\\infty e^{t z} \\frac{1}{\\sqrt{2\\pi}} e^{-z^2/2} dz $$"
   ]
  },
  {
   "cell_type": "markdown",
   "metadata": {},
   "source": [
    "This is actually computable. We note first of all that the total probability is 1\n",
    "\n",
    "$$ \\int_{-\\infty}^\\infty \\frac{1}{\\sqrt{2\\pi}} e^{-z^2 /2} dz = 1 $$\n",
    "\n",
    "Then we do a little bit of algebra in the integrand of $m(t)$:\n",
    "\n",
    "$$ m(t) = \\int_{-\\infty}^\\infty \\frac{1}{\\sqrt{2\\pi}} e^{- z^2/2 + tz } dz $$\n",
    "\n",
    "Complete the square for the expression in the exponential:\n",
    "\n",
    "$$ - z^2 /2 + tz = - z^2 / 2 + tz - t^2 / 2 + t^2 / 2  = - (z - t)^2 / 2 + t^2 / 2 $$"
   ]
  },
  {
   "cell_type": "markdown",
   "metadata": {},
   "source": [
    "Leading to \n",
    "\n",
    "$$ m(t) =  e^{t^2/2} \\int_{-\\infty}^\\infty \\frac{1}{\\sqrt{2\\pi}} e^{-(z-t)^2/2} dz $$\n",
    "\n",
    "and finally change variables in the integrant to $\\hat{z} = z-t$\n",
    "\n",
    "$$ m(t) = e^{t^2/2} \\int_{-\\infty}^\\infty \\frac{1}{\\sqrt{2\\pi}} e^{-z^2/2} dz  = e^{t^2/2} $$"
   ]
  },
  {
   "cell_type": "markdown",
   "metadata": {},
   "source": [
    "## With mean $\\mu$ and variance $\\sigma^2$\n",
    "\n",
    "A bit of work and you can show that \n",
    "\n",
    "$$ m(t) = e^{ \\mu t + t^2 \\sigma^2 /2} $$"
   ]
  },
  {
   "cell_type": "markdown",
   "metadata": {},
   "source": [
    "## Example: Baseball Players Heights\n",
    "\n",
    "The following data contains the heights of a MLB players a few years ago. Compute the moments and moment generating function of this data and compare it with the moment generating function of the Normal Random Variable with the corresponding mean and variance."
   ]
  },
  {
   "cell_type": "code",
   "execution_count": 2,
   "metadata": {},
   "outputs": [
    {
     "data": {
      "text/plain": [
       "array([74, 74, 72, ..., 75, 75, 73])"
      ]
     },
     "execution_count": 2,
     "metadata": {},
     "output_type": "execute_result"
    }
   ],
   "source": [
    "import numpy as np\n",
    "import matplotlib.pyplot as plt\n",
    "import pandas as pd\n",
    "# pandas is a package for working with data - we won't spent too much time with it, but we need it for this \n",
    "# example.\n",
    "\n",
    "data_url = 'https://drive.google.com/uc?export=download&id=1-4lEGbDkQi8Wy6h940tpbiMmcfQFxq8E'\n",
    "data = np.array(pd.read_csv(data_url).loc[:, 'Height(inches)'])\n",
    "data"
   ]
  },
  {
   "cell_type": "code",
   "execution_count": 3,
   "metadata": {},
   "outputs": [
    {
     "data": {
      "image/png": "[encoded data removed]",
      "text/plain": [
       "<Figure size 720x504 with 1 Axes>"
      ]
     },
     "metadata": {
      "needs_background": "light"
     },
     "output_type": "display_data"
    }
   ],
   "source": [
    "plt.figure(figsize = (10, 7))\n",
    "plt.hist(data, bins=16);\n",
    "# Note that the number of bins here has a strong effect on the appearance of the data"
   ]
  },
  {
   "cell_type": "code",
   "execution_count": 4,
   "metadata": {},
   "outputs": [
    {
     "data": {
      "text/plain": [
       "(73.6972920696325, 5.311656110053169)"
      ]
     },
     "execution_count": 4,
     "metadata": {},
     "output_type": "execute_result"
    }
   ],
   "source": [
    "# Find the mean and variance\n",
    "\n",
    "mu = sum(data)/len(data)\n",
    "variance = sum( (data - mu)**2 ) / len(data)\n",
    "mu, variance"
   ]
  },
  {
   "cell_type": "code",
   "execution_count": 5,
   "metadata": {},
   "outputs": [],
   "source": [
    "# Define a function for computing the moments\n",
    "\n",
    "def moments(m):\n",
    "    \n",
    "    return sum( ((data-mu)/np.sqrt(variance))**m )/len(data)\n",
    "\n",
    "# Note thought that I transformed the data to a standard normal - I did this because otherwise the moments get too \n",
    "# large too quickly for Python\n"
   ]
  },
  {
   "cell_type": "code",
   "execution_count": 6,
   "metadata": {},
   "outputs": [
    {
     "data": {
      "text/plain": [
       "0.22510060743570592"
      ]
     },
     "execution_count": 6,
     "metadata": {},
     "output_type": "execute_result"
    }
   ],
   "source": [
    "moments(3)"
   ]
  },
  {
   "cell_type": "code",
   "execution_count": 7,
   "metadata": {},
   "outputs": [
    {
     "data": {
      "text/plain": [
       "[<matplotlib.lines.Line2D at 0x11853bf90>]"
      ]
     },
     "execution_count": 7,
     "metadata": {},
     "output_type": "execute_result"
    },
    {
     "data": {
      "image/png": "[encoded data removed]",
      "text/plain": [
       "<Figure size 432x288 with 1 Axes>"
      ]
     },
     "metadata": {
      "needs_background": "light"
     },
     "output_type": "display_data"
    }
   ],
   "source": [
    "# plot the approximate moment generating function as a function of t and \n",
    "# the normal distributiosn moment generating function with mu and variance from the data.\n",
    "\n",
    "tt = np.arange(-1, 1, 0.01)\n",
    "\n",
    "mm = sum( [ moments(m)*tt**m / factorial(m) for m in range(10) ] )\n",
    "\n",
    "nm = np.exp( tt**2 / 2 )\n",
    "\n",
    "plt.plot(tt, mm, 'b-')\n",
    "plt.plot(tt, nm, 'r-')"
   ]
  },
  {
   "cell_type": "markdown",
   "metadata": {},
   "source": [
    "Comparing moments directly:  "
   ]
  },
  {
   "cell_type": "code",
   "execution_count": 8,
   "metadata": {},
   "outputs": [],
   "source": [
    "import scipy.integrate as integrate\n",
    "\n",
    "def normal_moments(m):\n",
    "    \n",
    "    f = lambda z: z**m /np.sqrt(2*np.pi) * np.exp( - z**2 / 2)\n",
    "    \n",
    "    return integrate.quad(f, -10, 10)[0]\n",
    "\n",
    "    "
   ]
  },
  {
   "cell_type": "code",
   "execution_count": 9,
   "metadata": {},
   "outputs": [
    {
     "data": {
      "text/plain": [
       "[0.0,\n",
       " -4.714689846353058e-16,\n",
       " 8.881784197001252e-16,\n",
       " 0.22510060743570592,\n",
       " 0.3391464506824451,\n",
       " 3.04618504068566,\n",
       " 6.215404135284334,\n",
       " 39.780643586603794,\n",
       " 95.63487561636731,\n",
       " 542.5730464863267]"
      ]
     },
     "execution_count": 9,
     "metadata": {},
     "output_type": "execute_result"
    }
   ],
   "source": [
    "diff = [ moments(m) - normal_moments(m) for m in range(10) ]\n",
    "diff"
   ]
  },
  {
   "cell_type": "markdown",
   "metadata": {},
   "source": [
    "The 0th, 1st, and 2nd moments are small by design (we've chosen the distribution to have the correct mean and variance and the 0th moment is just the total probability) so  it is the size of the moments after the first three that matters. Things start out okay but then quickly diverge. \n",
    "\n",
    "In terms of actually helping us understand what is going on we really need another distribution to compare this to."
   ]
  },
  {
   "cell_type": "markdown",
   "metadata": {},
   "source": [
    "# Simulating Random Variables\n",
    "\n",
    "We would like to be able in this course to do some experiments with the distributions we have been discussing. This turns out to be a fantastically interesting question, and generally speaking the question of how to simmulate random variables is still on the cutting edge. \n",
    "\n",
    "We will introduce the idea here, for simmulating single variable random variables. In a month or so we will revisit this question in simmulating multivariate random variables which is a much harder problem.\n",
    "\n",
    "The emphasis in the STAT 411 class is on real data, whereas in this class we want to study what happens in the theoretical cases and so simmulating from a known distribution is one of the tools we will use frequently.\n"
   ]
  },
  {
   "cell_type": "markdown",
   "metadata": {},
   "source": [
    "## Simmulating discrete random variables. \n",
    "\n",
    "The binomial and geometric distributions are dervived from a set trial with two outcomes S, F and a probably of S of p. This is straightforward to simulate using the numpy random variables. Suppose we want to simulate a bionomial distribution for $Y$ with $n=6$ and $p=0.25$:"
   ]
  },
  {
   "cell_type": "markdown",
   "metadata": {},
   "source": [
    "The primary tool we will use is the np.random.rand geneartor which simulates pulls of a random $Z$ from the uniform probability on $[0, 1) $. Note this is what is called a *pseudo random number generator* it generates numbers that to high order have the same distribution as the uniform one. They are **NOT** random. There is a seed value, and if we use the same seed value the function produces exactly the same results again -- **NOT** random!\n",
    "\n",
    "In practice Python by default chooses a seed using the clock on our computer and so it looks random.\n",
    "\n",
    "Note that quantum computers, which may soon become something we can use, may have random number generators that are actually random. The possibility is interesting for a lot of reasons."
   ]
  },
  {
   "cell_type": "code",
   "execution_count": 10,
   "metadata": {},
   "outputs": [
    {
     "data": {
      "text/plain": [
       "1"
      ]
     },
     "execution_count": 10,
     "metadata": {},
     "output_type": "execute_result"
    }
   ],
   "source": [
    "p = 0.25\n",
    "n = 6\n",
    "\n",
    "# Doing the experiment once, we do six trials using np.random.rand(6) and then testing if each entry is less than p.\n",
    "roll = np.random.rand(n)\n",
    "Y = sum( roll <= p )\n",
    "Y"
   ]
  },
  {
   "cell_type": "code",
   "execution_count": 11,
   "metadata": {},
   "outputs": [
    {
     "data": {
      "image/png": "[encoded data removed]",
      "text/plain": [
       "<Figure size 432x288 with 1 Axes>"
      ]
     },
     "metadata": {
      "needs_background": "light"
     },
     "output_type": "display_data"
    }
   ],
   "source": [
    "# The test is whether Y over repeated experiements matches the binomial probability:\n",
    "\n",
    "sample = []\n",
    "for k in range(100):\n",
    "    sample += [ sum( np.random.rand(n) <= p ) ]\n",
    "\n",
    "sample = np.array(sample)\n",
    "\n",
    "plt.hist(sample, bins = [-0.5, 0.5, 1.5, 2.5, 3.5, 4.5, 5.5, 6.5]);"
   ]
  },
  {
   "cell_type": "markdown",
   "metadata": {},
   "source": [
    "### Checking the simmulation\n",
    "\n",
    "One way to check the simmulation is to compute some probabilities. For a discrete distribution let's just do it directly:  "
   ]
  },
  {
   "cell_type": "code",
   "execution_count": 12,
   "metadata": {},
   "outputs": [
    {
     "data": {
      "text/plain": [
       "0.1"
      ]
     },
     "execution_count": 12,
     "metadata": {},
     "output_type": "execute_result"
    }
   ],
   "source": [
    "# Proportion of the sample that gave a y\n",
    "y = 3\n",
    "sum( sample == y ) / len(sample)"
   ]
  },
  {
   "cell_type": "code",
   "execution_count": 13,
   "metadata": {},
   "outputs": [
    {
     "data": {
      "text/plain": [
       "0.1318359375"
      ]
     },
     "execution_count": 13,
     "metadata": {},
     "output_type": "execute_result"
    }
   ],
   "source": [
    "# Binomial Prediction\n",
    "\n",
    "binomial(6, y) * p**y * (1-p)**(6-y)"
   ]
  },
  {
   "cell_type": "markdown",
   "metadata": {},
   "source": [
    "### Simulating Poisson Random Variables\n",
    "\n",
    "Poisson processes are harder to simmulate. My recomendation is to use built in packages for simulating these."
   ]
  },
  {
   "cell_type": "code",
   "execution_count": 14,
   "metadata": {},
   "outputs": [
    {
     "data": {
      "image/png": "[encoded data removed]",
      "text/plain": [
       "<Figure size 432x288 with 1 Axes>"
      ]
     },
     "metadata": {
      "needs_background": "light"
     },
     "output_type": "display_data"
    }
   ],
   "source": [
    "llambda = 2.5\n",
    "sample = np.random.poisson(lam = llambda, size=100)\n",
    "plt.hist(sample);"
   ]
  },
  {
   "cell_type": "code",
   "execution_count": 15,
   "metadata": {},
   "outputs": [
    {
     "data": {
      "text/plain": [
       "0.19"
      ]
     },
     "execution_count": 15,
     "metadata": {},
     "output_type": "execute_result"
    }
   ],
   "source": [
    "# Proportion of the sample that gave a y\n",
    "y = 1\n",
    "sum( sample == y ) / len(sample)"
   ]
  },
  {
   "cell_type": "code",
   "execution_count": 16,
   "metadata": {},
   "outputs": [
    {
     "data": {
      "text/plain": [
       "0.205212496559747"
      ]
     },
     "execution_count": 16,
     "metadata": {},
     "output_type": "execute_result"
    }
   ],
   "source": [
    "# Checking the predicted value\n",
    "float(llambda)**float(y) / factorial(y) * np.exp(-llambda) "
   ]
  },
  {
   "cell_type": "markdown",
   "metadata": {},
   "source": [
    "The actually technique they are using is realated to the trick below with the cummulative distribution function."
   ]
  },
  {
   "cell_type": "markdown",
   "metadata": {},
   "source": [
    "## So now simmulated Continuous Random Variables\n",
    "\n",
    "Our standard distributions are coded already in the numpy.random package:  [https://numpy.org/doc/1.16/reference/routines.random.html](https://numpy.org/doc/1.16/reference/routines.random.html)\n",
    "\n",
    "However an interesting question is generally how do we go about simmulating a continuous random variable?  We will work from the assumption that the pseudo random variable generator used above, numpy.random.rand, works for simmulating samples of a uniform continuous random variable on the interval $[0, 1]$.\n",
    "\n",
    "The trick is that everything goes back to the Cummulative Distribution Function:\n",
    "$$ F(y) = P( Y < y) $$\n",
    "\n",
    "which maps the set of values our random variable could take onto the interval $[0, 1]$. It does so in a way that:  Where the density for the random variable is larger, the cummulative distribution function is steeper and where the density for the random variable is smaller, the cummulative distribution function is less steep. \n",
    "\n",
    "More important because the CDF is non-decreasing, it is 1-1 and thus invertible on the interval $[0, 1]$. \n",
    "\n",
    "Putting all of this together:  If we apply the CDF to a list of values whose distribution matches the density function, we expect to get a uniform result in the  interval $[0, 1]$.  More precisely we have the theorem:\n",
    "\n",
    "For any continuous random variable $Y$, the random variable $F(Y)$ is the uniformly distributed continuous distribution on the interval $[0, 1]$."
   ]
  },
  {
   "cell_type": "markdown",
   "metadata": {},
   "source": [
    "### How shall we check this theorem?\n",
    "\n",
    "We could compute moments:  \n",
    "\n",
    "$$ \\int_0^1 u^m du = \\int F(y)^m f(y) dy $$\n",
    "\n",
    "Which indeed follows from the u substitution:  $$u = F(y)$$ Recalling that $$ \\frac{dF}{dy} = f(y) $$.\n",
    "\n",
    "Then because the $F(Y)$ has the same moments as the uniform distribution, it is the uniform distribution.\n",
    "\n",
    "## Allright so how does this help with simmulations?\n",
    "\n",
    "Well if we can invert (or even approximate the inverse) $F(y)$, then we can generate our uniform random variable $U$ using the pseudo random number generator, and then take $Y = F^{-1}(U)$.  This result then forms the background for almost all sampling of continuous random variables. In particular this is the method implemented in numpy.random.normal, numpy.random.standard_normal, numpy.random.gamma, numpy.random.exponential, and numpy.random.beta. \n",
    "\n",
    "The hard work in all of these is actually in computing the inverse function.\n",
    "\n",
    "## Example:  \n",
    "\n",
    "Suppose we have the continuous random variable with Probability Density Function:\n",
    "\n",
    "$$ f(y) = \\left\\{ \\begin{matrix} \\frac{y}{3} & 0 \\leq y \\leq 2 \\\\ 2 - \\frac{2y}{3} & 2 < y \\leq 3 \\\\\n",
    "0 & \\mbox{otherwise} \\end{matrix} \\right. $$"
   ]
  },
  {
   "cell_type": "code",
   "execution_count": 17,
   "metadata": {},
   "outputs": [
    {
     "data": {
      "text/latex": [
       "$\\displaystyle \\frac{y^{2}}{6}$"
      ],
      "text/plain": [
       "y**2/6"
      ]
     },
     "execution_count": 17,
     "metadata": {},
     "output_type": "execute_result"
    }
   ],
   "source": [
    "import sympy as sp\n",
    "\n",
    "y = sp.Symbol('y')\n",
    "sp.integrate(y/3, (y, 0, y))"
   ]
  },
  {
   "cell_type": "code",
   "execution_count": 18,
   "metadata": {},
   "outputs": [
    {
     "data": {
      "text/latex": [
       "$\\displaystyle \\frac{2}{3}$"
      ],
      "text/plain": [
       "2/3"
      ]
     },
     "execution_count": 18,
     "metadata": {},
     "output_type": "execute_result"
    }
   ],
   "source": [
    "sp.integrate(y/3, (y, 0, 2))"
   ]
  },
  {
   "cell_type": "code",
   "execution_count": 19,
   "metadata": {},
   "outputs": [
    {
     "data": {
      "text/latex": [
       "$\\displaystyle - \\frac{y^{2}}{3} + 2 y - 2.0$"
      ],
      "text/plain": [
       "-y**2/3 + 2*y - 2.0"
      ]
     },
     "execution_count": 19,
     "metadata": {},
     "output_type": "execute_result"
    }
   ],
   "source": [
    "2/3 + sp.integrate(2 - 2*y/3, (y, 2, y))"
   ]
  },
  {
   "cell_type": "markdown",
   "metadata": {},
   "source": [
    "So we find that the CDF is given by the piecewise defined function:\n",
    "\n",
    "$$ F(y) = \\left\\{ \\begin{matrix} \\frac{y^2}{6} & 0 \\leq y < 2 \\\\ -\\frac{y^2}{3} + 2 y - 2 & 2\\leq y < 3 \\\\ 0 & \\mbox{otherwise} \\end{matrix} \\right. $$"
   ]
  },
  {
   "cell_type": "code",
   "execution_count": 20,
   "metadata": {},
   "outputs": [],
   "source": [
    "def F(y):\n",
    "    \n",
    "    if y < 0:\n",
    "        return 0\n",
    "    elif y < 2:\n",
    "        return y**2/6\n",
    "    elif y < 3:\n",
    "        return -y**2/3 +2*y - 2\n",
    "    else:\n",
    "        return 1"
   ]
  },
  {
   "cell_type": "code",
   "execution_count": 21,
   "metadata": {},
   "outputs": [
    {
     "data": {
      "image/png": "[encoded data removed]",
      "text/plain": [
       "<Figure size 432x288 with 1 Axes>"
      ]
     },
     "metadata": {
      "needs_background": "light"
     },
     "output_type": "display_data"
    }
   ],
   "source": [
    "yy = np.arange(0, 3, 0.01)\n",
    "\n",
    "FF = [ F(y) for y in yy]\n",
    "\n",
    "plt.plot(yy, FF, 'b-');"
   ]
  },
  {
   "cell_type": "markdown",
   "metadata": {},
   "source": [
    "In this case we can find an exact formula for the inverse function. In general one would need to use Calculus or evaluations of the forward function to have the inverse function.\n",
    "\n",
    "The main thing is to compute the value of $u = F(2)$ as this is where the formula for the inverse changes. That gives us $u_c = F(2) = 2/3.$\n",
    "\n",
    "We then compute the inverse of each piece:  $[0, 2/3)$ and $[2/3, 1]$.\n",
    "\n",
    "On the interval from $[0, 2/3)$ this is as simple as solving for $y$ in: $$ u = y^2 / 6 $$ to get $$ y = \\sqrt{6 u} $$ Noting that we take the positive square root.\n",
    "\n",
    "On the interval from $[2/3, 1)$ we solve the equation for $y$:  $$ u = -y^2/3 + 2y - 2 $$ using the quadratic formula:\n",
    "\n",
    "$$ y = \\frac{ -2 \\pm \\sqrt{ 4 - 4 \\cdot \\frac{-1}{3} \\cdot (-2-u) }}{-2/3} $$\n",
    "\n",
    "$$ = 3 \\pm 3 \\sqrt{\\frac{1}{3} - \\frac{u}{3}} $$\n",
    "\n",
    "In this case we note that the branch we want is the negative one so:\n",
    "\n",
    "$$ F^{-1}(u) = \\left\\{ \\begin{matrix} \\sqrt{6 u} & 0 \\leq u < 2/3 \\\\ 3 - \\sqrt{3} \\sqrt{1 - u} & 2/3 \\leq u \\leq 1 \\end{matrix} \\right. $$"
   ]
  },
  {
   "cell_type": "code",
   "execution_count": 22,
   "metadata": {},
   "outputs": [
    {
     "data": {
      "image/png": "[encoded data removed]",
      "text/plain": [
       "<Figure size 432x288 with 1 Axes>"
      ]
     },
     "metadata": {
      "needs_background": "light"
     },
     "output_type": "display_data"
    }
   ],
   "source": [
    "# Plotting it to just check that everything lines up and \n",
    "# we do not have any typos\n",
    "\n",
    "uu = np.arange(0, 1, 0.01)\n",
    "\n",
    "def invF(u):\n",
    "    \n",
    "    if u < 2/3:\n",
    "        return np.sqrt(6*u) \n",
    "    else:\n",
    "        return 3 - np.sqrt(3) *np.sqrt(1-u)\n",
    "    \n",
    "invFF = [ invF(u) for u in uu]\n",
    "\n",
    "plt.plot(uu, invFF, 'b-');"
   ]
  },
  {
   "cell_type": "code",
   "execution_count": 26,
   "metadata": {},
   "outputs": [
    {
     "data": {
      "image/png": "[encoded data removed]",
      "text/plain": [
       "<Figure size 432x288 with 1 Axes>"
      ]
     },
     "metadata": {
      "needs_background": "light"
     },
     "output_type": "display_data"
    }
   ],
   "source": [
    "n = 100\n",
    "roll = np.random.rand(n)\n",
    "sample = [ invF(u) for u in roll ] \n",
    "\n",
    "plt.hist(sample, bins=20);"
   ]
  },
  {
   "cell_type": "code",
   "execution_count": null,
   "metadata": {},
   "outputs": [],
   "source": []
  }
 ],
 "metadata": {
  "kernelspec": {
   "display_name": "Python 3",
   "language": "python",
   "name": "python3"
  },
  "language_info": {
   "codemirror_mode": {
    "name": "ipython",
    "version": 3
   },
   "file_extension": ".py",
   "mimetype": "text/x-python",
   "name": "python",
   "nbconvert_exporter": "python",
   "pygments_lexer": "ipython3",
   "version": "3.7.4"
  }
 },
 "nbformat": 4,
 "nbformat_minor": 4
}
