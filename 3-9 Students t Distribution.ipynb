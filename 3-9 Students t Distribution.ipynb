{
 "cells": [
  {
   "cell_type": "code",
   "execution_count": 3,
   "metadata": {},
   "outputs": [],
   "source": [
    "import numpy as np\n",
    "import matplotlib.pyplot as plt"
   ]
  },
  {
   "cell_type": "markdown",
   "metadata": {},
   "source": [
    "# Student's t Distribution\n",
    "\n",
    "We left of last class with the following result:  Suppose that the $Y_1, Y_2, \\dots, Y_n$ is some sample of size $n$ pulled from a population that is normally distributed with an unkown mean $\\mu$ and variance $\\sigma^2$. We then had the following results:\n",
    "\n",
    "## $\\bar{Y}$ \n",
    "\n",
    "The sample mean:  $$ \\bar{Y} = \\frac{1}{n} \\sum Y_i $$ \n",
    "\n",
    "is a normally distributed random variable with mean $\\mu$ and variance $\\sigma^2 /n$.\n",
    "\n",
    "## $S^2$ \n",
    "\n",
    "The sample variance:  $$ S^2 = \\frac{1}{n-1} \\sum (Y_i - \\bar{Y})^2 $$\n",
    "\n",
    "satisfies:  $$ \\frac{(n-1) S^2}{\\sigma^2} $$ \n",
    "\n",
    "is given by a $\\chi^2$ distribution with $n-1$ degrees of freedom. $S^2$ and $\\bar{Y}$ are also independent random variables.\n",
    "\n",
    "## $T$\n",
    "\n",
    "Again we would like to use the $Z$ statistic:\n",
    "\n",
    "$$ Z = \\sqrt{n} \\frac{(\\bar{Y} - \\mu)}{\\sigma} $$ \n",
    "\n",
    "to build confidence intervals about $\\bar{Y}$ in which we predict $\\mu$ will be because this will be a standard normal random variable. However the problem is we do not know $\\sigma$. \n",
    "\n",
    "We can try to use $S$ to replace $\\sigma$ but the issue is that while $\\sigma$ is fixed, $S$ is itself a random variable. Which leads us to \n",
    "\n",
    "$$ T = \\sqrt{n} \\frac{ ( \\bar{Y} - \\mu)}{S} $$ \n",
    "\n",
    "which is a random variable given by the Student's t distribution with $n-1$ degrees of freedom. "
   ]
  },
  {
   "cell_type": "code",
   "execution_count": 4,
   "metadata": {},
   "outputs": [
    {
     "data": {
      "text/plain": [
       "[<matplotlib.lines.Line2D at 0x1a1d5b3450>]"
      ]
     },
     "execution_count": 4,
     "metadata": {},
     "output_type": "execute_result"
    },
    {
     "data": {
      "image/png": "[encoded data removed]",
      "text/plain": [
       "<Figure size 432x288 with 1 Axes>"
      ]
     },
     "metadata": {
      "needs_background": "light"
     },
     "output_type": "display_data"
    }
   ],
   "source": [
    "from scipy.stats import t\n",
    "from scipy.stats import norm\n",
    "\n",
    "df = 4\n",
    "x = np.linspace(t.ppf(0.01, df),\n",
    "                t.ppf(0.99, df), 100)\n",
    "plt.plot(x, t.pdf(x, df),\n",
    "       'r-', lw=5, alpha=0.6, label='t pdf')\n",
    "plt.plot(x, norm.pdf(x), \n",
    "         'b-', lw=5, alpha =0.6 )"
   ]
  },
  {
   "cell_type": "markdown",
   "metadata": {},
   "source": [
    "### Students t distribution\n",
    "\n",
    "Student's t distribution captures the idea that because $S$ is itself moving, we have a bit less certainity about the result. Hence the tails of the distribution are larger and the center of the distribution is smaller. As the size of the sample increases this effect becomes less noticeable and the t distribution approaches the standard normal distirbution. More or less two things are happening as the sample increases - the $S^2$ is a better approximation of the $\\sigma^2$ and the variance of $\\bar{Y}$ is getting small. \n",
    "\n",
    "### Example\n",
    "\n",
    "We have the weight of five high school wrestlers: 150, 152, 155, 155, and 160. Assuming that these are sampled from a normal distirbution with unkown mean 𝜇 and unkown variance $\\sigma$. Let's use use the students t distribution to find an interval about $\\bar{Y}$ where we are 90% certain $\\mu$ is located. "
   ]
  },
  {
   "cell_type": "code",
   "execution_count": 5,
   "metadata": {},
   "outputs": [
    {
     "data": {
      "text/plain": [
       "154.4"
      ]
     },
     "execution_count": 5,
     "metadata": {},
     "output_type": "execute_result"
    }
   ],
   "source": [
    "# Compute Ybar\n",
    "\n",
    "data = [150, 152, 155, 155, 160]\n",
    "Ybar = sum(data) / 5\n",
    "Ybar"
   ]
  },
  {
   "cell_type": "code",
   "execution_count": 8,
   "metadata": {},
   "outputs": [
    {
     "data": {
      "text/plain": [
       "14.299999999999999"
      ]
     },
     "execution_count": 8,
     "metadata": {},
     "output_type": "execute_result"
    }
   ],
   "source": [
    "# Compute S^2\n",
    "\n",
    "S2 = sum( [(data[i] - Ybar)**2 for i in range(5) ] )/4\n",
    "S2"
   ]
  },
  {
   "cell_type": "code",
   "execution_count": 16,
   "metadata": {},
   "outputs": [
    {
     "data": {
      "text/plain": [
       "3.7815340802378072"
      ]
     },
     "execution_count": 16,
     "metadata": {},
     "output_type": "execute_result"
    }
   ],
   "source": [
    "S = np.sqrt(S2)\n",
    "S"
   ]
  },
  {
   "cell_type": "code",
   "execution_count": 11,
   "metadata": {},
   "outputs": [
    {
     "data": {
      "text/plain": [
       "2.13184678133629"
      ]
     },
     "execution_count": 11,
     "metadata": {},
     "output_type": "execute_result"
    }
   ],
   "source": [
    "# Find the interval of the t distribution centered on the mean in which 90% of the values are contained.\n",
    "\n",
    "# We use ppf to find the inverse of the cdf: Note that you need to pass it the number of degrees of freedom.\n",
    "\n",
    "t.ppf(0.95, 4)"
   ]
  },
  {
   "cell_type": "code",
   "execution_count": 15,
   "metadata": {},
   "outputs": [
    {
     "data": {
      "text/plain": [
       "0.9000003613774656"
      ]
     },
     "execution_count": 15,
     "metadata": {},
     "output_type": "execute_result"
    }
   ],
   "source": [
    "# It is worth using the cdf to check that we have this correct:\n",
    "\n",
    "t.cdf(2.13185, 4) - t.cdf(-2.13185, 4)"
   ]
  },
  {
   "cell_type": "code",
   "execution_count": 12,
   "metadata": {},
   "outputs": [
    {
     "data": {
      "text/plain": [
       "1.6448536269514722"
      ]
     },
     "execution_count": 12,
     "metadata": {},
     "output_type": "execute_result"
    }
   ],
   "source": [
    "# It is worth pausing here and comparing this value to the standard normal value we would use if we knew sigma:\n",
    "\n",
    "norm.ppf(0.95)"
   ]
  },
  {
   "cell_type": "markdown",
   "metadata": {},
   "source": [
    "So putting everything together, we are 90% confidence that the value of mu will satisfy:\n",
    "\n",
    "$$ -2.13185 < \\sqrt{5} \\frac{\\bar{Y} - \\mu}{S} < 2.13185 $$\n",
    "\n",
    "We then solve this inequality for $\\mu$:\n",
    "\n",
    "$$ \\frac{-2.13185 S}{\\sqrt{5}} + \\bar{Y} < \\mu < \\frac{2.13185 S}{\\sqrt{5}} + \\bar{Y} $$\n"
   ]
  },
  {
   "cell_type": "code",
   "execution_count": 17,
   "metadata": {},
   "outputs": [
    {
     "data": {
      "text/plain": [
       "(150.79471451222653, 158.00528548777348)"
      ]
     },
     "execution_count": 17,
     "metadata": {},
     "output_type": "execute_result"
    }
   ],
   "source": [
    "-2.13185*S/np.sqrt(5) + Ybar, 2.13185*S/np.sqrt(5) + Ybar"
   ]
  },
  {
   "cell_type": "markdown",
   "metadata": {},
   "source": [
    "## Comparing two variances\n",
    "\n",
    "Suppose that $W_1$ and $W_2$ are to indepdent $\\chi^2$-distributed random variables with $\\nu_1$ and $\\nu_2$ degrees of freedom. Then \n",
    "\n",
    "$$ F = \\frac{ W_1/\\nu_1}{W_2 / \\nu_2} $$ is said to have an F distribution with $\\nu_1$ numerator degrees of freedom and $\\nu_2$ denomoninator degrees of freedom. \n",
    "\n",
    "In practice this is used by connecting it back to the sample and population variances, the ration of which is the respective $W_i/\\nu_i$ in this result."
   ]
  },
  {
   "cell_type": "markdown",
   "metadata": {},
   "source": [
    "### Example \n",
    "\n",
    "Show that if we take independent samples of size $n_1 = 4$ and $n_2 = 8$ from two normal populations with the same variance, then find the upper bound $b$ such that \n",
    "\n",
    "$$ P( \\frac{S_1^2}{S_2^2} < b ) = 0.95 $$"
   ]
  },
  {
   "cell_type": "code",
   "execution_count": 19,
   "metadata": {},
   "outputs": [
    {
     "data": {
      "text/plain": [
       "4.346831399907815"
      ]
     },
     "execution_count": 19,
     "metadata": {},
     "output_type": "execute_result"
    }
   ],
   "source": [
    "from scipy.stats import f\n",
    "\n",
    "f.ppf(0.95, 3, 7)"
   ]
  },
  {
   "cell_type": "code",
   "execution_count": 20,
   "metadata": {},
   "outputs": [
    {
     "data": {
      "text/plain": [
       "0.9500041782458821"
      ]
     },
     "execution_count": 20,
     "metadata": {},
     "output_type": "execute_result"
    }
   ],
   "source": [
    "f.cdf(4.347, 3, 7)"
   ]
  },
  {
   "cell_type": "markdown",
   "metadata": {},
   "source": [
    "This then gives us a test of whether two populations have the different variances or not. For example:\n",
    "\n",
    "Let $1, 1, 3.4, 4$ and $25, 25, 27, 29, 29, 30, 30, 35, 35, 35$ be our two samples."
   ]
  },
  {
   "cell_type": "code",
   "execution_count": 24,
   "metadata": {},
   "outputs": [
    {
     "data": {
      "text/plain": [
       "(5.5, 28.75)"
      ]
     },
     "execution_count": 24,
     "metadata": {},
     "output_type": "execute_result"
    }
   ],
   "source": [
    "data1 = [1, 5, 7, 9]\n",
    "data2 = [25, 25, 27, 29, 29, 30, 30, 35]\n",
    "\n",
    "Y1bar = sum(data1)/4\n",
    "Y2bar = sum(data2)/8\n",
    "\n",
    "Y1bar, Y2bar"
   ]
  },
  {
   "cell_type": "code",
   "execution_count": 25,
   "metadata": {},
   "outputs": [
    {
     "data": {
      "text/plain": [
       "(3.415650255319866, 3.24037034920393)"
      ]
     },
     "execution_count": 25,
     "metadata": {},
     "output_type": "execute_result"
    }
   ],
   "source": [
    "S1 = np.sqrt( sum( [ (data1[i] - Y1bar)**2 for i in range(4)])/3 )\n",
    "S2 = np.sqrt( sum( [ (data2[i] - Y2bar)**2 for i in range(8)])/7 )\n",
    "\n",
    "S1, S2"
   ]
  },
  {
   "cell_type": "code",
   "execution_count": 26,
   "metadata": {},
   "outputs": [
    {
     "data": {
      "text/plain": [
       "1.1111111111111112"
      ]
     },
     "execution_count": 26,
     "metadata": {},
     "output_type": "execute_result"
    }
   ],
   "source": [
    "S1**2 / S2**2"
   ]
  },
  {
   "cell_type": "markdown",
   "metadata": {},
   "source": [
    "Because this is less than 4.35 we have insufficient evidence to conclude that the first variance is bigger than the second. "
   ]
  },
  {
   "cell_type": "markdown",
   "metadata": {},
   "source": [
    "Where as consider a different set of 4 data points for the first sample:\n"
   ]
  },
  {
   "cell_type": "code",
   "execution_count": 41,
   "metadata": {},
   "outputs": [],
   "source": [
    "data3 = [1, 5, 10, 18]"
   ]
  },
  {
   "cell_type": "code",
   "execution_count": 42,
   "metadata": {},
   "outputs": [
    {
     "data": {
      "text/plain": [
       "8.5"
      ]
     },
     "execution_count": 42,
     "metadata": {},
     "output_type": "execute_result"
    }
   ],
   "source": [
    "Y3bar = sum(data3)/4\n",
    "Y3bar"
   ]
  },
  {
   "cell_type": "code",
   "execution_count": 43,
   "metadata": {},
   "outputs": [
    {
     "data": {
      "text/plain": [
       "7.32575365861197"
      ]
     },
     "execution_count": 43,
     "metadata": {},
     "output_type": "execute_result"
    }
   ],
   "source": [
    "S3 = np.sqrt( sum( [ (data3[i] - Y3bar)**2 for i in range(4)])/3 )\n",
    "S3"
   ]
  },
  {
   "cell_type": "code",
   "execution_count": 44,
   "metadata": {},
   "outputs": [
    {
     "data": {
      "text/plain": [
       "5.111111111111111"
      ]
     },
     "execution_count": 44,
     "metadata": {},
     "output_type": "execute_result"
    }
   ],
   "source": [
    "S3**2 / S2**2"
   ]
  },
  {
   "cell_type": "code",
   "execution_count": null,
   "metadata": {},
   "outputs": [],
   "source": []
  }
 ],
 "metadata": {
  "kernelspec": {
   "display_name": "Python 3",
   "language": "python",
   "name": "python3"
  },
  "language_info": {
   "codemirror_mode": {
    "name": "ipython",
    "version": 3
   },
   "file_extension": ".py",
   "mimetype": "text/x-python",
   "name": "python",
   "nbconvert_exporter": "python",
   "pygments_lexer": "ipython3",
   "version": "3.7.4"
  }
 },
 "nbformat": 4,
 "nbformat_minor": 4
}
