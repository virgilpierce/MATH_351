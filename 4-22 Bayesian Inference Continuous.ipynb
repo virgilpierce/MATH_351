{
  "nbformat": 4,
  "nbformat_minor": 0,
  "metadata": {
    "kernelspec": {
      "display_name": "Python 3",
      "language": "python",
      "name": "python3"
    },
    "language_info": {
      "codemirror_mode": {
        "name": "ipython",
        "version": 3
      },
      "file_extension": ".py",
      "mimetype": "text/x-python",
      "name": "python",
      "nbconvert_exporter": "python",
      "pygments_lexer": "ipython3",
      "version": "3.7.4"
    },
    "colab": {
      "name": "4-22 Bayesian Inference Continuous.ipynb",
      "provenance": []
    }
  },
  "cells": [
    {
      "cell_type": "code",
      "metadata": {
        "id": "0mrw-oN-K3Co"
      },
      "source": [
        "import sympy as sp\n",
        "import numpy as np\n",
        "import matplotlib.pyplot as plt"
      ],
      "execution_count": 1,
      "outputs": []
    },
    {
      "cell_type": "markdown",
      "metadata": {
        "id": "efo2ct-0K3Cq"
      },
      "source": [
        "# Continuous Examples of Bayesian Methods\n",
        "\n",
        "\n",
        "## Example - Unfair Coins\n",
        "\n",
        "Suppose we have an unfair coin that returns heads with some probability p. (before we get into it, it is worth noting that you can buy such coins from a magic or toy shop). Before we gather any data, *Bayes Thinking* says that we should think of $p$ as being a random variable that can take values between 0 and 1. We could take a prior such as $f(p) = 2p$.  Note we might choose this prior if we suspect the coin is favored towards heads before we flip it.\n",
        "\n",
        "In this case we are going to flip the coin once and call that our observation. So this is a case where we have a continuous prior and a discrete likliehood. We compute the likliehoods of observing a head or a tails:\n",
        "\n",
        "$$ L( x=\\mbox{heads} | p) = p \\qquad L(x = \\mbox{tails} | p) = 1-p $$\n",
        "\n",
        "Then our total probability of observing x is given by:\n",
        "\n",
        "$$ P(x=\\mbox{heads}) = \\int_0^1 L( x=\\mbox{heads} | p) f(p) dp = \\int_0^1 2 p^2 dp = \\frac{2}{3} $$\n",
        "\n",
        "$$ P(x=\\mbox{tails}) = \\int_0^1 L( x=\\mbox{tails} | p) f(p) dp = \\int_0^1 2 (1-p) p dp = $$"
      ]
    },
    {
      "cell_type": "code",
      "metadata": {
        "id": "I95_Jso6K3Cr",
        "outputId": "41e0dd4f-b9c0-401b-f623-3de96748cd6d",
        "colab": {
          "base_uri": "https://localhost:8080/",
          "height": 51
        }
      },
      "source": [
        "p = sp.Symbol('p')\n",
        "\n",
        "sp.integrate( 2*(1-p)*p, (p, 0, 1) )"
      ],
      "execution_count": 2,
      "outputs": [
        {
          "output_type": "execute_result",
          "data": {
            "text/latex": "$\\displaystyle \\frac{1}{3}$",
            "text/plain": [
              "1/3"
            ]
          },
          "metadata": {
            "tags": []
          },
          "execution_count": 2
        }
      ]
    },
    {
      "cell_type": "markdown",
      "metadata": {
        "id": "WVCqLz3uK3Cr"
      },
      "source": [
        "The *Posterior Estimate* in both cases then becomes:\n",
        "\n",
        "$$ f(p | x=\\mbox{heads}) = \\frac{L( x=\\mbox{heads}|p) f(p) }{ P(x=\\mbox{heads}) } = 3 p^2 $$\n",
        "\n",
        "and in the other case\n",
        "\n",
        "$$ f(p | x=\\mbox{tails}) = 6 (1-p)p $$\n",
        "\n",
        "Depending on what we flip this then updates our result. You could imagine that what we then do is repeat this as we continue to flip the coin and record the results, and it continues to give variations on the beta distributions.\n",
        "\n",
        "### Discussion\n",
        "\n",
        "Note that our prior estimate was weighted towards heads, and the total probability we compute reflected that with 2/3 to 1/3. \n",
        "\n",
        "Note that the two results we conclude with are divergent. One is the result of the flip being heads and other the result of the flip being tails.\n"
      ]
    },
    {
      "cell_type": "code",
      "metadata": {
        "id": "s0rw_cg2UYuE",
        "outputId": "4c56fc1e-dda6-49d9-ecfa-16ef78d7eb70",
        "colab": {
          "base_uri": "https://localhost:8080/",
          "height": 282
        }
      },
      "source": [
        "def posterior(p):\n",
        "\n",
        "  return 3*p**2\n",
        "\n",
        "def prior(p):\n",
        "\n",
        "  return 2*p\n",
        "\n",
        "pp = np.arange(0, 1.05, 0.05)\n",
        "f_prior = prior(pp)\n",
        "f_posterior = posterior(pp)\n",
        "\n",
        "plt.plot(pp, f_prior, 'b-')\n",
        "plt.plot(pp, f_posterior, 'r-')"
      ],
      "execution_count": 5,
      "outputs": [
        {
          "output_type": "execute_result",
          "data": {
            "text/plain": [
              "[<matplotlib.lines.Line2D at 0x7f333adc1d10>]"
            ]
          },
          "metadata": {
            "tags": []
          },
          "execution_count": 5
        },
        {
          "output_type": "display_data",
          "data": {
            "image/png": "[encoded data removed]",
            "text/plain": [
              "<Figure size 432x288 with 1 Axes>"
            ]
          },
          "metadata": {
            "tags": [],
            "needs_background": "light"
          }
        }
      ]
    },
    {
      "cell_type": "markdown",
      "metadata": {
        "id": "RN322YpkK3Cr"
      },
      "source": [
        "## Flat Prior \n",
        "\n",
        "As we've learned an important step in Bayesian Analysis is understanding the role of the prior for our particular problem. In the ideal case we have enough data that our prior is submerged by the likliehoods of the data. However if the sample size is fixed, we may not be able to avoid effects of the prior. In the case of our coin for example, our initial prior was weighted towards heads.\n",
        "\n",
        "We could try a *flat prior* which is just a unifromly distributed prior where every possibility is equally likely - again in the prior.\n",
        "\n",
        "$$ f(p) = 1$$\n",
        "\n",
        "Note that our likliehoods do not changed, however the total probabilities will:\n",
        "\n",
        "$$ P( x = \\mbox{heads}) = \\int_0^1 p dp = \\frac{1}{2} $$\n",
        "\n",
        "and \n",
        "\n",
        "$$ P( x = \\mbox{tails}) = \\int_0^1 (1-p) dp = \\frac{1}{2} $$\n",
        "\n",
        "Then we compute the posterior estimates:\n",
        "\n",
        "$$ f(p | x= \\mbox{heads}) = 2 p $$\n",
        "\n",
        "and \n",
        "\n",
        "$$ f(p | x=\\mbox{tails}) = 2 (1- p) $$\n",
        "\n",
        "### Discussion\n",
        "\n",
        "Note the impressive symmetry. \n",
        "\n",
        "Note that our posterior in the event that the first flip is a head is precisely the prior we started with. \n",
        "\n",
        "\n",
        "\n"
      ]
    },
    {
      "cell_type": "markdown",
      "metadata": {
        "id": "PvlgCRD6K3Cs"
      },
      "source": [
        "## Using Our Posterior to Make a Prediction\n",
        "\n",
        "So let's start with our flat prior, we flip the coin once and obtain a heads and our posterior estimate for the likliehood of p is now:  $$ f(p| x_1 = \\mbox{heads} ) = 2p $$. \n",
        "\n",
        "We flip the coin again and get another heads so that our updated posterior is now:\n",
        "\n",
        "$$ f(p | x_1 = x_2 = \\mbox{heads}) = 3 p^2 $$\n",
        "\n",
        "What do we think is going to happen next?"
      ]
    },
    {
      "cell_type": "markdown",
      "metadata": {
        "id": "32V1h4gIK3Cs"
      },
      "source": [
        "The likliehood that a third flip is a heads given the value of p then looks like:\n",
        "\n",
        "$$ p(x_3 = \\mbox{heads} | x_1=x_2 =\\mbox{heads}) = \\int L(x=\\mbox{heads} | p) f(p | x_1 = x_2 = \\mbox{heads}) = \\int_0^1 3 p^3 dp = \\frac{3}{4} $$\n",
        "\n",
        "and therefore\n",
        "\n",
        "\n",
        "$$ p(x_3 = \\mbox{tails} | x_1=x_2 =\\mbox{heads}) = \\frac{1}{4} $$"
      ]
    },
    {
      "cell_type": "markdown",
      "metadata": {
        "id": "oOY8udpsK3Cs"
      },
      "source": [
        "## Credible Interval\n",
        "\n",
        "Consider our first two flips being a heads starting from a flat prior:\n",
        "\n",
        "$$ f(p| x_1 = x_2 = \\mbox{heads}) = 3 p^2 $$\n",
        "\n",
        "Let's construct a 90% credible interval for $p$. To do this we want to find an interval of $p$ space (in this case [0, 1]), (a, b) such that\n",
        "\n",
        "$$ \\int_a^b f(p|x_1 = x_2 = \\mbox{heads}) dp = 0.90 $$\n",
        "\n",
        "Note we can choose any a and b! What makes sense is to start our interval at the most likely value for p and then increase it in both directions until its mass is 0.90. Of course for our posterior the most likely $p$ is 1. So that will be our b as p cannot be bigger. Thus we choose a:"
      ]
    },
    {
      "cell_type": "code",
      "metadata": {
        "id": "HX1BP6H5K3Ct",
        "outputId": "cd411178-4693-4c0c-a1cf-39d391ef06a0",
        "colab": {
          "base_uri": "https://localhost:8080/",
          "height": 37
        }
      },
      "source": [
        "sp.integrate( 3*p**2, (p, 0.464, 1) )"
      ],
      "execution_count": 13,
      "outputs": [
        {
          "output_type": "execute_result",
          "data": {
            "text/latex": "$\\displaystyle 0.900102656$",
            "text/plain": [
              "0.900102656000000"
            ]
          },
          "metadata": {
            "tags": []
          },
          "execution_count": 13
        }
      ]
    },
    {
      "cell_type": "markdown",
      "metadata": {
        "id": "BS_U3x3eK3Ct"
      },
      "source": [
        "## Is our coin unfair?\n",
        "\n",
        "Do we have enough evidence to conclude the coin is not fair?"
      ]
    },
    {
      "cell_type": "markdown",
      "metadata": {
        "id": "siNiHNDAK3Ct"
      },
      "source": [
        "## Example - Radioactive Decay\n",
        "\n",
        "An unknown radioactive isotope has a lifetime modeled by an exponential distribution:  $$L(x|\\lambda) = \\lambda \\exp(-\\lambda x) $$ \n",
        "\n",
        "With mean lifetime $1/\\lambda$.  Suppose we detect a decay after x seconds. What is our estimate of the mean liftime for this isotope.\n",
        "\n",
        "### Choosing a Prior\n",
        "\n",
        "Note what we saw above, the prior we choose ended up being from the same class as the posterior, and in fact there was a whole chain of related priors and posteriors (or a tree more properly because it depended on the results of the flips) all coming from the Beta distribution. So one thing we might be looking for here is a prior PDF that is related to the underlying distribution, anticipating that this relationship may continue into the posterior.\n",
        "\n",
        "Putting that observation aside. The other thing we want is a prior that makes sense and captures the range of possibilities for $\\lambda$. Before any observation, the possibilities for $\\lambda$ are that it could be a any positive number. \n",
        "\n",
        "We could take as a start that $\\lambda$ is a random variable fitting an exponential distribution with mean 1:  \n",
        "\n",
        "$ f(\\lambda) = \\exp( - \\lambda) $ \n",
        "\n",
        "(note a good exam question would be:  why won't a flat prior work with this example?\n",
        "\n",
        "### Total Probability of the observation\n",
        "\n",
        "The total probability density of observation $x$ is then:\n",
        "\n",
        "$$ g(x) = \\int L(x|\\lambda) f(\\lambda) d\\lambda = \\int_0^\\infty \\lambda \\exp(-\\lambda x - \\lambda) d\\lambda $$"
      ]
    },
    {
      "cell_type": "markdown",
      "metadata": {
        "id": "kn75LNnqK3Cu"
      },
      "source": [
        "We get\n",
        "\n",
        "$$  = \\int_0^\\infty \\lambda \\exp(- (x+1) \\lambda) d\\lambda  $$\n",
        "\n"
      ]
    },
    {
      "cell_type": "code",
      "metadata": {
        "id": "nQh0BQB-K3Cu",
        "outputId": "39e4554b-b50b-40e4-9b25-96966f760760",
        "colab": {
          "base_uri": "https://localhost:8080/",
          "height": 54
        }
      },
      "source": [
        "llambda = sp.Symbol('llambda')\n",
        "b = sp.Symbol('b')\n",
        "sp.integrate( llambda* sp.exp(-(4+1)*llambda), (llambda, 0, b) )"
      ],
      "execution_count": 16,
      "outputs": [
        {
          "output_type": "execute_result",
          "data": {
            "text/latex": "$\\displaystyle \\frac{\\left(- 5 b - 1\\right) e^{- 5 b}}{25} + \\frac{1}{25}$",
            "text/plain": [
              "(-5*b - 1)*exp(-5*b)/25 + 1/25"
            ]
          },
          "metadata": {
            "tags": []
          },
          "execution_count": 16
        }
      ]
    },
    {
      "cell_type": "markdown",
      "metadata": {
        "id": "ruiiEjdTK3Cu"
      },
      "source": [
        "and\n",
        "\n",
        "$$ g(x) = \\frac{1}{(x+1)^2} $$\n",
        "\n"
      ]
    },
    {
      "cell_type": "markdown",
      "metadata": {
        "id": "m45TNcE1K3Cv"
      },
      "source": [
        "Combining this with the likliehood and prior we have the posterior estimate predicated on observation $x$, again expressed as a density:\n",
        "\n",
        "$$ f(\\lambda | x) =\\frac{ L(x | \\lambda) f(\\lambda) }{g(x)} = \\lambda (x+1)^2 \\exp(-(x+1) \\lambda) $$\n",
        "\n",
        "Which is now a higher order gamma distribution."
      ]
    },
    {
      "cell_type": "code",
      "metadata": {
        "id": "9lIOCef9K3Cv"
      },
      "source": [
        "# Let's plot for an observation x\n",
        "\n",
        "def prior(llambda):\n",
        "    \n",
        "    return np.exp( -llambda) \n",
        "\n",
        "def posterior(llambda, x=5):\n",
        "    \n",
        "    return llambda*(x+1)**2 * np.exp( -(x+1)*llambda )"
      ],
      "execution_count": 17,
      "outputs": []
    },
    {
      "cell_type": "code",
      "metadata": {
        "id": "Yq-9iEKnK3Cw",
        "outputId": "4e767fe9-0c9b-4217-b37b-92599233e5ff",
        "colab": {
          "base_uri": "https://localhost:8080/",
          "height": 282
        }
      },
      "source": [
        "llambda = np.arange(0, 20, 0.1)\n",
        "f  = prior(llambda)\n",
        "ff = posterior(llambda, x=5)\n",
        "plt.plot(llambda, f, 'b-')\n",
        "plt.plot(llambda, ff, 'r-')"
      ],
      "execution_count": 22,
      "outputs": [
        {
          "output_type": "execute_result",
          "data": {
            "text/plain": [
              "[<matplotlib.lines.Line2D at 0x7f333a841d50>]"
            ]
          },
          "metadata": {
            "tags": []
          },
          "execution_count": 22
        },
        {
          "output_type": "display_data",
          "data": {
            "image/png": "[encoded data removed]",
            "text/plain": [
              "<Figure size 432x288 with 1 Axes>"
            ]
          },
          "metadata": {
            "tags": [],
            "needs_background": "light"
          }
        }
      ]
    },
    {
      "cell_type": "markdown",
      "metadata": {
        "id": "Kk7cpql3K3Cx"
      },
      "source": [
        "Remember that these are not probabilities of x, they are probabilities of $\\lambda$ and that the expected value of $x$ is $1/\\lambda$.\n",
        "\n",
        "Now suppose we ask, after observing a decay at x=5 what we expect the next observation to be using our posterior.\n",
        "\n",
        "$$ E(x_2) = \\int_0^\\infty \\int_0^\\infty x_2 L(x_2 | \\lambda) f(\\lambda | x_1=5) d\\lambda dx_2 $$\n",
        "\n",
        "$$ = \\int_0^\\infty \\int_0^\\infty 36 x_2 \\lambda^2 e^{ - \\lambda x_2 - 6 \\lambda } d\\lambda dx_2 $$ "
      ]
    },
    {
      "cell_type": "code",
      "metadata": {
        "id": "_h0jPp-WK3Cx",
        "outputId": "3ba2b452-021e-419f-af01-b3b37e01b570",
        "colab": {
          "base_uri": "https://localhost:8080/",
          "height": 38
        }
      },
      "source": [
        "x2 = sp.Symbol('x2')\n",
        "llambda = sp.Symbol('\\lambda')\n",
        "b = sp.Symbol('b')\n",
        "\n",
        "sp.integrate( 36*x2*llambda**2 *sp.exp( - llambda*x2 - 6*llambda), (x2, 0, b) )"
      ],
      "execution_count": 23,
      "outputs": [
        {
          "output_type": "execute_result",
          "data": {
            "text/latex": "$\\displaystyle \\left(- 36 \\lambda b - 36\\right) e^{- \\lambda b - 6 \\lambda} + 36 e^{- 6 \\lambda}$",
            "text/plain": [
              "(-36*\\lambda*b - 36)*exp(-\\lambda*b - 6*\\lambda) + 36*exp(-6*\\lambda)"
            ]
          },
          "metadata": {
            "tags": []
          },
          "execution_count": 23
        }
      ]
    },
    {
      "cell_type": "code",
      "metadata": {
        "id": "FTf2omF1K3Cx",
        "outputId": "35807548-78c2-4f15-ceb5-13d8b16974d2",
        "colab": {
          "base_uri": "https://localhost:8080/",
          "height": 38
        }
      },
      "source": [
        "sp.integrate( 36* sp.exp(-6*llambda), (llambda, 0, b) )"
      ],
      "execution_count": 24,
      "outputs": [
        {
          "output_type": "execute_result",
          "data": {
            "text/latex": "$\\displaystyle 6 - 6 e^{- 6 b}$",
            "text/plain": [
              "6 - 6*exp(-6*b)"
            ]
          },
          "metadata": {
            "tags": []
          },
          "execution_count": 24
        }
      ]
    },
    {
      "cell_type": "markdown",
      "metadata": {
        "id": "wnA1f20TK3Cx"
      },
      "source": [
        "### Credible Interval for $\\lambda$\n",
        "\n",
        "Take our posterior for $x=5$:\n",
        "\n",
        "$$ f(\\lambda | x=5) = 36\\lambda \\exp( -6\\lambda)$$\n",
        "\n",
        "Use this to find a 99% credible interval for $\\lambda$. Again this should be an interval (a, b) such that the density over it given by our posterior is 0.99 or greater.  Again we have all sorts of choices, but the most obvious would be to start at the maximum value.\n",
        "\n"
      ]
    },
    {
      "cell_type": "code",
      "metadata": {
        "id": "7CjmFi83K3Cy",
        "outputId": "cf8c3f57-9117-4a86-ea56-74487fb08f9e",
        "colab": {
          "base_uri": "https://localhost:8080/",
          "height": 38
        }
      },
      "source": [
        "# Let's use Calculus to find the maximum value\n",
        "\n",
        "f = 36 * llambda * sp.exp(-6*llambda)\n",
        "f.diff()"
      ],
      "execution_count": 25,
      "outputs": [
        {
          "output_type": "execute_result",
          "data": {
            "text/latex": "$\\displaystyle - 216 \\lambda e^{- 6 \\lambda} + 36 e^{- 6 \\lambda}$",
            "text/plain": [
              "-216*\\lambda*exp(-6*\\lambda) + 36*exp(-6*\\lambda)"
            ]
          },
          "metadata": {
            "tags": []
          },
          "execution_count": 25
        }
      ]
    },
    {
      "cell_type": "code",
      "metadata": {
        "id": "yPIWGsgRK3Cy",
        "outputId": "3ac3fd9b-92c8-489a-e36b-809df6ca7eef",
        "colab": {
          "base_uri": "https://localhost:8080/"
        }
      },
      "source": [
        "llambda_max = 36/216\n",
        "llambda_max"
      ],
      "execution_count": 26,
      "outputs": [
        {
          "output_type": "execute_result",
          "data": {
            "text/plain": [
              "0.16666666666666666"
            ]
          },
          "metadata": {
            "tags": []
          },
          "execution_count": 26
        }
      ]
    },
    {
      "cell_type": "code",
      "metadata": {
        "id": "fcLbanKiK3Cy",
        "outputId": "1a5bb2f3-77fe-4935-801d-51d0bbea41e6",
        "colab": {
          "base_uri": "https://localhost:8080/",
          "height": 37
        }
      },
      "source": [
        "# So we start with lambda_max and then move down and up from there. Note that we do not want to go smaller than 0.\n",
        "sp.integrate( f, (llambda, 0, 1.16)).evalf()"
      ],
      "execution_count": 38,
      "outputs": [
        {
          "output_type": "execute_result",
          "data": {
            "text/latex": "$\\displaystyle 0.992445191266655$",
            "text/plain": [
              "0.992445191266655"
            ]
          },
          "metadata": {
            "tags": []
          },
          "execution_count": 38
        }
      ]
    },
    {
      "cell_type": "code",
      "metadata": {
        "id": "G8QW_g_HegjE",
        "outputId": "563dce03-98f5-4561-c5d1-a8aa40680344",
        "colab": {
          "base_uri": "https://localhost:8080/"
        }
      },
      "source": [
        "1/1.16"
      ],
      "execution_count": 39,
      "outputs": [
        {
          "output_type": "execute_result",
          "data": {
            "text/plain": [
              "0.8620689655172414"
            ]
          },
          "metadata": {
            "tags": []
          },
          "execution_count": 39
        }
      ]
    },
    {
      "cell_type": "markdown",
      "metadata": {
        "id": "PO-QzGG8K3Cy"
      },
      "source": [
        "### Discussion\n",
        "\n",
        "That's the game. The only barrier is whether the integrals being computed can be found exactly or not. \n",
        "\n",
        "Some general parting thoughts about Bayesian Methods:\n",
        "\n",
        "- There are two points of view. One is that Bayesian Methods are an alternative way of thinking about statistics and experiments that is more intuitive and closer to what the meaning that a non-expert thinks we are using in describing conclusions.\n",
        "- Another is that Bayesian Methods are one more tool. They are a tool that is useful if you are going to try and make a prediction following an experiment (what happens next). \n",
        "- In practice one has many observations not just one or two, and there are methods for doing Bayesian computations using lot's of observations in one go. It is beyond the scope of this class.\n",
        "\n"
      ]
    },
    {
      "cell_type": "code",
      "metadata": {
        "id": "mLBBdDdBK3Cy"
      },
      "source": [
        ""
      ],
      "execution_count": null,
      "outputs": []
    }
  ]
}