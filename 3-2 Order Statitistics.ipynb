{
  "nbformat": 4,
  "nbformat_minor": 0,
  "metadata": {
    "kernelspec": {
      "display_name": "Python 3",
      "language": "python",
      "name": "python3"
    },
    "language_info": {
      "codemirror_mode": {
        "name": "ipython",
        "version": 3
      },
      "file_extension": ".py",
      "mimetype": "text/x-python",
      "name": "python",
      "nbconvert_exporter": "python",
      "pygments_lexer": "ipython3",
      "version": "3.7.4"
    },
    "colab": {
      "name": "3-2 Order Statitistics.ipynb",
      "provenance": []
    }
  },
  "cells": [
    {
      "cell_type": "code",
      "metadata": {
        "id": "nSiN8POgwU6P"
      },
      "source": [
        "import numpy as np\n",
        "import sympy as sp"
      ],
      "execution_count": 1,
      "outputs": []
    },
    {
      "cell_type": "markdown",
      "metadata": {
        "id": "IXyN9a4ewU6U"
      },
      "source": [
        "# Review\n",
        "\n",
        "Last class we learned how to produce a distribution for the signle random variables $U$ produced from some formula applied ot a set of multivariate random variables. One of the specific problems we wanted to solve was to produce the distribution of a statistics computed from a sample of a signle variate random variable, for example the mean of the sample.\n",
        "\n",
        "We came up with threee methods, and let's illustrate one of them with an example:\n",
        "\n",
        "### Example\n",
        "\n",
        "The City of Greeley finds that their 10 most dangerous intersections have a similar distribution for the number of accidents per day:  They are Poisson with a mean of 0.5 accidents per day. Let $U$ be the average number of accidents at the 10 intersections in one day. I.e. $Y_i$ is the number of accidents at intersection $i$ and \n",
        "\n",
        "$$ U = \\frac{1}{10} Y_1 + \\frac{1}{10} Y_2 + \\dots + \\frac{1}{10} Y_{10} $$\n",
        "\n",
        "Find the distribution of $U$. \n",
        "\n",
        "#### Poisson Distribution \n",
        "\n",
        "The distributions of the $Y_i$ satisfy:  \n",
        "\n",
        "$$ p(y) = \\frac{1}{2^y y!} e^{-1/2} $$ \n",
        "\n",
        "#### Method of Distributions\n",
        "\n",
        "Then the method of distributions gives:\n",
        "\n",
        "$$ p_U(u) = \\sum_{y_1 + y_2 + \\dots + y_{10} = 10 u} p(y_1) p(y_2) \\cdots p(y_{10}) $$\n",
        "\n",
        "(where I cheated a little bit, for a discrete random varialbe we know that the the formula for the cummulative distribution turns into the distribution by just changing the inequality to equality)\n",
        "\n",
        "which because they are all exponential gives:\n",
        "\n",
        "$$ p_U(u) = \\frac{1}{2^{10 u} (10 u)!} e^{-5} \\sum_{y_1 + y_2 + \\dots + y_{10} = 10 u} \\frac{(10 u)!}{y_1! y_2! \\cdots y_{10}!} $$\n",
        "\n",
        "And the sum then collapses to $10^{10u}$ by the multinomial identity. [See here.](https://en.wikipedia.org/wiki/Multinomial_theorem).  You could also think of this in combinatorics as the number of ways of putting $10 u$ objects into $10$ bins.\n",
        "\n",
        "$$ p_U(u) = \\frac{5^{10 u} }{(10 u)!} e^{-5} $$\n",
        "\n",
        "\n"
      ]
    },
    {
      "cell_type": "markdown",
      "metadata": {
        "id": "noT38yE8xARj"
      },
      "source": [
        "### Example\r\n",
        "\r\n",
        "Consider the density \r\n",
        "\r\n",
        "$$ f(y) = \\left\\{ \\begin{matrix} 2 y & 0\\leq y \\leq 1 \\\\ 0 & \\mbox{otherwise} \\end{matrix} \\right. $$\r\n",
        "\r\n",
        "Let $U = \\frac12 Y_1 + \\frac12 Y_2$  Find the distribution of $U$ as a single random variable. "
      ]
    },
    {
      "cell_type": "code",
      "metadata": {
        "id": "MLYMQimJ27p6",
        "outputId": "42ca6bc1-5bea-456e-83b4-3ab0da9e06eb",
        "colab": {
          "base_uri": "https://localhost:8080/",
          "height": 54
        }
      },
      "source": [
        "y1 = sp.Symbol('y1')\r\n",
        "y2 = sp.Symbol('y2')\r\n",
        "u = sp.Symbol('u')\r\n",
        "\r\n",
        "# 0 < u < 1/2\r\n",
        "sp.integrate( (2*y1)*(2*y2), (y2, 0, 2*u-y1), (y1, 0, 2*u) )"
      ],
      "execution_count": 5,
      "outputs": [
        {
          "output_type": "execute_result",
          "data": {
            "text/latex": "$\\displaystyle \\frac{8 u^{4}}{3}$",
            "text/plain": [
              "8*u**4/3"
            ]
          },
          "metadata": {
            "tags": []
          },
          "execution_count": 5
        }
      ]
    },
    {
      "cell_type": "code",
      "metadata": {
        "id": "Zw2qQnqc3dO7",
        "outputId": "4eff809b-a20c-4dc6-d803-7273df3219f6",
        "colab": {
          "base_uri": "https://localhost:8080/",
          "height": 54
        }
      },
      "source": [
        "# 1/2 < u < 1\r\n",
        "\r\n",
        "Fu = sp.integrate( (2*y1)*(2*y2), (y2, 0, 2*u-1), (y1, 0, 1) ) + sp.integrate( (2*y1)*(2*y2), (y1, 0, 2*u-y2), (y2, 2*u-1, 1) )\r\n",
        "\r\n",
        "Fu.simplify()"
      ],
      "execution_count": 4,
      "outputs": [
        {
          "output_type": "execute_result",
          "data": {
            "text/latex": "$\\displaystyle - \\frac{8 u^{4}}{3} + 8 u^{2} - \\frac{16 u}{3} + 1$",
            "text/plain": [
              "-8*u**4/3 + 8*u**2 - 16*u/3 + 1"
            ]
          },
          "metadata": {
            "tags": []
          },
          "execution_count": 4
        }
      ]
    },
    {
      "cell_type": "markdown",
      "metadata": {
        "id": "zXHrYW7xwU6V"
      },
      "source": [
        "# Order Statistics\n",
        "\n",
        "However statistics computed by a formula applied to the sample are just one type of statistic we might care about. Another example of the type of statistics we might want to compute from a sample arise from the order of the sample:\n",
        "\n",
        "- The largest or smallest value from our sample.\n",
        "- The *Median* of our sample depends on the ordering of the values.\n",
        "\n",
        "### Example\n",
        "\n",
        "In the example above we may wonder, in a given day what we expect the distribution of the maximum number of accidents at a single intersection to be. \n",
        "\n",
        "## Approach\n",
        "\n",
        "So the approach is the following:  Given a set of independent identically distributed random variables $Y_1, Y_2, \\dots Y_n$ we put them in order from smallest to largest \n",
        "\n",
        "$$ Y_{(1)}, Y_{(2)}, Y_{(3)} \\dots, Y_{(n)} $$\n",
        "\n",
        "The probability density function of the $Y_i$ is given by the product of the density applied to each:  \n",
        "$$ f(y_1, y_2, \\dots, y_n) = f(y_1) f(y_2) \\cdots f(y_n)$$\n",
        "\n",
        "\n",
        "### Example - Maximum $Y_{(n)}$\n",
        "\n",
        "Now we would like to find the density or distribution of the $Y_{(1)}$. We use the method of distributions and compute the cummulative distribution:\n",
        "\n",
        "$$ F_{(n)}(y) = P( Y_{(n)} < y ) $$\n",
        "\n",
        "This will only happen if all of the $Y_i$ are less than $y$ and so we have that \n",
        "\n",
        "$$ F_{(n)}(y) = P( Y_1 < y, Y_2 < y, \\dots, Y_n < y) = F(y)^n $$\n",
        "\n",
        "Where the last step is because the $Y_i$ are independent. \n",
        "\n",
        "We then get the density of the maximum value by taking a derivative:  $$ g_n(y) = n F(y)^{n-1} f(y) $$\n",
        "\n"
      ]
    },
    {
      "cell_type": "markdown",
      "metadata": {
        "id": "4L4AlRLfwU6V"
      },
      "source": [
        "### Example - Uniform Random Variables\n",
        "\n",
        "Let $Y_1, Y_2, \\dots, Y_5$ be a sample pulled from the uniform random variable on $[0, 1]$.  How likely is it that the largest value in the samplle is bigger than $0.9$?\n"
      ]
    },
    {
      "cell_type": "code",
      "metadata": {
        "id": "C1iV1Wda7Q85",
        "outputId": "81a99abd-eb13-47e4-a440-6f06fb8f8101",
        "colab": {
          "base_uri": "https://localhost:8080/",
          "height": 38
        }
      },
      "source": [
        "# Cummulative Distribution F(y)\r\n",
        "y = sp.Symbol('y')\r\n",
        "\r\n",
        "sp.integrate(1, (y, 0, u))"
      ],
      "execution_count": 7,
      "outputs": [
        {
          "output_type": "execute_result",
          "data": {
            "text/latex": "$\\displaystyle u$",
            "text/plain": [
              "u"
            ]
          },
          "metadata": {
            "tags": []
          },
          "execution_count": 7
        }
      ]
    },
    {
      "cell_type": "code",
      "metadata": {
        "id": "s-ECT0sa7RCc",
        "outputId": "1eeff69b-1ef9-477e-bc14-d6be7c80d018",
        "colab": {
          "base_uri": "https://localhost:8080/",
          "height": 37
        }
      },
      "source": [
        "g = 5* y**4 *1\r\n",
        "\r\n",
        "sp.integrate( g, (y, 0.9, 1) )"
      ],
      "execution_count": 8,
      "outputs": [
        {
          "output_type": "execute_result",
          "data": {
            "text/latex": "$\\displaystyle 0.40951$",
            "text/plain": [
              "0.409510000000000"
            ]
          },
          "metadata": {
            "tags": []
          },
          "execution_count": 8
        }
      ]
    },
    {
      "cell_type": "code",
      "metadata": {
        "id": "RrZaPqkG7RHb",
        "outputId": "250d25db-e228-485d-ee80-62befcf54758",
        "colab": {
          "base_uri": "https://localhost:8080/",
          "height": 37
        }
      },
      "source": [
        "sp.integrate(1, (y, 0.9, 1))"
      ],
      "execution_count": 9,
      "outputs": [
        {
          "output_type": "execute_result",
          "data": {
            "text/latex": "$\\displaystyle 0.1$",
            "text/plain": [
              "0.100000000000000"
            ]
          },
          "metadata": {
            "tags": []
          },
          "execution_count": 9
        }
      ]
    },
    {
      "cell_type": "markdown",
      "metadata": {
        "id": "i8tgNnKVwU6W"
      },
      "source": [
        "### Example - Minimum $Y_{(1)}$\n",
        "\n",
        "We compute this one in an analogy to the previous one:\n",
        "\n",
        "$$ F_{(1)}(y) = 1 - P( Y_{(1)} > y ) $$\n",
        "\n",
        "and the previous argument gives \n",
        "\n",
        "$$ F_{(1)}(y) = 1 - (1 - F(y) )^n $$\n",
        "\n",
        "taking the derivative gives:  \n",
        "\n",
        "$$ g_1(y) = n \\left[ 1 - F(y) \\right]^{n-1} f(y) $$\n",
        "\n"
      ]
    },
    {
      "cell_type": "code",
      "metadata": {
        "id": "YuiBCOKm8iXP",
        "outputId": "2c3f3c0c-5dbb-4eb6-a5ac-c185fccfc8c1",
        "colab": {
          "base_uri": "https://localhost:8080/",
          "height": 37
        }
      },
      "source": [
        "g1 = 5*(1- y)**4 * 1\r\n",
        "\r\n",
        "sp.integrate(g1, (y, 0.9, 1) )"
      ],
      "execution_count": 10,
      "outputs": [
        {
          "output_type": "execute_result",
          "data": {
            "text/latex": "$\\displaystyle 1.00000000013978 \\cdot 10^{-5}$",
            "text/plain": [
              "1.00000000013978e-5"
            ]
          },
          "metadata": {
            "tags": []
          },
          "execution_count": 10
        }
      ]
    },
    {
      "cell_type": "code",
      "metadata": {
        "id": "vqNAMG9S8zL5",
        "outputId": "bcabfafc-1ea4-491c-d969-91de5f358fa8",
        "colab": {
          "base_uri": "https://localhost:8080/",
          "height": 37
        }
      },
      "source": [
        "sp.integrate(g1, (y, 0, 0.1))"
      ],
      "execution_count": 11,
      "outputs": [
        {
          "output_type": "execute_result",
          "data": {
            "text/latex": "$\\displaystyle 0.40951$",
            "text/plain": [
              "0.409510000000000"
            ]
          },
          "metadata": {
            "tags": []
          },
          "execution_count": 11
        }
      ]
    },
    {
      "cell_type": "markdown",
      "metadata": {
        "id": "6s5Xd7-KwU6W"
      },
      "source": [
        "## Going Further $Y_{(k)}$\n",
        "\n",
        "Going further what can we say about the values away from the extremes. \n",
        "\n",
        "The idea here is to recognize that the definition of the density as the derivative of the cummulative distribution implies that \n",
        "\n",
        "$$ P( y - dy/2 \\leq Y \\leq y + dy/2 ) \\approx f(y) dy $$\n",
        "\n",
        "I.e. while it is not true that $f(y)$ is the probablity that the value of the random variables is y. It is the value of the proportionality for the probability the random variable is in a small interval about $y$; a statement which becomes more accurate as the width of that interval is decreased.\n",
        "\n",
        "If we are then wondering how likely it is that $Y_{(k)}$ is near $y$ we note there are three things we need to have happen:\n",
        "\n",
        "1. We need $k-1$ of the $Y_i$ to be less than $y$.\n",
        "2. We need one of the $Y_i$ to be near $y$.\n",
        "3. We need $n-k$ of the $Y_i$ to be greater than $y$.\n",
        "\n",
        "Within each class the $Y_i$ are idependent and their probablity comes a product of probabilities.\n",
        "\n"
      ]
    },
    {
      "cell_type": "markdown",
      "metadata": {
        "id": "_OZZ3B7S95bR"
      },
      "source": [
        "Case 1. Produces\r\n",
        "\r\n",
        "$$ \\frac{n!}{(k-1)! (n-k+1)!} F(y)^{k-1} $$\r\n",
        "\r\n",
        "Case 2. Produces\r\n",
        "\r\n",
        "$$ \\frac{(n-k+1)!}{1! (n-k)!} f(y) dy $$\r\n",
        "\r\n",
        "Case 3. Produces\r\n",
        "\r\n",
        "$$ ( 1 - F(y) )^{n-k} $$\r\n",
        "\r\n",
        "#### Result\r\n",
        "\r\n",
        "$$ g_k(y) = \\frac{n!}{(k-1)! (n-k)!} F(y)^{k-1} f(y) (1-F(y))^{n-k} $$"
      ]
    },
    {
      "cell_type": "markdown",
      "metadata": {
        "id": "I8s0aMulwU6W"
      },
      "source": [
        "### Example - Median\n",
        "\n",
        "For a sample of five values form the uniform distribution on $[0, 1]$ the *median* is the middle value corresponding to $Y_{(3)}$.  Find the distribution of $Y_{(3)}$. "
      ]
    },
    {
      "cell_type": "code",
      "metadata": {
        "id": "513VycRV_LUs"
      },
      "source": [
        "g3 = (5*4*3*2)/(2 * 2) * y**2 * 1 * (1-y)**2"
      ],
      "execution_count": 12,
      "outputs": []
    },
    {
      "cell_type": "code",
      "metadata": {
        "id": "GJlU_coz_Lrr",
        "outputId": "21fb61b8-8754-492c-8db8-fa8406e02d99",
        "colab": {
          "base_uri": "https://localhost:8080/",
          "height": 37
        }
      },
      "source": [
        "sp.integrate(g3, (y, 0.9, 1))"
      ],
      "execution_count": 13,
      "outputs": [
        {
          "output_type": "execute_result",
          "data": {
            "text/latex": "$\\displaystyle 0.00855999999999923$",
            "text/plain": [
              "0.00855999999999923"
            ]
          },
          "metadata": {
            "tags": []
          },
          "execution_count": 13
        }
      ]
    },
    {
      "cell_type": "code",
      "metadata": {
        "id": "SrRXiAx1_LvP"
      },
      "source": [
        ""
      ],
      "execution_count": null,
      "outputs": []
    },
    {
      "cell_type": "markdown",
      "metadata": {
        "id": "D9OABPxIwU6X"
      },
      "source": [
        "## Joint Distributions of $Y_{(j)}, Y_{(k)}$ where $j<k$\n",
        "\n",
        "We can supe up our computation of the marginal distribution of $Y_{(k)}$ above to the case of two of the ordered statistics by adding two more cases to the list of 3.\n",
        "\n"
      ]
    },
    {
      "cell_type": "code",
      "metadata": {
        "id": "UEIeAtZ7wU6X"
      },
      "source": [
        ""
      ],
      "execution_count": null,
      "outputs": []
    },
    {
      "cell_type": "markdown",
      "metadata": {
        "id": "sBKCkA7z_83p"
      },
      "source": [
        "We would start by computing the joint cummmulative distribution:\r\n",
        "\r\n",
        "$$ F(y_j, y_k) = P( Y_{(j)} < y_j, Y_{(k)} < y_k) $$\r\n",
        "\r\n",
        "Note we can assume that $y_j < y_k$."
      ]
    },
    {
      "cell_type": "code",
      "metadata": {
        "id": "WgYviRmTAHd7"
      },
      "source": [
        ""
      ],
      "execution_count": null,
      "outputs": []
    }
  ]
}