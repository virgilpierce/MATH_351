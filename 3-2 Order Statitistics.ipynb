{
 "cells": [
  {
   "cell_type": "code",
   "execution_count": 1,
   "metadata": {},
   "outputs": [],
   "source": [
    "import numpy as np\n",
    "import sympy as sp"
   ]
  },
  {
   "cell_type": "markdown",
   "metadata": {},
   "source": [
    "# Review\n",
    "\n",
    "Last class we learned how to produce a distribution for the signle random variables $U$ produced from some formula applied ot a set of multivariate random variables. One of the specific problems we wanted to solve was to produce the distribution of a statistics computed from a sample of a signle variate random variable, for example the mean of the sample.\n",
    "\n",
    "We came up with threee methods, and let's illustrate one of them with an example:\n",
    "\n",
    "### Example\n",
    "\n",
    "The City of Greeley finds that their 10 most dangerous intersections have a similar distribution for the number of accidents per day:  They are Poisson with a mean of 0.5 accidents per day. Let $U$ be the average number of accidents at the 10 intersections in one day. I.e. $Y_i$ is the number of accidents at intersection $i$ and \n",
    "\n",
    "$$ U = \\frac{1}{10} Y_1 + \\frac{1}{10} Y_2 + \\dots + \\frac{1}{10} Y_{10} $$\n",
    "\n",
    "Find the distribution of $U$. \n",
    "\n",
    "#### Poisson Distribution \n",
    "\n",
    "The distributions of the $Y_i$ satisfy:  \n",
    "\n",
    "$$ p(y) = \\frac{1}{2^y y!} e^{-1/2} $$ \n",
    "\n",
    "#### Method of Distributions\n",
    "\n",
    "Then the method of distributions gives:\n",
    "\n",
    "$$ p_U(u) = \\sum_{y_1 + y_2 + \\dots + y_{10} = u} p(y_1) p(y_2) \\cdots p(y_{10}) $$\n",
    "\n",
    "(where I cheated a little bit, form a discrete random varialbe we know that the the formula for the cummulative distribution turns into the distribution by just changing the inequality to equality)\n",
    "\n",
    "which because they are all exponential gives:\n",
    "\n",
    "$$ p_U(u) = \\frac{1}{2^u u!} e^{-5} \\sum_{y_1 + y_2 + \\dots + y_{10} = u} \\frac{u!}{y_1! y_2! \\cdots y_{10}!} $$\n",
    "\n",
    "And the sum then collapses to $10^u$ by the multinomial identity. [See here.](https://en.wikipedia.org/wiki/Multinomial_theorem).  You could also think of this in combinatorics as the number of ways of putting $u$ objects into $10$ bins.\n",
    "\n",
    "$$ p_U(u) = \\frac{5^u}{u!} e^{-5} $$\n",
    "\n",
    "Which is the Poisson distribution with mean $5$ accidents per day.\n"
   ]
  },
  {
   "cell_type": "markdown",
   "metadata": {},
   "source": [
    "# Order Statistics\n",
    "\n",
    "However statistics computed by a formula applied to the sample are just one type of statistic we might care about. Another example of the type of statistics we might want to compute from a sample arise from the order of the sample:\n",
    "\n",
    "- The largest or smallest value from our sample.\n",
    "- The *Median* of our sample depends on the ordering of the values.\n",
    "\n",
    "### Example\n",
    "\n",
    "In the example above we may wonder, in a given day what we expect the distribution of the maximum number of accidents at a single intersection to be. \n",
    "\n",
    "## Approach\n",
    "\n",
    "So the approach is the following:  Given a set of independent identically distributed random variables $Y_1, Y_2, \\dots Y_n$ we put them in order from smallest to largest \n",
    "\n",
    "$$ Y_{(1)}, Y_{(2)}, Y_{(3)} \\dots, Y_{(n)} $$\n",
    "\n",
    "The probability density function of the $Y_i$ is given by the product of the density applied to each:  \n",
    "$$ f(y_1, y_2, \\dots, y_n) = f(y_1) f(y_2) \\cdots f(y_n)$$\n",
    "\n",
    "\n",
    "### Example - Maximum $Y_{(n)}$\n",
    "\n",
    "Now we would like to find the density or distribution of the $Y_{(1)}$. We use the method of distributions and compute the cummulative distribution:\n",
    "\n",
    "$$ F_{(n)}(y) = P( Y_{(n)} < y ) $$\n",
    "\n",
    "This will only happen if all of the $Y_i$ are less than $y$ and so we have that \n",
    "\n",
    "$$ F_{(n)}(y) = P( Y_1 < y, Y_2 < y, \\dots, Y_n < y) = F(y)^n $$\n",
    "\n",
    "Where the last step is because the $Y_i$ are independent. \n",
    "\n",
    "We then get the density of the maximum value by taking a derivative:  $$ g_n(y) = n F(y)^{n-1} f(y) $$\n",
    "\n"
   ]
  },
  {
   "cell_type": "markdown",
   "metadata": {},
   "source": [
    "### Example - Uniform Random Variables\n",
    "\n",
    "Let $Y_1, Y_2, \\dots, Y_5$ be a sample pulled from the uniform random variable on $[0, 1]$.  How likely is it that the largest value in the samplle is bigger than $0.9$?\n"
   ]
  },
  {
   "cell_type": "markdown",
   "metadata": {},
   "source": [
    "### Example - Minimum $Y_{(1)}$\n",
    "\n",
    "We compute this one in an analogy to the previous one:\n",
    "\n",
    "$$ F_{(1)}(y) = 1 - P( Y_{(1)} > y ) $$\n",
    "\n",
    "and the previous argument gives \n",
    "\n",
    "$$ F_{(1)}(y) = 1 - (1 - F(y) )^n $$\n",
    "\n",
    "taking the derivative gives:  \n",
    "\n",
    "$$ g_1(y) = n \\left[ 1 - F(y) \\right]^{n-1} f(y) $$\n",
    "\n"
   ]
  },
  {
   "cell_type": "markdown",
   "metadata": {},
   "source": [
    "## Going Further $Y_{(k)}$\n",
    "\n",
    "Going further what can we say about the values away from the extremes. \n",
    "\n",
    "The idea here is to recognize that the definition of the density as the derivative of the cummulative distribution implies that \n",
    "\n",
    "$$ P( y - dy/2 \\leq Y \\leq y + dy/2 ) \\approx f(y) dy $$\n",
    "\n",
    "I.e. while it is not true that $f(y)$ is the probablity that the value of the random variables is y. It is the value of the proportionality for the probability the random variable is in a small interval about $y$; a statement which becomes more accurate as the width of that interval is decreased.\n",
    "\n",
    "If we are then wondering how likely it is that $Y_{(k)}$ is near $y$ we note there are three things we need to have happen:\n",
    "\n",
    "1. We need $k-1$ of the $Y_i$ to be less than $y$.\n",
    "2. We need one of the $Y_i$ to be near $y$.\n",
    "3. We need $n-k$ of the $Y_i$ to be greater than $y$.\n",
    "\n",
    "Within each class the $Y_i$ are idependent and their probablity comes a product of probabilities.\n",
    "\n"
   ]
  },
  {
   "cell_type": "markdown",
   "metadata": {},
   "source": [
    "### Example - Median\n",
    "\n",
    "For a sample of five values form the uniform distribution on $[0, 1]$ the *median* is the middle value corresponding to $Y_{(3)}$.  Find the distribution of $Y_{(3)}$. "
   ]
  },
  {
   "cell_type": "markdown",
   "metadata": {},
   "source": [
    "## Joint Distributions of $Y_{(j)}, Y_{(k)}$ where $j<k$\n",
    "\n",
    "We can supe up our computation of the marginal distribution of $Y_{(k)}$ above to the case of two of the ordered statistics by adding two more cases to the list of 3.\n",
    "\n"
   ]
  },
  {
   "cell_type": "code",
   "execution_count": null,
   "metadata": {},
   "outputs": [],
   "source": []
  }
 ],
 "metadata": {
  "kernelspec": {
   "display_name": "Python 3",
   "language": "python",
   "name": "python3"
  },
  "language_info": {
   "codemirror_mode": {
    "name": "ipython",
    "version": 3
   },
   "file_extension": ".py",
   "mimetype": "text/x-python",
   "name": "python",
   "nbconvert_exporter": "python",
   "pygments_lexer": "ipython3",
   "version": "3.7.4"
  }
 },
 "nbformat": 4,
 "nbformat_minor": 4
}
